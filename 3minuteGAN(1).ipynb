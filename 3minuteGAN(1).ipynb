{
  "nbformat": 4,
  "nbformat_minor": 0,
  "metadata": {
    "colab": {
      "name": "3minuteGAN(1).ipynb",
      "provenance": [],
      "collapsed_sections": [],
      "authorship_tag": "ABX9TyNBaDZ2v8XgpvWm2o8KI/ND",
      "include_colab_link": true
    },
    "kernelspec": {
      "name": "python3",
      "display_name": "Python 3"
    },
    "accelerator": "GPU"
  },
  "cells": [
    {
      "cell_type": "markdown",
      "metadata": {
        "id": "view-in-github",
        "colab_type": "text"
      },
      "source": [
        "<a href=\"https://colab.research.google.com/github/Jinukki/KJU/blob/master/3minuteGAN(1).ipynb\" target=\"_parent\"><img src=\"https://colab.research.google.com/assets/colab-badge.svg\" alt=\"Open In Colab\"/></a>"
      ]
    },
    {
      "cell_type": "markdown",
      "metadata": {
        "id": "8q4f3pEPqLXE",
        "colab_type": "text"
      },
      "source": [
        "## <b>경쟁하며 학습하는 GAN</b>\n",
        "\n",
        "### GAN의 3가지 특징\n",
        " - 생성하는 모델. 즉, 새로운 이미지나 음성을 창작\n",
        " - 적대적으로 학습. 가짜 이미지를 생성하는 생성자와 이미지의 진위를 판별하는 판별자가 번갈아가며 경쟁적으로 학습.\n",
        " - 인공 신경망 모델\n",
        "\n",
        "### GAN은 생성자와 판별자 2가지 모듈로 구성된다. 생성자는 학습이 진행되면서 판별자를 속이기 위해 점점 더 정밀한 가짜 이미지 생성하고, 판별자는 학습이 진행되면서 그 가짜 이미지를 점점 더 잘 구별하게 된다. "
      ]
    },
    {
      "cell_type": "code",
      "metadata": {
        "id": "tqhrcWRTlnad",
        "colab_type": "code",
        "colab": {}
      },
      "source": [
        "# 중요 라이브러리 임포트\n",
        "\n",
        "import torch\n",
        "import os\n",
        "import torchvision\n",
        "import torch.nn as nn\n",
        "import torch.optim as optim\n",
        "import matplotlib.pyplot as plt\n",
        "from torchvision import transforms, datasets\n",
        "from torchvision.utils import save_image\n",
        "import numpy as np"
      ],
      "execution_count": 0,
      "outputs": []
    },
    {
      "cell_type": "code",
      "metadata": {
        "id": "2guNszO-lq3Z",
        "colab_type": "code",
        "outputId": "774ab42f-ffb8-4a46-9f43-25e50bd1ee32",
        "colab": {
          "base_uri": "https://localhost:8080/",
          "height": 34
        }
      },
      "source": [
        "# 하이퍼파라미터 설정\n",
        "\n",
        "EPOCHS = 500\n",
        "BATCH_SIZE = 100\n",
        "USE_CUDA = torch.cuda.is_available()\n",
        "DEVICE = torch.device('cuda' if USE_CUDA else 'cpu')\n",
        "print('다음 장치를 사용합니다.', DEVICE)"
      ],
      "execution_count": 0,
      "outputs": [
        {
          "output_type": "stream",
          "text": [
            "다음 장치를 사용합니다. cuda\n"
          ],
          "name": "stdout"
        }
      ]
    },
    {
      "cell_type": "code",
      "metadata": {
        "id": "qMSMduf6lwJC",
        "colab_type": "code",
        "colab": {}
      },
      "source": [
        "# 학습에 필요한 데이터 불러오기(텐서변환, 정규화 적용)\n",
        "\n",
        "trainset = datasets.FashionMNIST('./.data', train=True, download=True, transform=transforms.Compose([transforms.ToTensor(),transforms.Normalize((0.5,),(0.5,))]))\n",
        "train_loader = torch.utils.data.DataLoader(dataset = trainset, batch_size = BATCH_SIZE, shuffle = True)"
      ],
      "execution_count": 0,
      "outputs": []
    },
    {
      "cell_type": "code",
      "metadata": {
        "id": "cAN3j9bNlxmy",
        "colab_type": "code",
        "colab": {}
      },
      "source": [
        "# 이전에 nn.Module 클래스를 정의한 것과 다르게 간단히 모델을 구현하기 위해 Sequential 클래스 사용\n",
        "# Sequential 클래스는 각 층에서의 연산들을 입력받아 순차적으로 실행(__init__과 forward 함수를 동시에 적용)\n",
        "\n",
        "G = nn.Sequential(nn.Linear(64,256), nn.ReLU(), nn.Linear(256,256), nn.ReLU(), nn.Linear(256,784), nn.Tanh())"
      ],
      "execution_count": 0,
      "outputs": []
    },
    {
      "cell_type": "code",
      "metadata": {
        "id": "FLgauvQ_lztc",
        "colab_type": "code",
        "colab": {}
      },
      "source": [
        "# Leaky ReLU 함수는 판별자에서 계산된 기울기가 약한 음수로 전환되어 생성자에게 더 강하게 전달되도록 하는 역할\n",
        "\n",
        "D = nn.Sequential(nn.Linear(784,256), nn.LeakyReLU(0.2), nn.Linear(256,256), nn.LeakyReLU(0.2), nn.Linear(256,1), nn.Sigmoid())"
      ],
      "execution_count": 0,
      "outputs": []
    },
    {
      "cell_type": "code",
      "metadata": {
        "id": "4w33omoimBVQ",
        "colab_type": "code",
        "colab": {}
      },
      "source": [
        "D = D.to(DEVICE)\n",
        "G = G.to(DEVICE)\n",
        "\n",
        "criterion = nn.BCELoss()\n",
        "d_optimizer = optim.Adam(D.parameters(), lr=0.0002)\n",
        "g_optimizer = optim.Adam(G.parameters(), lr=0.0002)"
      ],
      "execution_count": 0,
      "outputs": []
    },
    {
      "cell_type": "code",
      "metadata": {
        "id": "r-GHxyzr5SNd",
        "colab_type": "code",
        "outputId": "1e4743ed-1317-4dca-c002-11eb07fc557d",
        "colab": {
          "base_uri": "https://localhost:8080/",
          "height": 1000
        }
      },
      "source": [
        "total_step = len(train_loader)\n",
        "for epoch in range(EPOCHS):\n",
        "  for i, (images, _) in enumerate(train_loader):\n",
        "    images = images.reshape(BATCH_SIZE, -1).to(DEVICE)\n",
        "    # 진짜와 가짜 레이블 생성\n",
        "    real_labels = torch.ones(BATCH_SIZE, 1).to(DEVICE)\n",
        "    fake_labels = torch.zeros(BATCH_SIZE, 1).to(DEVICE)\n",
        "    outputs = D(images)\n",
        "    # 판별자가 진짜 이미지를 진짜로 인식하는 오차 계산\n",
        "    d_loss_real = criterion(outputs, real_labels)\n",
        "    real_score = outputs\n",
        "    # 무작위 텐서로 가짜 이미지 생성\n",
        "    z = torch.randn(BATCH_SIZE, 64).to(DEVICE)\n",
        "    fake_images = G(z)\n",
        "    outputs = D(fake_images)\n",
        "    # 판별자가 가짜 이미지를 가짜로 인식하는 오차 계산\n",
        "    d_loss_fake = criterion(outputs, fake_labels)\n",
        "    fake_score = outputs\n",
        "    # 두 개의 오차를 더해서 판별자의 오차 계산\n",
        "    d_loss = d_loss_real + d_loss_fake\n",
        "    d_optimizer.zero_grad()\n",
        "    g_optimizer.zero_grad()\n",
        "    d_loss.backward()\n",
        "    d_optimizer.step()\n",
        "    fake_images = G(z)\n",
        "    # 아래는 생성자를 학습하는 단계\n",
        "    # 생성자가 판별자를 속였는지에 대한 오차 계산\n",
        "    outputs = D(fake_images)\n",
        "    g_loss = criterion(outputs, real_labels)\n",
        "    d_optimizer.zero_grad()\n",
        "    g_optimizer.zero_grad()\n",
        "    g_loss.backward()\n",
        "    g_optimizer.step()\n",
        "  print('이폭 [{}/{}] d_loss:{:.4f} g_loss:{:.4f} D(x):{:.2f} D(G(z)):{:.2f}'. format(epoch, EPOCHS, d_loss.item(), g_loss.item(), real_score.mean().item(), fake_score.mean().item()))    "
      ],
      "execution_count": 0,
      "outputs": [
        {
          "output_type": "stream",
          "text": [
            "이폭 [0/500] d_loss:0.0296 g_loss:4.8810 D(x):0.99 D(G(z)):0.02\n",
            "이폭 [1/500] d_loss:0.0096 g_loss:6.2919 D(x):1.00 D(G(z)):0.01\n",
            "이폭 [2/500] d_loss:0.0336 g_loss:6.3682 D(x):1.00 D(G(z)):0.03\n",
            "이폭 [3/500] d_loss:0.0253 g_loss:6.0052 D(x):0.99 D(G(z)):0.02\n",
            "이폭 [4/500] d_loss:0.1536 g_loss:5.8894 D(x):0.98 D(G(z)):0.10\n",
            "이폭 [5/500] d_loss:0.0302 g_loss:7.4675 D(x):0.99 D(G(z)):0.02\n",
            "이폭 [6/500] d_loss:0.0817 g_loss:5.5244 D(x):0.98 D(G(z)):0.05\n",
            "이폭 [7/500] d_loss:0.1221 g_loss:5.3535 D(x):0.96 D(G(z)):0.03\n",
            "이폭 [8/500] d_loss:0.1307 g_loss:5.0786 D(x):0.96 D(G(z)):0.04\n",
            "이폭 [9/500] d_loss:0.2150 g_loss:5.0085 D(x):0.93 D(G(z)):0.06\n",
            "이폭 [10/500] d_loss:0.3890 g_loss:4.5578 D(x):0.93 D(G(z)):0.18\n",
            "이폭 [11/500] d_loss:0.2883 g_loss:3.7958 D(x):0.89 D(G(z)):0.06\n",
            "이폭 [12/500] d_loss:0.2750 g_loss:4.4859 D(x):0.90 D(G(z)):0.08\n",
            "이폭 [13/500] d_loss:0.2998 g_loss:3.8272 D(x):0.90 D(G(z)):0.08\n",
            "이폭 [14/500] d_loss:0.2718 g_loss:3.8367 D(x):0.92 D(G(z)):0.09\n",
            "이폭 [15/500] d_loss:0.4498 g_loss:4.3020 D(x):0.83 D(G(z)):0.06\n",
            "이폭 [16/500] d_loss:0.2960 g_loss:4.1051 D(x):0.93 D(G(z)):0.11\n",
            "이폭 [17/500] d_loss:0.3955 g_loss:2.8448 D(x):0.87 D(G(z)):0.11\n",
            "이폭 [18/500] d_loss:0.3409 g_loss:3.6633 D(x):0.90 D(G(z)):0.13\n",
            "이폭 [19/500] d_loss:0.5467 g_loss:3.3277 D(x):0.85 D(G(z)):0.11\n",
            "이폭 [20/500] d_loss:0.3928 g_loss:3.5896 D(x):0.86 D(G(z)):0.07\n",
            "이폭 [21/500] d_loss:0.5174 g_loss:3.1733 D(x):0.88 D(G(z)):0.18\n",
            "이폭 [22/500] d_loss:0.6813 g_loss:4.1243 D(x):0.76 D(G(z)):0.05\n",
            "이폭 [23/500] d_loss:0.5238 g_loss:3.3355 D(x):0.81 D(G(z)):0.12\n",
            "이폭 [24/500] d_loss:0.4306 g_loss:3.1747 D(x):0.90 D(G(z)):0.18\n",
            "이폭 [25/500] d_loss:0.4472 g_loss:2.5136 D(x):0.85 D(G(z)):0.11\n",
            "이폭 [26/500] d_loss:0.4182 g_loss:2.6760 D(x):0.92 D(G(z)):0.19\n",
            "이폭 [27/500] d_loss:0.3987 g_loss:3.8722 D(x):0.87 D(G(z)):0.09\n",
            "이폭 [28/500] d_loss:0.3896 g_loss:2.8431 D(x):0.84 D(G(z)):0.10\n",
            "이폭 [29/500] d_loss:0.6106 g_loss:3.3769 D(x):0.86 D(G(z)):0.19\n",
            "이폭 [30/500] d_loss:0.4688 g_loss:3.3257 D(x):0.82 D(G(z)):0.09\n",
            "이폭 [31/500] d_loss:0.5278 g_loss:3.1544 D(x):0.82 D(G(z)):0.15\n",
            "이폭 [32/500] d_loss:0.8269 g_loss:2.4816 D(x):0.75 D(G(z)):0.21\n",
            "이폭 [33/500] d_loss:0.6319 g_loss:2.5275 D(x):0.85 D(G(z)):0.28\n",
            "이폭 [34/500] d_loss:0.5920 g_loss:3.0825 D(x):0.80 D(G(z)):0.15\n",
            "이폭 [35/500] d_loss:0.4919 g_loss:3.5001 D(x):0.82 D(G(z)):0.11\n",
            "이폭 [36/500] d_loss:0.5540 g_loss:2.5581 D(x):0.85 D(G(z)):0.16\n",
            "이폭 [37/500] d_loss:0.6399 g_loss:2.5538 D(x):0.77 D(G(z)):0.12\n",
            "이폭 [38/500] d_loss:0.5496 g_loss:2.7816 D(x):0.86 D(G(z)):0.19\n",
            "이폭 [39/500] d_loss:0.6578 g_loss:2.8429 D(x):0.78 D(G(z)):0.17\n",
            "이폭 [40/500] d_loss:0.7483 g_loss:2.3857 D(x):0.79 D(G(z)):0.20\n",
            "이폭 [41/500] d_loss:0.5145 g_loss:2.8584 D(x):0.79 D(G(z)):0.14\n",
            "이폭 [42/500] d_loss:0.4436 g_loss:3.0247 D(x):0.84 D(G(z)):0.13\n",
            "이폭 [43/500] d_loss:0.6440 g_loss:2.5888 D(x):0.77 D(G(z)):0.16\n",
            "이폭 [44/500] d_loss:0.5415 g_loss:2.2818 D(x):0.84 D(G(z)):0.17\n",
            "이폭 [45/500] d_loss:0.6747 g_loss:2.5354 D(x):0.81 D(G(z)):0.21\n",
            "이폭 [46/500] d_loss:0.5500 g_loss:3.5693 D(x):0.81 D(G(z)):0.13\n",
            "이폭 [47/500] d_loss:0.7689 g_loss:2.2898 D(x):0.79 D(G(z)):0.23\n",
            "이폭 [48/500] d_loss:0.4741 g_loss:2.8250 D(x):0.90 D(G(z)):0.22\n",
            "이폭 [49/500] d_loss:0.9698 g_loss:2.7462 D(x):0.75 D(G(z)):0.30\n",
            "이폭 [50/500] d_loss:0.8169 g_loss:1.8445 D(x):0.81 D(G(z)):0.32\n",
            "이폭 [51/500] d_loss:0.6103 g_loss:2.6515 D(x):0.77 D(G(z)):0.15\n",
            "이폭 [52/500] d_loss:0.9720 g_loss:1.8459 D(x):0.75 D(G(z)):0.30\n",
            "이폭 [53/500] d_loss:0.6246 g_loss:2.4658 D(x):0.77 D(G(z)):0.19\n",
            "이폭 [54/500] d_loss:0.5802 g_loss:2.8273 D(x):0.80 D(G(z)):0.16\n",
            "이폭 [55/500] d_loss:0.7060 g_loss:2.9071 D(x):0.76 D(G(z)):0.15\n",
            "이폭 [56/500] d_loss:0.6927 g_loss:2.7399 D(x):0.76 D(G(z)):0.18\n",
            "이폭 [57/500] d_loss:0.7593 g_loss:1.7486 D(x):0.74 D(G(z)):0.24\n",
            "이폭 [58/500] d_loss:0.9398 g_loss:2.8008 D(x):0.67 D(G(z)):0.19\n",
            "이폭 [59/500] d_loss:0.8064 g_loss:3.2651 D(x):0.69 D(G(z)):0.14\n",
            "이폭 [60/500] d_loss:0.6607 g_loss:2.6088 D(x):0.80 D(G(z)):0.22\n",
            "이폭 [61/500] d_loss:0.5661 g_loss:2.8868 D(x):0.80 D(G(z)):0.17\n",
            "이폭 [62/500] d_loss:0.7529 g_loss:2.0368 D(x):0.84 D(G(z)):0.30\n",
            "이폭 [63/500] d_loss:0.8101 g_loss:1.9189 D(x):0.76 D(G(z)):0.25\n",
            "이폭 [64/500] d_loss:0.5508 g_loss:2.0931 D(x):0.85 D(G(z)):0.23\n",
            "이폭 [65/500] d_loss:0.5963 g_loss:2.2889 D(x):0.83 D(G(z)):0.24\n",
            "이폭 [66/500] d_loss:0.8332 g_loss:1.7980 D(x):0.74 D(G(z)):0.28\n",
            "이폭 [67/500] d_loss:0.9682 g_loss:1.8232 D(x):0.69 D(G(z)):0.27\n",
            "이폭 [68/500] d_loss:0.8729 g_loss:2.3272 D(x):0.75 D(G(z)):0.22\n",
            "이폭 [69/500] d_loss:0.7724 g_loss:2.2351 D(x):0.76 D(G(z)):0.23\n",
            "이폭 [70/500] d_loss:0.6637 g_loss:2.7447 D(x):0.79 D(G(z)):0.21\n",
            "이폭 [71/500] d_loss:0.5001 g_loss:3.0130 D(x):0.84 D(G(z)):0.18\n",
            "이폭 [72/500] d_loss:0.8054 g_loss:1.8754 D(x):0.77 D(G(z)):0.28\n",
            "이폭 [73/500] d_loss:0.9919 g_loss:1.7415 D(x):0.74 D(G(z)):0.29\n",
            "이폭 [74/500] d_loss:0.5846 g_loss:2.0319 D(x):0.79 D(G(z)):0.21\n",
            "이폭 [75/500] d_loss:0.7658 g_loss:2.1854 D(x):0.82 D(G(z)):0.29\n",
            "이폭 [76/500] d_loss:0.9436 g_loss:1.5872 D(x):0.74 D(G(z)):0.32\n",
            "이폭 [77/500] d_loss:0.8157 g_loss:1.9965 D(x):0.73 D(G(z)):0.23\n",
            "이폭 [78/500] d_loss:0.8779 g_loss:1.9269 D(x):0.72 D(G(z)):0.26\n",
            "이폭 [79/500] d_loss:0.8093 g_loss:1.7998 D(x):0.70 D(G(z)):0.23\n",
            "이폭 [80/500] d_loss:0.6936 g_loss:2.4923 D(x):0.75 D(G(z)):0.16\n",
            "이폭 [81/500] d_loss:1.1247 g_loss:1.4710 D(x):0.69 D(G(z)):0.35\n",
            "이폭 [82/500] d_loss:0.5951 g_loss:2.2037 D(x):0.81 D(G(z)):0.22\n",
            "이폭 [83/500] d_loss:0.9109 g_loss:1.7470 D(x):0.79 D(G(z)):0.36\n",
            "이폭 [84/500] d_loss:0.8920 g_loss:1.6413 D(x):0.82 D(G(z)):0.41\n",
            "이폭 [85/500] d_loss:0.7195 g_loss:1.9297 D(x):0.72 D(G(z)):0.22\n",
            "이폭 [86/500] d_loss:0.8630 g_loss:1.9918 D(x):0.71 D(G(z)):0.26\n",
            "이폭 [87/500] d_loss:0.8046 g_loss:1.8956 D(x):0.75 D(G(z)):0.27\n",
            "이폭 [88/500] d_loss:0.7238 g_loss:2.3508 D(x):0.73 D(G(z)):0.20\n",
            "이폭 [89/500] d_loss:0.8511 g_loss:1.7080 D(x):0.72 D(G(z)):0.27\n",
            "이폭 [90/500] d_loss:1.1556 g_loss:1.7388 D(x):0.66 D(G(z)):0.32\n",
            "이폭 [91/500] d_loss:0.6517 g_loss:2.0924 D(x):0.78 D(G(z)):0.23\n",
            "이폭 [92/500] d_loss:0.9783 g_loss:2.0110 D(x):0.76 D(G(z)):0.30\n",
            "이폭 [93/500] d_loss:0.7053 g_loss:1.9425 D(x):0.79 D(G(z)):0.27\n",
            "이폭 [94/500] d_loss:0.6522 g_loss:2.0418 D(x):0.79 D(G(z)):0.23\n",
            "이폭 [95/500] d_loss:0.8724 g_loss:1.4395 D(x):0.76 D(G(z)):0.34\n",
            "이폭 [96/500] d_loss:0.8353 g_loss:1.7368 D(x):0.75 D(G(z)):0.27\n",
            "이폭 [97/500] d_loss:1.0297 g_loss:1.6529 D(x):0.67 D(G(z)):0.31\n",
            "이폭 [98/500] d_loss:0.8596 g_loss:1.7369 D(x):0.71 D(G(z)):0.28\n",
            "이폭 [99/500] d_loss:0.8695 g_loss:1.7487 D(x):0.76 D(G(z)):0.33\n",
            "이폭 [100/500] d_loss:0.8431 g_loss:1.3519 D(x):0.74 D(G(z)):0.29\n",
            "이폭 [101/500] d_loss:0.9611 g_loss:1.4214 D(x):0.70 D(G(z)):0.34\n",
            "이폭 [102/500] d_loss:1.0314 g_loss:1.5934 D(x):0.70 D(G(z)):0.32\n",
            "이폭 [103/500] d_loss:0.6521 g_loss:1.8752 D(x):0.78 D(G(z)):0.23\n",
            "이폭 [104/500] d_loss:0.7374 g_loss:1.8523 D(x):0.79 D(G(z)):0.28\n",
            "이폭 [105/500] d_loss:0.6263 g_loss:2.2779 D(x):0.77 D(G(z)):0.20\n",
            "이폭 [106/500] d_loss:0.7384 g_loss:2.2883 D(x):0.77 D(G(z)):0.25\n",
            "이폭 [107/500] d_loss:0.7780 g_loss:2.0504 D(x):0.76 D(G(z)):0.28\n",
            "이폭 [108/500] d_loss:1.0057 g_loss:1.5730 D(x):0.66 D(G(z)):0.30\n",
            "이폭 [109/500] d_loss:1.0396 g_loss:1.6827 D(x):0.65 D(G(z)):0.29\n",
            "이폭 [110/500] d_loss:0.9791 g_loss:1.5254 D(x):0.72 D(G(z)):0.36\n",
            "이폭 [111/500] d_loss:0.7489 g_loss:1.6769 D(x):0.77 D(G(z)):0.30\n",
            "이폭 [112/500] d_loss:0.9311 g_loss:1.9477 D(x):0.66 D(G(z)):0.24\n",
            "이폭 [113/500] d_loss:0.7709 g_loss:1.5046 D(x):0.77 D(G(z)):0.29\n",
            "이폭 [114/500] d_loss:0.9115 g_loss:2.1344 D(x):0.73 D(G(z)):0.25\n",
            "이폭 [115/500] d_loss:0.9050 g_loss:2.1575 D(x):0.67 D(G(z)):0.23\n",
            "이폭 [116/500] d_loss:0.8225 g_loss:1.7281 D(x):0.72 D(G(z)):0.29\n",
            "이폭 [117/500] d_loss:0.7941 g_loss:1.7428 D(x):0.71 D(G(z)):0.28\n",
            "이폭 [118/500] d_loss:1.0346 g_loss:1.4094 D(x):0.69 D(G(z)):0.35\n",
            "이폭 [119/500] d_loss:0.9303 g_loss:1.9052 D(x):0.77 D(G(z)):0.33\n",
            "이폭 [120/500] d_loss:0.9006 g_loss:1.5432 D(x):0.70 D(G(z)):0.31\n",
            "이폭 [121/500] d_loss:0.7594 g_loss:1.7917 D(x):0.69 D(G(z)):0.21\n",
            "이폭 [122/500] d_loss:0.8876 g_loss:1.6386 D(x):0.74 D(G(z)):0.34\n",
            "이폭 [123/500] d_loss:1.0614 g_loss:1.7408 D(x):0.67 D(G(z)):0.32\n",
            "이폭 [124/500] d_loss:1.0795 g_loss:1.4789 D(x):0.75 D(G(z)):0.38\n",
            "이폭 [125/500] d_loss:0.9029 g_loss:1.8099 D(x):0.71 D(G(z)):0.28\n",
            "이폭 [126/500] d_loss:0.8784 g_loss:1.3824 D(x):0.73 D(G(z)):0.34\n",
            "이폭 [127/500] d_loss:0.7647 g_loss:1.8558 D(x):0.77 D(G(z)):0.30\n",
            "이폭 [128/500] d_loss:0.9652 g_loss:1.6095 D(x):0.62 D(G(z)):0.28\n",
            "이폭 [129/500] d_loss:1.2479 g_loss:1.1443 D(x):0.70 D(G(z)):0.45\n",
            "이폭 [130/500] d_loss:0.9547 g_loss:1.7496 D(x):0.72 D(G(z)):0.33\n",
            "이폭 [131/500] d_loss:0.8783 g_loss:1.9102 D(x):0.66 D(G(z)):0.23\n",
            "이폭 [132/500] d_loss:0.7802 g_loss:1.7043 D(x):0.76 D(G(z)):0.30\n",
            "이폭 [133/500] d_loss:1.2745 g_loss:1.7048 D(x):0.59 D(G(z)):0.31\n",
            "이폭 [134/500] d_loss:1.2468 g_loss:1.4723 D(x):0.56 D(G(z)):0.30\n",
            "이폭 [135/500] d_loss:1.2052 g_loss:1.6713 D(x):0.67 D(G(z)):0.35\n",
            "이폭 [136/500] d_loss:0.8451 g_loss:1.6701 D(x):0.72 D(G(z)):0.29\n",
            "이폭 [137/500] d_loss:0.7694 g_loss:1.5692 D(x):0.76 D(G(z)):0.30\n",
            "이폭 [138/500] d_loss:0.7976 g_loss:1.6817 D(x):0.74 D(G(z)):0.30\n",
            "이폭 [139/500] d_loss:1.1586 g_loss:1.3407 D(x):0.63 D(G(z)):0.35\n",
            "이폭 [140/500] d_loss:0.8503 g_loss:1.4282 D(x):0.75 D(G(z)):0.35\n",
            "이폭 [141/500] d_loss:0.8215 g_loss:1.8878 D(x):0.76 D(G(z)):0.31\n",
            "이폭 [142/500] d_loss:0.9236 g_loss:1.6608 D(x):0.66 D(G(z)):0.28\n",
            "이폭 [143/500] d_loss:1.0504 g_loss:1.6915 D(x):0.63 D(G(z)):0.30\n",
            "이폭 [144/500] d_loss:0.8791 g_loss:1.6056 D(x):0.66 D(G(z)):0.27\n",
            "이폭 [145/500] d_loss:0.8625 g_loss:1.5894 D(x):0.77 D(G(z)):0.36\n",
            "이폭 [146/500] d_loss:0.9197 g_loss:1.5076 D(x):0.65 D(G(z)):0.28\n",
            "이폭 [147/500] d_loss:1.1362 g_loss:1.3903 D(x):0.66 D(G(z)):0.36\n",
            "이폭 [148/500] d_loss:1.1564 g_loss:1.2738 D(x):0.65 D(G(z)):0.37\n",
            "이폭 [149/500] d_loss:1.2224 g_loss:1.2555 D(x):0.63 D(G(z)):0.37\n",
            "이폭 [150/500] d_loss:0.7996 g_loss:1.8148 D(x):0.69 D(G(z)):0.25\n",
            "이폭 [151/500] d_loss:0.8010 g_loss:1.4470 D(x):0.76 D(G(z)):0.33\n",
            "이폭 [152/500] d_loss:1.0496 g_loss:1.4857 D(x):0.70 D(G(z)):0.38\n",
            "이폭 [153/500] d_loss:1.2069 g_loss:1.4419 D(x):0.59 D(G(z)):0.33\n",
            "이폭 [154/500] d_loss:0.8172 g_loss:1.4999 D(x):0.70 D(G(z)):0.28\n",
            "이폭 [155/500] d_loss:1.2867 g_loss:1.2494 D(x):0.59 D(G(z)):0.37\n",
            "이폭 [156/500] d_loss:0.9990 g_loss:1.5517 D(x):0.73 D(G(z)):0.37\n",
            "이폭 [157/500] d_loss:0.8917 g_loss:1.6262 D(x):0.72 D(G(z)):0.30\n",
            "이폭 [158/500] d_loss:1.0480 g_loss:1.5632 D(x):0.67 D(G(z)):0.34\n",
            "이폭 [159/500] d_loss:1.0041 g_loss:1.4744 D(x):0.73 D(G(z)):0.36\n",
            "이폭 [160/500] d_loss:1.0857 g_loss:1.2722 D(x):0.74 D(G(z)):0.40\n",
            "이폭 [161/500] d_loss:0.9011 g_loss:1.6502 D(x):0.70 D(G(z)):0.31\n",
            "이폭 [162/500] d_loss:1.2052 g_loss:1.1515 D(x):0.66 D(G(z)):0.41\n",
            "이폭 [163/500] d_loss:0.8476 g_loss:1.5846 D(x):0.68 D(G(z)):0.28\n",
            "이폭 [164/500] d_loss:1.0465 g_loss:1.3711 D(x):0.67 D(G(z)):0.36\n",
            "이폭 [165/500] d_loss:0.9957 g_loss:1.2474 D(x):0.66 D(G(z)):0.34\n",
            "이폭 [166/500] d_loss:1.0343 g_loss:1.5116 D(x):0.70 D(G(z)):0.35\n",
            "이폭 [167/500] d_loss:0.9384 g_loss:1.3955 D(x):0.72 D(G(z)):0.35\n",
            "이폭 [168/500] d_loss:0.9946 g_loss:1.5732 D(x):0.68 D(G(z)):0.32\n",
            "이폭 [169/500] d_loss:0.8846 g_loss:1.4655 D(x):0.71 D(G(z)):0.31\n",
            "이폭 [170/500] d_loss:1.1074 g_loss:1.2129 D(x):0.67 D(G(z)):0.41\n",
            "이폭 [171/500] d_loss:1.0576 g_loss:1.2852 D(x):0.72 D(G(z)):0.40\n",
            "이폭 [172/500] d_loss:1.1016 g_loss:1.4297 D(x):0.65 D(G(z)):0.36\n",
            "이폭 [173/500] d_loss:1.1724 g_loss:1.2218 D(x):0.63 D(G(z)):0.39\n",
            "이폭 [174/500] d_loss:1.0194 g_loss:1.4519 D(x):0.68 D(G(z)):0.35\n",
            "이폭 [175/500] d_loss:1.1871 g_loss:1.6655 D(x):0.58 D(G(z)):0.30\n",
            "이폭 [176/500] d_loss:1.1179 g_loss:1.2593 D(x):0.68 D(G(z)):0.38\n",
            "이폭 [177/500] d_loss:1.0915 g_loss:1.5695 D(x):0.67 D(G(z)):0.38\n",
            "이폭 [178/500] d_loss:1.0992 g_loss:1.5063 D(x):0.61 D(G(z)):0.31\n",
            "이폭 [179/500] d_loss:1.1132 g_loss:1.4441 D(x):0.66 D(G(z)):0.37\n",
            "이폭 [180/500] d_loss:1.0488 g_loss:1.3854 D(x):0.71 D(G(z)):0.39\n",
            "이폭 [181/500] d_loss:1.0022 g_loss:1.4467 D(x):0.65 D(G(z)):0.32\n",
            "이폭 [182/500] d_loss:1.1568 g_loss:1.4555 D(x):0.64 D(G(z)):0.36\n",
            "이폭 [183/500] d_loss:1.0942 g_loss:1.1035 D(x):0.72 D(G(z)):0.44\n",
            "이폭 [184/500] d_loss:0.9050 g_loss:1.8475 D(x):0.67 D(G(z)):0.28\n",
            "이폭 [185/500] d_loss:1.0526 g_loss:1.8153 D(x):0.61 D(G(z)):0.25\n",
            "이폭 [186/500] d_loss:0.9467 g_loss:1.4431 D(x):0.69 D(G(z)):0.33\n",
            "이폭 [187/500] d_loss:1.2882 g_loss:1.1073 D(x):0.61 D(G(z)):0.42\n",
            "이폭 [188/500] d_loss:1.0771 g_loss:1.2457 D(x):0.68 D(G(z)):0.39\n",
            "이폭 [189/500] d_loss:0.9607 g_loss:1.6003 D(x):0.65 D(G(z)):0.27\n",
            "이폭 [190/500] d_loss:0.8865 g_loss:1.4082 D(x):0.70 D(G(z)):0.31\n",
            "이폭 [191/500] d_loss:0.9987 g_loss:1.4644 D(x):0.61 D(G(z)):0.30\n",
            "이폭 [192/500] d_loss:1.1413 g_loss:1.4204 D(x):0.66 D(G(z)):0.37\n",
            "이폭 [193/500] d_loss:0.9921 g_loss:1.3648 D(x):0.71 D(G(z)):0.37\n",
            "이폭 [194/500] d_loss:1.0413 g_loss:1.2717 D(x):0.64 D(G(z)):0.35\n",
            "이폭 [195/500] d_loss:0.9939 g_loss:1.4872 D(x):0.66 D(G(z)):0.33\n",
            "이폭 [196/500] d_loss:0.9507 g_loss:1.4798 D(x):0.66 D(G(z)):0.31\n",
            "이폭 [197/500] d_loss:1.0505 g_loss:1.4647 D(x):0.63 D(G(z)):0.33\n",
            "이폭 [198/500] d_loss:1.0674 g_loss:1.4094 D(x):0.65 D(G(z)):0.34\n",
            "이폭 [199/500] d_loss:1.0857 g_loss:1.1503 D(x):0.65 D(G(z)):0.37\n",
            "이폭 [200/500] d_loss:1.1372 g_loss:1.3339 D(x):0.60 D(G(z)):0.33\n",
            "이폭 [201/500] d_loss:1.0213 g_loss:1.5008 D(x):0.61 D(G(z)):0.29\n",
            "이폭 [202/500] d_loss:0.9617 g_loss:1.4686 D(x):0.67 D(G(z)):0.31\n",
            "이폭 [203/500] d_loss:1.0119 g_loss:1.3418 D(x):0.63 D(G(z)):0.33\n",
            "이폭 [204/500] d_loss:0.8430 g_loss:1.6056 D(x):0.72 D(G(z)):0.30\n",
            "이폭 [205/500] d_loss:0.9641 g_loss:1.4212 D(x):0.68 D(G(z)):0.32\n",
            "이폭 [206/500] d_loss:0.8910 g_loss:1.5712 D(x):0.70 D(G(z)):0.31\n",
            "이폭 [207/500] d_loss:1.0639 g_loss:1.1754 D(x):0.70 D(G(z)):0.40\n",
            "이폭 [208/500] d_loss:0.9005 g_loss:1.3617 D(x):0.66 D(G(z)):0.29\n",
            "이폭 [209/500] d_loss:0.9252 g_loss:1.3954 D(x):0.70 D(G(z)):0.33\n",
            "이폭 [210/500] d_loss:1.1968 g_loss:1.3653 D(x):0.62 D(G(z)):0.37\n",
            "이폭 [211/500] d_loss:1.1279 g_loss:1.2305 D(x):0.61 D(G(z)):0.34\n",
            "이폭 [212/500] d_loss:1.0694 g_loss:1.3001 D(x):0.70 D(G(z)):0.39\n",
            "이폭 [213/500] d_loss:1.1411 g_loss:1.2503 D(x):0.67 D(G(z)):0.40\n",
            "이폭 [214/500] d_loss:0.9773 g_loss:1.4665 D(x):0.64 D(G(z)):0.32\n",
            "이폭 [215/500] d_loss:1.0535 g_loss:1.4162 D(x):0.68 D(G(z)):0.36\n",
            "이폭 [216/500] d_loss:1.1068 g_loss:1.0899 D(x):0.63 D(G(z)):0.37\n",
            "이폭 [217/500] d_loss:0.8647 g_loss:1.4207 D(x):0.69 D(G(z)):0.31\n",
            "이폭 [218/500] d_loss:1.3267 g_loss:1.2167 D(x):0.61 D(G(z)):0.41\n",
            "이폭 [219/500] d_loss:1.0342 g_loss:1.6510 D(x):0.68 D(G(z)):0.34\n",
            "이폭 [220/500] d_loss:1.1589 g_loss:1.4534 D(x):0.64 D(G(z)):0.36\n",
            "이폭 [221/500] d_loss:0.8484 g_loss:1.5042 D(x):0.68 D(G(z)):0.28\n",
            "이폭 [222/500] d_loss:1.0175 g_loss:1.2265 D(x):0.64 D(G(z)):0.36\n",
            "이폭 [223/500] d_loss:0.9621 g_loss:1.1605 D(x):0.68 D(G(z)):0.36\n",
            "이폭 [224/500] d_loss:1.1246 g_loss:1.2835 D(x):0.60 D(G(z)):0.34\n",
            "이폭 [225/500] d_loss:0.9985 g_loss:1.5596 D(x):0.69 D(G(z)):0.32\n",
            "이폭 [226/500] d_loss:1.0292 g_loss:1.3582 D(x):0.63 D(G(z)):0.33\n",
            "이폭 [227/500] d_loss:1.0064 g_loss:1.2827 D(x):0.63 D(G(z)):0.32\n",
            "이폭 [228/500] d_loss:1.0261 g_loss:1.5175 D(x):0.60 D(G(z)):0.30\n",
            "이폭 [229/500] d_loss:0.9068 g_loss:1.5470 D(x):0.64 D(G(z)):0.28\n",
            "이폭 [230/500] d_loss:1.1146 g_loss:1.2644 D(x):0.65 D(G(z)):0.40\n",
            "이폭 [231/500] d_loss:1.0283 g_loss:1.3097 D(x):0.68 D(G(z)):0.33\n",
            "이폭 [232/500] d_loss:1.4196 g_loss:0.9591 D(x):0.59 D(G(z)):0.47\n",
            "이폭 [233/500] d_loss:1.1167 g_loss:1.4214 D(x):0.59 D(G(z)):0.32\n",
            "이폭 [234/500] d_loss:1.1572 g_loss:1.3203 D(x):0.62 D(G(z)):0.35\n",
            "이폭 [235/500] d_loss:0.8858 g_loss:1.4583 D(x):0.72 D(G(z)):0.33\n",
            "이폭 [236/500] d_loss:0.9643 g_loss:1.3896 D(x):0.73 D(G(z)):0.37\n",
            "이폭 [237/500] d_loss:1.1713 g_loss:1.3134 D(x):0.60 D(G(z)):0.35\n",
            "이폭 [238/500] d_loss:0.9387 g_loss:1.6426 D(x):0.66 D(G(z)):0.27\n",
            "이폭 [239/500] d_loss:1.0006 g_loss:1.4380 D(x):0.64 D(G(z)):0.29\n",
            "이폭 [240/500] d_loss:0.9399 g_loss:1.5927 D(x):0.68 D(G(z)):0.30\n",
            "이폭 [241/500] d_loss:1.0459 g_loss:1.3235 D(x):0.69 D(G(z)):0.37\n",
            "이폭 [242/500] d_loss:1.0522 g_loss:1.4490 D(x):0.65 D(G(z)):0.32\n",
            "이폭 [243/500] d_loss:1.0564 g_loss:1.4114 D(x):0.65 D(G(z)):0.34\n",
            "이폭 [244/500] d_loss:1.1569 g_loss:1.2463 D(x):0.69 D(G(z)):0.42\n",
            "이폭 [245/500] d_loss:1.0285 g_loss:1.3992 D(x):0.64 D(G(z)):0.33\n",
            "이폭 [246/500] d_loss:1.0822 g_loss:1.2066 D(x):0.62 D(G(z)):0.34\n",
            "이폭 [247/500] d_loss:1.2924 g_loss:1.0507 D(x):0.67 D(G(z)):0.46\n",
            "이폭 [248/500] d_loss:0.8639 g_loss:1.5705 D(x):0.72 D(G(z)):0.32\n",
            "이폭 [249/500] d_loss:0.8686 g_loss:1.5721 D(x):0.73 D(G(z)):0.33\n",
            "이폭 [250/500] d_loss:0.8008 g_loss:1.7736 D(x):0.72 D(G(z)):0.28\n",
            "이폭 [251/500] d_loss:0.9908 g_loss:1.3295 D(x):0.68 D(G(z)):0.34\n",
            "이폭 [252/500] d_loss:0.9457 g_loss:1.3477 D(x):0.68 D(G(z)):0.33\n",
            "이폭 [253/500] d_loss:0.9177 g_loss:1.6985 D(x):0.70 D(G(z)):0.30\n",
            "이폭 [254/500] d_loss:1.0136 g_loss:1.3820 D(x):0.70 D(G(z)):0.36\n",
            "이폭 [255/500] d_loss:0.8666 g_loss:1.6668 D(x):0.69 D(G(z)):0.29\n",
            "이폭 [256/500] d_loss:1.2264 g_loss:1.3082 D(x):0.57 D(G(z)):0.33\n",
            "이폭 [257/500] d_loss:1.0038 g_loss:1.5967 D(x):0.64 D(G(z)):0.30\n",
            "이폭 [258/500] d_loss:1.1110 g_loss:1.1979 D(x):0.62 D(G(z)):0.36\n",
            "이폭 [259/500] d_loss:1.1571 g_loss:1.2132 D(x):0.63 D(G(z)):0.39\n",
            "이폭 [260/500] d_loss:0.7699 g_loss:1.6803 D(x):0.71 D(G(z)):0.25\n",
            "이폭 [261/500] d_loss:1.0500 g_loss:1.2200 D(x):0.68 D(G(z)):0.38\n",
            "이폭 [262/500] d_loss:0.8840 g_loss:1.6945 D(x):0.65 D(G(z)):0.25\n",
            "이폭 [263/500] d_loss:0.9933 g_loss:1.5493 D(x):0.65 D(G(z)):0.31\n",
            "이폭 [264/500] d_loss:0.8529 g_loss:1.5679 D(x):0.66 D(G(z)):0.27\n",
            "이폭 [265/500] d_loss:0.9107 g_loss:1.5591 D(x):0.63 D(G(z)):0.27\n",
            "이폭 [266/500] d_loss:1.0244 g_loss:1.2295 D(x):0.68 D(G(z)):0.39\n",
            "이폭 [267/500] d_loss:0.9029 g_loss:1.6018 D(x):0.71 D(G(z)):0.32\n",
            "이폭 [268/500] d_loss:1.2597 g_loss:1.2412 D(x):0.62 D(G(z)):0.40\n",
            "이폭 [269/500] d_loss:0.9385 g_loss:1.5627 D(x):0.66 D(G(z)):0.29\n",
            "이폭 [270/500] d_loss:0.8154 g_loss:1.5307 D(x):0.73 D(G(z)):0.30\n",
            "이폭 [271/500] d_loss:0.9300 g_loss:1.5839 D(x):0.66 D(G(z)):0.29\n",
            "이폭 [272/500] d_loss:1.1091 g_loss:1.3217 D(x):0.66 D(G(z)):0.39\n",
            "이폭 [273/500] d_loss:1.1452 g_loss:1.2806 D(x):0.62 D(G(z)):0.38\n",
            "이폭 [274/500] d_loss:0.9677 g_loss:1.4839 D(x):0.71 D(G(z)):0.35\n",
            "이폭 [275/500] d_loss:1.1495 g_loss:1.3859 D(x):0.62 D(G(z)):0.34\n",
            "이폭 [276/500] d_loss:1.0893 g_loss:1.3704 D(x):0.67 D(G(z)):0.36\n",
            "이폭 [277/500] d_loss:0.8074 g_loss:1.7007 D(x):0.70 D(G(z)):0.27\n",
            "이폭 [278/500] d_loss:1.3128 g_loss:1.1678 D(x):0.59 D(G(z)):0.40\n",
            "이폭 [279/500] d_loss:1.2691 g_loss:1.2445 D(x):0.54 D(G(z)):0.35\n",
            "이폭 [280/500] d_loss:0.8618 g_loss:1.4436 D(x):0.71 D(G(z)):0.32\n",
            "이폭 [281/500] d_loss:0.6626 g_loss:1.7532 D(x):0.77 D(G(z)):0.27\n",
            "이폭 [282/500] d_loss:0.9169 g_loss:1.3514 D(x):0.72 D(G(z)):0.35\n",
            "이폭 [283/500] d_loss:0.9891 g_loss:1.3253 D(x):0.67 D(G(z)):0.36\n",
            "이폭 [284/500] d_loss:1.0828 g_loss:1.3126 D(x):0.64 D(G(z)):0.35\n",
            "이폭 [285/500] d_loss:0.8100 g_loss:1.6917 D(x):0.70 D(G(z)):0.27\n",
            "이폭 [286/500] d_loss:1.1238 g_loss:1.1713 D(x):0.65 D(G(z)):0.39\n",
            "이폭 [287/500] d_loss:0.8553 g_loss:1.5794 D(x):0.70 D(G(z)):0.29\n",
            "이폭 [288/500] d_loss:1.2756 g_loss:1.0289 D(x):0.60 D(G(z)):0.40\n",
            "이폭 [289/500] d_loss:1.2704 g_loss:1.0959 D(x):0.62 D(G(z)):0.43\n",
            "이폭 [290/500] d_loss:0.7270 g_loss:1.6830 D(x):0.74 D(G(z)):0.25\n",
            "이폭 [291/500] d_loss:1.0917 g_loss:1.2723 D(x):0.68 D(G(z)):0.39\n",
            "이폭 [292/500] d_loss:0.7761 g_loss:1.6335 D(x):0.71 D(G(z)):0.27\n",
            "이폭 [293/500] d_loss:1.1377 g_loss:1.1423 D(x):0.65 D(G(z)):0.41\n",
            "이폭 [294/500] d_loss:1.6949 g_loss:1.1060 D(x):0.46 D(G(z)):0.38\n",
            "이폭 [295/500] d_loss:1.2188 g_loss:0.9986 D(x):0.69 D(G(z)):0.47\n",
            "이폭 [296/500] d_loss:1.2968 g_loss:1.0740 D(x):0.66 D(G(z)):0.46\n",
            "이폭 [297/500] d_loss:0.8093 g_loss:1.5471 D(x):0.71 D(G(z)):0.28\n",
            "이폭 [298/500] d_loss:1.5836 g_loss:0.9071 D(x):0.52 D(G(z)):0.48\n",
            "이폭 [299/500] d_loss:0.8338 g_loss:1.5816 D(x):0.70 D(G(z)):0.29\n",
            "이폭 [300/500] d_loss:1.0034 g_loss:1.3564 D(x):0.67 D(G(z)):0.34\n",
            "이폭 [301/500] d_loss:1.0765 g_loss:1.1370 D(x):0.69 D(G(z)):0.40\n",
            "이폭 [302/500] d_loss:1.2813 g_loss:1.0753 D(x):0.64 D(G(z)):0.45\n",
            "이폭 [303/500] d_loss:0.6189 g_loss:1.8289 D(x):0.78 D(G(z)):0.25\n",
            "이폭 [304/500] d_loss:0.8335 g_loss:1.5889 D(x):0.76 D(G(z)):0.34\n",
            "이폭 [305/500] d_loss:1.1952 g_loss:1.3148 D(x):0.62 D(G(z)):0.35\n",
            "이폭 [306/500] d_loss:1.0253 g_loss:1.5019 D(x):0.61 D(G(z)):0.29\n",
            "이폭 [307/500] d_loss:1.0636 g_loss:1.2734 D(x):0.64 D(G(z)):0.37\n",
            "이폭 [308/500] d_loss:1.0745 g_loss:1.2619 D(x):0.63 D(G(z)):0.36\n",
            "이폭 [309/500] d_loss:1.2698 g_loss:0.9997 D(x):0.60 D(G(z)):0.42\n",
            "이폭 [310/500] d_loss:0.8330 g_loss:1.3868 D(x):0.71 D(G(z)):0.31\n",
            "이폭 [311/500] d_loss:1.1711 g_loss:1.2760 D(x):0.55 D(G(z)):0.32\n",
            "이폭 [312/500] d_loss:0.8682 g_loss:1.4156 D(x):0.72 D(G(z)):0.33\n",
            "이폭 [313/500] d_loss:1.1902 g_loss:1.2425 D(x):0.61 D(G(z)):0.36\n",
            "이폭 [314/500] d_loss:0.8371 g_loss:1.2931 D(x):0.73 D(G(z)):0.34\n",
            "이폭 [315/500] d_loss:0.8566 g_loss:1.4971 D(x):0.71 D(G(z)):0.31\n",
            "이폭 [316/500] d_loss:1.0922 g_loss:1.1573 D(x):0.69 D(G(z)):0.40\n",
            "이폭 [317/500] d_loss:0.9313 g_loss:1.5281 D(x):0.64 D(G(z)):0.28\n",
            "이폭 [318/500] d_loss:1.1704 g_loss:1.0467 D(x):0.63 D(G(z)):0.39\n",
            "이폭 [319/500] d_loss:1.0503 g_loss:1.2172 D(x):0.68 D(G(z)):0.39\n",
            "이폭 [320/500] d_loss:1.3314 g_loss:1.0780 D(x):0.58 D(G(z)):0.41\n",
            "이폭 [321/500] d_loss:0.9095 g_loss:1.7442 D(x):0.68 D(G(z)):0.27\n",
            "이폭 [322/500] d_loss:1.1239 g_loss:1.1125 D(x):0.68 D(G(z)):0.42\n",
            "이폭 [323/500] d_loss:0.8610 g_loss:1.4858 D(x):0.72 D(G(z)):0.30\n",
            "이폭 [324/500] d_loss:1.2413 g_loss:1.0695 D(x):0.62 D(G(z)):0.43\n",
            "이폭 [325/500] d_loss:1.3903 g_loss:1.2648 D(x):0.54 D(G(z)):0.36\n",
            "이폭 [326/500] d_loss:0.9405 g_loss:1.2151 D(x):0.70 D(G(z)):0.37\n",
            "이폭 [327/500] d_loss:0.8877 g_loss:1.4265 D(x):0.69 D(G(z)):0.31\n",
            "이폭 [328/500] d_loss:0.9494 g_loss:1.4868 D(x):0.69 D(G(z)):0.32\n",
            "이폭 [329/500] d_loss:0.9928 g_loss:1.4339 D(x):0.63 D(G(z)):0.31\n",
            "이폭 [330/500] d_loss:1.2386 g_loss:1.1475 D(x):0.62 D(G(z)):0.40\n",
            "이폭 [331/500] d_loss:1.3238 g_loss:1.0103 D(x):0.62 D(G(z)):0.42\n",
            "이폭 [332/500] d_loss:0.8359 g_loss:1.4325 D(x):0.72 D(G(z)):0.32\n",
            "이폭 [333/500] d_loss:1.1023 g_loss:1.2603 D(x):0.62 D(G(z)):0.34\n",
            "이폭 [334/500] d_loss:1.1897 g_loss:1.1531 D(x):0.60 D(G(z)):0.38\n",
            "이폭 [335/500] d_loss:0.7747 g_loss:1.5202 D(x):0.73 D(G(z)):0.29\n",
            "이폭 [336/500] d_loss:0.9719 g_loss:1.2772 D(x):0.66 D(G(z)):0.34\n",
            "이폭 [337/500] d_loss:0.9735 g_loss:1.3544 D(x):0.66 D(G(z)):0.33\n",
            "이폭 [338/500] d_loss:1.0530 g_loss:1.4654 D(x):0.60 D(G(z)):0.30\n",
            "이폭 [339/500] d_loss:0.9499 g_loss:1.3774 D(x):0.65 D(G(z)):0.31\n",
            "이폭 [340/500] d_loss:1.2577 g_loss:1.2691 D(x):0.56 D(G(z)):0.36\n",
            "이폭 [341/500] d_loss:0.8821 g_loss:1.6070 D(x):0.67 D(G(z)):0.28\n",
            "이폭 [342/500] d_loss:0.7693 g_loss:1.7037 D(x):0.72 D(G(z)):0.26\n",
            "이폭 [343/500] d_loss:0.8945 g_loss:1.3591 D(x):0.68 D(G(z)):0.30\n",
            "이폭 [344/500] d_loss:1.0269 g_loss:1.2823 D(x):0.64 D(G(z)):0.36\n",
            "이폭 [345/500] d_loss:1.0922 g_loss:1.3190 D(x):0.62 D(G(z)):0.34\n",
            "이폭 [346/500] d_loss:1.3171 g_loss:1.2855 D(x):0.57 D(G(z)):0.37\n",
            "이폭 [347/500] d_loss:0.9609 g_loss:1.2482 D(x):0.69 D(G(z)):0.35\n",
            "이폭 [348/500] d_loss:1.0808 g_loss:1.3544 D(x):0.68 D(G(z)):0.35\n",
            "이폭 [349/500] d_loss:1.0327 g_loss:1.4779 D(x):0.66 D(G(z)):0.31\n",
            "이폭 [350/500] d_loss:1.2826 g_loss:1.0751 D(x):0.64 D(G(z)):0.44\n",
            "이폭 [351/500] d_loss:1.1445 g_loss:1.2445 D(x):0.66 D(G(z)):0.39\n",
            "이폭 [352/500] d_loss:0.8495 g_loss:1.5355 D(x):0.73 D(G(z)):0.32\n",
            "이폭 [353/500] d_loss:1.0094 g_loss:1.3449 D(x):0.69 D(G(z)):0.37\n",
            "이폭 [354/500] d_loss:1.0202 g_loss:1.4276 D(x):0.68 D(G(z)):0.36\n",
            "이폭 [355/500] d_loss:1.0605 g_loss:1.6363 D(x):0.58 D(G(z)):0.26\n",
            "이폭 [356/500] d_loss:1.0479 g_loss:1.2368 D(x):0.71 D(G(z)):0.40\n",
            "이폭 [357/500] d_loss:1.0306 g_loss:1.3849 D(x):0.63 D(G(z)):0.33\n",
            "이폭 [358/500] d_loss:0.9169 g_loss:1.3414 D(x):0.67 D(G(z)):0.31\n",
            "이폭 [359/500] d_loss:0.8692 g_loss:1.5434 D(x):0.68 D(G(z)):0.30\n",
            "이폭 [360/500] d_loss:0.8423 g_loss:1.5194 D(x):0.68 D(G(z)):0.29\n",
            "이폭 [361/500] d_loss:1.0322 g_loss:1.2621 D(x):0.67 D(G(z)):0.37\n",
            "이폭 [362/500] d_loss:1.0503 g_loss:1.2580 D(x):0.65 D(G(z)):0.36\n",
            "이폭 [363/500] d_loss:0.7904 g_loss:1.5891 D(x):0.71 D(G(z)):0.28\n",
            "이폭 [364/500] d_loss:0.9041 g_loss:1.5562 D(x):0.71 D(G(z)):0.32\n",
            "이폭 [365/500] d_loss:0.9164 g_loss:1.3327 D(x):0.73 D(G(z)):0.37\n",
            "이폭 [366/500] d_loss:0.8164 g_loss:1.4268 D(x):0.74 D(G(z)):0.32\n",
            "이폭 [367/500] d_loss:0.9258 g_loss:1.5948 D(x):0.64 D(G(z)):0.28\n",
            "이폭 [368/500] d_loss:1.5004 g_loss:0.9782 D(x):0.59 D(G(z)):0.48\n",
            "이폭 [369/500] d_loss:0.8938 g_loss:1.5856 D(x):0.67 D(G(z)):0.30\n",
            "이폭 [370/500] d_loss:1.2884 g_loss:1.1780 D(x):0.56 D(G(z)):0.37\n",
            "이폭 [371/500] d_loss:0.7531 g_loss:1.7325 D(x):0.72 D(G(z)):0.25\n",
            "이폭 [372/500] d_loss:0.8977 g_loss:1.5844 D(x):0.66 D(G(z)):0.28\n",
            "이폭 [373/500] d_loss:1.0114 g_loss:1.3885 D(x):0.67 D(G(z)):0.35\n",
            "이폭 [374/500] d_loss:1.0121 g_loss:1.2172 D(x):0.70 D(G(z)):0.39\n",
            "이폭 [375/500] d_loss:0.9330 g_loss:1.4269 D(x):0.68 D(G(z)):0.31\n",
            "이폭 [376/500] d_loss:0.8627 g_loss:1.4606 D(x):0.67 D(G(z)):0.28\n",
            "이폭 [377/500] d_loss:1.1248 g_loss:1.3308 D(x):0.63 D(G(z)):0.34\n",
            "이폭 [378/500] d_loss:0.8647 g_loss:1.6806 D(x):0.68 D(G(z)):0.28\n",
            "이폭 [379/500] d_loss:0.7097 g_loss:1.5986 D(x):0.73 D(G(z)):0.26\n",
            "이폭 [380/500] d_loss:1.0048 g_loss:1.3097 D(x):0.66 D(G(z)):0.35\n",
            "이폭 [381/500] d_loss:1.1692 g_loss:1.1813 D(x):0.64 D(G(z)):0.40\n",
            "이폭 [382/500] d_loss:1.0339 g_loss:1.3730 D(x):0.66 D(G(z)):0.33\n",
            "이폭 [383/500] d_loss:1.2440 g_loss:1.0944 D(x):0.61 D(G(z)):0.42\n",
            "이폭 [384/500] d_loss:0.7810 g_loss:1.7327 D(x):0.67 D(G(z)):0.22\n",
            "이폭 [385/500] d_loss:1.0689 g_loss:1.1165 D(x):0.67 D(G(z)):0.39\n",
            "이폭 [386/500] d_loss:1.4205 g_loss:1.1176 D(x):0.55 D(G(z)):0.41\n",
            "이폭 [387/500] d_loss:1.4212 g_loss:1.1175 D(x):0.58 D(G(z)):0.43\n",
            "이폭 [388/500] d_loss:0.9857 g_loss:1.3826 D(x):0.67 D(G(z)):0.33\n",
            "이폭 [389/500] d_loss:0.7974 g_loss:1.5911 D(x):0.70 D(G(z)):0.28\n",
            "이폭 [390/500] d_loss:1.2060 g_loss:1.0424 D(x):0.67 D(G(z)):0.44\n",
            "이폭 [391/500] d_loss:1.2603 g_loss:1.1921 D(x):0.57 D(G(z)):0.37\n",
            "이폭 [392/500] d_loss:0.8493 g_loss:1.6985 D(x):0.69 D(G(z)):0.26\n",
            "이폭 [393/500] d_loss:0.8798 g_loss:1.6657 D(x):0.67 D(G(z)):0.24\n",
            "이폭 [394/500] d_loss:1.0849 g_loss:1.1149 D(x):0.69 D(G(z)):0.42\n",
            "이폭 [395/500] d_loss:1.4156 g_loss:1.1329 D(x):0.53 D(G(z)):0.39\n",
            "이폭 [396/500] d_loss:0.8935 g_loss:1.3055 D(x):0.68 D(G(z)):0.33\n",
            "이폭 [397/500] d_loss:1.3921 g_loss:1.1678 D(x):0.54 D(G(z)):0.40\n",
            "이폭 [398/500] d_loss:0.8772 g_loss:1.4023 D(x):0.73 D(G(z)):0.34\n",
            "이폭 [399/500] d_loss:1.2638 g_loss:1.1460 D(x):0.57 D(G(z)):0.37\n",
            "이폭 [400/500] d_loss:0.9437 g_loss:1.4648 D(x):0.68 D(G(z)):0.31\n",
            "이폭 [401/500] d_loss:1.1266 g_loss:1.1052 D(x):0.66 D(G(z)):0.40\n",
            "이폭 [402/500] d_loss:0.6995 g_loss:1.6554 D(x):0.79 D(G(z)):0.29\n",
            "이폭 [403/500] d_loss:0.8446 g_loss:1.5170 D(x):0.67 D(G(z)):0.28\n",
            "이폭 [404/500] d_loss:0.7832 g_loss:1.5585 D(x):0.75 D(G(z)):0.32\n",
            "이폭 [405/500] d_loss:0.9484 g_loss:1.5029 D(x):0.65 D(G(z)):0.31\n",
            "이폭 [406/500] d_loss:1.2493 g_loss:1.1985 D(x):0.62 D(G(z)):0.41\n",
            "이폭 [407/500] d_loss:1.1033 g_loss:1.1735 D(x):0.64 D(G(z)):0.39\n",
            "이폭 [408/500] d_loss:0.9430 g_loss:1.3882 D(x):0.67 D(G(z)):0.31\n",
            "이폭 [409/500] d_loss:1.0886 g_loss:1.2833 D(x):0.65 D(G(z)):0.37\n",
            "이폭 [410/500] d_loss:1.0283 g_loss:1.3083 D(x):0.69 D(G(z)):0.37\n",
            "이폭 [411/500] d_loss:0.9166 g_loss:1.4920 D(x):0.68 D(G(z)):0.31\n",
            "이폭 [412/500] d_loss:1.1975 g_loss:1.2518 D(x):0.60 D(G(z)):0.37\n",
            "이폭 [413/500] d_loss:0.8513 g_loss:1.4972 D(x):0.72 D(G(z)):0.30\n",
            "이폭 [414/500] d_loss:1.0051 g_loss:1.2406 D(x):0.70 D(G(z)):0.38\n",
            "이폭 [415/500] d_loss:0.9254 g_loss:1.5466 D(x):0.68 D(G(z)):0.30\n",
            "이폭 [416/500] d_loss:1.3634 g_loss:1.0872 D(x):0.61 D(G(z)):0.44\n",
            "이폭 [417/500] d_loss:0.8788 g_loss:1.5016 D(x):0.66 D(G(z)):0.28\n",
            "이폭 [418/500] d_loss:1.0072 g_loss:1.4066 D(x):0.66 D(G(z)):0.33\n",
            "이폭 [419/500] d_loss:0.7364 g_loss:1.6002 D(x):0.75 D(G(z)):0.28\n",
            "이폭 [420/500] d_loss:1.1548 g_loss:1.3353 D(x):0.60 D(G(z)):0.35\n",
            "이폭 [421/500] d_loss:1.1476 g_loss:1.1545 D(x):0.64 D(G(z)):0.40\n",
            "이폭 [422/500] d_loss:1.0288 g_loss:1.6195 D(x):0.64 D(G(z)):0.28\n",
            "이폭 [423/500] d_loss:0.8616 g_loss:1.6646 D(x):0.70 D(G(z)):0.28\n",
            "이폭 [424/500] d_loss:0.7912 g_loss:1.4062 D(x):0.81 D(G(z)):0.34\n",
            "이폭 [425/500] d_loss:0.8120 g_loss:1.6622 D(x):0.70 D(G(z)):0.26\n",
            "이폭 [426/500] d_loss:1.2563 g_loss:1.2653 D(x):0.65 D(G(z)):0.39\n",
            "이폭 [427/500] d_loss:1.3217 g_loss:1.2473 D(x):0.54 D(G(z)):0.36\n",
            "이폭 [428/500] d_loss:0.9516 g_loss:1.3568 D(x):0.72 D(G(z)):0.34\n",
            "이폭 [429/500] d_loss:1.0263 g_loss:1.4768 D(x):0.62 D(G(z)):0.30\n",
            "이폭 [430/500] d_loss:0.9171 g_loss:1.5712 D(x):0.66 D(G(z)):0.28\n",
            "이폭 [431/500] d_loss:1.0881 g_loss:1.1391 D(x):0.67 D(G(z)):0.37\n",
            "이폭 [432/500] d_loss:1.0193 g_loss:1.2225 D(x):0.71 D(G(z)):0.39\n",
            "이폭 [433/500] d_loss:1.0299 g_loss:1.3812 D(x):0.66 D(G(z)):0.34\n",
            "이폭 [434/500] d_loss:1.0087 g_loss:1.3764 D(x):0.66 D(G(z)):0.34\n",
            "이폭 [435/500] d_loss:0.8269 g_loss:1.6424 D(x):0.70 D(G(z)):0.28\n",
            "이폭 [436/500] d_loss:0.7956 g_loss:1.5771 D(x):0.72 D(G(z)):0.26\n",
            "이폭 [437/500] d_loss:0.8521 g_loss:1.4283 D(x):0.70 D(G(z)):0.32\n",
            "이폭 [438/500] d_loss:0.9627 g_loss:1.4967 D(x):0.63 D(G(z)):0.29\n",
            "이폭 [439/500] d_loss:1.0856 g_loss:1.1512 D(x):0.68 D(G(z)):0.40\n",
            "이폭 [440/500] d_loss:1.1844 g_loss:1.2331 D(x):0.59 D(G(z)):0.36\n",
            "이폭 [441/500] d_loss:1.3474 g_loss:1.2111 D(x):0.59 D(G(z)):0.40\n",
            "이폭 [442/500] d_loss:1.1834 g_loss:1.1495 D(x):0.65 D(G(z)):0.42\n",
            "이폭 [443/500] d_loss:0.9917 g_loss:1.3642 D(x):0.69 D(G(z)):0.35\n",
            "이폭 [444/500] d_loss:0.8783 g_loss:1.5095 D(x):0.69 D(G(z)):0.29\n",
            "이폭 [445/500] d_loss:0.7986 g_loss:1.5226 D(x):0.74 D(G(z)):0.31\n",
            "이폭 [446/500] d_loss:1.1785 g_loss:0.9939 D(x):0.65 D(G(z)):0.42\n",
            "이폭 [447/500] d_loss:1.1345 g_loss:1.2035 D(x):0.61 D(G(z)):0.37\n",
            "이폭 [448/500] d_loss:1.2262 g_loss:1.1395 D(x):0.63 D(G(z)):0.40\n",
            "이폭 [449/500] d_loss:1.0356 g_loss:1.2863 D(x):0.72 D(G(z)):0.39\n",
            "이폭 [450/500] d_loss:0.8389 g_loss:1.4190 D(x):0.71 D(G(z)):0.31\n",
            "이폭 [451/500] d_loss:0.8912 g_loss:1.5425 D(x):0.68 D(G(z)):0.30\n",
            "이폭 [452/500] d_loss:0.8822 g_loss:1.6062 D(x):0.66 D(G(z)):0.28\n",
            "이폭 [453/500] d_loss:1.0310 g_loss:1.4023 D(x):0.61 D(G(z)):0.28\n",
            "이폭 [454/500] d_loss:0.8380 g_loss:1.4894 D(x):0.72 D(G(z)):0.31\n",
            "이폭 [455/500] d_loss:1.0176 g_loss:1.5080 D(x):0.62 D(G(z)):0.29\n",
            "이폭 [456/500] d_loss:1.1571 g_loss:1.2319 D(x):0.61 D(G(z)):0.37\n",
            "이폭 [457/500] d_loss:1.1014 g_loss:1.1767 D(x):0.66 D(G(z)):0.38\n",
            "이폭 [458/500] d_loss:0.9599 g_loss:1.4501 D(x):0.65 D(G(z)):0.32\n",
            "이폭 [459/500] d_loss:1.0989 g_loss:1.2030 D(x):0.64 D(G(z)):0.37\n",
            "이폭 [460/500] d_loss:1.0810 g_loss:1.2668 D(x):0.63 D(G(z)):0.35\n",
            "이폭 [461/500] d_loss:0.8520 g_loss:1.6161 D(x):0.69 D(G(z)):0.26\n",
            "이폭 [462/500] d_loss:0.9311 g_loss:1.3388 D(x):0.76 D(G(z)):0.37\n",
            "이폭 [463/500] d_loss:0.8803 g_loss:1.3812 D(x):0.73 D(G(z)):0.34\n",
            "이폭 [464/500] d_loss:1.0350 g_loss:1.3609 D(x):0.66 D(G(z)):0.35\n",
            "이폭 [465/500] d_loss:1.0893 g_loss:1.2141 D(x):0.64 D(G(z)):0.37\n",
            "이폭 [466/500] d_loss:0.8889 g_loss:1.3501 D(x):0.70 D(G(z)):0.33\n",
            "이폭 [467/500] d_loss:1.2085 g_loss:1.2924 D(x):0.60 D(G(z)):0.38\n",
            "이폭 [468/500] d_loss:1.0178 g_loss:1.2487 D(x):0.70 D(G(z)):0.37\n",
            "이폭 [469/500] d_loss:0.9166 g_loss:1.5005 D(x):0.68 D(G(z)):0.29\n",
            "이폭 [470/500] d_loss:1.2822 g_loss:1.1344 D(x):0.56 D(G(z)):0.39\n",
            "이폭 [471/500] d_loss:0.9534 g_loss:1.4292 D(x):0.68 D(G(z)):0.32\n",
            "이폭 [472/500] d_loss:1.4714 g_loss:1.0706 D(x):0.52 D(G(z)):0.42\n",
            "이폭 [473/500] d_loss:0.9631 g_loss:1.4845 D(x):0.64 D(G(z)):0.29\n",
            "이폭 [474/500] d_loss:0.7913 g_loss:1.5508 D(x):0.73 D(G(z)):0.30\n",
            "이폭 [475/500] d_loss:1.2225 g_loss:1.2337 D(x):0.59 D(G(z)):0.36\n",
            "이폭 [476/500] d_loss:1.1734 g_loss:1.1312 D(x):0.63 D(G(z)):0.39\n",
            "이폭 [477/500] d_loss:0.8590 g_loss:1.4705 D(x):0.71 D(G(z)):0.30\n",
            "이폭 [478/500] d_loss:1.2080 g_loss:1.1874 D(x):0.59 D(G(z)):0.38\n",
            "이폭 [479/500] d_loss:0.8260 g_loss:1.5951 D(x):0.70 D(G(z)):0.28\n",
            "이폭 [480/500] d_loss:0.9881 g_loss:1.3575 D(x):0.66 D(G(z)):0.33\n",
            "이폭 [481/500] d_loss:1.0938 g_loss:1.3258 D(x):0.66 D(G(z)):0.36\n",
            "이폭 [482/500] d_loss:0.8215 g_loss:1.3575 D(x):0.74 D(G(z)):0.34\n",
            "이폭 [483/500] d_loss:1.2646 g_loss:0.9805 D(x):0.67 D(G(z)):0.46\n",
            "이폭 [484/500] d_loss:1.1615 g_loss:1.2327 D(x):0.63 D(G(z)):0.38\n",
            "이폭 [485/500] d_loss:0.8736 g_loss:1.5270 D(x):0.69 D(G(z)):0.28\n",
            "이폭 [486/500] d_loss:0.9533 g_loss:1.4308 D(x):0.69 D(G(z)):0.34\n",
            "이폭 [487/500] d_loss:1.1683 g_loss:1.0870 D(x):0.64 D(G(z)):0.40\n",
            "이폭 [488/500] d_loss:1.0709 g_loss:1.3206 D(x):0.68 D(G(z)):0.37\n",
            "이폭 [489/500] d_loss:0.7526 g_loss:1.6672 D(x):0.73 D(G(z)):0.26\n",
            "이폭 [490/500] d_loss:1.0303 g_loss:1.3734 D(x):0.66 D(G(z)):0.33\n",
            "이폭 [491/500] d_loss:0.9713 g_loss:1.4420 D(x):0.68 D(G(z)):0.34\n",
            "이폭 [492/500] d_loss:0.9787 g_loss:1.3773 D(x):0.68 D(G(z)):0.34\n",
            "이폭 [493/500] d_loss:0.8615 g_loss:1.4581 D(x):0.69 D(G(z)):0.31\n",
            "이폭 [494/500] d_loss:0.7215 g_loss:1.5969 D(x):0.74 D(G(z)):0.27\n",
            "이폭 [495/500] d_loss:1.0123 g_loss:1.4078 D(x):0.65 D(G(z)):0.31\n",
            "이폭 [496/500] d_loss:1.2801 g_loss:1.1543 D(x):0.61 D(G(z)):0.41\n",
            "이폭 [497/500] d_loss:1.1128 g_loss:1.3617 D(x):0.59 D(G(z)):0.32\n",
            "이폭 [498/500] d_loss:1.0634 g_loss:1.3166 D(x):0.66 D(G(z)):0.35\n",
            "이폭 [499/500] d_loss:0.9661 g_loss:1.4125 D(x):0.68 D(G(z)):0.33\n"
          ],
          "name": "stdout"
        }
      ]
    },
    {
      "cell_type": "code",
      "metadata": {
        "id": "uM1uA4XX9hTP",
        "colab_type": "code",
        "outputId": "83220295-d152-4a18-925f-6b0878eaaf06",
        "colab": {
          "base_uri": "https://localhost:8080/",
          "height": 1000
        }
      },
      "source": [
        "z = torch.randn(BATCH_SIZE, 64).to(DEVICE)\n",
        "fake_images = G(z)\n",
        "for i in range(10):\n",
        "  fake_images_img = np.reshape(fake_images.data.cpu().numpy()[i], (28,28))\n",
        "  plt.imshow(fake_images_img, cmap='gray')\n",
        "  plt.show()"
      ],
      "execution_count": 0,
      "outputs": [
        {
          "output_type": "display_data",
          "data": {
            "image/png": "[encoded data removed]",
            "text/plain": [
              "<Figure size 432x288 with 1 Axes>"
            ]
          },
          "metadata": {
            "tags": []
          }
        },
        {
          "output_type": "display_data",
          "data": {
            "image/png": "[encoded data removed]",
            "text/plain": [
              "<Figure size 432x288 with 1 Axes>"
            ]
          },
          "metadata": {
            "tags": []
          }
        },
        {
          "output_type": "display_data",
          "data": {
            "image/png": "[encoded data removed]",
            "text/plain": [
              "<Figure size 432x288 with 1 Axes>"
            ]
          },
          "metadata": {
            "tags": []
          }
        },
        {
          "output_type": "display_data",
          "data": {
            "image/png": "[encoded data removed]",
            "text/plain": [
              "<Figure size 432x288 with 1 Axes>"
            ]
          },
          "metadata": {
            "tags": []
          }
        },
        {
          "output_type": "display_data",
          "data": {
            "image/png": "[encoded data removed]",
            "text/plain": [
              "<Figure size 432x288 with 1 Axes>"
            ]
          },
          "metadata": {
            "tags": []
          }
        },
        {
          "output_type": "display_data",
          "data": {
            "image/png": "[encoded data removed]",
            "text/plain": [
              "<Figure size 432x288 with 1 Axes>"
            ]
          },
          "metadata": {
            "tags": []
          }
        },
        {
          "output_type": "display_data",
          "data": {
            "image/png": "[encoded data removed]",
            "text/plain": [
              "<Figure size 432x288 with 1 Axes>"
            ]
          },
          "metadata": {
            "tags": []
          }
        },
        {
          "output_type": "display_data",
          "data": {
            "image/png": "[encoded data removed]",
            "text/plain": [
              "<Figure size 432x288 with 1 Axes>"
            ]
          },
          "metadata": {
            "tags": []
          }
        },
        {
          "output_type": "display_data",
          "data": {
            "image/png": "[encoded data removed]",
            "text/plain": [
              "<Figure size 432x288 with 1 Axes>"
            ]
          },
          "metadata": {
            "tags": []
          }
        },
        {
          "output_type": "display_data",
          "data": {
            "image/png": "[encoded data removed]",
            "text/plain": [
              "<Figure size 432x288 with 1 Axes>"
            ]
          },
          "metadata": {
            "tags": []
          }
        }
      ]
    },
    {
      "cell_type": "code",
      "metadata": {
        "id": "0sThSSRP-SrL",
        "colab_type": "code",
        "colab": {}
      },
      "source": [
        ""
      ],
      "execution_count": 0,
      "outputs": []
    }
  ]
}