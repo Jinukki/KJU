{
  "nbformat": 4,
  "nbformat_minor": 0,
  "metadata": {
    "kernelspec": {
      "display_name": "Python 3",
      "language": "python",
      "name": "python3"
    },
    "language_info": {
      "codemirror_mode": {
        "name": "ipython",
        "version": 3
      },
      "file_extension": ".py",
      "mimetype": "text/x-python",
      "name": "python",
      "nbconvert_exporter": "python",
      "pygments_lexer": "ipython3",
      "version": "3.7.0"
    },
    "colab": {
      "name": "15108329 ch5.ipynb",
      "provenance": [],
      "include_colab_link": true
    }
  },
  "cells": [
    {
      "cell_type": "markdown",
      "metadata": {
        "id": "view-in-github",
        "colab_type": "text"
      },
      "source": [
        "<a href=\"https://colab.research.google.com/github/Jinukki/KJU/blob/master/15108329%20ch5.ipynb\" target=\"_parent\"><img src=\"https://colab.research.google.com/assets/colab-badge.svg\" alt=\"Open In Colab\"/></a>"
      ]
    },
    {
      "cell_type": "code",
      "metadata": {
        "id": "xFh7Wxna0SEO",
        "colab_type": "code",
        "colab": {}
      },
      "source": [
        "class MulLayer:\n",
        "    def __init__(self):\n",
        "        self.x=None\n",
        "        self.y=None\n",
        "        \n",
        "    def forward(self, x, y):\n",
        "        self.x=x\n",
        "        self.y=y\n",
        "        out = x*y\n",
        "        \n",
        "        return out\n",
        "    \n",
        "    def backward(self, dout):\n",
        "        dx=dout*self.y\n",
        "        dy=dout*self.x\n",
        "        \n",
        "        return dx, dy"
      ],
      "execution_count": 0,
      "outputs": []
    },
    {
      "cell_type": "code",
      "metadata": {
        "id": "4hy_9hZB0SEY",
        "colab_type": "code",
        "colab": {},
        "outputId": "66ff785a-c96d-4841-9bae-3290aa4e10e8"
      },
      "source": [
        "apple=100\n",
        "apple_num=2\n",
        "tax=1.1\n",
        "\n",
        "mul_apple_layer=MulLayer()\n",
        "mul_tax_layer=MulLayer()\n",
        "\n",
        "apple_price=mul_apple_layer.forward(apple, apple_num)\n",
        "price=mul_tax_layer.forward(apple_price, tax)\n",
        "\n",
        "print(price)"
      ],
      "execution_count": 0,
      "outputs": [
        {
          "output_type": "stream",
          "text": [
            "220.00000000000003\n"
          ],
          "name": "stdout"
        }
      ]
    },
    {
      "cell_type": "code",
      "metadata": {
        "id": "66an95Nr0SEh",
        "colab_type": "code",
        "colab": {},
        "outputId": "4fba21d7-0279-4718-cd9a-48906df96626"
      },
      "source": [
        "dprice=1\n",
        "dapple_price, dtax=mul_tax_layer.backward(dprice)\n",
        "dapple, dapple_num=mul_apple_layer.backward(dapple_price)\n",
        "\n",
        "print(dapple, dapple_num, dtax)"
      ],
      "execution_count": 0,
      "outputs": [
        {
          "output_type": "stream",
          "text": [
            "2.2 110.00000000000001 200\n"
          ],
          "name": "stdout"
        }
      ]
    },
    {
      "cell_type": "code",
      "metadata": {
        "id": "nRzZj-hM0SEr",
        "colab_type": "code",
        "colab": {}
      },
      "source": [
        "class AddLayer:\n",
        "    def __init__(self):\n",
        "        pass\n",
        "    \n",
        "    def forward(self, x, y):\n",
        "        out=x+y\n",
        "        return out\n",
        "    \n",
        "    def backward(self, dout):\n",
        "        dx=dout*1\n",
        "        dy=dout*1\n",
        "        return dx, dy"
      ],
      "execution_count": 0,
      "outputs": []
    },
    {
      "cell_type": "code",
      "metadata": {
        "id": "tJYG0bBn0SE6",
        "colab_type": "code",
        "colab": {},
        "outputId": "46f0b77a-b3ab-4a40-e0c6-78da5e3aadf0"
      },
      "source": [
        "apple=100\n",
        "apple_num=2\n",
        "orange=150\n",
        "orange_num=3\n",
        "tax=1.1\n",
        "\n",
        "mul_apple_layer=MulLayer()\n",
        "mul_orange_layer=MulLayer()\n",
        "add_apple_orange_layer=AddLayer()\n",
        "mul_tax_layer=MulLayer()\n",
        "\n",
        "apple_price=mul_apple_layer.forward(apple, apple_num)\n",
        "orange_price=mul_orange_layer.forward(orange, orange_num)\n",
        "all_price=add_apple_orange_layer.forward(apple_price, orange_price)\n",
        "price=mul_tax_layer.forward(all_price, tax)\n",
        "\n",
        "dprice=1\n",
        "dall_price, dtax=mul_tax_layer.backward(dprice)\n",
        "dapple_price, dorange_price=add_apple_orange_layer.backward(dall_price)\n",
        "dorange, dorange_num=mul_orange_layer.backward(dorange_price)\n",
        "dapple, dapple_num=mul_apple_layer.backward(dapple_price)\n",
        "\n",
        "print(price)\n",
        "print(dapple_num, dapple, dorange, dorange_num, dtax)"
      ],
      "execution_count": 0,
      "outputs": [
        {
          "output_type": "stream",
          "text": [
            "715.0000000000001\n",
            "110.00000000000001 2.2 3.3000000000000003 165.0 650\n"
          ],
          "name": "stdout"
        }
      ]
    },
    {
      "cell_type": "code",
      "metadata": {
        "id": "bp39AHNJ0SFP",
        "colab_type": "code",
        "colab": {}
      },
      "source": [
        "class Relu:\n",
        "    def __init__(self):\n",
        "        self.mask=None\n",
        "        \n",
        "    def forward(self, x):\n",
        "        self.mask=(x<0)\n",
        "        out=x.copy()\n",
        "        out[self.mask]=0\n",
        "        \n",
        "        return out\n",
        "    \n",
        "    def backward(self, dout):\n",
        "        dout[self.mask]=0\n",
        "        dx=dout\n",
        "        \n",
        "        return dx"
      ],
      "execution_count": 0,
      "outputs": []
    },
    {
      "cell_type": "code",
      "metadata": {
        "id": "hg7oDIDb0SFh",
        "colab_type": "code",
        "colab": {},
        "outputId": "a86087c6-fd1c-4a59-c695-36e3219ce613"
      },
      "source": [
        "import numpy as np\n",
        "x=np.array([[1.0, -0.5], [-2.0, 3.0]])\n",
        "print(x)"
      ],
      "execution_count": 0,
      "outputs": [
        {
          "output_type": "stream",
          "text": [
            "[[ 1.  -0.5]\n",
            " [-2.   3. ]]\n"
          ],
          "name": "stdout"
        }
      ]
    },
    {
      "cell_type": "code",
      "metadata": {
        "id": "RQ9KuwAo0SFo",
        "colab_type": "code",
        "colab": {},
        "outputId": "65a3e7b1-1431-4f42-adad-38788895445a"
      },
      "source": [
        "mask=(x<=0)\n",
        "print(mask)"
      ],
      "execution_count": 0,
      "outputs": [
        {
          "output_type": "stream",
          "text": [
            "[[False  True]\n",
            " [ True False]]\n"
          ],
          "name": "stdout"
        }
      ]
    },
    {
      "cell_type": "code",
      "metadata": {
        "id": "hKSGTBgK0SFw",
        "colab_type": "code",
        "colab": {}
      },
      "source": [
        "class Sigmoid:\n",
        "    def __init__(self):\n",
        "        self.out=None\n",
        "        \n",
        "    def forward(self, x):\n",
        "        out = 1/(1+np.exp(-x))\n",
        "        self.out=out\n",
        "        \n",
        "        return out\n",
        "    \n",
        "    def backward(self, dout):\n",
        "        dx=dout*(1.0-self.out)*self.out\n",
        "        \n",
        "        return dx"
      ],
      "execution_count": 0,
      "outputs": []
    },
    {
      "cell_type": "code",
      "metadata": {
        "id": "YbT4ieZt0SF1",
        "colab_type": "code",
        "colab": {}
      },
      "source": [
        "import numpy as np\n",
        "X=np.random.rand(2)\n",
        "W=np.random.rand(2,3)\n",
        "B=np.random.rand(3)\n",
        "\n",
        "X.shape\n",
        "W.shape\n",
        "B.shape\n",
        "\n",
        "Y=np.dot(X, W)+B"
      ],
      "execution_count": 0,
      "outputs": []
    },
    {
      "cell_type": "code",
      "metadata": {
        "id": "u65LwCUq0SF7",
        "colab_type": "code",
        "colab": {},
        "outputId": "ed682b12-e178-437a-a12b-dcf8723f688d"
      },
      "source": [
        "import numpy as np\n",
        "X_dot_W=np.array([[0,0,0],[10,10,10]])\n",
        "B=np.array([1,2,3])\n",
        "\n",
        "X_dot_W"
      ],
      "execution_count": 0,
      "outputs": [
        {
          "output_type": "execute_result",
          "data": {
            "text/plain": [
              "array([[ 0,  0,  0],\n",
              "       [10, 10, 10]])"
            ]
          },
          "metadata": {
            "tags": []
          },
          "execution_count": 2
        }
      ]
    },
    {
      "cell_type": "code",
      "metadata": {
        "id": "_iMr9wjI0SGA",
        "colab_type": "code",
        "colab": {},
        "outputId": "8ff6db00-6e87-44b1-92db-4f2695023379"
      },
      "source": [
        "X_dot_W+B"
      ],
      "execution_count": 0,
      "outputs": [
        {
          "output_type": "execute_result",
          "data": {
            "text/plain": [
              "array([[ 1,  2,  3],\n",
              "       [11, 12, 13]])"
            ]
          },
          "metadata": {
            "tags": []
          },
          "execution_count": 3
        }
      ]
    },
    {
      "cell_type": "code",
      "metadata": {
        "id": "YAbapy1T0SGF",
        "colab_type": "code",
        "colab": {},
        "outputId": "ca7568d2-4bf9-406d-94cc-7e7c91da64d9"
      },
      "source": [
        "dY=np.array([[1,2,3],[4,5,6]])\n",
        "dY"
      ],
      "execution_count": 0,
      "outputs": [
        {
          "output_type": "execute_result",
          "data": {
            "text/plain": [
              "array([[1, 2, 3],\n",
              "       [4, 5, 6]])"
            ]
          },
          "metadata": {
            "tags": []
          },
          "execution_count": 4
        }
      ]
    },
    {
      "cell_type": "code",
      "metadata": {
        "id": "PDZ0GoId0SGK",
        "colab_type": "code",
        "colab": {},
        "outputId": "22606516-e1eb-4e0e-a223-2e1200021aa4"
      },
      "source": [
        "dB=np.sum(dY,axis=0)\n",
        "dB"
      ],
      "execution_count": 0,
      "outputs": [
        {
          "output_type": "execute_result",
          "data": {
            "text/plain": [
              "array([5, 7, 9])"
            ]
          },
          "metadata": {
            "tags": []
          },
          "execution_count": 7
        }
      ]
    },
    {
      "cell_type": "code",
      "metadata": {
        "id": "RlV990IO0SGP",
        "colab_type": "code",
        "colab": {}
      },
      "source": [
        "class Affine:\n",
        "    def __init__(self, W, b):\n",
        "        self.W=W\n",
        "        self.b=b\n",
        "        self.x=None\n",
        "        self.dW=None\n",
        "        self.db=None\n",
        "        \n",
        "    def forward(self, x):\n",
        "        self.x=x\n",
        "        out=np.dot(x,self.W)+self.b\n",
        "        \n",
        "        return out\n",
        "    \n",
        "    def backward(self, dout):\n",
        "        dx=np.dot(dout, self.W.T)\n",
        "        self.dW=np.dout(self.x.T, dout)\n",
        "        self.db=np.sum(dout,axis=0)\n",
        "        \n",
        "        return dx"
      ],
      "execution_count": 0,
      "outputs": []
    },
    {
      "cell_type": "code",
      "metadata": {
        "id": "AAuDA-5s0SGU",
        "colab_type": "code",
        "colab": {}
      },
      "source": [
        "import numpy as np\n",
        "def cross_entropy_error(y,t):\n",
        "    delta=1e-7\n",
        "    return -np.sum(t*np.log(y+delta))"
      ],
      "execution_count": 0,
      "outputs": []
    },
    {
      "cell_type": "code",
      "metadata": {
        "id": "lTClCA9f0SGY",
        "colab_type": "code",
        "colab": {}
      },
      "source": [
        "class SoftmaxwithLoss:\n",
        "    def __init__(self):\n",
        "        self.loss=None\n",
        "        self.y=None\n",
        "        slef.x=None\n",
        "        \n",
        "    def forward(self, x, t):\n",
        "        self.t=t\n",
        "        self.y=softmax(x)\n",
        "        self.loss=cross_entropy_error(self.y, self.t)\n",
        "        return self.loss\n",
        "    \n",
        "    def backward(self, dout=1):\n",
        "        batch_size=self.t.shape[0]\n",
        "        dx=(self.y-self.t)/batch_size\n",
        "        \n",
        "        return dx"
      ],
      "execution_count": 0,
      "outputs": []
    },
    {
      "cell_type": "code",
      "metadata": {
        "id": "moT8th3C0SGc",
        "colab_type": "code",
        "colab": {}
      },
      "source": [
        "import sys, os\n",
        "sys.path.append(os.pardir)\n",
        "import numpy as np\n",
        "\n",
        "from common.layers import *\n",
        "from common.gradient import numerical_gradient\n",
        "from collections import OrderedDict\n",
        "\n",
        "class TwoLayerNet:\n",
        "    def __init__(self, input_size, hidden_size, output_size, weight_init_std=0.01):\n",
        "        self.params={}\n",
        "        self.params['W1']=weight_init_std*\\\n",
        "                          np.random.randn(input_size, hidden_size)\n",
        "        self.params['b1']=np.zeros(hidden_size)\n",
        "        self.params['W2']=weight_init_std*\\\n",
        "                          np.random.randn(hidden_size, output_size)\n",
        "        self.parmas['b1']=np.zeros(output_size)\n",
        "        \n",
        "        self.layers=OrderedDict()\n",
        "        self.layers['Affine1']=\\\n",
        "            Affine(self.parmas['W1'], self.parmas['b1'])\n",
        "        self.layers['Relu1']=Relu()\n",
        "        self.layers['Affine2']=\\\n",
        "            Affine(self.parmas['W2'], self.parmas['b2'])\n",
        "        \n",
        "        self.lastLayer=SoftmaxWithLoss()\n",
        "        \n",
        "    def predict(self, x):\n",
        "        for layer in self.layers.values():\n",
        "            x=layer. forward(x)\n",
        "            \n",
        "        return x\n",
        "    \n",
        "    def loss(self, x, t):\n",
        "        y=self.predict(x)\n",
        "        return self.lastLayer.forward(y, t)\n",
        "        \n",
        "    def accuracy(self, x, t):\n",
        "        y=self.predict(x)\n",
        "        y=np.argmax(y, axis=1)\n",
        "        if t.ndim !=1 : t=np.argmax(t, axis=1)\n",
        "            \n",
        "        accuracy=mp.sum(y==t)/float(x.shaple[0])\n",
        "        \n",
        "        return accuracy\n",
        "    \n",
        "    def numerical_gradient(self, x, t):\n",
        "        loss_W=lambda W:self.loss(x, t)\n",
        "        \n",
        "        grads={}\n",
        "        grads['W1']=numerical_gradient(loss_W, self.params['W1'])\n",
        "        grads['b1']=numerical_gradient(loss_W, self.params['b1'])\n",
        "        grads['W2']=numerical_gradient(loss_W, self.params['W2'])\n",
        "        grads['b2']=numerical_gradient(loss_W, self.params['b2'])\n",
        "        return grads\n",
        "    \n",
        "    def gradient(self, x, t):\n",
        "        slef.loss(x, t)\n",
        "        dout=1\n",
        "        dout=self.lastLayer.backward(dout)\n",
        "        \n",
        "        layers=list(self.layers.values())\n",
        "        layers.reverse()\n",
        "        for layer in layers:\n",
        "            dout=layer.backward(dout)\n",
        "            \n",
        "        grads={}\n",
        "        grads['W1']=self.layers['Affine1'].dW\n",
        "        grads['b1']=self.layers['Affine1'].db\n",
        "        grads['W2']=self.layers['Affine2'].dW\n",
        "        grads['b2']=self.layers['Affine2'].db\n",
        "        \n",
        "        return grads"
      ],
      "execution_count": 0,
      "outputs": []
    },
    {
      "cell_type": "code",
      "metadata": {
        "id": "vBt6PyDe0SGi",
        "colab_type": "code",
        "colab": {},
        "outputId": "84c7db43-78c1-4160-ba9c-406437b3ed4a"
      },
      "source": [
        "import sys, os\n",
        "sys.path.append(os.pardir)\n",
        "import numpy as np\n",
        "from dataset.mnist import load_mnist\n",
        "from two_layer_net import TwoLayerNet\n",
        "\n",
        "(x_train, t_train), (x_test, t_test)=\\\n",
        "    load_mnist(normalize=True, one_hot_label=True)\n",
        "\n",
        "network=TwoLayerNet(input_size=784, hidden_size=50, output_size=10)\n",
        "\n",
        "x_batch=x_train[:3]\n",
        "t_batch=t_train[:3]\n",
        "\n",
        "grad_numerical=network.numerical_gradient(x_batch, t_batch)\n",
        "grad_backprop=network.gradient(x_batch, t_batch)\n",
        "\n",
        "for key in grad_numerical.keys():\n",
        "    diff=np.average(np.abs(grad_backprop[key]-grad_numerical[key]))\n",
        "    print(key+\":\"+str(diff))"
      ],
      "execution_count": 0,
      "outputs": [
        {
          "output_type": "stream",
          "text": [
            "W1:2.0658994121133593e-10\n",
            "b1:1.1194747373083304e-09\n",
            "W2:7.163111328670202e-08\n",
            "b2:1.4285648747280888e-07\n"
          ],
          "name": "stdout"
        }
      ]
    },
    {
      "cell_type": "code",
      "metadata": {
        "id": "20AgW3_50SGp",
        "colab_type": "code",
        "colab": {}
      },
      "source": [
        "import sys, os\n",
        "sys.path.append(os.pardir)\n",
        "import numpy as np\n",
        "from dataset.mnist import load_mnist\n",
        "from two_layer_net import TwoLayerNet\n",
        "\n",
        "(x_train, t_train), (x_test, t_test)=\\\n",
        "    load_mnist(normalize=True, one_hot_label=True)\n",
        "network=TwoLayerNet(input_size=784, hidden_size=50, output_size=10)\n",
        "\n",
        "iters_num=10000\n",
        "train_size=x_train.shape[0]\n",
        "batch_size=100\n",
        "learning_rate=0.1\n",
        "\n",
        "train_loss_list=[]\n",
        "train_acc_list=[]\n",
        "test_acc_list=[]\n",
        "\n",
        "iter_per_epoch=max(train_size/batch_size, 1)\n",
        "\n",
        "for i in range(iters_num):\n",
        "    batch_mask=np.random.choice(train_size, batch_size)\n",
        "    x_batch=x_train[batch_mask]\n",
        "    t_batch=t_train[batch_mask]\n",
        "    \n",
        "    grad=network.gradient(x_batch, t_batch)\n",
        "    \n",
        "    for key in ('W1','b1','W2','b2'):\n",
        "        network.params[key]-=learning_rate+grad[key]\n",
        "        \n",
        "    loss=network.loss(x_batch, t_batch)\n",
        "    train_loss_list.append(loss)\n",
        "    \n",
        "if i%iter_per_epoch==0:\n",
        "    train_acc=network.accuracy(x_train, t_train)\n",
        "    test_acc=network.accuracy(x_test, t_test)\n",
        "    train_acc_list.append(train_acc)\n",
        "    test_acc_list.appernd(test_acc)\n",
        "    print(tarin_acc, test_acc)"
      ],
      "execution_count": 0,
      "outputs": []
    },
    {
      "cell_type": "code",
      "metadata": {
        "id": "97WYN9Wq0SGx",
        "colab_type": "code",
        "colab": {}
      },
      "source": [
        ""
      ],
      "execution_count": 0,
      "outputs": []
    }
  ]
}