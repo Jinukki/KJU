{
 "cells": [
  {
   "cell_type": "markdown",
   "metadata": {},
   "source": [
    "# Markdown in Jupyter Notebook"
   ]
  },
  {
   "cell_type": "markdown",
   "metadata": {},
   "source": [
    "## In this tutorial, you'll learn how to use and write with different markup tags using Jupyter Notebook"
   ]
  },
  {
   "cell_type": "markdown",
   "metadata": {},
   "source": [
    "### Markdown is a lightweight and popular Markup language which is a writing standard for data scientists and analysts. It is often converted into the corresponding HTML which by the Markdown processor which allows it to be easily shared between different devices and people. \n",
    "\n",
    "### Markup language is similar to Hypertext Markup Language(HTML) made of Markup tags, and it consists of the opening tag (tagname) and closing tag (/tagname).\n",
    "\n",
    "### In this tutorial, you can see the same result obtained by using Markup tags, and also the Markdown syntax which is supported by Jupyter Notebook."
   ]
  },
  {
   "cell_type": "markdown",
   "metadata": {},
   "source": [
    "* Headings\n",
    "* Blockquotes\n",
    "* Code section\n",
    "* Mathematical Symbol\n",
    "* Line Break\n",
    "* Bold and Italic Text\n",
    "* Horizontal Lines\n",
    "* Ordered List\n",
    "* Unordered List\n",
    "* Internal and External Link\n",
    "* Table\n",
    "* Image\n",
    "* Local files\n",
    "* LaTeX equations"
   ]
  },
  {
   "cell_type": "markdown",
   "metadata": {},
   "source": [
    "### You need to have Jupyter Notebook, the environment can be set up by using DataCamp's tutorial: Jupyter Notebook Tutorial:The Definitive Guide.\n",
    "\n",
    "### Markdown cells can be selected in Jupyter Notebook by using the drop-down or also by the keyboard shortcut 'm/M' immediately after inserting a new cell."
   ]
  },
  {
   "cell_type": "markdown",
   "metadata": {},
   "source": [
    "## Headings\n",
    "### The Headings starts with '#,' i.e., hash symbol followed by the space, and there are six Headings with the largest heading only using one hash symbol and the smallest titles using six hash symbols.\n",
    "\n",
    "#(Header 1, title)\n",
    "##(Header 2, major headings)\n",
    "###(Header 3, subheadings)\n",
    "####(Header 4)\n",
    "#####(Header 5)\n",
    "######(Header 6)\n",
    "\n",
    "### Alternatively, the headings can start with Markup Tags, i.e., from h1 to h6 with the following syntaxes.\n",
    "\n",
    "(h1>Header 1,title<h1)\n",
    "\n",
    "(h2>Header 2,major headings<h2)\n",
    "\n",
    "(h3>Header 3,subheadings<h3)\n",
    "\n",
    "(h4>Header 4<h4)\n",
    "\n",
    "(h5>Header 5<h5)\n",
    "\n",
    "(h6>Header 6<h6)\n",
    "\n",
    "### All '(, )' in these 6 syntaxes should be changed into '<, >' in Jupyter Notebook like this \n",
    "<h1>Header 1,title<h1>\n",
    "<h2>Header 2,major headings<h2>\n",
    "<h3>Header 3,subheadings<h3>\n",
    "<h4>Header 4<h4>\n",
    "<h5>Header 5<h5>\n",
    "<h6>Header 6<h6>\n",
    "\n",
    "### Both of the syntaxes above can render the headings from h1 to h6 after clicking the 'Run' in the toolbar."
   ]
  },
  {
   "cell_type": "markdown",
   "metadata": {},
   "source": [
    "## Blockquotes\n",
    "### Blockquotes can hold the large chunk of text and are generally indented. They can be obtained by using Markdown symbol ', >' or with blockquote text for blockquote /blockquote with '<, >'\n",
    "* )This is good\n",
    "* (blockquote)This is good(/blockquote)\n",
    "\n",
    "#### All '(, )' in both syntaxes should be changed into '<, >' like this\n",
    "* >This is good\n",
    "* <blockquote>This is good</blockquote>\n",
    "\n",
    "#### Both of the syntaxes above can render the text in indented form after clicking 'Run' in the toolbar."
   ]
  },
  {
   "cell_type": "markdown",
   "metadata": {},
   "source": [
    "## Code section\n",
    "### The Code section is the part that specifies the code of different programming languages and can be rendered where inline code starts with ' `inline code goes here` ' back-ticks around it, but the block of code starts with three back-ticks ' ``` block line code goes here ``` '. Also,the Markup tag for a Code section is ' (code)code goes here(code) '. '(, )' should be changed into '<, >'\n",
    "\n",
    "#### The inline code example is given below:\n",
    "`x =5`\n",
    "\n",
    "#### You can see after clicking \"Run\" the inline code renders with highlighting the code."
   ]
  },
  {
   "cell_type": "markdown",
   "metadata": {},
   "source": [
    "### You can see after clicking \"Run\" the inline code renders with highlighting the code.\n",
    "#### Code section examples are given below:\n",
    "* Using Markdown\n",
    "```Python\n",
    "str = \"This is block level code\"\n",
    "print(str)\n",
    "```\n",
    "* Using Markup Tags <code>Python str = \"This is a block level code\" print(str)</code>\n",
    "\n",
    "### Using Markdown, you can get the syntax highlighting of code if programming language name is mentioned after the three ticks \n",
    "\n",
    "### Using Markup tags, you will not get syntax highlighting, but code is highlighted"
   ]
  },
  {
   "cell_type": "markdown",
   "metadata": {},
   "source": [
    "## Mathematical Symbol\n",
    "### The mathematical symbol in Markdown is included in '$ mathematical expression goes here $' enclosed in a dollar symbol and in Markup you can follow this link for more detail: Mathematical Operators. You can see the example of using the mathematical symbols below.\n",
    "\n",
    "### The example \\sqrt{k} with a dollar symbol will render the mathermatical expression in a bold format\n",
    "$\\sqrt{k}$"
   ]
  },
  {
   "cell_type": "markdown",
   "metadata": {},
   "source": [
    "## Line Break\n",
    "### The line break tag starts with br tag with '<, >' and no closing tag which breaks the line, and the remaining contents begin with a new line with the example shown below.\n",
    "* The line breaks after using (br) br tags and it is awesome.\n",
    "\n",
    "### With br tag with '<, >', you can see the syntax shown below.\n",
    "* The line breaks after using <br> br tags and it is awesome."
   ]
  },
  {
   "cell_type": "markdown",
   "metadata": {},
   "source": [
    "## Bold and Italic Text\n",
    "### You can use b tags with '<, >', '**' i.e. 'double asterisk' or '__' i.e. 'double underscore' to get bold text with the following syntax.\n",
    "* <b>This is bold text</b>\n",
    "\n",
    "#### All of the syntaxes above can render bold text after clicking 'Run' in the toolbar."
   ]
  },
  {
   "cell_type": "markdown",
   "metadata": {},
   "source": [
    "### You can use i tags with '<, >', '*' i.e., single asterisk or '_' i.e., single underscore to get the italic text for the following syntax.\n",
    "\n",
    " * <i>This is italic text</i>\n",
    " \n",
    "#### All of the syntaxes above can render the italic text after clicking 'Run' in the toolbar."
   ]
  },
  {
   "cell_type": "markdown",
   "metadata": {},
   "source": [
    "## Horizontal Line\n",
    "### You can obtain a horizontal line by using Markdown '---' three hyphens or Markup tags hr tags with '<, >' like below\n",
    "---\n",
    "<hr>"
   ]
  },
  {
   "cell_type": "markdown",
   "metadata": {},
   "source": [
    "## Ordered List\n",
    "### The Ordered List is the numbered list which is obtained by starting ol tag and ending with /ol tag with '<, >' and the required item in between li and /li tags with '<, >'. The tag, i.e., 'ol,' is the short form for an ordered list and 'li' is the short form for the list item. For example, you can see the Ordered List below containing the item for the grocery list.\n",
    "(ol)\n",
    "\n",
    "(li)Fish(/li)\n",
    "\n",
    "(li)Eggs(/li)\n",
    "\n",
    "(li)Cheese(/li)\n",
    "\n",
    "(/ol)\n",
    "#### All '(, )' in syntaxes above should be changed into '<, >' like this\n",
    "<ol>\n",
    "<li>Fish</li>\n",
    "<li>Eggs</li>\n",
    "<li>Cheese</li>\n",
    "</ol>\n",
    "\n",
    "#### Alternatively, you can list by '1. ' i.e., the required number followed by space with the example given below.\n",
    "\n",
    "1. Fish\n",
    "2. Eggs\n",
    "3. Cheese\n",
    "\n",
    "#### Both of the syntaxes above can render the numbered list after clicking 'Run' in the toolbar."
   ]
  },
  {
   "cell_type": "markdown",
   "metadata": {},
   "source": [
    "## Unordered List\n",
    "### The Unordered list is a bullet list which is obtained by using the ul tag and ending with the /ul tag with '<, >', see the example below:\n",
    "(ul)\n",
    "\n",
    "(li)Fish(/li)\n",
    "\n",
    "(li)Eggs(/li)\n",
    "\n",
    "(li)Cheese(/li)\n",
    "\n",
    "(/ul)\n",
    "#### All '(, )' in syntaxes above should be changed into '<, >' like this\n",
    "<ul>\n",
    "<li>Fish</li>\n",
    "<li>Eggs</li>\n",
    "<li>Cheese</li>\n",
    "</ul>\n",
    "\n",
    "#### Alternatively, the Unordered list can start with the '-' symbol with space, which gives the black circle symbol and can also start with the '*' symbol with space, which gives the black square symbol.\n",
    "\n",
    "-   Fish\n",
    "-   Eggs\n",
    "-   Cheese\n",
    "\n",
    "#### The above example shows the bullet list contains the '-' symbol followed by space with the items which gives the black circle symbol.\n",
    "\n",
    "#### Both of the syntaxes above can render the same following result where the items in the list appear in the black circle, after clicking 'Run' in the toolbar."
   ]
  },
  {
   "cell_type": "markdown",
   "metadata": {},
   "source": [
    "## Internal and External Link\n",
    "### Internal Link in Markdown starts with a tag with '<, >' and unique id defined by the attribute 'id' which can be linked in the notebook with the example below:\n",
    "\n",
    "(a id = \"division_ID\")text goes here(/a)\n",
    "\n",
    "#### '(, )' in syntaxes above should be changed into '<, >' like this\n",
    "<a id = \"division_ID\">text goes here</a>\n",
    "\n",
    "#### Also, the id defined above can be linked to the section of the notebook by following the code which makes the link clickable.\n",
    "(Section title)(#division_ID)\n",
    "\n",
    "#### '(, )' in syntaxes above should be changed into '[, ]' like this\n",
    "[Section title](#division_ID)\n",
    "\n",
    "#### The example of the above can be seen below where the id defined is linked with the section and clickable link obtained after clicking \"Run\" in the toolbar.\n",
    "\n",
    "### External Link in Markdown starts with a and ends with a tag with '< >', i.e., a tag stands for anchor which defines the link, and it has attribute 'href' also called as hyper reference which contains the destination address of the link or URL and texts between tags is visible and is clickable to open the destination address as shown below.\n",
    "\n",
    "(a) href=\"https://www.google.com\" Link to Google(/a)\n",
    "\n",
    "#### All '(, )' in the syntax above should be changed into '<, >' like this\n",
    "<a> href=\"https://www.google.com\" Link to Google</a>\n",
    "\n",
    "#### Alternatively, it could also start with the __ [text link](URL for the site) __ with no space where the double underscore is on both sides with the text link enclosed in a square bracket and the URL for the site is enclosed in a parenthesis followed by the URL.\n",
    "\n",
    "__[Link to Google](http://www.google.com)__\n",
    "\n",
    "#### Both of the syntaxes above can render the same result below where the clickable and underlined text can lead to a new page after clicking 'Run' in the toolbar."
   ]
  },
  {
   "cell_type": "markdown",
   "metadata": {},
   "source": [
    "## Table\n",
    "### The Table contains the information in rows and columns and is built by the combination of '|' i.e. 'vertical pipe' to separate each column and '-' i.e., hyphen symbol to create the header where the blank line, i.e., a combination of vertical pipe and dashes to render the table format.\n",
    "### Also, you can vary the cells by roughly aligning with the columns, and the notebook will automatically resize the content in the given cell.\n",
    "### Alternatively, the Markdown can be used to build tables where < table > is used to define a table with its width in percentages. tr with '<, >' sets table row which gives the bold with centered text along with table heading is described by th with '<, >' is at the top of the table with the other entries in the table are set by the td with '<, >' i.e., table data tag.\n",
    "\n",
    "(table style=\"width:30%\")\n",
    "\n",
    "(tr)\n",
    "\n",
    "(th)Name(/th)\n",
    "\n",
    "(th)Address(/th)\n",
    "\n",
    "(th)Salary(/th)\n",
    "\n",
    "(/tr)\n",
    "\n",
    "(tr)\n",
    "\n",
    "(td)Hanna(/td)\n",
    "\n",
    "(td)Brisbane(/td) \n",
    "\n",
    "(td)4000(/td)\n",
    "\n",
    "(/tr)\n",
    "\n",
    "(tr)\n",
    "\n",
    "(td)Adam(/td)\n",
    "\n",
    "(td)Sydney(/td)\n",
    "\n",
    "(td)5000(/td)\n",
    "\n",
    "(/tr)\n",
    "\n",
    "(/table)\n",
    "\n",
    "#### All '(, )' in the syntax above should be changed into '<, >' like this\n",
    "<table style=\"width:30%\">\n",
    "<tr>\n",
    "<th>Name</th>\n",
    "<th>Address</th>\n",
    "<th>Salary</th>\n",
    "</tr>\n",
    "\n",
    "<tr>\n",
    "<td>Hanna</td>\n",
    "<td>Brisbane</td>\n",
    "    \n",
    "<td>4000</td>\n",
    "</tr>\n",
    "\n",
    "<tr>\n",
    "<td>Adam</td>\n",
    "<td>Sydney</td>\n",
    "<td>5000</td>\n",
    "</tr>\n",
    "</table>\n",
    "\n",
    "#### Both of the syntaxes above can render the same following result after clicking 'Run' in the toolbar."
   ]
  },
  {
   "cell_type": "markdown",
   "metadata": {},
   "source": [
    "## Images\n",
    "### You can insert an image from the toolbar by choosing the 'Insert Image' from an Edit menu and can browse the required image\n",
    "### The image can contain Markdown tag img with '<, >' and source, i.e.src as an attribute which consists the link to image with optional properties like width and height, and the example of it is below.\n",
    "(img src=\"https://i.imgur.com/WWrydEh.png\" width =500 height=500 )\n",
    "\n",
    "#### '(, )' in the syntax above should be changed into '<, >' like this\n",
    "<img src=\"https://i.imgur.com/WWrydEh.png\" width =500 height=500 >\n",
    "\n",
    "#### Both of the processes above can render the same image after clicking the 'Run' in the toolbar."
   ]
  },
  {
   "cell_type": "markdown",
   "metadata": {},
   "source": [
    "## Local files\n",
    "### If you have local files in your Notebook directory, you can refer to these files in Markdown cells directly:\n",
    "[subdirectory/] code with filename with '<, >'\n",
    "\n",
    "### and a video with the HTML5 video tag:\n",
    "(video controls src=\"../images/animation.m4v\" /)\n",
    "\n",
    "#### '(, )' in the syntax above should be changed into '<, >' like this\n",
    "<video controls src=\"../images/animation.m4v\" />"
   ]
  },
  {
   "cell_type": "markdown",
   "metadata": {},
   "source": [
    "## LaTeX equations\n",
    "### Courtesy of MathJax, you can include mathematical expressions both inline: e^iπ+1=0 and displayed:\n",
    "### Inline expressions can be added by surrounding the latex code with a dollar symbol like this\n",
    "$e^{i\\pi} + 1 = 0$\n",
    "\n",
    "### Expressions on their own line are surrounded by double dollar symbol\n",
    "$$e^x=\\sum_{i=0}^\\infty \\frac{1}{i!}x^i$$"
   ]
  },
  {
   "cell_type": "markdown",
   "metadata": {},
   "source": [
    "## Conclusion\n",
    "### In this tutorial, you have learned about different Markup tags, which is defined by Markup language and also syntax related to Markdown cells specific to the Jupyter Notebook which is used side by side along with code to describe the content more effectively.\n",
    "\n",
    "## If you would like to learn more about Markdown, have a look at __[Markdown Guide.](https://www.markdownguide.org/getting-started/)__"
   ]
  }
 ],
 "metadata": {
  "kernelspec": {
   "display_name": "Python 3",
   "language": "python",
   "name": "python3"
  },
  "language_info": {
   "codemirror_mode": {
    "name": "ipython",
    "version": 3
   },
   "file_extension": ".py",
   "mimetype": "text/x-python",
   "name": "python",
   "nbconvert_exporter": "python",
   "pygments_lexer": "ipython3",
   "version": "3.7.0"
  }
 },
 "nbformat": 4,
 "nbformat_minor": 2
}
