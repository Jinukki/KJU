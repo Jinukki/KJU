{
  "nbformat": 4,
  "nbformat_minor": 0,
  "metadata": {
    "colab": {
      "name": "PorocessDesign.ipynb",
      "provenance": [],
      "collapsed_sections": [],
      "authorship_tag": "ABX9TyNLas7eg0OcGDKoibj1Jcjo",
      "include_colab_link": true
    },
    "kernelspec": {
      "name": "python3",
      "display_name": "Python 3"
    }
  },
  "cells": [
    {
      "cell_type": "markdown",
      "metadata": {
        "id": "view-in-github",
        "colab_type": "text"
      },
      "source": [
        "<a href=\"https://colab.research.google.com/github/Jinukki/KJU/blob/master/PorocessDesign.ipynb\" target=\"_parent\"><img src=\"https://colab.research.google.com/assets/colab-badge.svg\" alt=\"Open In Colab\"/></a>"
      ]
    },
    {
      "cell_type": "markdown",
      "metadata": {
        "id": "6MxdYs30hGaa",
        "colab_type": "text"
      },
      "source": [
        "# 저유황유 제조 공정 설계\n",
        "\n",
        "> ### IMO 2020\n",
        "#### 2020년 1월 1일 부터 시행되는 국제해사기구(IMO)의 강화된 환경 규제 정책. 선박용 연료유의 황산화물 함유율을 현행 ‘3.5% 미만’에서 ‘0.5% 미만’으로 낮춘 저유황유를 쓰도록 강제하는 규제다.<br>선박용 연료유는 전체 수송용 석유 수요는 10% 미만이지만 전체 SO2 배출량의 약 90%를 차지한다. 크루즈 선박 1대가 1일 배출하는 미세먼지는 자동차 100만대 배출분에 해당한다.\n",
        "\n",
        " #### 이에 따라 선주들은 황 함량이 3.5%인 기존 고유황유(HSFO)에서 0.5% 미만인 저유황유(VLSFO)로 적합한 연료를 사용하거나, 배출가스 처리장치인 스크러버를 장착하는 등 대응이 필요해진 상황이다.<br>국내 정유 4사는 높아진 저유황유 수요를 만족시키기 위해 앞다퉈 저유황유 생산설비 투자를 늘리고 있다.<br>여기서 저유황유란, 유황성분이 1% 이하인 원료를 말한다.\n",
        "\n",
        "\n"
      ]
    },
    {
      "cell_type": "markdown",
      "metadata": {
        "id": "u6N9Dcmq3Frp",
        "colab_type": "text"
      },
      "source": [
        "> ### 저유황유 시장\n",
        "#### 최근 저유황유는 기존 선박유보다 약 30% 비싼 가격에 거래되고 있다. IMO2020 이후 저유황유 수요 증가에 따라 두 제품 간 가격 차는 더 벌어질 수 있다고 업계는 전망하고 있다.<br>영국 에너지 시장조사기관인 에너지에스펙츠는 오는 2020년 전 세계 해상 연료유 수요 하루 300만배럴 중 저유황유 점유율이 50%를 상회할 것으로 내다봤고, 향후 하루 200만배럴 규모까지 확대될 것으로 예측하였다."
      ]
    },
    {
      "cell_type": "markdown",
      "metadata": {
        "id": "8ZL2Zmko3PaL",
        "colab_type": "text"
      },
      "source": [
        "> ### 국내 정유사들의 대처\n",
        "#### 국내 정유사들은 일반 정제설비 가동시 나오는 벙커C유와 같은 잔사유를 휘발유‧등유‧경유 등 고부가가치 높은 제품을 생산하는 고도화 설비를 갖추고 있다.\n",
        "\n",
        "* SK에너지 : 감압잔사유탈황설비(VRDS, Vacuum Residue Desulfurization Unit)구축, 기존 벙커C유 등 고유황중질유를 원료로 써서 저유황 중질유, 선박용 경유 등 저유황유 생산\n",
        "\n",
        "* 현대오일뱅크 : 초임계 용매 기술 적용, 현대 스타 출시\n",
        "\n",
        "* 에쓰오일 : 잔사유 탈황설비(RHDS) 증설\n",
        "\n",
        "* GS칼텍스 : 저유황유를 액화천연가스로 대체하고 저유황유는 선박유로 판매\n"
      ]
    },
    {
      "cell_type": "markdown",
      "metadata": {
        "id": "w-_Vzy35hGUA",
        "colab_type": "text"
      },
      "source": [
        "> ### 공정도\n",
        "#### 즉, 앞에서 언급하였던 SK에너지, S-Oil, GS칼텍스, 현대 오일뱅크 등의 국내 주요 정유 회사들이 투자하고 있는 저유황유 제조 설비는 원유 증류에서 추출되는 중질유에 탈황 공정을 추가하여 저유황의 잔사유 혹은 벙커C유(BC유)를 얻어내는 것이다. 아래 그림은 SK에너지의 저유황유 생산설비인 VRDS의 과정이다.\n",
        "\n",
        "![VRDS](https://user-images.githubusercontent.com/52277776/72236762-7c8f3b80-361b-11ea-878c-d9f3a06310d3.jpg)\n",
        "\n",
        "#### <br>원유 증류에서 잔사유와 벙커C유는 중질유에 속하며, 실제 정유산업에서 아래 그림과 같은 기본 원유 증류탑 공정의 가장 하부에서 추출된다.\n",
        "\n",
        "![기본공정](https://user-images.githubusercontent.com/52277776/72236765-8022c280-361b-11ea-8459-b70abb7e6a27.gif)\n",
        "\n",
        "![논문 원유 공정](https://user-images.githubusercontent.com/52277776/72236900-e9a2d100-361b-11ea-97ab-96face72e6e4.PNG) \n",
        "\n",
        "#### <br>원유 증류 설비 중 CDU(상압증류공정)을 구체화하여 나타내면 아래 그림과 같다.\n",
        "\n",
        "![상압증류공정](https://user-images.githubusercontent.com/52277776/72237031-6635af80-361c-11ea-802b-a013328be93c.PNG)\n",
        "\n",
        "#### <br>위의 VRDS공정에서 상압잔사유를 감압증류 설비를 통해 다시 감압잔사유(VR)로 전환하여 탈황공정을 진행한다. 이는 상압중유(AR)은 비등점이 높아서 분리가 어렵기 때문인데, 압력을 낮추어 비등점을 낮추는 과정을 통해 감압경질경유, 감압중질중유 및 감압 중유를 단계적으로 생산한다.\n",
        "\n",
        "![상압에서 감압으로](https://user-images.githubusercontent.com/52277776/72237746-eb21c880-361e-11ea-8254-4081880876b3.jpg)\n",
        "\n",
        "#### <br>여기에 수소첨가탈황공정의 탈황설비를 더하여 저유황유를 얻어내는 것이다. 이렇게 액체 또는 기체로 분리된 황은 별도의 황 제품으로 중국 등으로 수출된다.\n",
        "\n",
        "#### VRDS의 핵심은 반응기이다. 일부 공장의 온도와 압력이 굉장히 높고 특히, 반응기 공정 내부의 온도는 최대 400도까지 올라가게 되며, 수심 2,000미터 아래에서 받게되는 압력이 일어난다. 고온, 고압의 공정이기 때문에 화재나 폭발 위험이 발생하지 않게끔 철저한 점검이 필요하다.\n",
        " "
      ]
    },
    {
      "cell_type": "markdown",
      "metadata": {
        "id": "30QGazNlxhzK",
        "colab_type": "text"
      },
      "source": [
        "> ### 결론\n",
        "#### 최근 컴퓨터의 발달과 정확한 공정모델링 기술 및 알고리즘의 개발 등으로 과거와 달리 시스템의 신뢰성이 향상되었고, 실제로 적용하여 성공을 거두기 시작하고 있다. 따라서 위에서 언급하였던 저유황유 제조 설비를 공정설계 프로그램을 통해 온라인 최적화를 진행하여 공정모델링, 제어기법 적용, 최적화 문제의 해결 등의 과정을 통해 설계해 볼 것이다.\n",
        "\n",
        "<br><br>\n",
        "\n",
        "##### 출처\n",
        " - 온라인최적화 참고 논문 자료 :  __[원유증류공정의 온라인 최적화](https://www.cheric.org/PDF/CIT/CI12/CI12-2-0139.pdf)__  \n",
        " - KOSHA(석유화학공정  심사기술편람), '상압원류 정제공정'\n",
        " - 'SK이노·에쓰오일 \"탈황설비 대규모 증설\"',메일경제, 2019.11.17\n",
        " - '정유업 판도 바꿀 IMO 규제 3주앞…\"한국이 저유황유시장 선점\"', 연합뉴스, 2019.12.10\n",
        " - \"IMO 2020, 우리나라 정부와 기업 대응은\", 이투뉴스, 2020.01.02\n",
        " - \"정유업계, ‘IMO 2020 훈풍’ 학수고대\", 데일리안, 2020.01.06"
      ]
    }
  ]
}