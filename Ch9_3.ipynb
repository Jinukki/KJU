{
  "nbformat": 4,
  "nbformat_minor": 0,
  "metadata": {
    "colab": {
      "name": "Ch9-3.ipynb",
      "provenance": [],
      "collapsed_sections": [],
      "include_colab_link": true
    },
    "kernelspec": {
      "name": "python3",
      "display_name": "Python 3"
    }
  },
  "cells": [
    {
      "cell_type": "markdown",
      "metadata": {
        "id": "view-in-github",
        "colab_type": "text"
      },
      "source": [
        "<a href=\"https://colab.research.google.com/github/Jinukki/KJU/blob/master/Ch9_3.ipynb\" target=\"_parent\"><img src=\"https://colab.research.google.com/assets/colab-badge.svg\" alt=\"Open In Colab\"/></a>"
      ]
    },
    {
      "cell_type": "markdown",
      "metadata": {
        "id": "VXrBA1M0IPcI",
        "colab_type": "text"
      },
      "source": [
        "# 09-3 텐서플로로 순환 신경망을 만듭니다.\n",
        "##### 이번에는 텐서플로에서 제공하는 여러 고급 기술을 활용하여 순환 신경망을 만들고 모델을 훈련시켜 보자."
      ]
    },
    {
      "cell_type": "markdown",
      "metadata": {
        "id": "OhMxrK3ZITSe",
        "colab_type": "text"
      },
      "source": [
        "---\n",
        "> ### SimpleRNN 클래스로 순환 신경망 만들기\n",
        "##### 텐서플로에서 가장 기본적인 순환층은 SimpleRNN(Recurrent Neural Networks) 클래스이다. 이번 절에서는 파이썬 클래스로 만들었던 것과 동일한 신경망을 SimpleRNN 클래스를 사용해 만들어 볼 것이다."
      ]
    },
    {
      "cell_type": "code",
      "metadata": {
        "id": "5xk5Dl-KRmBU",
        "colab_type": "code",
        "outputId": "6c11fae3-c1ae-427f-a92a-0cb0fe664f2c",
        "colab": {
          "base_uri": "https://localhost:8080/",
          "height": 107
        }
      },
      "source": [
        "try:\n",
        "\n",
        "    %tensorflow_version 2.x  # %tensorflow_version only exists in Colab\n",
        "\n",
        "except Exception:\n",
        "\n",
        "    pass"
      ],
      "execution_count": 0,
      "outputs": [
        {
          "output_type": "stream",
          "text": [
            "`%tensorflow_version` only switches the major version: `1.x` or `2.x`.\n",
            "You set: `2.x  # %tensorflow_version only exists in Colab`. This will be interpreted as: `2.x`.\n",
            "\n",
            "\n",
            "TensorFlow 2.x selected.\n"
          ],
          "name": "stdout"
        }
      ]
    },
    {
      "cell_type": "code",
      "metadata": {
        "id": "oAqEBlEvIVcH",
        "colab_type": "code",
        "outputId": "8c6c5d2d-9093-4f33-b20a-27336dba35ef",
        "colab": {
          "base_uri": "https://localhost:8080/",
          "height": 35
        }
      },
      "source": [
        "import tensorflow as tf\n",
        "tf.__version__"
      ],
      "execution_count": 0,
      "outputs": [
        {
          "output_type": "execute_result",
          "data": {
            "text/plain": [
              "'2.0.0'"
            ]
          },
          "metadata": {
            "tags": []
          },
          "execution_count": 2
        }
      ]
    },
    {
      "cell_type": "code",
      "metadata": {
        "id": "NfEGDfOOIweO",
        "colab_type": "code",
        "colab": {}
      },
      "source": [
        "from tensorflow.keras.models import Sequential\n",
        "from tensorflow.keras.layers import Dense, SimpleRNN"
      ],
      "execution_count": 0,
      "outputs": []
    },
    {
      "cell_type": "markdown",
      "metadata": {
        "id": "BbFUXWR_nXYi",
        "colab_type": "text"
      },
      "source": [
        "![15](https://user-images.githubusercontent.com/52277776/69008268-f4c6e100-098b-11ea-930f-3c414683e792.jpg)"
      ]
    },
    {
      "cell_type": "markdown",
      "metadata": {
        "id": "sGTIymesIzn8",
        "colab_type": "text"
      },
      "source": [
        "##### SimpleRNN 클래스를 사용하는 방법은 Dense 클래스와 다르지 않다. 사용할 셀의 개수를 지정하고 Sequential 모델의 첫번째 층이므로 입력 차원을 지정한다. 타임 스텝의 길이가 100이고 원-핫 인코딩 크기가 100이므로 입력 크기는 (100,100)이다. 이진 분류이므로 1개의 유닛을 가진 Dense 층을 마지막에 추가한다. 모델을 완성하고 전체 구조를 출력해 보자."
      ]
    },
    {
      "cell_type": "code",
      "metadata": {
        "id": "Ero2fY3AIxUY",
        "colab_type": "code",
        "outputId": "b15e357c-b08e-4280-97c9-fa39b2e21410",
        "colab": {
          "base_uri": "https://localhost:8080/",
          "height": 228
        }
      },
      "source": [
        "model = Sequential()\n",
        "\n",
        "model.add(SimpleRNN(32, input_shape=(100,100)))\n",
        "model.add(Dense(1,activation='sigmoid'))\n",
        "\n",
        "model.summary()"
      ],
      "execution_count": 0,
      "outputs": [
        {
          "output_type": "stream",
          "text": [
            "Model: \"sequential_1\"\n",
            "_________________________________________________________________\n",
            "Layer (type)                 Output Shape              Param #   \n",
            "=================================================================\n",
            "simple_rnn_1 (SimpleRNN)     (None, 32)                4256      \n",
            "_________________________________________________________________\n",
            "dense_1 (Dense)              (None, 1)                 33        \n",
            "=================================================================\n",
            "Total params: 4,289\n",
            "Trainable params: 4,289\n",
            "Non-trainable params: 0\n",
            "_________________________________________________________________\n"
          ],
          "name": "stdout"
        }
      ]
    },
    {
      "cell_type": "markdown",
      "metadata": {
        "id": "ZmK7Bv4iPpmn",
        "colab_type": "text"
      },
      "source": [
        "##### model.summary() 메서드를 통해 출력된 결과에서 셀(SimpleRNN)의 파라미터 개수를 확인해 보자. 입력은 원-핫 인코딩된 100차원 벡터이고 셀 개수가 32개이므로 $W_{1x}$ 행렬 요소의 개수는 100x32가 될 것이다. 또한 $W_{1h}$ 행렬의 요소 개수도 32x32가 될 것이다. 마지막으로 셀마다 하나씩 총 32개의 절편이 있다. 따라서 순환층에 필요한 전체 파라미터 개수는 4,256개이다."
      ]
    },
    {
      "cell_type": "markdown",
      "metadata": {
        "id": "JfVbSEefS7VN",
        "colab_type": "text"
      },
      "source": [
        "##### 이제 모델을 컴파일하고 IMDB 데이터 세트에 훈련시켜 보자. 가장 기본인 확률적 경사 하강법 'sgd'를 지정하고, 이진 분류이므로 손실 함수는 'binary_crossentropy'로 지정하였다."
      ]
    },
    {
      "cell_type": "code",
      "metadata": {
        "id": "c8yb68AYUSpB",
        "colab_type": "code",
        "colab": {}
      },
      "source": [
        "from tensorflow.keras.datasets import imdb\n",
        "(x_train_all, y_train_all), (x_test, y_test)=imdb.load_data(skip_top=20, num_words=100)\n",
        "\n",
        "for i in range(len(x_train_all)):\n",
        "  x_train_all[i]=[w for w in x_train_all[i] if w>2]"
      ],
      "execution_count": 0,
      "outputs": []
    },
    {
      "cell_type": "code",
      "metadata": {
        "id": "BVLIJ6LCcLpU",
        "colab_type": "code",
        "colab": {}
      },
      "source": [
        "np.random.seed(42)\n",
        "random_index=np.random.permutation(25000)\n",
        "\n",
        "x_train=x_train_all[random_index[:20000]]\n",
        "y_train=y_train_all[random_index[:20000]]\n",
        "x_val=x_train_all[random_index[20000:]]\n",
        "y_val=y_train_all[random_index[20000:]]"
      ],
      "execution_count": 0,
      "outputs": []
    },
    {
      "cell_type": "code",
      "metadata": {
        "id": "Zr6iPyeTVhTT",
        "colab_type": "code",
        "colab": {}
      },
      "source": [
        "from tensorflow.keras.preprocessing import sequence\n",
        "\n",
        "maxlen=100\n",
        "x_train_seq = sequence.pad_sequences(x_train, maxlen=maxlen)\n",
        "x_val_seq = sequence.pad_sequences(x_val, maxlen=maxlen)"
      ],
      "execution_count": 0,
      "outputs": []
    },
    {
      "cell_type": "code",
      "metadata": {
        "id": "tVrrAq_RVh3Z",
        "colab_type": "code",
        "colab": {}
      },
      "source": [
        "from tensorflow.keras.utils import to_categorical\n",
        "\n",
        "x_train_onehot = to_categorical(x_train_seq)\n",
        "x_val_onehot = to_categorical(x_val_seq)"
      ],
      "execution_count": 0,
      "outputs": []
    },
    {
      "cell_type": "code",
      "metadata": {
        "id": "sLLr6-SaO0T-",
        "colab_type": "code",
        "outputId": "b4e3d9c6-e905-4cb2-d415-17c845806648",
        "colab": {
          "base_uri": "https://localhost:8080/",
          "height": 758
        }
      },
      "source": [
        "# metrics는 훈련과 시험이 진행되는 동안 모델에 의해 평가될 metric의 리스트\n",
        "model.compile(optimizer='sgd', loss='binary_crossentropy', metrics=['accuracy'])\n",
        "\n",
        "history=model.fit(x_train_onehot, y_train, epochs=20, batch_size=32, validation_data=(x_val_onehot, y_val))"
      ],
      "execution_count": 0,
      "outputs": [
        {
          "output_type": "stream",
          "text": [
            "Train on 20000 samples, validate on 5000 samples\n",
            "Epoch 1/20\n",
            "20000/20000 [==============================] - 18s 878us/sample - loss: 0.6954 - accuracy: 0.5321 - val_loss: 0.6802 - val_accuracy: 0.5752\n",
            "Epoch 2/20\n",
            "20000/20000 [==============================] - 17s 827us/sample - loss: 0.6746 - accuracy: 0.5839 - val_loss: 0.6512 - val_accuracy: 0.6236\n",
            "Epoch 3/20\n",
            "20000/20000 [==============================] - 16s 819us/sample - loss: 0.6488 - accuracy: 0.6272 - val_loss: 0.7040 - val_accuracy: 0.5776\n",
            "Epoch 4/20\n",
            "20000/20000 [==============================] - 16s 812us/sample - loss: 0.6324 - accuracy: 0.6520 - val_loss: 0.6684 - val_accuracy: 0.5866\n",
            "Epoch 5/20\n",
            "20000/20000 [==============================] - 16s 824us/sample - loss: 0.6231 - accuracy: 0.6556 - val_loss: 0.6472 - val_accuracy: 0.6228\n",
            "Epoch 6/20\n",
            "20000/20000 [==============================] - 16s 818us/sample - loss: 0.6071 - accuracy: 0.6770 - val_loss: 0.5882 - val_accuracy: 0.6898\n",
            "Epoch 7/20\n",
            "20000/20000 [==============================] - 17s 846us/sample - loss: 0.5978 - accuracy: 0.6829 - val_loss: 0.6074 - val_accuracy: 0.6728\n",
            "Epoch 8/20\n",
            "20000/20000 [==============================] - 18s 876us/sample - loss: 0.5901 - accuracy: 0.6887 - val_loss: 0.5810 - val_accuracy: 0.6998\n",
            "Epoch 9/20\n",
            "20000/20000 [==============================] - 17s 851us/sample - loss: 0.5904 - accuracy: 0.6887 - val_loss: 0.7380 - val_accuracy: 0.5746\n",
            "Epoch 10/20\n",
            "20000/20000 [==============================] - 17s 865us/sample - loss: 0.5835 - accuracy: 0.6954 - val_loss: 0.5961 - val_accuracy: 0.6776\n",
            "Epoch 11/20\n",
            "20000/20000 [==============================] - 17s 863us/sample - loss: 0.5784 - accuracy: 0.6984 - val_loss: 0.5850 - val_accuracy: 0.6914\n",
            "Epoch 12/20\n",
            "20000/20000 [==============================] - 17s 864us/sample - loss: 0.5773 - accuracy: 0.7003 - val_loss: 0.5792 - val_accuracy: 0.6902\n",
            "Epoch 13/20\n",
            "20000/20000 [==============================] - 17s 872us/sample - loss: 0.5766 - accuracy: 0.7000 - val_loss: 0.5840 - val_accuracy: 0.6936\n",
            "Epoch 14/20\n",
            "20000/20000 [==============================] - 18s 881us/sample - loss: 0.5733 - accuracy: 0.7026 - val_loss: 0.5766 - val_accuracy: 0.7000\n",
            "Epoch 15/20\n",
            "20000/20000 [==============================] - 17s 869us/sample - loss: 0.5696 - accuracy: 0.7060 - val_loss: 0.6087 - val_accuracy: 0.6812\n",
            "Epoch 16/20\n",
            "20000/20000 [==============================] - 17s 835us/sample - loss: 0.5685 - accuracy: 0.7066 - val_loss: 0.5807 - val_accuracy: 0.6884\n",
            "Epoch 17/20\n",
            "20000/20000 [==============================] - 17s 866us/sample - loss: 0.5661 - accuracy: 0.7074 - val_loss: 0.5952 - val_accuracy: 0.6764\n",
            "Epoch 18/20\n",
            "20000/20000 [==============================] - 17s 860us/sample - loss: 0.5657 - accuracy: 0.7072 - val_loss: 0.5627 - val_accuracy: 0.7104\n",
            "Epoch 19/20\n",
            "20000/20000 [==============================] - 16s 805us/sample - loss: 0.5636 - accuracy: 0.7106 - val_loss: 0.6564 - val_accuracy: 0.6550\n",
            "Epoch 20/20\n",
            "20000/20000 [==============================] - 17s 857us/sample - loss: 0.5627 - accuracy: 0.7095 - val_loss: 0.5660 - val_accuracy: 0.7120\n"
          ],
          "name": "stdout"
        }
      ]
    },
    {
      "cell_type": "markdown",
      "metadata": {
        "id": "DQIrM6NjV3tk",
        "colab_type": "text"
      },
      "source": [
        "##### 훈련, 검증 세트에 대한 손실과 정확도를 그래프로 그려서 비교해 보자. 20번의 이포크 동안 손실과 정확도를 기록한 이 그래프에서 조금씩 과대 적합되는 현상이 보인다."
      ]
    },
    {
      "cell_type": "code",
      "metadata": {
        "id": "43A7g73cWE1I",
        "colab_type": "code",
        "outputId": "e7f6ca15-2054-4645-fb41-f4c63962c769",
        "colab": {
          "base_uri": "https://localhost:8080/",
          "height": 265
        }
      },
      "source": [
        "import matplotlib.pyplot as plt\n",
        "plt.plot(history.history['loss'], color='red')\n",
        "plt.plot(history.history['val_loss'], color='green')\n",
        "plt.show()"
      ],
      "execution_count": 0,
      "outputs": [
        {
          "output_type": "display_data",
          "data": {
            "image/png": "[encoded data removed]",
            "text/plain": [
              "<Figure size 432x288 with 1 Axes>"
            ]
          },
          "metadata": {
            "tags": []
          }
        }
      ]
    },
    {
      "cell_type": "code",
      "metadata": {
        "id": "7o41aDBvWOB4",
        "colab_type": "code",
        "outputId": "3dc24be0-0896-45af-e0b3-f25879a4ec1b",
        "colab": {
          "base_uri": "https://localhost:8080/",
          "height": 265
        }
      },
      "source": [
        "plt.plot(history.history['accuracy'], color='red')\n",
        "plt.plot(history.history['val_accuracy'], color='green')\n",
        "plt.show()"
      ],
      "execution_count": 0,
      "outputs": [
        {
          "output_type": "display_data",
          "data": {
            "image/png": "[encoded data removed]",
            "text/plain": [
              "<Figure size 432x288 with 1 Axes>"
            ]
          },
          "metadata": {
            "tags": []
          }
        }
      ]
    },
    {
      "cell_type": "markdown",
      "metadata": {
        "id": "Afz-UnieXOHO",
        "colab_type": "text"
      },
      "source": [
        "#### 검증 세트에 대한 정확도를 평가해 보자."
      ]
    },
    {
      "cell_type": "code",
      "metadata": {
        "id": "StEB8eQtT30U",
        "colab_type": "code",
        "outputId": "e295e155-a35c-4ecd-e220-00c6dcbc0932",
        "colab": {
          "base_uri": "https://localhost:8080/",
          "height": 34
        }
      },
      "source": [
        "# verbose는 keras 학습 단계에서 진행 상태를 어떻게 표시할 것인지 설정\n",
        "# (0이면 표시 안함, 1이면 진행 막대 표시, 2이면 에폭당 1개 줄 표시)\n",
        "loss, accuracy = model.evaluate(x_val_onehot, y_val, verbose=0)\n",
        "print(accuracy) # 대략 70%의 정확도를 보임"
      ],
      "execution_count": 0,
      "outputs": [
        {
          "output_type": "stream",
          "text": [
            "0.712\n"
          ],
          "name": "stdout"
        }
      ]
    },
    {
      "cell_type": "markdown",
      "metadata": {
        "id": "plt2ysLKXhpQ",
        "colab_type": "text"
      },
      "source": [
        "---\n",
        "> ### 임베딩층으로 순환 신경망 모델 성능 높이기\n",
        "##### 앞에서 만들었던 순환 신경망의 가장 큰 단점 중 하나는 텍스트 데이터를 원-핫 인코딩으로 전처리한다는 것이다. 원-핫 인코딩을 사용하면 입력 데이터 크기와 사용할 수 있는 단어의 수가 제한된다는 문제가 있다. 또 원-핫 인코딩은 '단어 사이에는 관련이 전혀 없다'는 가정이 전제되어야 한다. 예를 들어 단어 boy와 girl의 관계는 밀접한 편이지만 원-핫 인코딩은 이런 단어 사이의 관계를 잘 표현하지 못한다.\n",
        "\n",
        "![16](https://user-images.githubusercontent.com/52277776/69008269-f7293b00-098b-11ea-8e9d-e1a346105bcb.jpg)\n",
        "\n",
        "##### 이런 문제를 해결하기 위해 고안된 것이 단어 임베딩(word embedding)이다. 단어 임베딩은 그림처럼 단어를 고정된 길이의 실수 벡터로 임베딩한다.\n",
        "\n",
        "![17](https://user-images.githubusercontent.com/52277776/69008270-f98b9500-098b-11ea-9ea4-92857f79ed39.jpg)\n",
        "\n",
        "##### 단어 임베딩은 모델을 훈련하면서 같이 훈련되므로 훈련이 진행될수록 단어의 연관 관계를 더 정확하게 찾을 수 있다."
      ]
    },
    {
      "cell_type": "code",
      "metadata": {
        "id": "hOKKQDOcZZ9J",
        "colab_type": "code",
        "colab": {}
      },
      "source": [
        "from tensorflow.keras.layers import Embedding"
      ],
      "execution_count": 0,
      "outputs": []
    },
    {
      "cell_type": "markdown",
      "metadata": {
        "id": "cvQASc7abf6n",
        "colab_type": "text"
      },
      "source": [
        "##### 이번에는 IMDB 데이터에서 1000개의 단어를 사용한다. 단어 임베딩은 단어를 표현하는 벡터의 크기를 임의로 지정할 수 있으므로 사용하는 단어의 개수에 영향을 받지 않는다."
      ]
    },
    {
      "cell_type": "code",
      "metadata": {
        "id": "Wg9Sf1PSZfXE",
        "colab_type": "code",
        "colab": {}
      },
      "source": [
        "(x_train_all, y_train_all), (x_test, y_test)=imdb.load_data(skip_top=20, num_words=1000)\n",
        "\n",
        "for i in range(len(x_train_all)):\n",
        "  x_train_all[i]=[w for w in x_train_all[i] if w>2]\n",
        "\n",
        "x_train=x_train_all[random_index[:20000]]\n",
        "y_train=y_train_all[random_index[:20000]]\n",
        "x_val=x_train_all[random_index[20000:]]\n",
        "y_val=y_train_all[random_index[20000:]]"
      ],
      "execution_count": 0,
      "outputs": []
    },
    {
      "cell_type": "code",
      "metadata": {
        "id": "Z07pYDYDZ6UP",
        "colab_type": "code",
        "colab": {}
      },
      "source": [
        "maxlen=100  # 타임 스텝의 크기가 100인 시퀀스 데이터 만들기\n",
        "x_train_seq = sequence.pad_sequences(x_train, maxlen=maxlen)\n",
        "x_val_seq = sequence.pad_sequences(x_val, maxlen=maxlen)"
      ],
      "execution_count": 0,
      "outputs": []
    },
    {
      "cell_type": "markdown",
      "metadata": {
        "id": "i5djiERHcbQF",
        "colab_type": "text"
      },
      "source": [
        "##### 원-핫 인코딩된 벡터의 길이는 100이었지만 단어 임베딩에서는 길이를 32로 줄일 것이다. Embedding 클래스에 입력한 매개변수는 단어 개수와 출력 길이이다. 또한 SimpleRNN의 셀 개수를 8개로 크게 줄일 것이다. 임베딩층의 성능이 뛰어나기 때문에 셀 개수가 적어도 만족할 만한 성능을 얻을 수 있을 것이다."
      ]
    },
    {
      "cell_type": "code",
      "metadata": {
        "id": "985MP3UjcZyK",
        "colab_type": "code",
        "outputId": "9e83f31b-99c2-4d0c-f347-0694d94f4f3a",
        "colab": {
          "base_uri": "https://localhost:8080/",
          "height": 263
        }
      },
      "source": [
        "model_ebd = Sequential()\n",
        "model_ebd.add(Embedding(1000, 32))\n",
        "model_ebd.add(SimpleRNN(8))\n",
        "model_ebd.add(Dense(1, activation='sigmoid'))\n",
        "\n",
        "model_ebd.summary()"
      ],
      "execution_count": 0,
      "outputs": [
        {
          "output_type": "stream",
          "text": [
            "Model: \"sequential_4\"\n",
            "_________________________________________________________________\n",
            "Layer (type)                 Output Shape              Param #   \n",
            "=================================================================\n",
            "embedding_2 (Embedding)      (None, None, 32)          32000     \n",
            "_________________________________________________________________\n",
            "simple_rnn_3 (SimpleRNN)     (None, 8)                 328       \n",
            "_________________________________________________________________\n",
            "dense_3 (Dense)              (None, 1)                 9         \n",
            "=================================================================\n",
            "Total params: 32,337\n",
            "Trainable params: 32,337\n",
            "Non-trainable params: 0\n",
            "_________________________________________________________________\n"
          ],
          "name": "stdout"
        }
      ]
    },
    {
      "cell_type": "markdown",
      "metadata": {
        "id": "y48W9wfvelbZ",
        "colab_type": "text"
      },
      "source": [
        "##### 훈련 과정은 이전과 동일하다. 여기에서는 08장에서 사용하였던 Adam 최적화 알고리즘을 사용하고 10번의 에포크만 훈련한다."
      ]
    },
    {
      "cell_type": "code",
      "metadata": {
        "id": "KnW8yEBFc3TP",
        "colab_type": "code",
        "outputId": "f33b0358-6fc7-4d46-b713-a168d785a044",
        "colab": {
          "base_uri": "https://localhost:8080/",
          "height": 406
        }
      },
      "source": [
        "model_ebd.compile(optimizer='adam', loss='binary_crossentropy', metrics=['accuracy'])\n",
        "\n",
        "history=model_ebd.fit(x_train_seq, y_train, epochs=10, batch_size=32, validation_data=(x_val_seq, y_val))"
      ],
      "execution_count": 0,
      "outputs": [
        {
          "output_type": "stream",
          "text": [
            "Train on 20000 samples, validate on 5000 samples\n",
            "Epoch 1/10\n",
            "20000/20000 [==============================] - 17s 828us/sample - loss: 0.5616 - accuracy: 0.6949 - val_loss: 0.4596 - val_accuracy: 0.7932\n",
            "Epoch 2/10\n",
            "20000/20000 [==============================] - 15s 752us/sample - loss: 0.4082 - accuracy: 0.8260 - val_loss: 0.4283 - val_accuracy: 0.8114\n",
            "Epoch 3/10\n",
            "20000/20000 [==============================] - 15s 763us/sample - loss: 0.3758 - accuracy: 0.8418 - val_loss: 0.4300 - val_accuracy: 0.7996\n",
            "Epoch 4/10\n",
            "20000/20000 [==============================] - 15s 761us/sample - loss: 0.3598 - accuracy: 0.8514 - val_loss: 0.4231 - val_accuracy: 0.8114\n",
            "Epoch 5/10\n",
            "20000/20000 [==============================] - 15s 759us/sample - loss: 0.3304 - accuracy: 0.8643 - val_loss: 0.4536 - val_accuracy: 0.7834\n",
            "Epoch 6/10\n",
            "20000/20000 [==============================] - 14s 719us/sample - loss: 0.3046 - accuracy: 0.8760 - val_loss: 0.4391 - val_accuracy: 0.8190\n",
            "Epoch 7/10\n",
            "20000/20000 [==============================] - 14s 715us/sample - loss: 0.2843 - accuracy: 0.8867 - val_loss: 0.4675 - val_accuracy: 0.8148\n",
            "Epoch 8/10\n",
            "20000/20000 [==============================] - 14s 717us/sample - loss: 0.2636 - accuracy: 0.8953 - val_loss: 0.4717 - val_accuracy: 0.8106\n",
            "Epoch 9/10\n",
            "20000/20000 [==============================] - 15s 729us/sample - loss: 0.2542 - accuracy: 0.9018 - val_loss: 0.5046 - val_accuracy: 0.8042\n",
            "Epoch 10/10\n",
            "20000/20000 [==============================] - 14s 681us/sample - loss: 0.2360 - accuracy: 0.9085 - val_loss: 0.4912 - val_accuracy: 0.8116\n"
          ],
          "name": "stdout"
        }
      ]
    },
    {
      "cell_type": "markdown",
      "metadata": {
        "id": "Rt-OTCiTfBkX",
        "colab_type": "text"
      },
      "source": [
        "##### 손실과 정확도를 그래프로 그려보자.<br> 훈련 초기에 이미 성능이 향상되어 에포크가 진행됨에 따라 다소 과대적합되는 모습을 보인다."
      ]
    },
    {
      "cell_type": "code",
      "metadata": {
        "id": "I0u-GtazeWJ9",
        "colab_type": "code",
        "outputId": "71115645-7424-4d5e-fb8e-703cb009fa33",
        "colab": {
          "base_uri": "https://localhost:8080/",
          "height": 265
        }
      },
      "source": [
        "plt.plot(history.history['loss'], color='red')\n",
        "plt.plot(history.history['val_loss'], color='green')\n",
        "plt.show()"
      ],
      "execution_count": 0,
      "outputs": [
        {
          "output_type": "display_data",
          "data": {
            "image/png": "[encoded data removed]",
            "text/plain": [
              "<Figure size 432x288 with 1 Axes>"
            ]
          },
          "metadata": {
            "tags": []
          }
        }
      ]
    },
    {
      "cell_type": "code",
      "metadata": {
        "id": "CuVne4_afJt6",
        "colab_type": "code",
        "outputId": "ec38d8fc-1ce1-48d0-dc8b-66e324b3067a",
        "colab": {
          "base_uri": "https://localhost:8080/",
          "height": 265
        }
      },
      "source": [
        "plt.plot(history.history['accuracy'], color='red')\n",
        "plt.plot(history.history['val_accuracy'], color='green')\n",
        "plt.show()"
      ],
      "execution_count": 0,
      "outputs": [
        {
          "output_type": "display_data",
          "data": {
            "image/png": "[encoded data removed]",
            "text/plain": [
              "<Figure size 432x288 with 1 Axes>"
            ]
          },
          "metadata": {
            "tags": []
          }
        }
      ]
    },
    {
      "cell_type": "markdown",
      "metadata": {
        "id": "ff0UfztSfrv2",
        "colab_type": "text"
      },
      "source": [
        "##### 검증 세트의 정확도를 평가해 보자."
      ]
    },
    {
      "cell_type": "code",
      "metadata": {
        "id": "_7sst1N-fMTP",
        "colab_type": "code",
        "outputId": "77e5dbc2-7df5-40a4-fd25-d1fb433fdbae",
        "colab": {
          "base_uri": "https://localhost:8080/",
          "height": 34
        }
      },
      "source": [
        "loss, accuracy = model_ebd.evaluate(x_val_seq, y_val, verbose=0)\n",
        "print(accuracy) # 정확도 향상"
      ],
      "execution_count": 0,
      "outputs": [
        {
          "output_type": "stream",
          "text": [
            "0.8116\n"
          ],
          "name": "stdout"
        }
      ]
    },
    {
      "cell_type": "markdown",
      "metadata": {
        "id": "6-X6DE2kf9NU",
        "colab_type": "text"
      },
      "source": [
        "##### 원-핫 인코딩을 사용하지 않아 메모리 사용이 절감되었고 적은 셀 개수에서도 더 높은 성능을 나타내었다. 이렇게 단어 임베딩은 효율적이고 성능이 뛰어나기 때문에 순환 신경망에서 텍스트 처리를 할 때 임베딩 층이 기본으로 사용된다.\n",
        "<br>\n",
        "\n",
        "##### 지금까지 텐서플로를 이용하여 순환 신경망을 구현하고 모델을 훈련시켜보았다. SimpleRNN 클래스와 임베딩 층을 사용하니 텍스트 데이터를 조금 더 효율적으로 처리할 수 있었다. 마지막으로 LSTM 순환 신경망을 통해 텍스트를 더 잘 분류하는 모델을 만들어보자."
      ]
    }
  ]
}