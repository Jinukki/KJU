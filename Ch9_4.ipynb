{
  "nbformat": 4,
  "nbformat_minor": 0,
  "metadata": {
    "colab": {
      "name": "Ch9-4.ipynb",
      "provenance": [],
      "collapsed_sections": [],
      "include_colab_link": true
    },
    "kernelspec": {
      "name": "python3",
      "display_name": "Python 3"
    }
  },
  "cells": [
    {
      "cell_type": "markdown",
      "metadata": {
        "id": "view-in-github",
        "colab_type": "text"
      },
      "source": [
        "<a href=\"https://colab.research.google.com/github/Jinukki/KJU/blob/master/Ch9_4.ipynb\" target=\"_parent\"><img src=\"https://colab.research.google.com/assets/colab-badge.svg\" alt=\"Open In Colab\"/></a>"
      ]
    },
    {
      "cell_type": "markdown",
      "metadata": {
        "id": "fs8L2h3JtlYq",
        "colab_type": "text"
      },
      "source": [
        "# 09-4 LSTM 순환 신경망을 만들고 텍스트를 분류합니다.\n",
        "\n",
        "##### 앞에서 그레디언트가 전파될 때 가중치가 반복하여 곱해지므로 그레디언트가 크게 증가 혹은 감소한다고 하였다. 이를 해결하기 위해 가장 간단한 방법인 TSBTT를 구현하였는데 이 방법은 그레디언트가 타임 스텝 끝까지 전파되지 않으므로 타임 스텝이 멀리 떨어진 영단어 사이의 관계를 파악하기 어렵다. 이런 경우 좀 더 긴 타임 스텝 데이터를 처리하는 LSTM(LongShort-Term Memory) 순환 신경망을 사용한다."
      ]
    },
    {
      "cell_type": "code",
      "metadata": {
        "id": "ZOQlLTfAtkjr",
        "colab_type": "code",
        "outputId": "e0cfd7e1-e1f5-4b55-e992-9071471e09dc",
        "colab": {
          "base_uri": "https://localhost:8080/",
          "height": 406
        }
      },
      "source": [
        "!pip install tensorflow_gpu==2.0.0-rc1"
      ],
      "execution_count": 0,
      "outputs": [
        {
          "output_type": "stream",
          "text": [
            "Requirement already satisfied: tensorflow_gpu==2.0.0-rc1 in /usr/local/lib/python3.6/dist-packages (2.0.0rc1)\n",
            "Requirement already satisfied: tf-estimator-nightly<1.14.0.dev2019080602,>=1.14.0.dev2019080601 in /usr/local/lib/python3.6/dist-packages (from tensorflow_gpu==2.0.0-rc1) (1.14.0.dev2019080601)\n",
            "Requirement already satisfied: wheel>=0.26 in /usr/local/lib/python3.6/dist-packages (from tensorflow_gpu==2.0.0-rc1) (0.33.6)\n",
            "Requirement already satisfied: astor>=0.6.0 in /usr/local/lib/python3.6/dist-packages (from tensorflow_gpu==2.0.0-rc1) (0.8.0)\n",
            "Requirement already satisfied: gast>=0.2.0 in /usr/local/lib/python3.6/dist-packages (from tensorflow_gpu==2.0.0-rc1) (0.2.2)\n",
            "Requirement already satisfied: numpy<2.0,>=1.16.0 in /usr/local/lib/python3.6/dist-packages (from tensorflow_gpu==2.0.0-rc1) (1.17.4)\n",
            "Requirement already satisfied: google-pasta>=0.1.6 in /usr/local/lib/python3.6/dist-packages (from tensorflow_gpu==2.0.0-rc1) (0.1.8)\n",
            "Requirement already satisfied: termcolor>=1.1.0 in /usr/local/lib/python3.6/dist-packages (from tensorflow_gpu==2.0.0-rc1) (1.1.0)\n",
            "Requirement already satisfied: keras-applications>=1.0.8 in /usr/local/lib/python3.6/dist-packages (from tensorflow_gpu==2.0.0-rc1) (1.0.8)\n",
            "Requirement already satisfied: keras-preprocessing>=1.0.5 in /usr/local/lib/python3.6/dist-packages (from tensorflow_gpu==2.0.0-rc1) (1.1.0)\n",
            "Requirement already satisfied: six>=1.10.0 in /usr/local/lib/python3.6/dist-packages (from tensorflow_gpu==2.0.0-rc1) (1.12.0)\n",
            "Requirement already satisfied: protobuf>=3.6.1 in /usr/local/lib/python3.6/dist-packages (from tensorflow_gpu==2.0.0-rc1) (3.10.0)\n",
            "Requirement already satisfied: tb-nightly<1.15.0a20190807,>=1.15.0a20190806 in /usr/local/lib/python3.6/dist-packages (from tensorflow_gpu==2.0.0-rc1) (1.15.0a20190806)\n",
            "Requirement already satisfied: grpcio>=1.8.6 in /usr/local/lib/python3.6/dist-packages (from tensorflow_gpu==2.0.0-rc1) (1.15.0)\n",
            "Requirement already satisfied: absl-py>=0.7.0 in /usr/local/lib/python3.6/dist-packages (from tensorflow_gpu==2.0.0-rc1) (0.8.1)\n",
            "Requirement already satisfied: wrapt>=1.11.1 in /usr/local/lib/python3.6/dist-packages (from tensorflow_gpu==2.0.0-rc1) (1.11.2)\n",
            "Requirement already satisfied: opt-einsum>=2.3.2 in /usr/local/lib/python3.6/dist-packages (from tensorflow_gpu==2.0.0-rc1) (3.1.0)\n",
            "Requirement already satisfied: h5py in /usr/local/lib/python3.6/dist-packages (from keras-applications>=1.0.8->tensorflow_gpu==2.0.0-rc1) (2.8.0)\n",
            "Requirement already satisfied: setuptools in /usr/local/lib/python3.6/dist-packages (from protobuf>=3.6.1->tensorflow_gpu==2.0.0-rc1) (41.4.0)\n",
            "Requirement already satisfied: markdown>=2.6.8 in /usr/local/lib/python3.6/dist-packages (from tb-nightly<1.15.0a20190807,>=1.15.0a20190806->tensorflow_gpu==2.0.0-rc1) (3.1.1)\n",
            "Requirement already satisfied: werkzeug>=0.11.15 in /usr/local/lib/python3.6/dist-packages (from tb-nightly<1.15.0a20190807,>=1.15.0a20190806->tensorflow_gpu==2.0.0-rc1) (0.16.0)\n"
          ],
          "name": "stdout"
        }
      ]
    },
    {
      "cell_type": "code",
      "metadata": {
        "id": "louO_Q-6tpKw",
        "colab_type": "code",
        "outputId": "befdf072-c465-4192-a790-851208828144",
        "colab": {
          "base_uri": "https://localhost:8080/",
          "height": 34
        }
      },
      "source": [
        "import tensorflow as tf\n",
        "tf.__version__"
      ],
      "execution_count": 0,
      "outputs": [
        {
          "output_type": "execute_result",
          "data": {
            "text/plain": [
              "'2.0.0-rc1'"
            ]
          },
          "metadata": {
            "tags": []
          },
          "execution_count": 31
        }
      ]
    },
    {
      "cell_type": "markdown",
      "metadata": {
        "id": "vgQx2th2uHYL",
        "colab_type": "text"
      },
      "source": [
        "---\n",
        "> ### LSTM 셀의 구조를 알아봅시다.\n",
        "##### 기본 순환 신경망과 달리 2개의 출력이 순환되는데 그 중 하나만 다음 층으로 전달된다. 셀로 순환만 되는 출력을 셀 상태(C)라고 부른다.\n",
        "\n",
        "![18](https://user-images.githubusercontent.com/52277776/69024434-12389100-0a06-11ea-8232-9db47805a80f.jpg)\n",
        "\n",
        "##### LSTM 셀에서 이전 타임 스텝의 은닉상태 $H_p$와 셀 상태 $C_p$를 사용해 어떤 계산을 수행하는지 셀을 크게 확대하여 그려보자.\n",
        "\n",
        "![19](https://user-images.githubusercontent.com/52277776/69024436-149aeb00-0a06-11ea-849a-37c38fe37d8b.jpg)\n",
        "\n",
        "##### s, t는 각각 시그모이드와 tanh 활성화 함수를 의미한다. x 및 + 는 각각 원소별 곱셈과 덧셈을 의미한다. 맨 아래쪽을 보면 $H_{p}$와 $X$가 가중치와 곱해져 아래 예와 같이 $Z_{f},Z_{i},Z_{j},Z_{o}$를 만든다.\n",
        "<br>\n",
        "$$Z_{f}=XW_{xf}+H_{p}W_{hf}+b_f$$<br>\n",
        "\n",
        "##### 각각의 $Z$항은 모두 다른 가중치, 즉 $W_{xi},W_{hi},b_{i},W_{xj},W_{hj},b_{j},W_{xo},W_{ho},b_{o}$ 를 사용하여 계산한다. 계산 후 각 $Z$에 시그모이드나 tanh 활성화 함수를 적용한 뒤 요소별 곱셈을 통한 계산과정을 진행한다. 이 과정을 나타내는 전체 공식은 다음과 같다.\n",
        "<br>\n",
        "$$F=C_{p}\\times sigmoid(Z_{f})$$\n",
        "$$I=sigmoid(Z_{i})\\times tanh(Z_{j})$$\n",
        "$$C=F+I$$\n",
        "$$H=tanh(C)\\times sigmoid(Z_{o})$$<br>\n",
        "\n",
        "##### F계산식이 이전 셀 상태의 내용을 삭제하는 역할을 한다고 하여 삭제 게이트(forget gate)라고 부른다. I계산식은 새로운 정보를 추가하는 역할이라는 뜻에서 입력 게이트(input gate)라고 부른다. 마지막 H를 계산하는 식을 출력 게이트(output gate)라고 부른다. 하지만 게이트의 역할은 데이터 세트나 상황에 따라 달라질 수 있다. 이처럼 LSTM 셀은 꽤 복잡한 구조이지만 텐서플로를 통해 간단히 구현 가능하다."
      ]
    },
    {
      "cell_type": "markdown",
      "metadata": {
        "id": "FiuVkUX-1nkx",
        "colab_type": "text"
      },
      "source": [
        "---\n",
        "> ### 텐서플로로 LSTM 순환 신경망 만들기\n",
        "##### 09-3절에서 이용한 SimpleRNN 클래스를 LSTM 클래스로 바꾸기만 하면 LSTM 순환 신경망을 만들 수 있다.\n",
        "\n",
        "##### 먼저 LSTM 클래스를 임포트하고 임베딩층을 포함하여 LSTM 순환 신경망을 만든다."
      ]
    },
    {
      "cell_type": "code",
      "metadata": {
        "id": "NPqjzHmCuE1e",
        "colab_type": "code",
        "outputId": "f6d72121-fff8-48f6-f48f-29bf77a8ee0b",
        "colab": {
          "base_uri": "https://localhost:8080/",
          "height": 263
        }
      },
      "source": [
        "from tensorflow.keras.models import Sequential\n",
        "from tensorflow.keras.layers import Embedding\n",
        "from tensorflow.keras.layers import Dense\n",
        "from tensorflow.keras.layers import LSTM\n",
        "\n",
        "model_lstm = Sequential()\n",
        "\n",
        "model_lstm.add(Embedding(1000,32))\n",
        "model_lstm.add(LSTM(8))\n",
        "model_lstm.add(Dense(1, activation='sigmoid'))\n",
        "\n",
        "model_lstm.summary()"
      ],
      "execution_count": 0,
      "outputs": [
        {
          "output_type": "stream",
          "text": [
            "Model: \"sequential_3\"\n",
            "_________________________________________________________________\n",
            "Layer (type)                 Output Shape              Param #   \n",
            "=================================================================\n",
            "embedding_2 (Embedding)      (None, None, 32)          32000     \n",
            "_________________________________________________________________\n",
            "lstm_2 (LSTM)                (None, 8)                 1312      \n",
            "_________________________________________________________________\n",
            "dense_1 (Dense)              (None, 1)                 9         \n",
            "=================================================================\n",
            "Total params: 33,321\n",
            "Trainable params: 33,321\n",
            "Non-trainable params: 0\n",
            "_________________________________________________________________\n"
          ],
          "name": "stdout"
        }
      ]
    },
    {
      "cell_type": "markdown",
      "metadata": {
        "id": "oYWNYver4bx0",
        "colab_type": "text"
      },
      "source": [
        "##### 여기에서도 10번의 에포크 동안 Adam 최적화 알고리즘을 사용하여 모델을 훈련하자."
      ]
    },
    {
      "cell_type": "code",
      "metadata": {
        "id": "9LK8imQt6MNr",
        "colab_type": "code",
        "colab": {}
      },
      "source": [
        "from tensorflow.keras.datasets import imdb\n",
        "(x_train_all, y_train_all), (x_test, y_test)=imdb.load_data(skip_top=20, num_words=1000)\n",
        "# 앞과 마찬가지로 단어 1000개\n",
        "\n",
        "for i in range(len(x_train_all)):\n",
        "  x_train_all[i]=[w for w in x_train_all[i] if w>2]\n",
        "\n",
        "import numpy as np\n",
        "np.random.seed(42)\n",
        "random_index=np.random.permutation(25000)\n",
        "\n",
        "x_train=x_train_all[random_index[:20000]]\n",
        "y_train=y_train_all[random_index[:20000]]\n",
        "x_val=x_train_all[random_index[20000:]]\n",
        "y_val=y_train_all[random_index[20000:]]\n",
        "\n"
      ],
      "execution_count": 0,
      "outputs": []
    },
    {
      "cell_type": "code",
      "metadata": {
        "id": "GsvvmK3b92CN",
        "colab_type": "code",
        "colab": {}
      },
      "source": [
        "from tensorflow.keras.preprocessing import sequence\n",
        "\n",
        "maxlen=100\n",
        "x_train_seq = sequence.pad_sequences(x_train, maxlen=maxlen)\n",
        "x_val_seq = sequence.pad_sequences(x_val, maxlen=maxlen)"
      ],
      "execution_count": 0,
      "outputs": []
    },
    {
      "cell_type": "code",
      "metadata": {
        "id": "jDvh65mY2rZY",
        "colab_type": "code",
        "outputId": "f5a03b33-1ee8-463b-d30f-11c1cb4b64d6",
        "colab": {
          "base_uri": "https://localhost:8080/",
          "height": 406
        }
      },
      "source": [
        "model_lstm.compile(optimizer='adam', loss='binary_crossentropy', metrics=['accuracy'])\n",
        "# 원-핫 인코딩 적용하지 않음\n",
        "history=model_lstm.fit(x_train_seq, y_train, epochs=10, batch_size=32, validation_data=(x_val_seq, y_val))"
      ],
      "execution_count": 0,
      "outputs": [
        {
          "output_type": "stream",
          "text": [
            "Train on 20000 samples, validate on 5000 samples\n",
            "Epoch 1/10\n",
            "20000/20000 [==============================] - 27s 1ms/sample - loss: 0.4440 - accuracy: 0.7940 - val_loss: 0.3720 - val_accuracy: 0.8406\n",
            "Epoch 2/10\n",
            "20000/20000 [==============================] - 25s 1ms/sample - loss: 0.3371 - accuracy: 0.8578 - val_loss: 0.3604 - val_accuracy: 0.8392\n",
            "Epoch 3/10\n",
            "20000/20000 [==============================] - 24s 1ms/sample - loss: 0.3168 - accuracy: 0.8683 - val_loss: 0.3634 - val_accuracy: 0.8410\n",
            "Epoch 4/10\n",
            "20000/20000 [==============================] - 25s 1ms/sample - loss: 0.3040 - accuracy: 0.8711 - val_loss: 0.3622 - val_accuracy: 0.8386\n",
            "Epoch 5/10\n",
            "20000/20000 [==============================] - 25s 1ms/sample - loss: 0.2928 - accuracy: 0.8774 - val_loss: 0.3735 - val_accuracy: 0.8420\n",
            "Epoch 6/10\n",
            "20000/20000 [==============================] - 24s 1ms/sample - loss: 0.2805 - accuracy: 0.8839 - val_loss: 0.3737 - val_accuracy: 0.8406\n",
            "Epoch 7/10\n",
            "20000/20000 [==============================] - 25s 1ms/sample - loss: 0.2685 - accuracy: 0.8877 - val_loss: 0.3919 - val_accuracy: 0.8350\n",
            "Epoch 8/10\n",
            "20000/20000 [==============================] - 25s 1ms/sample - loss: 0.2555 - accuracy: 0.8922 - val_loss: 0.4084 - val_accuracy: 0.8320\n",
            "Epoch 9/10\n",
            "20000/20000 [==============================] - 24s 1ms/sample - loss: 0.2464 - accuracy: 0.8965 - val_loss: 0.4074 - val_accuracy: 0.8384\n",
            "Epoch 10/10\n",
            "20000/20000 [==============================] - 24s 1ms/sample - loss: 0.2359 - accuracy: 0.9015 - val_loss: 0.4069 - val_accuracy: 0.8374\n"
          ],
          "name": "stdout"
        }
      ]
    },
    {
      "cell_type": "markdown",
      "metadata": {
        "id": "W3aUxpwZ_ro_",
        "colab_type": "text"
      },
      "source": [
        "##### 손실과 정확도를 그래프로 그려보자"
      ]
    },
    {
      "cell_type": "code",
      "metadata": {
        "id": "gPjpyvg86FYH",
        "colab_type": "code",
        "outputId": "45193153-b51b-480b-d6ea-5f0f7ad2a0b3",
        "colab": {
          "base_uri": "https://localhost:8080/",
          "height": 265
        }
      },
      "source": [
        "import matplotlib.pyplot as plt\n",
        "plt.plot(history.history['loss'], color='red')\n",
        "plt.plot(history.history['val_loss'], color='green')\n",
        "plt.show()"
      ],
      "execution_count": 0,
      "outputs": [
        {
          "output_type": "display_data",
          "data": {
            "image/png": "[encoded data removed]",
            "text/plain": [
              "<Figure size 432x288 with 1 Axes>"
            ]
          },
          "metadata": {
            "tags": []
          }
        }
      ]
    },
    {
      "cell_type": "code",
      "metadata": {
        "id": "UzvIas7O6ez8",
        "colab_type": "code",
        "outputId": "73d31941-4166-4bbd-9cb9-81e88050baf1",
        "colab": {
          "base_uri": "https://localhost:8080/",
          "height": 265
        }
      },
      "source": [
        "plt.plot(history.history['accuracy'], color='red')\n",
        "plt.plot(history.history['val_accuracy'], color='green')\n",
        "plt.show()"
      ],
      "execution_count": 0,
      "outputs": [
        {
          "output_type": "display_data",
          "data": {
            "image/png": "[encoded data removed]",
            "text/plain": [
              "<Figure size 432x288 with 1 Axes>"
            ]
          },
          "metadata": {
            "tags": []
          }
        }
      ]
    },
    {
      "cell_type": "markdown",
      "metadata": {
        "id": "F5-NTqmk_RFV",
        "colab_type": "text"
      },
      "source": [
        "##### 검증 세트의 정확도를 평가해 보자. 성능이 더 향상된 것을 확인할 수 있다."
      ]
    },
    {
      "cell_type": "code",
      "metadata": {
        "id": "jYV-VrPR7RLb",
        "colab_type": "code",
        "outputId": "fd51d55e-c40a-445f-f8d0-4c0efce2bc97",
        "colab": {
          "base_uri": "https://localhost:8080/",
          "height": 34
        }
      },
      "source": [
        "loss, accuracy = model_lstm.evaluate(x_val_seq, y_val, verbose=0)\n",
        "print(accuracy)"
      ],
      "execution_count": 0,
      "outputs": [
        {
          "output_type": "stream",
          "text": [
            "0.8374\n"
          ],
          "name": "stdout"
        }
      ]
    },
    {
      "cell_type": "markdown",
      "metadata": {
        "id": "rvllUGin_Xit",
        "colab_type": "text"
      },
      "source": [
        "##### 지금까지 순환 신경망의 구조와 역전파 방법을 공부하고 파이썬과 텐서플로를 사용하여 순환 신경망을 구축하고 훈련시켜 보았다."
      ]
    }
  ]
}