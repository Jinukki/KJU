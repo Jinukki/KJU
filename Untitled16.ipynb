{
  "nbformat": 4,
  "nbformat_minor": 0,
  "metadata": {
    "colab": {
      "name": "Untitled16.ipynb",
      "provenance": [],
      "collapsed_sections": [],
      "include_colab_link": true
    },
    "kernelspec": {
      "name": "python3",
      "display_name": "Python 3"
    }
  },
  "cells": [
    {
      "cell_type": "markdown",
      "metadata": {
        "id": "view-in-github",
        "colab_type": "text"
      },
      "source": [
        "<a href=\"https://colab.research.google.com/github/Jinukki/KJU/blob/master/Untitled16.ipynb\" target=\"_parent\"><img src=\"https://colab.research.google.com/assets/colab-badge.svg\" alt=\"Open In Colab\"/></a>"
      ]
    },
    {
      "cell_type": "markdown",
      "metadata": {
        "id": "hJU1KJIFiVtH",
        "colab_type": "text"
      },
      "source": [
        "# Python에서 `__init__.py`가 하는 일은?\n",
        "\n",
        "### 용도는 간단하다. 이 파일이 존재하는 디렉터리는 패키지의 일부임을 알려주는 역할을 한다. 따라서 `__init__.py`라는 파일이 없는 디렉터리는 패키지로 인식되지 않는다.<br>\n",
        "(python3.3 버전부터는 `__init__.py` 파일이 없어도 패키지로 인식한다. 하지만 하위 버전 호환을 위해 `__init__.py` 파일을 생성하는 것이 안전한 방법이다.)<br>\n",
        "\n",
        "#### 다음을 따라해 보자.\n",
        "### 위 파일들은 아래와 같이 하나의 경로에 하나의 파일로 존재한다. 예를들어  다음과 같다.\n",
        "\n",
        "<img src=\"https://webisfree.com/static/uploads/2017/2214_171109_093203_697_crop_432x338.jpg\">\n",
        "\n",
        "### 위 그림은 myApp.py라는 파일이 존재하고 경로 moduleA가 있는 경우를 나타냅니다. 이때 moduleA 안에는 `__init__.py`파일이 존재하게 된다.\n",
        "\n",
        "---\n"
      ]
    },
    {
      "cell_type": "code",
      "metadata": {
        "id": "OCmYhwuXjdjQ",
        "colab_type": "code",
        "colab": {}
      },
      "source": [
        "import os\n",
        "\n",
        "A=\"./game\"\n",
        "\n",
        "if not os.path.exists(A):\n",
        "  os.mkdir(A)"
      ],
      "execution_count": 0,
      "outputs": []
    },
    {
      "cell_type": "code",
      "metadata": {
        "id": "udbZFyq1oV_l",
        "colab_type": "code",
        "colab": {}
      },
      "source": [
        "import os\n",
        "\n",
        "A=\"./game/sound\"\n",
        "\n",
        "if not os.path.exists(A):\n",
        "  os.mkdir(A)"
      ],
      "execution_count": 0,
      "outputs": []
    },
    {
      "cell_type": "code",
      "metadata": {
        "id": "ZLzLt5ySodxD",
        "colab_type": "code",
        "colab": {}
      },
      "source": [
        "import os\n",
        "\n",
        "A=\"./game/graphic\"\n",
        "\n",
        "if not os.path.exists(A):\n",
        "  os.mkdir(A)"
      ],
      "execution_count": 0,
      "outputs": []
    },
    {
      "cell_type": "code",
      "metadata": {
        "id": "avlCdg4Bp39Z",
        "colab_type": "code",
        "colab": {
          "base_uri": "https://localhost:8080/",
          "height": 34
        },
        "outputId": "1a3a4069-6600-4d56-c7a8-ed34f4a6128d"
      },
      "source": [
        "%%writefile game/__init__.py\n",
        "\n",
        "def __init___test():\n",
        "  print (\"__init__\")"
      ],
      "execution_count": 50,
      "outputs": [
        {
          "output_type": "stream",
          "text": [
            "Overwriting game/__init__.py\n"
          ],
          "name": "stdout"
        }
      ]
    },
    {
      "cell_type": "code",
      "metadata": {
        "id": "yOqICcA5o7Rr",
        "colab_type": "code",
        "colab": {
          "base_uri": "https://localhost:8080/",
          "height": 34
        },
        "outputId": "f0709250-5075-4448-d375-5cc63d587c43"
      },
      "source": [
        "%%writefile game/sound/echo.py\n",
        "\n",
        "def echo_test():\n",
        "  print (\"echo\")"
      ],
      "execution_count": 41,
      "outputs": [
        {
          "output_type": "stream",
          "text": [
            "Writing game/sound/echo.py\n"
          ],
          "name": "stdout"
        }
      ]
    },
    {
      "cell_type": "code",
      "metadata": {
        "id": "29jf2FHtpfbP",
        "colab_type": "code",
        "colab": {
          "base_uri": "https://localhost:8080/",
          "height": 34
        },
        "outputId": "04f39475-f4f5-4d13-be44-eabcb523b3a6"
      },
      "source": [
        "%%writefile game/sound/__init__.py\n",
        "\n",
        "def __init___test():\n",
        "  print (\"__init__\")"
      ],
      "execution_count": 80,
      "outputs": [
        {
          "output_type": "stream",
          "text": [
            "Overwriting game/sound/__init__.py\n"
          ],
          "name": "stdout"
        }
      ]
    },
    {
      "cell_type": "code",
      "metadata": {
        "id": "pqQlweBUuHI1",
        "colab_type": "code",
        "colab": {
          "base_uri": "https://localhost:8080/",
          "height": 34
        },
        "outputId": "78f11142-d1c9-4a89-a534-dd75ff6f703e"
      },
      "source": [
        "%%writefile game/sound/wav.py\n",
        "\n",
        "def wav_test():\n",
        "  print (\"wav\")"
      ],
      "execution_count": 76,
      "outputs": [
        {
          "output_type": "stream",
          "text": [
            "Writing game/sound/wav.py\n"
          ],
          "name": "stdout"
        }
      ]
    },
    {
      "cell_type": "code",
      "metadata": {
        "id": "xawAhSWEqICH",
        "colab_type": "code",
        "colab": {
          "base_uri": "https://localhost:8080/",
          "height": 34
        },
        "outputId": "f8403108-8e76-45b8-f896-74bc01d3dbc3"
      },
      "source": [
        "%%writefile game/graphic/__init__.py\n",
        "\n",
        "def __init___test():\n",
        "  print (\"__init__\")"
      ],
      "execution_count": 58,
      "outputs": [
        {
          "output_type": "stream",
          "text": [
            "Overwriting game/graphic/__init__.py\n"
          ],
          "name": "stdout"
        }
      ]
    },
    {
      "cell_type": "code",
      "metadata": {
        "id": "cPobIsKPqIF7",
        "colab_type": "code",
        "colab": {
          "base_uri": "https://localhost:8080/",
          "height": 34
        },
        "outputId": "5e78e6cf-ba5a-4114-f801-640accaacf95"
      },
      "source": [
        "%%writefile game/graphic/render.py\n",
        "\n",
        "def render_test():\n",
        "  print (\"render\")"
      ],
      "execution_count": 65,
      "outputs": [
        {
          "output_type": "stream",
          "text": [
            "Overwriting game/graphic/render.py\n"
          ],
          "name": "stdout"
        }
      ]
    },
    {
      "cell_type": "code",
      "metadata": {
        "id": "LN9VkiMKqIhx",
        "colab_type": "code",
        "colab": {
          "base_uri": "https://localhost:8080/",
          "height": 186
        },
        "outputId": "baba455b-b84b-40b8-ce67-94592629b75e"
      },
      "source": [
        "from game.sound import *\n",
        "echo.echo_test()"
      ],
      "execution_count": 86,
      "outputs": [
        {
          "output_type": "error",
          "ename": "NameError",
          "evalue": "ignored",
          "traceback": [
            "\u001b[0;31m---------------------------------------------------------------------------\u001b[0m",
            "\u001b[0;31mNameError\u001b[0m                                 Traceback (most recent call last)",
            "\u001b[0;32m<ipython-input-86-b76d5b24d74b>\u001b[0m in \u001b[0;36m<module>\u001b[0;34m()\u001b[0m\n\u001b[1;32m      1\u001b[0m \u001b[0;32mfrom\u001b[0m \u001b[0mgame\u001b[0m\u001b[0;34m.\u001b[0m\u001b[0msound\u001b[0m \u001b[0;32mimport\u001b[0m \u001b[0;34m*\u001b[0m\u001b[0;34m\u001b[0m\u001b[0;34m\u001b[0m\u001b[0m\n\u001b[0;32m----> 2\u001b[0;31m \u001b[0mecho\u001b[0m\u001b[0;34m.\u001b[0m\u001b[0mecho_test\u001b[0m\u001b[0;34m(\u001b[0m\u001b[0;34m)\u001b[0m\u001b[0;34m\u001b[0m\u001b[0;34m\u001b[0m\u001b[0m\n\u001b[0m",
            "\u001b[0;31mNameError\u001b[0m: name 'echo' is not defined"
          ]
        }
      ]
    },
    {
      "cell_type": "markdown",
      "metadata": {
        "id": "CuemuWkYmZ8R",
        "colab_type": "text"
      },
      "source": [
        "### 뭔가 이상하다. 분명 mod1 패키지에서 모든 것(*)을 import하였으므로 echo 모듈을 사용할 수 있어야 할 것 같은데 echo라는 이름이 정의되지 않았다는 이름 오류(NameError)가 발생했다.\n",
        "\n",
        "### 이렇게 특정 디렉터리의 모듈을 *를 사용하여 import할 때에는 다음과 같이 해당 디렉터리의 `__init__.py` 파일에 `__all__` 변수를 설정하고 import할 수 있는 모듈을 정의해 주어야 한다."
      ]
    },
    {
      "cell_type": "code",
      "metadata": {
        "id": "XXet-DlRm2e-",
        "colab_type": "code",
        "colab": {
          "base_uri": "https://localhost:8080/",
          "height": 34
        },
        "outputId": "85f61579-e787-44a3-8947-c764c9eb3b08"
      },
      "source": [
        "%%writefile game/sound/__init__.py\n",
        "__all__ = [\"echo\"]"
      ],
      "execution_count": 84,
      "outputs": [
        {
          "output_type": "stream",
          "text": [
            "Overwriting game/sound/__init__.py\n"
          ],
          "name": "stdout"
        }
      ]
    },
    {
      "cell_type": "markdown",
      "metadata": {
        "id": "jvkkh9JBtoag",
        "colab_type": "text"
      },
      "source": [
        "### 여기에서 `__all__`이 의미하는 것은 sound 디렉터리에서 * 기호를 사용하여 import할 경우 이곳에 정의된 echo 모듈만 import된다는 의미이다.\n",
        "\n",
        "※ 착각하기 쉬운데 from game.sound.echo import * 는 `__all__`과 상관없이 무조건 import된다. 이렇게 `__all__`과 상관없이 무조건 import되는 경우는 from a.b.c import * 에서 from의 마지막 항목인 c가 모듈인 경우이다.\n",
        "\n",
        "### 위와 같이 `__init__.py` 파일을 변경한 후 위 예제를 수행하면 원하던 결과가 출력되는 것을 확인할 수 있다."
      ]
    },
    {
      "cell_type": "code",
      "metadata": {
        "id": "6ewhceYWtRzG",
        "colab_type": "code",
        "colab": {
          "base_uri": "https://localhost:8080/",
          "height": 186
        },
        "outputId": "0d7d0ae5-7a80-403b-af3e-a938c3297261"
      },
      "source": [
        "from game.sound import *\n",
        "echo.echo_test()"
      ],
      "execution_count": 85,
      "outputs": [
        {
          "output_type": "error",
          "ename": "NameError",
          "evalue": "ignored",
          "traceback": [
            "\u001b[0;31m---------------------------------------------------------------------------\u001b[0m",
            "\u001b[0;31mNameError\u001b[0m                                 Traceback (most recent call last)",
            "\u001b[0;32m<ipython-input-85-b76d5b24d74b>\u001b[0m in \u001b[0;36m<module>\u001b[0;34m()\u001b[0m\n\u001b[1;32m      1\u001b[0m \u001b[0;32mfrom\u001b[0m \u001b[0mgame\u001b[0m\u001b[0;34m.\u001b[0m\u001b[0msound\u001b[0m \u001b[0;32mimport\u001b[0m \u001b[0;34m*\u001b[0m\u001b[0;34m\u001b[0m\u001b[0;34m\u001b[0m\u001b[0m\n\u001b[0;32m----> 2\u001b[0;31m \u001b[0mecho\u001b[0m\u001b[0;34m.\u001b[0m\u001b[0mecho_test\u001b[0m\u001b[0;34m(\u001b[0m\u001b[0;34m)\u001b[0m\u001b[0;34m\u001b[0m\u001b[0;34m\u001b[0m\u001b[0m\n\u001b[0m",
            "\u001b[0;31mNameError\u001b[0m: name 'echo' is not defined"
          ]
        }
      ]
    },
    {
      "cell_type": "markdown",
      "metadata": {
        "id": "B3ZUBtoOids9",
        "colab_type": "text"
      },
      "source": [
        "## 패키지 모듈로서 사용하기 위한 목적\n",
        "\n",
        "### 이들의 역할은 파일이 위치한 경로를 패키지 모듈처럼 사용할 수 있도록 해주는 매우 중요한 기능을 수행한다. 쉽게 말하면 우리가 패키지의 모듈을 추가할때 사용하는 from, import를 이 경로에 사용할 수 있다는 점이다. 만약 이런 기능이 없다면 모듈을 찾는 경로를 config에 설정해야만 사용할 수 있어 매우 번거롭다. 만약 해당 경로에 위치한 파일 getName.py을 import하는 경우 아래처럼 쓸 수 있을 것이다.<br>\n",
        "<br>\n",
        "<b>from</b> moduleA <b>import</b> getName\n",
        "\n",
        "---"
      ]
    },
    {
      "cell_type": "markdown",
      "metadata": {
        "id": "CZ14W3XfiuJz",
        "colab_type": "text"
      },
      "source": [
        "\n",
        "## 해당 경로에 공통 사용되는 기능 및 모듈 사용하기\n",
        "### 위의 moduleA에 위치한 `__init__.py` 에는 공통으로 적용 가능한 기능이나 모듈을 포함할 수 있다. 예를 들어 해당 경로의 위치한 모든 python 파일들이 동일한 baseAll을 필요로 하여 각각 아래처럼 선언된 경우 이를 이 곳에 위치시키면 한번만 선언함으로싸 모두 같은 모듈을 사용하게 된다.\n",
        "​\n",
        "! moduleA/a.py<br>\n",
        "<b>import</b> baseAll<br>\n",
        "​\n",
        "! moduleA/b.py<br>\n",
        "<b>import</b> baseAll<br>\n",
        "​\n",
        "각각 선언된 import를 삭제 후 `__init__.py`에 한번만 선언하여 사용하면 더 적은 코드를 사용할 수 있다.<br>\n",
        "​\n",
        "! moduleA/`__init__.py`<br>\n",
        "<b>import</b> baseAll<br>\n",
        "​\n",
        "이제 해당 경로의 모든 파일들은 공통으로 baseAll을 사용할 수 있게 된다.\n"
      ]
    },
    {
      "cell_type": "code",
      "metadata": {
        "id": "uVkNVT14ifer",
        "colab_type": "code",
        "colab": {}
      },
      "source": [
        ""
      ],
      "execution_count": 0,
      "outputs": []
    }
  ]
}