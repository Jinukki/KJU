{
  "nbformat": 4,
  "nbformat_minor": 0,
  "metadata": {
    "colab": {
      "name": "Untitled13.ipynb",
      "provenance": [],
      "include_colab_link": true
    },
    "kernelspec": {
      "name": "python3",
      "display_name": "Python 3"
    }
  },
  "cells": [
    {
      "cell_type": "markdown",
      "metadata": {
        "id": "view-in-github",
        "colab_type": "text"
      },
      "source": [
        "<a href=\"https://colab.research.google.com/github/Jinukki/KJU/blob/master/class%20variable.ipynb\" target=\"_parent\"><img src=\"https://colab.research.google.com/assets/colab-badge.svg\" alt=\"Open In Colab\"/></a>"
      ]
    },
    {
      "cell_type": "code",
      "metadata": {
        "id": "pOKwHANTIAsr",
        "colab_type": "code",
        "colab": {}
      },
      "source": [
        "class Point:\n",
        "    a = 10\n",
        "    def __init__(self, _x, _y):\n",
        "        self.x = _x\n",
        "        self.y = _y\n"
      ],
      "execution_count": 0,
      "outputs": []
    },
    {
      "cell_type": "code",
      "metadata": {
        "id": "a9LQb_VHJCiF",
        "colab_type": "code",
        "colab": {}
      },
      "source": [
        "p1 = Point(1, 2)"
      ],
      "execution_count": 0,
      "outputs": []
    },
    {
      "cell_type": "code",
      "metadata": {
        "id": "rHtYudDbJUa2",
        "colab_type": "code",
        "colab": {
          "base_uri": "https://localhost:8080/",
          "height": 35
        },
        "outputId": "a5f7c0e8-e122-418a-eb6a-442eddb6585c"
      },
      "source": [
        "p1.__dict__"
      ],
      "execution_count": 12,
      "outputs": [
        {
          "output_type": "execute_result",
          "data": {
            "text/plain": [
              "{'x': 1, 'y': 2}"
            ]
          },
          "metadata": {
            "tags": []
          },
          "execution_count": 12
        }
      ]
    },
    {
      "cell_type": "code",
      "metadata": {
        "id": "ZbISujofMbVX",
        "colab_type": "code",
        "colab": {
          "base_uri": "https://localhost:8080/",
          "height": 125
        },
        "outputId": "39636f57-7d0a-43b5-b908-0a701041c2e0"
      },
      "source": [
        "Point.__dict__"
      ],
      "execution_count": 13,
      "outputs": [
        {
          "output_type": "execute_result",
          "data": {
            "text/plain": [
              "mappingproxy({'__dict__': <attribute '__dict__' of 'Point' objects>,\n",
              "              '__doc__': None,\n",
              "              '__init__': <function __main__.Point.__init__>,\n",
              "              '__module__': '__main__',\n",
              "              '__weakref__': <attribute '__weakref__' of 'Point' objects>,\n",
              "              'a': 10})"
            ]
          },
          "metadata": {
            "tags": []
          },
          "execution_count": 13
        }
      ]
    },
    {
      "cell_type": "code",
      "metadata": {
        "id": "Hqh7qB2lMc1i",
        "colab_type": "code",
        "colab": {
          "base_uri": "https://localhost:8080/",
          "height": 35
        },
        "outputId": "7a6e155e-da73-4ae1-dc15-fe750957b335"
      },
      "source": [
        "Point.a"
      ],
      "execution_count": 14,
      "outputs": [
        {
          "output_type": "execute_result",
          "data": {
            "text/plain": [
              "10"
            ]
          },
          "metadata": {
            "tags": []
          },
          "execution_count": 14
        }
      ]
    },
    {
      "cell_type": "code",
      "metadata": {
        "id": "ttQc5I1OM2LR",
        "colab_type": "code",
        "colab": {
          "base_uri": "https://localhost:8080/",
          "height": 35
        },
        "outputId": "4e2aa43f-4a74-4bbd-f53a-da567a64e9af"
      },
      "source": [
        "p1.a"
      ],
      "execution_count": 15,
      "outputs": [
        {
          "output_type": "execute_result",
          "data": {
            "text/plain": [
              "10"
            ]
          },
          "metadata": {
            "tags": []
          },
          "execution_count": 15
        }
      ]
    },
    {
      "cell_type": "code",
      "metadata": {
        "id": "5UCQ7sAqM31W",
        "colab_type": "code",
        "colab": {
          "base_uri": "https://localhost:8080/",
          "height": 35
        },
        "outputId": "c2a390e4-4dc1-4199-cfb2-bfbf35ee4240"
      },
      "source": [
        "id(Point.a)"
      ],
      "execution_count": 16,
      "outputs": [
        {
          "output_type": "execute_result",
          "data": {
            "text/plain": [
              "10969088"
            ]
          },
          "metadata": {
            "tags": []
          },
          "execution_count": 16
        }
      ]
    },
    {
      "cell_type": "code",
      "metadata": {
        "id": "2zMvc7xBM5RZ",
        "colab_type": "code",
        "colab": {
          "base_uri": "https://localhost:8080/",
          "height": 35
        },
        "outputId": "02ae69c4-1cd6-4c12-c023-1c9d2b47a68c"
      },
      "source": [
        "id(p1.a)"
      ],
      "execution_count": 17,
      "outputs": [
        {
          "output_type": "execute_result",
          "data": {
            "text/plain": [
              "10969088"
            ]
          },
          "metadata": {
            "tags": []
          },
          "execution_count": 17
        }
      ]
    },
    {
      "cell_type": "code",
      "metadata": {
        "id": "YTcoHXCqM6TQ",
        "colab_type": "code",
        "colab": {}
      },
      "source": [
        "p1.a=5"
      ],
      "execution_count": 0,
      "outputs": []
    },
    {
      "cell_type": "code",
      "metadata": {
        "id": "xlkWjsP9OknR",
        "colab_type": "code",
        "colab": {
          "base_uri": "https://localhost:8080/",
          "height": 35
        },
        "outputId": "17dac61d-e257-4694-a6f8-3726752eacc3"
      },
      "source": [
        "id(p1.a)"
      ],
      "execution_count": 19,
      "outputs": [
        {
          "output_type": "execute_result",
          "data": {
            "text/plain": [
              "10968928"
            ]
          },
          "metadata": {
            "tags": []
          },
          "execution_count": 19
        }
      ]
    },
    {
      "cell_type": "code",
      "metadata": {
        "id": "yBbEBlOmOl_3",
        "colab_type": "code",
        "colab": {
          "base_uri": "https://localhost:8080/",
          "height": 35
        },
        "outputId": "9c21d4ca-8f71-4ed1-ec60-162803a71139"
      },
      "source": [
        "Point.a"
      ],
      "execution_count": 20,
      "outputs": [
        {
          "output_type": "execute_result",
          "data": {
            "text/plain": [
              "10"
            ]
          },
          "metadata": {
            "tags": []
          },
          "execution_count": 20
        }
      ]
    },
    {
      "cell_type": "code",
      "metadata": {
        "id": "ba5c1ypPOozv",
        "colab_type": "code",
        "colab": {
          "base_uri": "https://localhost:8080/",
          "height": 35
        },
        "outputId": "e014ab9e-ce4f-4493-a3d2-51a0cfda33b8"
      },
      "source": [
        "id(Point.a)"
      ],
      "execution_count": 21,
      "outputs": [
        {
          "output_type": "execute_result",
          "data": {
            "text/plain": [
              "10969088"
            ]
          },
          "metadata": {
            "tags": []
          },
          "execution_count": 21
        }
      ]
    },
    {
      "cell_type": "code",
      "metadata": {
        "id": "SS7doESfOqd1",
        "colab_type": "code",
        "colab": {
          "base_uri": "https://localhost:8080/",
          "height": 35
        },
        "outputId": "af08f740-70fe-4df6-95c1-7df4d4c676de"
      },
      "source": [
        "p1.__dict__"
      ],
      "execution_count": 22,
      "outputs": [
        {
          "output_type": "execute_result",
          "data": {
            "text/plain": [
              "{'a': 5, 'x': 1, 'y': 2}"
            ]
          },
          "metadata": {
            "tags": []
          },
          "execution_count": 22
        }
      ]
    },
    {
      "cell_type": "code",
      "metadata": {
        "id": "VGhREqo2OuC3",
        "colab_type": "code",
        "colab": {}
      },
      "source": [
        "#클래스 변수는 모든 객체가 공유하므로 \"pl.a\" 를 따로 설정하지 않는다면 pl.__dict__함수를 실행시켰을 때 a의 값이 따로 나타나지는 않지만 클래스 변수인 a를 그대로 받아 Point.a=pl.a=10이 된다.\n",
        "#a를 같이 받기에 id함수의 주소도 같은 결과를 나타낸다.\n",
        "#여기서 \"pl.a=5\"로 따로 설정을 해주면 인스턴스 변수가 새롭게 하나 지정되어 생성되는 것이고 때문에 id함수에서 다른 결과를 나타낸다.\n",
        "#이 근거로 위에서 알 수 있듯이 p1.__dict__ 함수를 실행시켜보면 a:5 가 하나 추가된 것을 알 수 있다.\n",
        "#클래스 변수 a와는 다른 인스턴스 변수로의 a가 새로 추가된 것이라고 볼 수 있다.\n",
        "#그 결과로 Point.a=10으로 그대로 유지되고 pl.a=5라는 값이 나타난다.\n",
        "#클래스 변수가 인스턴스 변수보다 지배적이기 때문에 인스턴스 변수가 클래스 변수에 접근하여 수정할 수 없으며 위의 코드 진행의 결과를 통해서도 이를 알 수 있다."
      ],
      "execution_count": 0,
      "outputs": []
    },
    {
      "cell_type": "code",
      "metadata": {
        "id": "UGMVCXaXO1dE",
        "colab_type": "code",
        "colab": {}
      },
      "source": [
        ""
      ],
      "execution_count": 0,
      "outputs": []
    }
  ]
}