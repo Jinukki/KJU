{
  "nbformat": 4,
  "nbformat_minor": 0,
  "metadata": {
    "colab": {
      "name": "__init__ 2nd",
      "provenance": [],
      "collapsed_sections": [],
      "include_colab_link": true
    },
    "kernelspec": {
      "name": "python3",
      "display_name": "Python 3"
    }
  },
  "cells": [
    {
      "cell_type": "markdown",
      "metadata": {
        "id": "view-in-github",
        "colab_type": "text"
      },
      "source": [
        "<a href=\"https://colab.research.google.com/github/Jinukki/KJU/blob/master/15108329_init.ipynb\" target=\"_parent\"><img src=\"https://colab.research.google.com/assets/colab-badge.svg\" alt=\"Open In Colab\"/></a>"
      ]
    },
    {
      "cell_type": "markdown",
      "metadata": {
        "id": "MDSN_G8NZcAa",
        "colab_type": "text"
      },
      "source": [
        "# Python에서 `__init__.py`가 하는 일은?\n",
        "\n",
        "### 용도는 간단하다. 이 파일이 존재하는 디렉터리는 패키지의 일부임을 알려주는 역할을 한다. 따라서 `__init__.py`라는 파일이 없는 디렉터리는 패키지로 인식되지 않는다.<br>\n",
        "(python3.3 버전부터는 `__init__.py` 파일이 없어도 패키지로 인식한다. 하지만 하위 버전 호환을 위해 `__init__.py` 파일을 생성하는 것이 안전한 방법이다.)<br>\n",
        "\n",
        "### 파이썬에서 module은 하나의 .py 파일을 가리키며, 패키지는 이러한 모듈들을 모은 컬렉션을 가리킨다. 파이썬의 패키지는 하나의 디렉토리에 놓여진 **모듈들의 집합**을 가리키는데,<br> 그 디렉토리에는 일반적으로 `__init__.py` 라는 패키지 초기화 파일이 존재한다.\n",
        "\n",
        "#### 다음을 따라해 보자.\n",
        "### 위 파일들은 아래와 같이 하나의 경로에 하나의 파일로 존재한다. 예를들어  다음과 같다.\n",
        "\n",
        "<img src=\"https://webisfree.com/static/uploads/2017/2214_171109_093203_697_crop_432x338.jpg\">\n",
        "\n",
        "### 위 그림은 myApp.py라는 파일이 존재하고 경로 moduleA가 있는 경우를 나타낸다. 이때 moduleA 안에는 `__init__.py`파일이 존재하게 된다.\n",
        "\n",
        "---\n"
      ]
    },
    {
      "cell_type": "markdown",
      "metadata": {
        "id": "BQTrB7UwmnwQ",
        "colab_type": "text"
      },
      "source": [
        "### 아래에서 game, sound, graphic, play는 디렉터리 이름이고 확장자가 .py인 파일은 파이썬 모듈이다. game 디렉터리가 이 패키지의 루트 디렉터리이고 sound, graphic, play는 서브 디렉터리이다. 각 디렉터리에 `__init__.py` 파일을 만들어 놓기만 하고 내용은 일단 비워 둔다."
      ]
    },
    {
      "cell_type": "code",
      "metadata": {
        "id": "PZAP7-EILLNH",
        "colab_type": "code",
        "colab": {}
      },
      "source": [
        "import os\n",
        "\n",
        "A = \"./game\"\n",
        "\n",
        "if not os.path.exists(A):\n",
        "  os.mkdir(A)"
      ],
      "execution_count": 0,
      "outputs": []
    },
    {
      "cell_type": "code",
      "metadata": {
        "id": "Kh_DtftjLhtO",
        "colab_type": "code",
        "colab": {}
      },
      "source": [
        "import os\n",
        "\n",
        "A = \"./game/sound\"\n",
        "\n",
        "if not os.path.exists(A):\n",
        "  os.mkdir(A)"
      ],
      "execution_count": 0,
      "outputs": []
    },
    {
      "cell_type": "code",
      "metadata": {
        "id": "aVX_Hgh7LoOS",
        "colab_type": "code",
        "colab": {}
      },
      "source": [
        "import os\n",
        "\n",
        "A = \"./game/graphic\"\n",
        "\n",
        "if not os.path.exists(A):\n",
        "  os.mkdir(A)"
      ],
      "execution_count": 0,
      "outputs": []
    },
    {
      "cell_type": "code",
      "metadata": {
        "id": "pIToRt42LsWE",
        "colab_type": "code",
        "outputId": "ac16ddbc-b87c-4066-c07b-e19460217d44",
        "colab": {
          "base_uri": "https://localhost:8080/",
          "height": 35
        }
      },
      "source": [
        "%%writefile game/__init__.py\n",
        "\n",
        "def __init___test():\n",
        "  print(\"__init__\")\n",
        "  \n"
      ],
      "execution_count": 0,
      "outputs": [
        {
          "output_type": "stream",
          "text": [
            "Overwriting game/__init__.py\n"
          ],
          "name": "stdout"
        }
      ]
    },
    {
      "cell_type": "code",
      "metadata": {
        "id": "f-FyXwGlMBVW",
        "colab_type": "code",
        "outputId": "597d8f22-6c4f-4a85-81e8-3a91fff24182",
        "colab": {
          "base_uri": "https://localhost:8080/",
          "height": 35
        }
      },
      "source": [
        "%%writefile game/sound/echo.py\n",
        "\n",
        "def echo_test():\n",
        "  print(\"echo\")"
      ],
      "execution_count": 0,
      "outputs": [
        {
          "output_type": "stream",
          "text": [
            "Overwriting game/sound/echo.py\n"
          ],
          "name": "stdout"
        }
      ]
    },
    {
      "cell_type": "code",
      "metadata": {
        "id": "Og1NWNNAMMUy",
        "colab_type": "code",
        "outputId": "f5940a27-2fbb-47ce-beae-430dd4270f7e",
        "colab": {
          "base_uri": "https://localhost:8080/",
          "height": 35
        }
      },
      "source": [
        "%%writefile game/sound/__init__.py\n",
        "\n",
        "def __init___test():\n",
        "  print(\"__init__\")\n",
        "\n"
      ],
      "execution_count": 0,
      "outputs": [
        {
          "output_type": "stream",
          "text": [
            "Overwriting game/sound/__init__.py\n"
          ],
          "name": "stdout"
        }
      ]
    },
    {
      "cell_type": "code",
      "metadata": {
        "id": "HdBogyUVN9nP",
        "colab_type": "code",
        "outputId": "11fa73be-0fa6-4c93-9bbc-a94005948720",
        "colab": {
          "base_uri": "https://localhost:8080/",
          "height": 35
        }
      },
      "source": [
        "%%writefile game/graphic/__init__.py\n",
        "\n",
        "def __init___test():\n",
        "  print(\"__init__\")\n",
        "\n"
      ],
      "execution_count": 0,
      "outputs": [
        {
          "output_type": "stream",
          "text": [
            "Overwriting game/graphic/__init__.py\n"
          ],
          "name": "stdout"
        }
      ]
    },
    {
      "cell_type": "code",
      "metadata": {
        "id": "Ak7R1QG-MVsc",
        "colab_type": "code",
        "outputId": "4d47e11f-d21e-4227-da30-872c3ac0af6e",
        "colab": {
          "base_uri": "https://localhost:8080/",
          "height": 35
        }
      },
      "source": [
        "%%writefile game/sound/wav.py\n",
        "\n",
        "def wav_test():\n",
        "  print(\"wav\")"
      ],
      "execution_count": 0,
      "outputs": [
        {
          "output_type": "stream",
          "text": [
            "Overwriting game/sound/wav.py\n"
          ],
          "name": "stdout"
        }
      ]
    },
    {
      "cell_type": "code",
      "metadata": {
        "id": "0_jhp_bnMZot",
        "colab_type": "code",
        "outputId": "6881239f-aaa4-4cc4-a878-dcb620e220c8",
        "colab": {
          "base_uri": "https://localhost:8080/",
          "height": 35
        }
      },
      "source": [
        "%%writefile game/graphic/render.py\n",
        "\n",
        "def render_test():\n",
        "  print(\"render\")"
      ],
      "execution_count": 0,
      "outputs": [
        {
          "output_type": "stream",
          "text": [
            "Overwriting game/graphic/render.py\n"
          ],
          "name": "stdout"
        }
      ]
    },
    {
      "cell_type": "code",
      "metadata": {
        "id": "c_jhe9DQMg58",
        "colab_type": "code",
        "colab": {}
      },
      "source": [
        "from game.sound import *"
      ],
      "execution_count": 0,
      "outputs": []
    },
    {
      "cell_type": "code",
      "metadata": {
        "id": "L1AbMuWWNvec",
        "colab_type": "code",
        "colab": {}
      },
      "source": [
        "__all__ = ['echo']"
      ],
      "execution_count": 0,
      "outputs": []
    },
    {
      "cell_type": "code",
      "metadata": {
        "id": "Pe339uTrTpyP",
        "colab_type": "code",
        "outputId": "01fffd5c-a532-46bb-c349-fcf816a6505c",
        "colab": {
          "base_uri": "https://localhost:8080/",
          "height": 35
        }
      },
      "source": [
        "echo"
      ],
      "execution_count": 0,
      "outputs": [
        {
          "output_type": "execute_result",
          "data": {
            "text/plain": [
              "<module 'game.sound.echo' from '/content/game/sound/echo.py'>"
            ]
          },
          "metadata": {
            "tags": []
          },
          "execution_count": 121
        }
      ]
    },
    {
      "cell_type": "code",
      "metadata": {
        "id": "YvRL51FxTyCy",
        "colab_type": "code",
        "outputId": "7d64395e-beab-4198-8292-fe266c253728",
        "colab": {
          "base_uri": "https://localhost:8080/",
          "height": 35
        }
      },
      "source": [
        "echo.echo_test()"
      ],
      "execution_count": 0,
      "outputs": [
        {
          "output_type": "stream",
          "text": [
            "echo\n"
          ],
          "name": "stdout"
        }
      ]
    },
    {
      "cell_type": "code",
      "metadata": {
        "id": "zX0c5nsiT16A",
        "colab_type": "code",
        "outputId": "b8f62a5f-c280-47f4-862c-09d590f446a7",
        "colab": {
          "base_uri": "https://localhost:8080/",
          "height": 35
        }
      },
      "source": [
        "from game.sound import *\n",
        "echo.echo_test()"
      ],
      "execution_count": 0,
      "outputs": [
        {
          "output_type": "stream",
          "text": [
            "echo\n"
          ],
          "name": "stdout"
        }
      ]
    },
    {
      "cell_type": "markdown",
      "metadata": {
        "id": "KnBecOFpfuqF",
        "colab_type": "text"
      },
      "source": [
        "### 위와 같이 특정 디렉터리의 모듈을 `*`를 사용하여 import할 때에는 해당 디렉터리의 __init__.py 파일에  `__all__`이라는 변수를 설정하고 import할 수 있는 모듈을 정의해 주어야 한다.<br> 여기에서 __all__이 의미하는 것은 sound 디렉터리에서 * 기호를 사용하여 import할 경우 이곳에 정의된 echo 모듈만 import된다는 의미이다.<br>\n",
        "\n",
        "※ 착각하기 쉬운데 from game.sound.echo import * 는 `__all__`과 상관없이 무조건 import된다. 이렇게 `__all__`과 상관없이 무조건 import되는 경우는 from a.b.c import * 에서 from의 마지막 항목인 c가 모듈인 경우이다."
      ]
    },
    {
      "cell_type": "markdown",
      "metadata": {
        "id": "HE7guJbUnpZI",
        "colab_type": "text"
      },
      "source": [
        "---\n",
        "\n",
        "## 패키지 모듈로서 사용하기 위한 목적\n",
        "\n",
        "### 이들의 역할은 파일이 위치한 경로를 패키지 모듈처럼 사용할 수 있도록 해주는 매우 중요한 기능을 수행한다. 쉽게 말하면 우리가 패키지의 모듈을 추가할때 사용하는 from, import를 이 경로에 사용할 수 있다는 점이다. 만약 이런 기능이 없다면 모듈을 찾는 경로를 config에 설정해야만 사용할 수 있어 매우 번거롭다. 만약 해당 경로에 위치한 파일 getName.py을 import하는 경우 아래처럼 쓸 수 있을 것이다.<br>\n",
        "<br>\n",
        "<b>from</b> moduleA <b>import</b> getName\n",
        "\n",
        "---"
      ]
    },
    {
      "cell_type": "markdown",
      "metadata": {
        "id": "zlyojqX0npou",
        "colab_type": "text"
      },
      "source": [
        "\n",
        "## 해당 경로에 공통 사용되는 기능 및 모듈 사용하기\n",
        "### 위의 moduleA에 위치한 `__init__.py` 에는 공통으로 적용 가능한 기능이나 모듈을 포함할 수 있다. 예를 들어 해당 경로의 위치한 모든 python 파일들이 동일한 baseAll을 필요로 하여 각각 아래처럼 선언된 경우 이를 이 곳에 위치시키면 한번만 선언함으로싸 모두 같은 모듈을 사용하게 된다.\n",
        "​\n",
        "! moduleA/a.py<br>\n",
        "<b>import</b> baseAll<br>\n",
        "​\n",
        "! moduleA/b.py<br>\n",
        "<b>import</b> baseAll<br>\n",
        "​\n",
        "각각 선언된 import를 삭제 후 `__init__.py`에 한번만 선언하여 사용하면 더 적은 코드를 사용할 수 있다.<br>\n",
        "​\n",
        "! moduleA/`__init__.py`<br>\n",
        "<b>import</b> baseAll<br>\n",
        "​\n",
        "이제 해당 경로의 모든 파일들은 공통으로 baseAll을 사용할 수 있게 된다.\n"
      ]
    },
    {
      "cell_type": "code",
      "metadata": {
        "id": "n5sUK8WwnuIa",
        "colab_type": "code",
        "colab": {}
      },
      "source": [
        ""
      ],
      "execution_count": 0,
      "outputs": []
    }
  ]
}