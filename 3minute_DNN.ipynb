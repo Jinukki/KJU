{
  "nbformat": 4,
  "nbformat_minor": 0,
  "metadata": {
    "colab": {
      "name": "3minute-DNN.ipynb",
      "provenance": [],
      "collapsed_sections": [],
      "authorship_tag": "ABX9TyMNEbuW3showKU0bcrtrjFJ",
      "include_colab_link": true
    },
    "kernelspec": {
      "name": "python3",
      "display_name": "Python 3"
    },
    "accelerator": "GPU"
  },
  "cells": [
    {
      "cell_type": "markdown",
      "metadata": {
        "id": "view-in-github",
        "colab_type": "text"
      },
      "source": [
        "<a href=\"https://colab.research.google.com/github/Jinukki/KJU/blob/master/3minute_DNN.ipynb\" target=\"_parent\"><img src=\"https://colab.research.google.com/assets/colab-badge.svg\" alt=\"Open In Colab\"/></a>"
      ]
    },
    {
      "cell_type": "markdown",
      "metadata": {
        "id": "cSnQyW3qlLyR",
        "colab_type": "text"
      },
      "source": [
        "# <b>Ch04. 패션 아이템을 구분하는 DNN</b>\n",
        "\n",
        "### 앞서 배운 인공 신경망을 이용하여 Fashion MNIST 데이터 셋 안의 패션 아이템을 구분해 보도록 하자.\n",
        " - Fashion MNIST 데이터셋 알아보기\n",
        " - 인공 신경망으로 패션 아이템 분류하기\n",
        " - 성능 측정하기\n",
        " - 과적합과 드롭아웃\n",
        "\n",
        " ---\n",
        "\n",
        " > ## Fashion MNIST 데이터셋 알아보기\n",
        "\n",
        " #### <b>데이터셋</b>은 우리가 풀고자 하는 문제를 정의한다. 문제 정의가 잘못되면 아무리 풀이를 잘 해도 별 의미가 없기 때문에 데이터셋을 관찰 및 관리하는 기술은 매우 중요하다.\n",
        " #### Fashion MNIST 는 28x28픽셀 70,000개의 흑백 이미지로 구성되며 신발, 드레스, 가방 등 총 10가지 카테고리가 존재한다.\n",
        "\n",
        " #### 딥러닝 모델 학습에 앞서 데이터 가공과정을 먼저 거쳐야 한다. 파이토치의 이미지 처리용 툴인 토치비전(torchvision)이 이 데이터셋을 자동으로 내려받고 학습 데이터를 나누는 일까지 도와줄 것이다. 이미지 데이터를 다루기 위한 파이토치와 토치비전의 몇 가지 모듈을 알아보자.\n",
        "\n",
        "  - torch.utils.data : 데이터셋의 표준 정의, 데이터셋을 불러오고 자르고 섞는 도구들이 들어있는 모듈.\n",
        "   - torch.utils.data.Dataset : 파이토치 모델 학습을 위한 데이터셋의 표준을 정의.\n",
        "   - torch.utils.data.DataLoader : Dataset 모듈을 상속하는 클래스에서 학습에 필요한 데이터 로딩.\n",
        "  - torchvision.datasets : 위의 data.Dataset을 상속하는 이미지 데이터셋 모음.\n",
        "  - torchvision.transforms : 이미지 변환 필터(텐서변환, 크기조절 등)를 담고 있음.\n",
        "  - torchvision.utils :이미지 데이터 저장 및 시각화."
      ]
    },
    {
      "cell_type": "code",
      "metadata": {
        "id": "7SQPFQMRkSEo",
        "colab_type": "code",
        "outputId": "5d4eaa4a-1aeb-42aa-8227-ab1396496920",
        "colab": {
          "base_uri": "https://localhost:8080/",
          "height": 122
        }
      },
      "source": [
        "pip install torch==1.4.0+cpu torchvision==0.5.0+cpu -f https://download.pytorch.org/whl/torch_stable.html"
      ],
      "execution_count": 39,
      "outputs": [
        {
          "output_type": "stream",
          "text": [
            "Looking in links: https://download.pytorch.org/whl/torch_stable.html\n",
            "Requirement already satisfied: torch==1.4.0+cpu in /usr/local/lib/python3.6/dist-packages (1.4.0+cpu)\n",
            "Requirement already satisfied: torchvision==0.5.0+cpu in /usr/local/lib/python3.6/dist-packages (0.5.0+cpu)\n",
            "Requirement already satisfied: six in /usr/local/lib/python3.6/dist-packages (from torchvision==0.5.0+cpu) (1.12.0)\n",
            "Requirement already satisfied: pillow>=4.1.1 in /usr/local/lib/python3.6/dist-packages (from torchvision==0.5.0+cpu) (6.2.2)\n",
            "Requirement already satisfied: numpy in /usr/local/lib/python3.6/dist-packages (from torchvision==0.5.0+cpu) (1.17.5)\n"
          ],
          "name": "stdout"
        }
      ]
    },
    {
      "cell_type": "code",
      "metadata": {
        "id": "ziDue9W5lGu7",
        "colab_type": "code",
        "colab": {}
      },
      "source": [
        "# 토치비전과 파이토치 패키지 불러오기\n",
        "from torchvision import datasets, transforms, utils\n",
        "from torch.utils import data"
      ],
      "execution_count": 0,
      "outputs": []
    },
    {
      "cell_type": "code",
      "metadata": {
        "id": "kggyxf-noXld",
        "colab_type": "code",
        "colab": {}
      },
      "source": [
        "import numpy as np\n",
        "import matplotlib.pyplot as plt"
      ],
      "execution_count": 0,
      "outputs": []
    },
    {
      "cell_type": "code",
      "metadata": {
        "id": "v5xLsz6sonTB",
        "colab_type": "code",
        "colab": {}
      },
      "source": [
        "# 이미지를 텐서로 변환하는 코드 설정\n",
        "transform = transforms.Compose([transforms.ToTensor()])"
      ],
      "execution_count": 0,
      "outputs": []
    },
    {
      "cell_type": "markdown",
      "metadata": {
        "id": "SxZYRVghpGW5",
        "colab_type": "text"
      },
      "source": [
        "#### 토치비전 Transforms에서 자주 쓰이는 기능들은 다음과 같다.\n",
        " - ToTensor : 이미지를 파이토치 텐서로 변환\n",
        " - Resize : 이미지 크기 조정\n",
        " - Normalize : 주어진 평균과 표준편차를 이용하여 정규화\n",
        " - RandomHorizontalFlip : 무작위로 이미지의 좌우를 뒤집음\n",
        " - RandomCrop : 이미지를 무작위로 자름."
      ]
    },
    {
      "cell_type": "code",
      "metadata": {
        "id": "NQsuLOXpo-fG",
        "colab_type": "code",
        "colab": {}
      },
      "source": [
        "# Fashion MNIST 데이터셋 가져오기\n",
        "# 학습용 트레닝 셋\n",
        "trainset=datasets.FashionMNIST(root='./.data/', train=True, download=True, transform=transform)\n",
        "# train에 대한 True/False 설정을 통해 훈련/평가 데이터 구분, 이미지 변환은 위에서 설정한 transform코드 이용\n",
        "\n",
        "# 성능 평가용 데이터셋\n",
        "testset=datasets.FashionMNIST(root='./.data/', train=False, download=True, transform=transform)"
      ],
      "execution_count": 0,
      "outputs": []
    },
    {
      "cell_type": "markdown",
      "metadata": {
        "id": "hj9NyfyQr_5D",
        "colab_type": "text"
      },
      "source": [
        "#### 앞에서 언급하였듯이 torchvision.datasets로 생성된 객체는 파이토치 내부의 torch.utils.data.Dataset을 상속한다. 때문에 데이터셋을 배치 단위로 쪼개고 학습 시 반복문 안에서 데이터를 공급해주는 DataLoader 클래스를 이용할 수 있다. DataLoader의 매개변수에 앞서 불러온 데이터셋을 넣어주고 배치 크기를 지정해준다."
      ]
    },
    {
      "cell_type": "code",
      "metadata": {
        "id": "4XIHvV77qGpR",
        "colab_type": "code",
        "colab": {}
      },
      "source": [
        "batch_size=16\n",
        "train_loader = data.DataLoader(dataset=trainset, batch_size=batch_size)\n",
        "test_loader= data.DataLoader(dataset=testset, batch_size=batch_size)"
      ],
      "execution_count": 0,
      "outputs": []
    },
    {
      "cell_type": "markdown",
      "metadata": {
        "id": "2ULqajnlufYb",
        "colab_type": "text"
      },
      "source": [
        "#### 이제 편하게 데이터를 뽑아쓸 수 있다. 배치 1개만 뽑아서 데이터가 어떻게 생겼는지 살펴보자."
      ]
    },
    {
      "cell_type": "code",
      "metadata": {
        "id": "yOn_3ODVuX_v",
        "colab_type": "code",
        "colab": {}
      },
      "source": [
        "# iter함수는 전달된 Data를 반복반환\n",
        "dataiter = iter(train_loader)\n",
        "# next함수로 반복자를 입력받아 출력해야 할 요소를 설정\n",
        "images, labels = next(dataiter) # images, labels 출력"
      ],
      "execution_count": 0,
      "outputs": []
    },
    {
      "cell_type": "markdown",
      "metadata": {
        "id": "T7JzvInJx-yz",
        "colab_type": "text"
      },
      "source": [
        "#### 앞에서 가져온 배치의 이미지들을 전체적으로 살펴보자. 토치비전의 utils.make_grid() 함수를 이용하면 여러 이미지들을 하나의 이미지로 만들 수 있다. 이 때, img는 파이토치 텐서이기 때문에 맷플롯립과 호환이 되는  넘파이 행렬로 바꿔준다. 또한 맷플롯립이 인식하는 차원의 순서가 다르므로 np.transpose() 함수를 이용하여 첫 번재(0번째) 차원을 맨뒤로 보낸다."
      ]
    },
    {
      "cell_type": "code",
      "metadata": {
        "id": "5guHmGIYxagQ",
        "colab_type": "code",
        "outputId": "9656d291-a8f2-461c-eb3b-d99e5b4d5a75",
        "colab": {
          "base_uri": "https://localhost:8080/",
          "height": 190
        }
      },
      "source": [
        "img = utils.make_grid(images, padding=0)\n",
        "npimg = img.numpy() # img를 넘파이 행렬로 변환\n",
        "plt.figure(figsize=(10,7))\n",
        "plt.imshow(np.transpose(npimg, (1,2,0))) # 첫번째, 두번째 차원을 읽어 이미지로 나타냄\n",
        "plt.show()"
      ],
      "execution_count": 46,
      "outputs": [
        {
          "output_type": "display_data",
          "data": {
            "image/png": "[encoded data removed]",
            "text/plain": [
              "<Figure size 720x504 with 1 Axes>"
            ]
          },
          "metadata": {
            "tags": []
          }
        }
      ]
    },
    {
      "cell_type": "code",
      "metadata": {
        "id": "OQZZAz2i1Fii",
        "colab_type": "code",
        "outputId": "e92f4d6b-313e-40dd-c7a7-9552c962db12",
        "colab": {
          "base_uri": "https://localhost:8080/",
          "height": 52
        }
      },
      "source": [
        "print(img.size())\n",
        "print(npimg.shape) # np.transpose 함수를 이용하여 맷플롯립에서 (56, 224을 읽음)"
      ],
      "execution_count": 47,
      "outputs": [
        {
          "output_type": "stream",
          "text": [
            "torch.Size([3, 56, 224])\n",
            "(3, 56, 224)\n"
          ],
          "name": "stdout"
        }
      ]
    },
    {
      "cell_type": "code",
      "metadata": {
        "colab_type": "code",
        "outputId": "204c5ef8-d505-42c7-9a39-80a63c002e62",
        "id": "G2Q05lDpSbHn",
        "colab": {
          "base_uri": "https://localhost:8080/",
          "height": 269
        }
      },
      "source": [
        "plt.imshow(np.transpose(npimg,(2,1,0)))\n",
        "plt.show()"
      ],
      "execution_count": 48,
      "outputs": [
        {
          "output_type": "display_data",
          "data": {
            "image/png": "[encoded data removed]",
            "text/plain": [
              "<Figure size 432x288 with 1 Axes>"
            ]
          },
          "metadata": {
            "tags": []
          }
        }
      ]
    },
    {
      "cell_type": "code",
      "metadata": {
        "id": "2bAR93cl1yBl",
        "colab_type": "code",
        "outputId": "bdb055e2-99b8-4ac3-9907-8b33eb260683",
        "colab": {
          "base_uri": "https://localhost:8080/",
          "height": 34
        }
      },
      "source": [
        "# 레이블 출력\n",
        "print(labels)"
      ],
      "execution_count": 49,
      "outputs": [
        {
          "output_type": "stream",
          "text": [
            "tensor([9, 0, 0, 3, 0, 2, 7, 2, 5, 5, 0, 9, 5, 5, 7, 9])\n"
          ],
          "name": "stdout"
        }
      ]
    },
    {
      "cell_type": "markdown",
      "metadata": {
        "id": "_6-PZ8iT26UU",
        "colab_type": "text"
      },
      "source": [
        "#### 이미지 클래스들은 '티셔츠/윗옷', '바지', '스웨터' 등의 10가지이다. 위처럼 숫자 번호로 주어진 레이블을 해석하기 편하도록 딕셔너리를 생성하자."
      ]
    },
    {
      "cell_type": "code",
      "metadata": {
        "id": "8p-34RTn2w9y",
        "colab_type": "code",
        "colab": {}
      },
      "source": [
        "CLASSES={0:'T-shirt/top',1:'Trouser',2:'Pullover',3:'Dress',4:'Coat',5:'Sandal',6:'Shirt',7:'Sneaker',8:'Bag',9:'Ankle boot'}"
      ],
      "execution_count": 0,
      "outputs": []
    },
    {
      "cell_type": "code",
      "metadata": {
        "id": "yrkTO9_D3OdL",
        "colab_type": "code",
        "outputId": "75043e09-5293-4379-d624-b0d40ba2e6d2",
        "colab": {
          "base_uri": "https://localhost:8080/",
          "height": 298
        }
      },
      "source": [
        "# 앞에서 출력한 labels의 영문 텍스트 출력\n",
        "for label in labels:\n",
        "    index=label.item()\n",
        "    print(CLASSES[index])"
      ],
      "execution_count": 51,
      "outputs": [
        {
          "output_type": "stream",
          "text": [
            "Ankle boot\n",
            "T-shirt/top\n",
            "T-shirt/top\n",
            "Dress\n",
            "T-shirt/top\n",
            "Pullover\n",
            "Sneaker\n",
            "Pullover\n",
            "Sandal\n",
            "Sandal\n",
            "T-shirt/top\n",
            "Ankle boot\n",
            "Sandal\n",
            "Sandal\n",
            "Sneaker\n",
            "Ankle boot\n"
          ],
          "name": "stdout"
        }
      ]
    },
    {
      "cell_type": "markdown",
      "metadata": {
        "id": "auVmVvZM4ORX",
        "colab_type": "text"
      },
      "source": [
        "#### 이미지 데이터는 가로, 세로, 색상의 3차원으로 표현되며, 가로세로는 픽셀 수, 색상값은 흑백 사진이므로 1가지 숫자로 나타낼 수 있다. FashionMNIST에서 이미지 크기는 28x28, 색상 채널은 1가지이므로 입력 x의 특징값 총 개수는 28x28x1, 즉 784개이다.\n",
        "\n",
        "#### 개별 이미지를 꺼내 보도록 하자. 데이터셋에서 첫 번째 이미지를 꺼내고 squeeze() 와 numpy() 함수를 적용하여 맷플롯립에 적용한다. 또한 앞에서 만들어 둔 딕셔너리를 이용하여 레이블을 나타낸다."
      ]
    },
    {
      "cell_type": "code",
      "metadata": {
        "id": "8Fl_61JM3p4E",
        "colab_type": "code",
        "outputId": "2bbdbe5f-ab55-4211-e754-d8d561097253",
        "colab": {
          "base_uri": "https://localhost:8080/",
          "height": 281
        }
      },
      "source": [
        "idx=1\n",
        "item_img = images[idx] # 앞의 배치(16개) 이미지에서 2번째 이미지 출력\n",
        "item_npimg = item_img.squeeze().numpy() # 크기가 1인 차원 삭제(28x28 이미지로 변경)\n",
        "plt.title(CLASSES[labels[idx].item()]) # item함수는 값이 하나인 텐서를 스칼라값으로 출력\n",
        "plt.imshow(item_npimg, cmap='gray') # matplotlib color 이용\n",
        "plt.show()"
      ],
      "execution_count": 52,
      "outputs": [
        {
          "output_type": "display_data",
          "data": {
            "image/png": "[encoded data removed]",
            "text/plain": [
              "<Figure size 432x288 with 1 Axes>"
            ]
          },
          "metadata": {
            "tags": []
          }
        }
      ]
    },
    {
      "cell_type": "code",
      "metadata": {
        "id": "Z4hzi2Cq5huY",
        "colab_type": "code",
        "outputId": "95b5821e-6fde-48ac-fa63-57d0ae193cfc",
        "colab": {
          "base_uri": "https://localhost:8080/",
          "height": 281
        }
      },
      "source": [
        "idx=0\n",
        "item_img = images[idx]\n",
        "item_npimg = item_img.squeeze().numpy()\n",
        "plt.title(CLASSES[labels[idx].item()])\n",
        "plt.imshow(item_npimg, cmap='hot')\n",
        "plt.show()"
      ],
      "execution_count": 53,
      "outputs": [
        {
          "output_type": "display_data",
          "data": {
            "image/png": "[encoded data removed]",
            "text/plain": [
              "<Figure size 432x288 with 1 Axes>"
            ]
          },
          "metadata": {
            "tags": []
          }
        }
      ]
    },
    {
      "cell_type": "code",
      "metadata": {
        "id": "omsoVrNS50nj",
        "colab_type": "code",
        "outputId": "e574b408-080b-47be-bb25-3682d36b32ca",
        "colab": {
          "base_uri": "https://localhost:8080/",
          "height": 265
        }
      },
      "source": [
        "plt.imshow(item_npimg, cmap='cool')\n",
        "plt.show()"
      ],
      "execution_count": 54,
      "outputs": [
        {
          "output_type": "display_data",
          "data": {
            "image/png": "[encoded data removed]",
            "text/plain": [
              "<Figure size 432x288 with 1 Axes>"
            ]
          },
          "metadata": {
            "tags": []
          }
        }
      ]
    },
    {
      "cell_type": "markdown",
      "metadata": {
        "id": "Nt1j9pdG6GBy",
        "colab_type": "text"
      },
      "source": [
        "---\n",
        "\n",
        "> ## 인공 신경망으로 패션 아이템 분류하기\n",
        "\n",
        "#### 이번에는 패션 아이템 이미지를 인식하여 레이블을 예측하는 기본적인 심층 인공 신경망(Deep Neural Network, DNN)을 만들어 보자.\n",
        "\n",
        "#### 먼저 파이토치, 인공 신경망 모델의 재료들을 담고 있는 nn 모듈, 최적화를 위한 optim 모듈, nn모듈의 함수 버전인 functional을 F로 불러온다. 또한 데이터셋을 다루기 위해 transforms와 datasets를 임포트한다."
      ]
    },
    {
      "cell_type": "code",
      "metadata": {
        "id": "HtM1gjsk55y4",
        "colab_type": "code",
        "colab": {}
      },
      "source": [
        "import torch\n",
        "import torch.nn as nn\n",
        "import torch.optim as optim\n",
        "import torch.nn.functional as F\n",
        "from torchvision import transforms, datasets"
      ],
      "execution_count": 0,
      "outputs": []
    },
    {
      "cell_type": "code",
      "metadata": {
        "id": "BShq60oJ6vhi",
        "colab_type": "code",
        "colab": {}
      },
      "source": [
        "# CUDA(pytorch에서 GPU를 사용하게 해주는 도구)설치 여부를 기준으로 GPU / CPU 사용 결정\n",
        "USE_CUDA = torch.cuda.is_available()\n",
        "# DEVICE 변수를 통해 나중에 텐서 및 가중치 연산에서 GPU / CPU 사용결정\n",
        "DEVICE = torch.device('cuda' if USE_CUDA else 'cpu')"
      ],
      "execution_count": 0,
      "outputs": []
    },
    {
      "cell_type": "code",
      "metadata": {
        "id": "n8jZz0yd7B6v",
        "colab_type": "code",
        "outputId": "58b3be3b-7781-4b73-a9f7-f6bea415ca44",
        "colab": {
          "base_uri": "https://localhost:8080/",
          "height": 34
        }
      },
      "source": [
        "USE_CUDA"
      ],
      "execution_count": 57,
      "outputs": [
        {
          "output_type": "execute_result",
          "data": {
            "text/plain": [
              "False"
            ]
          },
          "metadata": {
            "tags": []
          },
          "execution_count": 57
        }
      ]
    },
    {
      "cell_type": "code",
      "metadata": {
        "id": "RQh4I5Zh7EAH",
        "colab_type": "code",
        "colab": {}
      },
      "source": [
        "# 이폭은 학습 데이터 전체를 총 몇 번이나 볼 것인가에 대한 설정\n",
        "EPOCHS = 30\n",
        "BATCH_SIZE = 64"
      ],
      "execution_count": 0,
      "outputs": []
    },
    {
      "cell_type": "markdown",
      "metadata": {
        "id": "-W6zqBiQYx64",
        "colab_type": "text"
      },
      "source": [
        "#### 이미지 분류는 한장의 이미지를 받아 이 이미지가 어느 클래스(레이블)에 속하는지 알려주는 문제이다.\n",
        "\n",
        "#### 이제 신경망을 구현해 보자. 모델은 입력 x와 레이블 y를 받아 학습한 다음, 새로운 x가 왔을 때 어떤 패션 아이템인지 예측할 것이다. 우리가 사용할 모델은 레이어가 3개인 3층 인공 신경망이다.\n",
        "\n",
        "#### 먼저 생성자에 우리 모델의 가중치 변수들이 들어가는 연산을 선언해야 한다. nn.Linear 클래스는 선형결합을 수행하는 객체를 만든다."
      ]
    },
    {
      "cell_type": "code",
      "metadata": {
        "id": "bEIWsNw57pyF",
        "colab_type": "code",
        "colab": {}
      },
      "source": [
        "class Net(nn.Module):\n",
        "  def __init__(self):\n",
        "    super(Net, self).__init__()\n",
        "# 함수 fc1()은 픽셀값 784개를 입력받아 가중치를 행렬곱하고 편향을 더해 값 256개를 출력\n",
        "    self.fc1 = nn.Linear(784, 256)\n",
        "# fc2()와 fc3() 함수를 거쳐 마지막에 값 10개를 출력\n",
        "    self.fc2 = nn.Linear(256, 128)\n",
        "# 출력값 10개는 각각의 클래스를 나타내며 가장 큰 값이 이 모델의 예측값\n",
        "    self.fc3 = nn.Linear(128, 10)\n",
        "\n",
        "# 순전파\n",
        "  def forward(self, x):\n",
        "    x = x.view(-1, 784)\n",
        "    x = F.relu(self.fc1(x)) # Relu 활성화 함수 사용\n",
        "    x = F.relu(self.fc2(x))\n",
        "    x = self.fc3(x)\n",
        "    return x"
      ],
      "execution_count": 0,
      "outputs": []
    },
    {
      "cell_type": "code",
      "metadata": {
        "id": "suXEJ-PbaHxY",
        "colab_type": "code",
        "colab": {}
      },
      "source": [
        "# 모델 선언\n",
        "# CUDA를 사용할 경우 GPU를 아닐 경우 CPU로 보내도록 설정\n",
        "model = Net().to(DEVICE) # to함수는 모델의 파라미터들을 지정한 장치의 메모리로 보냄\n",
        "\n",
        "# 최적화 알고리즘으로 파이토치 내장 모듈인 optim.SGD(확률적 경사하강법) 사용\n",
        "optimizer = optim.SGD(model.parameters(), lr=0.01)\n",
        "# model.parameters()는 모델 내부의 정보를 넘겨줌, lr=학습률"
      ],
      "execution_count": 0,
      "outputs": []
    },
    {
      "cell_type": "markdown",
      "metadata": {
        "id": "6hHs5sNEfWvC",
        "colab_type": "text"
      },
      "source": [
        "#### 학습은 데이터를 보고 모델의 가중치를 조절하는 작업을 반복하며 이루어진다. 학습에 들어가는 모든 연산은 train() 함수 안에서 해결할 것이다."
      ]
    },
    {
      "cell_type": "code",
      "metadata": {
        "id": "sNaWW5evexdc",
        "colab_type": "code",
        "colab": {}
      },
      "source": [
        "def train(model, train_loader, optimizer): # 각 인자는 모델, 데이터 공급, 최적화 역할\n",
        "  model.train() # 모델을 학습 모드로 설정\n",
        "# 배치마다의 data, target에 대한 정보를 DEVICE로 보냄\n",
        "  for batch_idx, (data, target) in enumerate(train_loader):\n",
        "    data, target = data.to(DEVICE), target.to(DEVICE)\n",
        "# 반복 때마다 기울기를 새로 계산(누적하지 않음)하므로 zero_grad() 설정\n",
        "    optimizer.zero_grad()\n",
        "    output=model(data)\n",
        "# 교차 엔트로피 사용하여 오차 구함\n",
        "# loss는 미니배치 64개의 오차들의 평균인 하나의 숫자\n",
        "    loss=F.cross_entropy(output, target)\n",
        "# backward 함수를 실행하면 자동으로 기울기가 계산\n",
        "    loss.backward()\n",
        "# 계산한 기울기를 앞서 정의한 알고리즘(SGD)에 맞추어 가중치 수정(매개변수 갱신)\n",
        "    optimizer.step()"
      ],
      "execution_count": 0,
      "outputs": []
    },
    {
      "cell_type": "markdown",
      "metadata": {
        "id": "KLTd-L2ihydN",
        "colab_type": "text"
      },
      "source": [
        "#### 우리가 원하는 모델은 학습 데이터에 최적화한 모델이 아니라 모든 데이터에서 높은 성능을 보이는 모델이다. 세상에 존재하는 모든 데이터에 최적화하는 것을 <b>일반화(generalization)</b>라고 한다. 또한 학습 데이터를 기반으로 한 모델이 학습하지 않은 데이터에 얼마나 적응하는지를 수치로 나타낸 것을 <b>일반화 오류(generalization error)</b>라고 한다. 일반화 오류는 학습과 실제 성능의 괴리를 뜻하므로 작을수록 좋다.\n",
        "\n",
        "#### 현실적으로 세상의 모든 데이터를 모을 수 없으므로 보통 학습 데이터의 일부를 떼어내어 평가용 데이터셋을 마련한다. 이를 보통 테스트셋(test set)이라고도 하며, 모델이 학습 과정에서 본 적이 없는 실제 세상의 모든 데이터를 대표한다.\n",
        "\n",
        "#### Fashion MNIST 데이터는 비교적 규모가 작은 데이터셋으로 학습/테스트 두가지로 나뉘어 있지만 일반적인 머신러닝 데이터셋은 학습, 검증, 테스트 3단계로 나뉜다. 각각의 역할은 아래와 같다.\n",
        " - 학습용 데이터셋 : 가중치 조절\n",
        " - 검증용 데이터셋 : 배치 크기와 모델 설계 같은 하이퍼파라미터 조절\n",
        " - 테스트용 데이터셋 : 성능 보고"
      ]
    },
    {
      "cell_type": "code",
      "metadata": {
        "id": "SQu7Vd3bhfNX",
        "colab_type": "code",
        "colab": {}
      },
      "source": [
        "# 이폭이 끝날 때마다 테스트셋으로 모델의 성능 측정하는 evaluate 함수 생성\n",
        "def evaluate(model, test_loader): # 평가가 목적이므로 최적화는 필요 없음\n",
        "    model.eval() # 모델을 평가 모드로 변경\n",
        "    test_loss=0\n",
        "    correct=0\n",
        "# 평가 과정에서는 기울기를 계산하지 않아도 됨\n",
        "    with torch.no_grad():\n",
        "        for data, target in test_loader:\n",
        "            data, target = data.to(DEVICE), target.to(DEVICE)\n",
        "            output=model(data)\n",
        "# 평가를 위해 미니배치들의 평균 대신 합을 받아오도록 reduction='sum' 설정, 즉 모든 오차의 합 출력\n",
        "            test_loss += F.cross_entropy(output, target, reduction='sum').item()\n",
        "# 예측값. output.max()는 가장 큰 값과 그 인덱스를 출력. 그 중 인덱스 이용\n",
        "            pred=output.max(1,keepdim=True)[1]\n",
        "# eq함수는 일치하면 1, 아니면 0 출력. sum함수로 배열 내 값 모두 더하여 배치에서 모델이 정답을 맞힌 개수 구함\n",
        "            correct+=pred.eq(target.view_as(pred)).sum().item()\n",
        "# 총 정답 평균을 구하여 정확도를 구함\n",
        "    test_loss /= len(test_loader.dataset)\n",
        "    test_accuracy=100. * correct / len(test_loader.dataset)\n",
        "    return test_loss, test_accuracy"
      ],
      "execution_count": 0,
      "outputs": []
    },
    {
      "cell_type": "code",
      "metadata": {
        "id": "9jMZVEUnkKc5",
        "colab_type": "code",
        "outputId": "f7194fc0-0837-452a-d6df-4e34dcbfd907",
        "colab": {
          "base_uri": "https://localhost:8080/",
          "height": 545
        }
      },
      "source": [
        "for epoch in range(1,EPOCHS+1):\n",
        "    train(model, train_loader, optimizer) # 훈련 후 평가\n",
        "    test_loss, test_accuracy=evaluate(model, test_loader)\n",
        "# 오차는 소숫점 4자리까지, 정확도는 소숫점 2자리까지\n",
        "    print('[{}] Test Loss: {:.4f}, Accuracy: {:.2f}%'.format(epoch, test_loss, test_accuracy))"
      ],
      "execution_count": 63,
      "outputs": [
        {
          "output_type": "stream",
          "text": [
            "[1] Test Loss: 0.5572, Accuracy: 80.46%\n",
            "[2] Test Loss: 0.4866, Accuracy: 82.48%\n",
            "[3] Test Loss: 0.4510, Accuracy: 83.82%\n",
            "[4] Test Loss: 0.4263, Accuracy: 84.84%\n",
            "[5] Test Loss: 0.4055, Accuracy: 85.52%\n",
            "[6] Test Loss: 0.3935, Accuracy: 85.89%\n",
            "[7] Test Loss: 0.3837, Accuracy: 86.09%\n",
            "[8] Test Loss: 0.3759, Accuracy: 86.47%\n",
            "[9] Test Loss: 0.3702, Accuracy: 86.56%\n",
            "[10] Test Loss: 0.3652, Accuracy: 86.68%\n",
            "[11] Test Loss: 0.3596, Accuracy: 86.99%\n",
            "[12] Test Loss: 0.3536, Accuracy: 87.33%\n",
            "[13] Test Loss: 0.3500, Accuracy: 87.49%\n",
            "[14] Test Loss: 0.3457, Accuracy: 87.59%\n",
            "[15] Test Loss: 0.3443, Accuracy: 87.62%\n",
            "[16] Test Loss: 0.3449, Accuracy: 87.66%\n",
            "[17] Test Loss: 0.3438, Accuracy: 87.72%\n",
            "[18] Test Loss: 0.3419, Accuracy: 88.03%\n",
            "[19] Test Loss: 0.3423, Accuracy: 87.93%\n",
            "[20] Test Loss: 0.3418, Accuracy: 87.94%\n",
            "[21] Test Loss: 0.3403, Accuracy: 88.00%\n",
            "[22] Test Loss: 0.3419, Accuracy: 88.06%\n",
            "[23] Test Loss: 0.3406, Accuracy: 88.08%\n",
            "[24] Test Loss: 0.3400, Accuracy: 88.10%\n",
            "[25] Test Loss: 0.3417, Accuracy: 88.06%\n",
            "[26] Test Loss: 0.3434, Accuracy: 88.13%\n",
            "[27] Test Loss: 0.3446, Accuracy: 88.12%\n",
            "[28] Test Loss: 0.3493, Accuracy: 87.98%\n",
            "[29] Test Loss: 0.3501, Accuracy: 88.13%\n",
            "[30] Test Loss: 0.3514, Accuracy: 88.16%\n"
          ],
          "name": "stdout"
        }
      ]
    },
    {
      "cell_type": "markdown",
      "metadata": {
        "id": "rDHeiEf3tKys",
        "colab_type": "text"
      },
      "source": [
        "---\n",
        "\n",
        "> ## 과적합과 드롭아웃\n",
        "\n",
        "#### 머신러닝 모델에서 너무 학습 데이터에만 치중되어 테스트셋이나 시제 상황에서는 성능이 나오지 않는 것을 <b>과적합(overfitting)</b>이라고 한다. 이와 반대로 학습을 제대로 하지 않는 상황을 <b>과소적합(underfitting)</b>이라고 한다. 우리가 원하는 상태는 이 중간인 <b>일반화(generalization)</b>이다.\n",
        "\n",
        "![DNN3](https://user-images.githubusercontent.com/52277776/73606763-05810d80-45f1-11ea-8425-9a1101ec84bd.jpg)\n",
        "\n",
        "#### 앞에서 데이터셋을 학습, 검증, 테스트셋으로 나눈다고 하였다. 이는 과적합을 탐지하려는 노력의 일환이기도 하다. 학습 중간중간 검증용 데이터셋으로 과적합 상태를 확인한다. 검증 데이터셋에 대한 성능이 나빠지기 시작하기 직전이 가장 적합한 모델이라고 할 수 있는데, 이 타이밍에 모델을 저장하여 이용하는 것을 <b>조기 종료</b>라고 한다.\n",
        "\n",
        "![DNN2](https://user-images.githubusercontent.com/52277776/73606759-00bc5980-45f1-11ea-88d7-bdcdc5d7fd2b.jpg)"
      ]
    },
    {
      "cell_type": "markdown",
      "metadata": {
        "id": "0a_4JnJ9wmlF",
        "colab_type": "text"
      },
      "source": [
        "#### 과적합 방지의 궁극적 방법은 세상의 모든 데이터를 모으는 것이지만 이는 부족하기에 이미 가진 데이터를 최대한 늘리는 방법을 시도한다.즉, 이미지 일부를 자르고, 돌리고, 뒤집는 등의 여러 방법을 사용한다. 여기에서는 간단히 좌우를 뒤집는 대칭이동 전략을 사용할 것이다."
      ]
    },
    {
      "cell_type": "code",
      "metadata": {
        "id": "5nHryiIkkM6K",
        "colab_type": "code",
        "colab": {}
      },
      "source": [
        "# transform에 transforms.RandomHorizontalFlip() 추가 적용\n",
        "trainset=datasets.FashionMNIST(root='./.data', train=True, download=True, transform=transforms.Compose([transforms.RandomHorizontalFlip(), transforms.ToTensor()]))\n",
        "testset=datasets.FashionMNIST(root='./.data', train=False, download=True, transform=transforms.Compose([transforms.RandomHorizontalFlip(), transforms.ToTensor()]))\n",
        "\n",
        "BATCH_SIZE=16\n",
        "train_loader=data.DataLoader(dataset=trainset, batch_size=BATCH_SIZE)\n",
        "test_loader=data.DataLoader(dataset=testset, batch_size=BATCH_SIZE)\n",
        "\n",
        "dataiter=iter(train_loader)\n",
        "images, labels=next(dataiter)"
      ],
      "execution_count": 0,
      "outputs": []
    },
    {
      "cell_type": "code",
      "metadata": {
        "id": "TAM8DLAhxUAo",
        "colab_type": "code",
        "outputId": "bb272d31-6cb1-462c-b958-6701d67dcc78",
        "colab": {
          "base_uri": "https://localhost:8080/",
          "height": 190
        }
      },
      "source": [
        "img=utils.make_grid(images, padding=0)\n",
        "npimg=img.numpy()\n",
        "plt.figure(figsize=(10,7))\n",
        "plt.imshow(np.transpose(npimg,(1,2,0)))\n",
        "plt.show() # 랜덤으로 몇 개의 이미지의 좌우가 뒤집힌 것을 확인"
      ],
      "execution_count": 65,
      "outputs": [
        {
          "output_type": "display_data",
          "data": {
            "image/png": "[encoded data removed]",
            "text/plain": [
              "<Figure size 720x504 with 1 Axes>"
            ]
          },
          "metadata": {
            "tags": []
          }
        }
      ]
    },
    {
      "cell_type": "code",
      "metadata": {
        "id": "KNtfDL-kxXQm",
        "colab_type": "code",
        "colab": {}
      },
      "source": [
        "# 아래와 같은 코드로 구현 가능\n",
        "train_loader=torch.utils.data.DataLoader(datasets.MNIST('./.data', train=True, download=True, transform=transforms.Compose([transforms.RandomHorizontalFlip(), transforms.ToTensor(), transforms.Normalize((0.1307,),(0.3081,))])), batch_size=BATCH_SIZE, shuffle=True)\n",
        "test_loader=torch.utils.data.DataLoader(datasets.MNIST('./.data', train=False, transform=transforms.Compose([transforms.RandomHorizontalFlip(), transforms.ToTensor(), transforms.Normalize((0.1307,),(0.3081,))])), batch_size=BATCH_SIZE, shuffle=True)"
      ],
      "execution_count": 0,
      "outputs": []
    },
    {
      "cell_type": "markdown",
      "metadata": {
        "id": "-z0QqYNjx8qE",
        "colab_type": "text"
      },
      "source": [
        "#### <b>드롭아웃(dropout)</b>이란 학습 진행과정에서 신경망의 일부를 사용하지 않고, 검증과 테스트 단계에서는 모든 뉴런을 사용하는 방법이다. 이는 학습에서 배재된 뉴런 외에 다른 뉴런들에 가중치를 분산시키고 개별 뉴런이 특정에 고정되는 현상을 방지한다.\n",
        "\n",
        "![DNN1](https://user-images.githubusercontent.com/52277776/73606756-fef29600-45f0-11ea-83bc-c37d744e49d3.jpg)"
      ]
    },
    {
      "cell_type": "code",
      "metadata": {
        "id": "U0EcK9BZx1i8",
        "colab_type": "code",
        "colab": {}
      },
      "source": [
        "class Net(nn.Module):\n",
        "# 드롭아웃 확률 = 0.2로 설정, 즉 학습 시 20% 뉴련을 사용하지 않음\n",
        "    def __init__(self, dropout_p=0.2):\n",
        "        super(Net, self).__init__()\n",
        "        self.fc1 = nn.Linear(784,256)\n",
        "        self.fc2 = nn.Linear(256,128)\n",
        "        self.fc3 = nn.Linear(128,10)\n",
        "        self.dropout_p = dropout_p # 드롭아웃 확률\n",
        "    \n",
        "    def forward(self, x):\n",
        "        x = x.view(-1,784)\n",
        "        x = F.relu(self.fc1(x))\n",
        "# 학습모델에서만 드롭아웃을 적용하기 위한 self.training 입력\n",
        "        x = F.dropout(x, training=self.training, p=self.dropout_p)\n",
        "        x = F.relu(self.fc2(x))\n",
        "        x = F.dropout(x, training=self.training, p=self.dropout_p)\n",
        "        x = self.fc3(x)\n",
        "        return x"
      ],
      "execution_count": 0,
      "outputs": []
    },
    {
      "cell_type": "code",
      "metadata": {
        "id": "uSXFMngqyYih",
        "colab_type": "code",
        "colab": {}
      },
      "source": [
        "# 모델 선언에도 드롭아웃 확률 추가\n",
        "model=Net(dropout_p=0.2).to(DEVICE)\n",
        "optimizer=optim.SGD(model.parameters(), lr=0.01)"
      ],
      "execution_count": 0,
      "outputs": []
    },
    {
      "cell_type": "code",
      "metadata": {
        "id": "ngY3cIpcya9y",
        "colab_type": "code",
        "colab": {}
      },
      "source": [
        "def train(model, train_loader, optimizer):\n",
        "    model.train()\n",
        "    for batch_idx, (data, target) in enumerate(train_loader):\n",
        "        data, target=data.to(DEVICE), target.to(DEVICE)\n",
        "        optimizer.zero_grad()\n",
        "        output=model(data)\n",
        "        loss=F.cross_entropy(output, target)\n",
        "        loss.backward()\n",
        "        optimizer.step()"
      ],
      "execution_count": 0,
      "outputs": []
    },
    {
      "cell_type": "code",
      "metadata": {
        "id": "AiKbBzbIygP7",
        "colab_type": "code",
        "colab": {}
      },
      "source": [
        "def evaluate(model, test_loader):\n",
        "    model.eval()\n",
        "    test_loss=0\n",
        "    correct=0\n",
        "    with torch.no_grad():\n",
        "        for data, target in test_loader :\n",
        "            data, target=data.to(DEVICE), target.to(DEVICE)\n",
        "            output=model(data)\n",
        "            test_loss += F.cross_entropy(output, target, reduction='sum').item()\n",
        "            pred=output.max(1,keepdim=True)[1]\n",
        "            correct += pred.eq(target.view_as(pred)).sum().item()\n",
        "    test_loss /= len(test_loader.dataset)\n",
        "    test_accuracy=100.*correct / len(test_loader.dataset)\n",
        "    return test_loss, test_accuracy"
      ],
      "execution_count": 0,
      "outputs": []
    },
    {
      "cell_type": "code",
      "metadata": {
        "id": "O1FPj-nHyhQq",
        "colab_type": "code",
        "outputId": "471b3ca3-5eba-4241-c3c1-a301c76a2685",
        "colab": {
          "base_uri": "https://localhost:8080/",
          "height": 897
        }
      },
      "source": [
        "EPOCHS=50\n",
        "for epoch in range(1, EPOCHS+1):\n",
        "    train(model, train_loader, optimizer)\n",
        "    test_loss, test_accuracy=evaluate(model, test_loader)\n",
        "    \n",
        "    print('[{}] Test Loss : {:.4f}, Accuracy : {:.2f}%'.format(epoch, test_loss, test_accuracy))"
      ],
      "execution_count": 71,
      "outputs": [
        {
          "output_type": "stream",
          "text": [
            "[1] Test Loss : 0.3131, Accuracy : 90.28%\n",
            "[2] Test Loss : 0.2025, Accuracy : 93.56%\n",
            "[3] Test Loss : 0.1718, Accuracy : 94.56%\n",
            "[4] Test Loss : 0.1459, Accuracy : 95.37%\n",
            "[5] Test Loss : 0.1318, Accuracy : 95.76%\n",
            "[6] Test Loss : 0.1219, Accuracy : 96.02%\n",
            "[7] Test Loss : 0.1151, Accuracy : 96.33%\n",
            "[8] Test Loss : 0.1153, Accuracy : 96.26%\n",
            "[9] Test Loss : 0.1021, Accuracy : 96.83%\n",
            "[10] Test Loss : 0.1045, Accuracy : 96.62%\n",
            "[11] Test Loss : 0.0967, Accuracy : 96.95%\n",
            "[12] Test Loss : 0.0954, Accuracy : 97.06%\n",
            "[13] Test Loss : 0.1006, Accuracy : 96.76%\n",
            "[14] Test Loss : 0.0886, Accuracy : 97.21%\n",
            "[15] Test Loss : 0.0898, Accuracy : 97.17%\n",
            "[16] Test Loss : 0.0858, Accuracy : 97.33%\n",
            "[17] Test Loss : 0.0855, Accuracy : 97.23%\n",
            "[18] Test Loss : 0.0866, Accuracy : 97.31%\n",
            "[19] Test Loss : 0.0846, Accuracy : 97.42%\n",
            "[20] Test Loss : 0.0843, Accuracy : 97.48%\n",
            "[21] Test Loss : 0.0825, Accuracy : 97.48%\n",
            "[22] Test Loss : 0.0831, Accuracy : 97.48%\n",
            "[23] Test Loss : 0.0821, Accuracy : 97.53%\n",
            "[24] Test Loss : 0.0796, Accuracy : 97.50%\n",
            "[25] Test Loss : 0.0844, Accuracy : 97.43%\n",
            "[26] Test Loss : 0.0820, Accuracy : 97.51%\n",
            "[27] Test Loss : 0.0808, Accuracy : 97.58%\n",
            "[28] Test Loss : 0.0769, Accuracy : 97.62%\n",
            "[29] Test Loss : 0.0801, Accuracy : 97.55%\n",
            "[30] Test Loss : 0.0808, Accuracy : 97.64%\n",
            "[31] Test Loss : 0.0801, Accuracy : 97.62%\n",
            "[32] Test Loss : 0.0804, Accuracy : 97.57%\n",
            "[33] Test Loss : 0.0772, Accuracy : 97.63%\n",
            "[34] Test Loss : 0.0806, Accuracy : 97.75%\n",
            "[35] Test Loss : 0.0784, Accuracy : 97.72%\n",
            "[36] Test Loss : 0.0816, Accuracy : 97.62%\n",
            "[37] Test Loss : 0.0796, Accuracy : 97.78%\n",
            "[38] Test Loss : 0.0801, Accuracy : 97.54%\n",
            "[39] Test Loss : 0.0778, Accuracy : 97.68%\n",
            "[40] Test Loss : 0.0794, Accuracy : 97.62%\n",
            "[41] Test Loss : 0.0747, Accuracy : 97.68%\n",
            "[42] Test Loss : 0.0741, Accuracy : 97.80%\n",
            "[43] Test Loss : 0.0785, Accuracy : 97.83%\n",
            "[44] Test Loss : 0.0807, Accuracy : 97.69%\n",
            "[45] Test Loss : 0.0764, Accuracy : 97.74%\n",
            "[46] Test Loss : 0.0784, Accuracy : 97.66%\n",
            "[47] Test Loss : 0.0779, Accuracy : 97.69%\n",
            "[48] Test Loss : 0.0794, Accuracy : 97.64%\n",
            "[49] Test Loss : 0.0825, Accuracy : 97.77%\n",
            "[50] Test Loss : 0.0775, Accuracy : 97.79%\n"
          ],
          "name": "stdout"
        }
      ]
    },
    {
      "cell_type": "markdown",
      "metadata": {
        "id": "EG1XPLYs2dsV",
        "colab_type": "text"
      },
      "source": [
        "---\n",
        "\n",
        "## 지금까지 패션 데이터를 통해 간단한 딥러닝 모델을 학습하였다. 또한 데이터셋 관리법과 성능 측정법을 알아보았고 과적합과 이를 해결하기위한 데이터 늘리기 및 드롭아웃을 배워 보았다."
      ]
    }
  ]
}