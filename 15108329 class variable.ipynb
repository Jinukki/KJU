{
  "nbformat": 4,
  "nbformat_minor": 0,
  "metadata": {
    "kernelspec": {
      "display_name": "Python 3",
      "language": "python",
      "name": "python3"
    },
    "language_info": {
      "codemirror_mode": {
        "name": "ipython",
        "version": 3
      },
      "file_extension": ".py",
      "mimetype": "text/x-python",
      "name": "python",
      "nbconvert_exporter": "python",
      "pygments_lexer": "ipython3",
      "version": "3.7.0"
    },
    "colab": {
      "name": "15108329 class variable.ipynb",
      "provenance": []
    }
  },
  "cells": [
    {
      "cell_type": "code",
      "metadata": {
        "id": "6EChcnYl89Sn",
        "colab_type": "code",
        "colab": {}
      },
      "source": [
        "class Point:\n",
        "    a = 10\n",
        "    def __init__(self, _x, _y):\n",
        "        self.x = _x\n",
        "        self.y = _y\n"
      ],
      "execution_count": 0,
      "outputs": []
    },
    {
      "cell_type": "code",
      "metadata": {
        "id": "IEmNUlY789S5",
        "colab_type": "code",
        "colab": {}
      },
      "source": [
        "p1 = Point(1, 2)"
      ],
      "execution_count": 0,
      "outputs": []
    },
    {
      "cell_type": "code",
      "metadata": {
        "id": "Md_C1ae-89TE",
        "colab_type": "code",
        "colab": {},
        "outputId": "8004a76e-45b3-49ff-b261-051b12d0e3b5"
      },
      "source": [
        "p1.__dict__"
      ],
      "execution_count": 0,
      "outputs": [
        {
          "output_type": "execute_result",
          "data": {
            "text/plain": [
              "{'x': 1, 'y': 2}"
            ]
          },
          "metadata": {
            "tags": []
          },
          "execution_count": 3
        }
      ]
    },
    {
      "cell_type": "code",
      "metadata": {
        "id": "nLQ11FOa89TP",
        "colab_type": "code",
        "colab": {},
        "outputId": "795e4296-9580-4430-cde5-01626f9439bd"
      },
      "source": [
        "Point.__dict__"
      ],
      "execution_count": 0,
      "outputs": [
        {
          "output_type": "execute_result",
          "data": {
            "text/plain": [
              "mappingproxy({'__module__': '__main__',\n",
              "              'a': 10,\n",
              "              '__init__': <function __main__.Point.__init__(self, _x, _y)>,\n",
              "              '__dict__': <attribute '__dict__' of 'Point' objects>,\n",
              "              '__weakref__': <attribute '__weakref__' of 'Point' objects>,\n",
              "              '__doc__': None})"
            ]
          },
          "metadata": {
            "tags": []
          },
          "execution_count": 4
        }
      ]
    },
    {
      "cell_type": "code",
      "metadata": {
        "id": "oVX1LZ7289Ta",
        "colab_type": "code",
        "colab": {},
        "outputId": "477c779d-6947-48fe-9c75-dfc515ed0237"
      },
      "source": [
        "Point.a"
      ],
      "execution_count": 0,
      "outputs": [
        {
          "output_type": "execute_result",
          "data": {
            "text/plain": [
              "10"
            ]
          },
          "metadata": {
            "tags": []
          },
          "execution_count": 5
        }
      ]
    },
    {
      "cell_type": "code",
      "metadata": {
        "id": "PWYtcXyT89Tk",
        "colab_type": "code",
        "colab": {},
        "outputId": "cb34f9b1-5ab2-423f-9421-213019775767"
      },
      "source": [
        "p1.a"
      ],
      "execution_count": 0,
      "outputs": [
        {
          "output_type": "execute_result",
          "data": {
            "text/plain": [
              "10"
            ]
          },
          "metadata": {
            "tags": []
          },
          "execution_count": 7
        }
      ]
    },
    {
      "cell_type": "code",
      "metadata": {
        "id": "JzKX7bRe89Tp",
        "colab_type": "code",
        "colab": {},
        "outputId": "e705a6b7-224a-4707-cabd-ece3d3e19da7"
      },
      "source": [
        "id(Point.a)"
      ],
      "execution_count": 0,
      "outputs": [
        {
          "output_type": "execute_result",
          "data": {
            "text/plain": [
              "140712553148448"
            ]
          },
          "metadata": {
            "tags": []
          },
          "execution_count": 8
        }
      ]
    },
    {
      "cell_type": "code",
      "metadata": {
        "id": "Qu33tC0p89T0",
        "colab_type": "code",
        "colab": {},
        "outputId": "c150f829-7a35-4c93-9ac0-8f1bb40cd15d"
      },
      "source": [
        "id(p1.a)"
      ],
      "execution_count": 0,
      "outputs": [
        {
          "output_type": "execute_result",
          "data": {
            "text/plain": [
              "140712553148448"
            ]
          },
          "metadata": {
            "tags": []
          },
          "execution_count": 10
        }
      ]
    },
    {
      "cell_type": "code",
      "metadata": {
        "id": "h6VW0Ns389T6",
        "colab_type": "code",
        "colab": {}
      },
      "source": [
        "p1.a=5"
      ],
      "execution_count": 0,
      "outputs": []
    },
    {
      "cell_type": "code",
      "metadata": {
        "id": "GRS_FUJv89UC",
        "colab_type": "code",
        "colab": {},
        "outputId": "7eb1abca-6d52-4aba-c240-72989a0b1b62"
      },
      "source": [
        "id(p1.a)"
      ],
      "execution_count": 0,
      "outputs": [
        {
          "output_type": "execute_result",
          "data": {
            "text/plain": [
              "140712553148288"
            ]
          },
          "metadata": {
            "tags": []
          },
          "execution_count": 12
        }
      ]
    },
    {
      "cell_type": "code",
      "metadata": {
        "id": "EgAAU1nL89UH",
        "colab_type": "code",
        "colab": {},
        "outputId": "8f5f85b0-e097-4f6d-b92a-5cd9eb1a577b"
      },
      "source": [
        "Point.a"
      ],
      "execution_count": 0,
      "outputs": [
        {
          "output_type": "execute_result",
          "data": {
            "text/plain": [
              "10"
            ]
          },
          "metadata": {
            "tags": []
          },
          "execution_count": 13
        }
      ]
    },
    {
      "cell_type": "code",
      "metadata": {
        "id": "Jh7ylsKk89UM",
        "colab_type": "code",
        "colab": {},
        "outputId": "8c703bbf-b88d-4851-c46a-a7f7f52dea3c"
      },
      "source": [
        "id(Point.a)"
      ],
      "execution_count": 0,
      "outputs": [
        {
          "output_type": "execute_result",
          "data": {
            "text/plain": [
              "140712553148448"
            ]
          },
          "metadata": {
            "tags": []
          },
          "execution_count": 14
        }
      ]
    },
    {
      "cell_type": "code",
      "metadata": {
        "id": "wUUP-_EU89UW",
        "colab_type": "code",
        "colab": {},
        "outputId": "7fe9e1a2-df24-4854-d89c-12af2822d0a5"
      },
      "source": [
        "p1.__dict__"
      ],
      "execution_count": 0,
      "outputs": [
        {
          "output_type": "execute_result",
          "data": {
            "text/plain": [
              "{'x': 1, 'y': 2, 'a': 5}"
            ]
          },
          "metadata": {
            "tags": []
          },
          "execution_count": 15
        }
      ]
    },
    {
      "cell_type": "markdown",
      "metadata": {
        "id": "AHrbLj9I89Ub",
        "colab_type": "text"
      },
      "source": [
        "## 클래스 변수는 모든 객체가 공유하므로 \"p1.a\" 의 값을 따로 설정하지 않는다면 \"pl.__dict__\"함수를 실행시켰을 때 a의 값이 따로 나타나지는 않지만 클래스 변수인 a를 그대로 받아<br> Point.a=p1.a=10이 된다.\n",
        "## 클래스 변수 a를 같이 받기에 id함수의 주소도 같은 결과를<br> 나타낸다.\n",
        "## 여기서 \"p1.a=5\"로 따로 설정을 해주면 인스턴스 변수가 새롭게 하나 지정되어 생성되는 것이고 때문에 id함수에서 다른 결과를 나타낸다.\n",
        "## 이 근거로 위에서 알 수 있듯이 \"p1.__dict__\" 함수를 다시<br> 실행시켜보면 a:5 가 하나 추가된 것을 알 수 있다.\n",
        "## 클래스 변수 a와는 다른 인스턴스 변수로의 a가 새로 추가된<br> 것이라고 볼 수 있다.\n",
        "## 그 결과로 Point.a=10으로 그대로 유지되고 p1.a=5라는<br> 값이 나타난다.\n",
        "## 클래스 변수가 인스턴스 변수보다 지배적이기 때문에 인스턴스 변수가 클래스 변수에 접근하여 수정할 수 없으며 위의 코드 진행의 결과를 통해서도 이를 확인할 수 있다."
      ]
    }
  ]
}