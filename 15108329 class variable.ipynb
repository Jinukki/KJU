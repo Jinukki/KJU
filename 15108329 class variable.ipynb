{
  "nbformat": 4,
  "nbformat_minor": 0,
  "metadata": {
    "kernelspec": {
      "display_name": "Python 3",
      "language": "python",
      "name": "python3"
    },
    "language_info": {
      "codemirror_mode": {
        "name": "ipython",
        "version": 3
      },
      "file_extension": ".py",
      "mimetype": "text/x-python",
      "name": "python",
      "nbconvert_exporter": "python",
      "pygments_lexer": "ipython3",
      "version": "3.7.0"
    },
    "colab": {
      "name": "15108329 class variable.ipynb",
      "provenance": [],
      "include_colab_link": true
    }
  },
  "cells": [
    {
      "cell_type": "markdown",
      "metadata": {
        "id": "view-in-github",
        "colab_type": "text"
      },
      "source": [
        "<a href=\"https://colab.research.google.com/github/Jinukki/KJU/blob/master/15108329%20class%20variable.ipynb\" target=\"_parent\"><img src=\"https://colab.research.google.com/assets/colab-badge.svg\" alt=\"Open In Colab\"/></a>"
      ]
    },
    {
      "cell_type": "markdown",
      "metadata": {
        "id": "xSW9nVMLo3vS",
        "colab_type": "text"
      },
      "source": [
        "## 예를 통해 알아보자."
      ]
    },
    {
      "cell_type": "code",
      "metadata": {
        "id": "dfmqpvQ5GUcR",
        "colab_type": "code",
        "colab": {}
      },
      "source": [
        "class Point:\n",
        "    a = 10\n",
        "    def __init__(self, _x, _y):\n",
        "        self.x = _x\n",
        "        self.y = _y\n"
      ],
      "execution_count": 0,
      "outputs": []
    },
    {
      "cell_type": "code",
      "metadata": {
        "id": "7izTAOEFGUcY",
        "colab_type": "code",
        "colab": {}
      },
      "source": [
        "p1 = Point(1, 2)"
      ],
      "execution_count": 0,
      "outputs": []
    },
    {
      "cell_type": "code",
      "metadata": {
        "id": "p0vQnG-yGUce",
        "colab_type": "code",
        "outputId": "f2f44049-d141-48eb-8796-b3b3cc0dace4",
        "colab": {}
      },
      "source": [
        "p1.__dict__"
      ],
      "execution_count": 0,
      "outputs": [
        {
          "output_type": "execute_result",
          "data": {
            "text/plain": [
              "{'x': 1, 'y': 2}"
            ]
          },
          "metadata": {
            "tags": []
          },
          "execution_count": 3
        }
      ]
    },
    {
      "cell_type": "code",
      "metadata": {
        "id": "sUpxHJ4kGUcl",
        "colab_type": "code",
        "outputId": "78a24237-ecc9-449c-972b-bfbc68ae9e72",
        "colab": {}
      },
      "source": [
        "Point.__dict__"
      ],
      "execution_count": 0,
      "outputs": [
        {
          "output_type": "execute_result",
          "data": {
            "text/plain": [
              "mappingproxy({'__module__': '__main__',\n",
              "              'a': 10,\n",
              "              '__init__': <function __main__.Point.__init__(self, _x, _y)>,\n",
              "              '__dict__': <attribute '__dict__' of 'Point' objects>,\n",
              "              '__weakref__': <attribute '__weakref__' of 'Point' objects>,\n",
              "              '__doc__': None})"
            ]
          },
          "metadata": {
            "tags": []
          },
          "execution_count": 4
        }
      ]
    },
    {
      "cell_type": "code",
      "metadata": {
        "id": "cW131P3tGUcr",
        "colab_type": "code",
        "outputId": "a7e66280-3952-4a8f-8926-3a881afcbb4e",
        "colab": {}
      },
      "source": [
        "Point.a"
      ],
      "execution_count": 0,
      "outputs": [
        {
          "output_type": "execute_result",
          "data": {
            "text/plain": [
              "10"
            ]
          },
          "metadata": {
            "tags": []
          },
          "execution_count": 5
        }
      ]
    },
    {
      "cell_type": "code",
      "metadata": {
        "id": "TGt806nAGUcw",
        "colab_type": "code",
        "outputId": "1fb49996-de60-4814-ba07-c655d02742e9",
        "colab": {}
      },
      "source": [
        "p1.a"
      ],
      "execution_count": 0,
      "outputs": [
        {
          "output_type": "execute_result",
          "data": {
            "text/plain": [
              "10"
            ]
          },
          "metadata": {
            "tags": []
          },
          "execution_count": 7
        }
      ]
    },
    {
      "cell_type": "code",
      "metadata": {
        "id": "Hxbh9DtcGUc2",
        "colab_type": "code",
        "outputId": "4413fd34-ad47-4933-de79-4cafdba99b9c",
        "colab": {}
      },
      "source": [
        "id(Point.a)"
      ],
      "execution_count": 0,
      "outputs": [
        {
          "output_type": "execute_result",
          "data": {
            "text/plain": [
              "140712553148448"
            ]
          },
          "metadata": {
            "tags": []
          },
          "execution_count": 8
        }
      ]
    },
    {
      "cell_type": "code",
      "metadata": {
        "id": "DSSmQjbMGUc7",
        "colab_type": "code",
        "outputId": "f20126dd-9a57-43e4-e68a-66421e404849",
        "colab": {}
      },
      "source": [
        "id(p1.a)"
      ],
      "execution_count": 0,
      "outputs": [
        {
          "output_type": "execute_result",
          "data": {
            "text/plain": [
              "140712553148448"
            ]
          },
          "metadata": {
            "tags": []
          },
          "execution_count": 10
        }
      ]
    },
    {
      "cell_type": "code",
      "metadata": {
        "id": "h7ezmLmTGUc_",
        "colab_type": "code",
        "colab": {}
      },
      "source": [
        "p1.a=5"
      ],
      "execution_count": 0,
      "outputs": []
    },
    {
      "cell_type": "code",
      "metadata": {
        "id": "jueoF6AIGUdG",
        "colab_type": "code",
        "outputId": "55ca13fc-969b-40a4-d627-58817f4b722a",
        "colab": {}
      },
      "source": [
        "id(p1.a)"
      ],
      "execution_count": 0,
      "outputs": [
        {
          "output_type": "execute_result",
          "data": {
            "text/plain": [
              "140712553148288"
            ]
          },
          "metadata": {
            "tags": []
          },
          "execution_count": 12
        }
      ]
    },
    {
      "cell_type": "code",
      "metadata": {
        "id": "GdH6HS3uGUdK",
        "colab_type": "code",
        "outputId": "f652ecbc-66c5-43b3-e0b0-d74ff86a7c34",
        "colab": {}
      },
      "source": [
        "Point.a"
      ],
      "execution_count": 0,
      "outputs": [
        {
          "output_type": "execute_result",
          "data": {
            "text/plain": [
              "10"
            ]
          },
          "metadata": {
            "tags": []
          },
          "execution_count": 13
        }
      ]
    },
    {
      "cell_type": "code",
      "metadata": {
        "id": "cDbBk3HvGUdP",
        "colab_type": "code",
        "outputId": "0094baa6-20c6-4970-bc66-fc0ee468518c",
        "colab": {}
      },
      "source": [
        "id(Point.a)"
      ],
      "execution_count": 0,
      "outputs": [
        {
          "output_type": "execute_result",
          "data": {
            "text/plain": [
              "140712553148448"
            ]
          },
          "metadata": {
            "tags": []
          },
          "execution_count": 14
        }
      ]
    },
    {
      "cell_type": "code",
      "metadata": {
        "id": "1YJxcF-gGUdT",
        "colab_type": "code",
        "outputId": "cc486cd2-aebb-401f-94e6-49b17e115db4",
        "colab": {}
      },
      "source": [
        "p1.__dict__"
      ],
      "execution_count": 0,
      "outputs": [
        {
          "output_type": "execute_result",
          "data": {
            "text/plain": [
              "{'x': 1, 'y': 2, 'a': 5}"
            ]
          },
          "metadata": {
            "tags": []
          },
          "execution_count": 15
        }
      ]
    },
    {
      "cell_type": "markdown",
      "metadata": {
        "id": "Whl20lS6GUda",
        "colab_type": "text"
      },
      "source": [
        "## 클래스 변수는 모든 객체가 공유하므로 \"p1.a\" 의 값을 따로 설정하지 않는다면 \"p1.__dict__\"함수를 실행시켰을 때<br> a의 값이 따로 나타나지는 않지만 클래스 변수인 a를 그대로 받아 Point.a=p1.a=10이 된다.\n",
        "## 클래스 변수 a를 같이 받기에 id함수의 주소도 같은 결과를 나타낸다.\n",
        "## 여기서 \"p1.a=5\"로 따로 설정을 해주면 인스턴스 변수가 새롭게 하나 지정되어 생성되는 것이고 때문에<br> id함수에서 다른 결과를 나타낸다.\n",
        "## 이 근거로 위에서 알 수 있듯이 \"p1.__dict__\" 함수를 다시 실행시켜보면 a:5 가 하나 추가된 것을 알 수 있다.\n",
        "## 클래스 변수 a와는 다른 인스턴스 변수로의 a가 새로 추가된 것이라고 볼 수 있다.\n",
        "## 그 결과로 Point.a=10으로 그대로 유지되고 p1.a=5라는 값이 나타난다.\n",
        "## 결국 위의 코드 진행의 결과에서도 볼 수 있듯이 인스턴스 변수가 클래스 변수에 접근하여 수정할 수 없다."
      ]
    }
  ]
}