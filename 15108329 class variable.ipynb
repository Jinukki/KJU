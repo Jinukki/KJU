{
  "nbformat": 4,
  "nbformat_minor": 0,
  "metadata": {
    "kernelspec": {
      "display_name": "Python 3",
      "language": "python",
      "name": "python3"
    },
    "language_info": {
      "codemirror_mode": {
        "name": "ipython",
        "version": 3
      },
      "file_extension": ".py",
      "mimetype": "text/x-python",
      "name": "python",
      "nbconvert_exporter": "python",
      "pygments_lexer": "ipython3",
      "version": "3.7.0"
    },
    "colab": {
      "name": "15108329 class variable.ipynb",
      "provenance": [],
      "include_colab_link": true
    }
  },
  "cells": [
    {
      "cell_type": "markdown",
      "metadata": {
        "id": "view-in-github",
        "colab_type": "text"
      },
      "source": [
        "<a href=\"https://colab.research.google.com/github/Jinukki/KJU/blob/master/15108329%20class%20variable.ipynb\" target=\"_parent\"><img src=\"https://colab.research.google.com/assets/colab-badge.svg\" alt=\"Open In Colab\"/></a>"
      ]
    },
    {
      "cell_type": "code",
      "metadata": {
        "id": "8OIiA0gF9k5k",
        "colab_type": "code",
        "colab": {}
      },
      "source": [
        "class Point:\n",
        "    a = 10\n",
        "    def __init__(self, _x, _y):\n",
        "        self.x = _x\n",
        "        self.y = _y\n"
      ],
      "execution_count": 0,
      "outputs": []
    },
    {
      "cell_type": "code",
      "metadata": {
        "id": "_4bST_PQ9k5q",
        "colab_type": "code",
        "colab": {}
      },
      "source": [
        "p1 = Point(1, 2)"
      ],
      "execution_count": 0,
      "outputs": []
    },
    {
      "cell_type": "code",
      "metadata": {
        "id": "_BSFVbLo9k5y",
        "colab_type": "code",
        "colab": {},
        "outputId": "b293e641-791c-4761-9f28-94e2b7be820d"
      },
      "source": [
        "p1.__dict__"
      ],
      "execution_count": 0,
      "outputs": [
        {
          "output_type": "execute_result",
          "data": {
            "text/plain": [
              "{'x': 1, 'y': 2}"
            ]
          },
          "metadata": {
            "tags": []
          },
          "execution_count": 3
        }
      ]
    },
    {
      "cell_type": "code",
      "metadata": {
        "id": "h9-Yel2H9k54",
        "colab_type": "code",
        "colab": {},
        "outputId": "fac6bee5-c9b7-40e2-9b5f-3faaa16b78ec"
      },
      "source": [
        "Point.__dict__"
      ],
      "execution_count": 0,
      "outputs": [
        {
          "output_type": "execute_result",
          "data": {
            "text/plain": [
              "mappingproxy({'__module__': '__main__',\n",
              "              'a': 10,\n",
              "              '__init__': <function __main__.Point.__init__(self, _x, _y)>,\n",
              "              '__dict__': <attribute '__dict__' of 'Point' objects>,\n",
              "              '__weakref__': <attribute '__weakref__' of 'Point' objects>,\n",
              "              '__doc__': None})"
            ]
          },
          "metadata": {
            "tags": []
          },
          "execution_count": 4
        }
      ]
    },
    {
      "cell_type": "code",
      "metadata": {
        "id": "Z61x3vPZ9k6A",
        "colab_type": "code",
        "colab": {},
        "outputId": "c02b9bf9-e3ce-4c2b-f966-6c6a1ea13b5b"
      },
      "source": [
        "Point.a"
      ],
      "execution_count": 0,
      "outputs": [
        {
          "output_type": "execute_result",
          "data": {
            "text/plain": [
              "10"
            ]
          },
          "metadata": {
            "tags": []
          },
          "execution_count": 5
        }
      ]
    },
    {
      "cell_type": "code",
      "metadata": {
        "id": "9IQRxir69k6G",
        "colab_type": "code",
        "colab": {},
        "outputId": "539dedf7-ae9c-41be-b4aa-3f5b7bccf627"
      },
      "source": [
        "p1.a"
      ],
      "execution_count": 0,
      "outputs": [
        {
          "output_type": "execute_result",
          "data": {
            "text/plain": [
              "10"
            ]
          },
          "metadata": {
            "tags": []
          },
          "execution_count": 7
        }
      ]
    },
    {
      "cell_type": "code",
      "metadata": {
        "id": "Q9nyCYWD9k6M",
        "colab_type": "code",
        "colab": {},
        "outputId": "44f4bd14-4de9-4f13-ec6b-897eb3c18d75"
      },
      "source": [
        "id(Point.a)"
      ],
      "execution_count": 0,
      "outputs": [
        {
          "output_type": "execute_result",
          "data": {
            "text/plain": [
              "140712553148448"
            ]
          },
          "metadata": {
            "tags": []
          },
          "execution_count": 8
        }
      ]
    },
    {
      "cell_type": "code",
      "metadata": {
        "id": "9eaNH4EH9k6S",
        "colab_type": "code",
        "colab": {},
        "outputId": "29f43bba-da95-45d7-9651-792316fe69a1"
      },
      "source": [
        "id(p1.a)"
      ],
      "execution_count": 0,
      "outputs": [
        {
          "output_type": "execute_result",
          "data": {
            "text/plain": [
              "140712553148448"
            ]
          },
          "metadata": {
            "tags": []
          },
          "execution_count": 10
        }
      ]
    },
    {
      "cell_type": "code",
      "metadata": {
        "id": "F6Z95aRK9k6X",
        "colab_type": "code",
        "colab": {}
      },
      "source": [
        "p1.a=5"
      ],
      "execution_count": 0,
      "outputs": []
    },
    {
      "cell_type": "code",
      "metadata": {
        "id": "HTjpTm-G9k6b",
        "colab_type": "code",
        "colab": {},
        "outputId": "03685235-af54-42af-f57b-6f61b0981235"
      },
      "source": [
        "id(p1.a)"
      ],
      "execution_count": 0,
      "outputs": [
        {
          "output_type": "execute_result",
          "data": {
            "text/plain": [
              "140712553148288"
            ]
          },
          "metadata": {
            "tags": []
          },
          "execution_count": 12
        }
      ]
    },
    {
      "cell_type": "code",
      "metadata": {
        "id": "PjJ5hDLL9k6i",
        "colab_type": "code",
        "colab": {},
        "outputId": "670f9603-d052-40a5-eb56-04d9cdc30cd0"
      },
      "source": [
        "Point.a"
      ],
      "execution_count": 0,
      "outputs": [
        {
          "output_type": "execute_result",
          "data": {
            "text/plain": [
              "10"
            ]
          },
          "metadata": {
            "tags": []
          },
          "execution_count": 13
        }
      ]
    },
    {
      "cell_type": "code",
      "metadata": {
        "id": "EXEIt2cP9k6n",
        "colab_type": "code",
        "colab": {},
        "outputId": "6c7fceb0-49a1-4a67-9668-c41f907dd23b"
      },
      "source": [
        "id(Point.a)"
      ],
      "execution_count": 0,
      "outputs": [
        {
          "output_type": "execute_result",
          "data": {
            "text/plain": [
              "140712553148448"
            ]
          },
          "metadata": {
            "tags": []
          },
          "execution_count": 14
        }
      ]
    },
    {
      "cell_type": "code",
      "metadata": {
        "id": "qjmMTFAD9k6q",
        "colab_type": "code",
        "colab": {},
        "outputId": "8a462beb-1f0c-4679-ddcf-a26414f6398d"
      },
      "source": [
        "p1.__dict__"
      ],
      "execution_count": 0,
      "outputs": [
        {
          "output_type": "execute_result",
          "data": {
            "text/plain": [
              "{'x': 1, 'y': 2, 'a': 5}"
            ]
          },
          "metadata": {
            "tags": []
          },
          "execution_count": 15
        }
      ]
    },
    {
      "cell_type": "markdown",
      "metadata": {
        "id": "KsOP9W_F9k6w",
        "colab_type": "text"
      },
      "source": [
        "## 클래스 변수는 모든 객체가 공유하므로 \"p1.a\" 의 값을 따로 설정하지 않는다면 \"pl.__dict__\"함수를 실행시켰을 때 a의 값이 따로 나타나지는 않지만 클래스 변수인 a를 그대로 받아<br> Point.a=p1.a=10이 된다.\n",
        "## 클래스 변수 a를 같이 받기에 id함수의 주소도 같은 결과를<br> 나타낸다.\n",
        "## 여기서 \"p1.a=5\"로 따로 설정을 해주면 인스턴스 변수가 새롭게 하나 지정되어 생성되는 것이고 때문에 id함수에서 다른 결과를 나타낸다.\n",
        "## 이 근거로 위에서 알 수 있듯이 \"p1.__dict__\" 함수를 다시<br> 실행시켜보면 a:5 가 하나 추가된 것을 알 수 있다.\n",
        "## 클래스 변수 a와는 다른 인스턴스 변수로의 a가 새로 추가된<br> 것이라고 볼 수 있다.\n",
        "## 그 결과로 Point.a=10으로 그대로 유지되고 p1.a=5라는<br> 값이 나타난다.\n",
        "## 클래스 변수가 인스턴스 변수보다 지배적이기 때문에 인스턴스 변수가 클래스 변수에 접근하여 수정할 수 없으며 위의 코드 진행의 결과를 통해서도 이를 확인할 수 있다."
      ]
    }
  ]
}