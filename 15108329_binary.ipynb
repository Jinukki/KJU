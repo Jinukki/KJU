{
  "nbformat": 4,
  "nbformat_minor": 0,
  "metadata": {
    "colab": {
      "name": "15108329 binary.ipynb",
      "provenance": [],
      "collapsed_sections": [],
      "include_colab_link": true
    },
    "kernelspec": {
      "name": "python3",
      "display_name": "Python 3"
    }
  },
  "cells": [
    {
      "cell_type": "markdown",
      "metadata": {
        "id": "view-in-github",
        "colab_type": "text"
      },
      "source": [
        "<a href=\"https://colab.research.google.com/github/Jinukki/KJU/blob/master/15108329_binary.ipynb\" target=\"_parent\"><img src=\"https://colab.research.google.com/assets/colab-badge.svg\" alt=\"Open In Colab\"/></a>"
      ]
    },
    {
      "cell_type": "markdown",
      "metadata": {
        "id": "dSNLsEiej_DB",
        "colab_type": "text"
      },
      "source": [
        "# 0.1을 이진수로 표현할 수 있을까?\n",
        "\n",
        "## 잘아시다시피 모든 컴퓨터는 2진수를 사용한다.<br>우리가 어떤 숫자를 이진수로 표현한 것을 10진수로 환산하는 방법을 모두 알고 있겠지만 다시 한 번 설명을 <br>하면, 1111[2] = 2^3 + 2^2 + 2^1 + 2^0 = 8+4+2+1 =15 이 된다.(여기에서 첨자로 붙은[2]는 이진수라는 의미이다.) 그러면 소수이하는 어떻게 표현하는지 살펴보자.\n",
        "\n",
        "### ex) 0.1[2] = 1/(2**1) = 1/2 = 0.5\n",
        "### ex) 0.01[2] = 1/(2**2) = 1/4 = 0.25\n",
        "### ex) 0.001[2] = 1/(2**3) = 1/8 = 0.125\n",
        "\n",
        "## 정수로 표시될 수 있는 수는 1,2,4,8,16,32,64,128,256,512,1024.... 을 결합하면 어떤 수든 만들 수 있다.<br> 예를 들어 19는 16+2+1 = 10011[2] 이 된다.\n",
        "\n",
        "## 그러나 소수는 1/2,1/4,1/8,1/16,1/32,1/64,1/128....을 결합하여 만들어야 한다. 예를 들어 0.9를 만들려면<br> 1/2(0.5) + 1/4(0.25)+1/8(0.125)+..... 이 될 것이다. 그렇지만 1/8뒤 ..... 자리에 어떤 수를 넣어도 정확하게<br> 0.9를 만들기가 불가능 하다. 물론 무한대로 가면 가능하게지만 불행히도 컴퓨터는 single일때 32자리,<br> Double이면 64자리 만 가능합니다.\n",
        "\n",
        "## 이런 이유로 0.1이나 0.2와 같은 숫자도 이진수로 표현이 불가능 하다.\n",
        "\n",
        "### (어떤 컴퓨터는 0.09999999999999대신에 0.1로 나오는 경우도 있는데, 이런 경우 컴퓨터 내부에서 우리 몰래 끝자리를 반올림해주었기 떄문이다.)"
      ]
    },
    {
      "cell_type": "code",
      "metadata": {
        "id": "04CRG0M7kYTB",
        "colab_type": "code",
        "colab": {}
      },
      "source": [
        ""
      ],
      "execution_count": 0,
      "outputs": []
    }
  ]
}