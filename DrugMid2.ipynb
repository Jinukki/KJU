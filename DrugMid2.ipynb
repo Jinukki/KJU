{
  "nbformat": 4,
  "nbformat_minor": 0,
  "metadata": {
    "colab": {
      "name": "DrugMid2.ipynb",
      "provenance": [],
      "collapsed_sections": [],
      "include_colab_link": true
    },
    "kernelspec": {
      "name": "python3",
      "display_name": "Python 3"
    },
    "accelerator": "GPU"
  },
  "cells": [
    {
      "cell_type": "markdown",
      "metadata": {
        "id": "view-in-github",
        "colab_type": "text"
      },
      "source": [
        "<a href=\"https://colab.research.google.com/github/Jinukki/KJU/blob/master/DrugMid2.ipynb\" target=\"_parent\"><img src=\"https://colab.research.google.com/assets/colab-badge.svg\" alt=\"Open In Colab\"/></a>"
      ]
    },
    {
      "cell_type": "code",
      "metadata": {
        "id": "TbnI3xCUZ6Gg",
        "colab_type": "code",
        "colab": {}
      },
      "source": [
        "def DownloadRDkit():\n",
        "  !wget -c https://repo.continuum.io/miniconda/Miniconda3-latest-Linux-x86_64.sh\n",
        "  !chmod +x Miniconda3-latest-Linux-x86_64.sh\n",
        "  !time bash ./Miniconda3-latest-Linux-x86_64.sh -b -f -p /usr/local\n",
        "  !time conda install -q -y -c conda-forge rdkit"
      ],
      "execution_count": 0,
      "outputs": []
    },
    {
      "cell_type": "code",
      "metadata": {
        "id": "iB8ve1nEZgpJ",
        "colab_type": "code",
        "colab": {}
      },
      "source": [
        "import numpy as np\n",
        "import os\n",
        "os.environ['TF_CPP_MIN_LOG_LEVEL'] = '3' # warining 표시 안나오도록 하기"
      ],
      "execution_count": 0,
      "outputs": []
    },
    {
      "cell_type": "code",
      "metadata": {
        "id": "MFNM5YtZZ7N3",
        "colab_type": "code",
        "outputId": "0d60a10d-ee8c-4c68-bdec-2c4ab9ae1d3d",
        "colab": {
          "base_uri": "https://localhost:8080/",
          "height": 1000
        }
      },
      "source": [
        "DownloadRDkit() # RDkit 다운로드\n",
        "%matplotlib inline\n",
        "import sys\n",
        "import os\n",
        "sys.path.append('/usr/local/lib/python3.7/site-packages/')"
      ],
      "execution_count": 0,
      "outputs": [
        {
          "output_type": "stream",
          "text": [
            "--2019-12-12 15:06:43--  https://repo.continuum.io/miniconda/Miniconda3-latest-Linux-x86_64.sh\n",
            "Resolving repo.continuum.io (repo.continuum.io)... 104.18.201.79, 104.18.200.79, 2606:4700::6812:c84f, ...\n",
            "Connecting to repo.continuum.io (repo.continuum.io)|104.18.201.79|:443... connected.\n",
            "HTTP request sent, awaiting response... 416 Requested Range Not Satisfiable\n",
            "\n",
            "    The file is already fully retrieved; nothing to do.\n",
            "\n",
            "PREFIX=/usr/local\n",
            "Unpacking payload ...\n",
            "Collecting package metadata (current_repodata.json): - \b\b\\ \b\b| \b\b/ \b\b- \b\b\\ \b\bdone\n",
            "Solving environment: / \b\b- \b\b\\ \b\b| \b\b/ \b\b- \b\b\\ \b\b| \b\b/ \b\b- \b\b\\ \b\b| \b\b/ \b\b- \b\b\\ \b\b| \b\bdone\n",
            "\n",
            "## Package Plan ##\n",
            "\n",
            "  environment location: /usr/local\n",
            "\n",
            "  added / updated specs:\n",
            "    - _libgcc_mutex==0.1=main\n",
            "    - asn1crypto==1.2.0=py37_0\n",
            "    - ca-certificates==2019.10.16=0\n",
            "    - certifi==2019.9.11=py37_0\n",
            "    - cffi==1.13.0=py37h2e261b9_0\n",
            "    - chardet==3.0.4=py37_1003\n",
            "    - conda-package-handling==1.6.0=py37h7b6447c_0\n",
            "    - conda==4.7.12=py37_0\n",
            "    - cryptography==2.8=py37h1ba5d50_0\n",
            "    - idna==2.8=py37_0\n",
            "    - libedit==3.1.20181209=hc058e9b_0\n",
            "    - libffi==3.2.1=hd88cf55_4\n",
            "    - libgcc-ng==9.1.0=hdf63c60_0\n",
            "    - libstdcxx-ng==9.1.0=hdf63c60_0\n",
            "    - ncurses==6.1=he6710b0_1\n",
            "    - openssl==1.1.1d=h7b6447c_3\n",
            "    - pip==19.3.1=py37_0\n",
            "    - pycosat==0.6.3=py37h14c3975_0\n",
            "    - pycparser==2.19=py37_0\n",
            "    - pyopenssl==19.0.0=py37_0\n",
            "    - pysocks==1.7.1=py37_0\n",
            "    - python==3.7.4=h265db76_1\n",
            "    - readline==7.0=h7b6447c_5\n",
            "    - requests==2.22.0=py37_0\n",
            "    - ruamel_yaml==0.15.46=py37h14c3975_0\n",
            "    - setuptools==41.4.0=py37_0\n",
            "    - six==1.12.0=py37_0\n",
            "    - sqlite==3.30.0=h7b6447c_0\n",
            "    - tk==8.6.8=hbc83047_0\n",
            "    - tqdm==4.36.1=py_0\n",
            "    - urllib3==1.24.2=py37_0\n",
            "    - wheel==0.33.6=py37_0\n",
            "    - xz==5.2.4=h14c3975_4\n",
            "    - yaml==0.1.7=had09818_2\n",
            "    - zlib==1.2.11=h7b6447c_3\n",
            "\n",
            "\n",
            "The following packages will be UPDATED:\n",
            "\n",
            "  openssl            conda-forge::openssl-1.1.1d-h516909a_0 --> pkgs/main::openssl-1.1.1d-h7b6447c_3\n",
            "\n",
            "The following packages will be SUPERSEDED by a higher-priority channel:\n",
            "\n",
            "  ca-certificates    conda-forge::ca-certificates-2019.11.~ --> pkgs/main::ca-certificates-2019.10.16-0\n",
            "  certifi            conda-forge::certifi-2019.11.28-py37_0 --> pkgs/main::certifi-2019.9.11-py37_0\n",
            "  conda                    conda-forge::conda-4.7.12-py37_1 --> pkgs/main::conda-4.7.12-py37_0\n",
            "\n",
            "\n",
            "Preparing transaction: - \b\bdone\n",
            "Executing transaction: | \b\b/ \b\bdone\n",
            "installation finished.\n",
            "WARNING:\n",
            "    You currently have a PYTHONPATH environment variable set. This may cause\n",
            "    unexpected behavior when running the Python interpreter in Miniconda3.\n",
            "    For best results, please verify that your PYTHONPATH only points to\n",
            "    directories of packages that are compatible with the Python interpreter\n",
            "    in Miniconda3: /usr/local\n",
            "\n",
            "real\t0m25.782s\n",
            "user\t0m33.258s\n",
            "sys\t0m6.401s\n",
            "Collecting package metadata (current_repodata.json): ...working... done\n",
            "Solving environment: ...working... done\n",
            "\n",
            "## Package Plan ##\n",
            "\n",
            "  environment location: /usr/local\n",
            "\n",
            "  added / updated specs:\n",
            "    - rdkit\n",
            "\n",
            "\n",
            "The following packages will be UPDATED:\n",
            "\n",
            "  ca-certificates    pkgs/main::ca-certificates-2019.10.16~ --> conda-forge::ca-certificates-2019.11.28-hecc5488_0\n",
            "  certifi               pkgs/main::certifi-2019.9.11-py37_0 --> conda-forge::certifi-2019.11.28-py37_0\n",
            "  conda                      pkgs/main::conda-4.7.12-py37_0 --> conda-forge::conda-4.7.12-py37_1\n",
            "\n",
            "The following packages will be SUPERSEDED by a higher-priority channel:\n",
            "\n",
            "  openssl              pkgs/main::openssl-1.1.1d-h7b6447c_3 --> conda-forge::openssl-1.1.1d-h516909a_0\n",
            "\n",
            "\n",
            "Preparing transaction: ...working... done\n",
            "Verifying transaction: ...working... done\n",
            "Executing transaction: ...working... done\n",
            "\n",
            "real\t0m7.083s\n",
            "user\t0m6.289s\n",
            "sys\t0m0.938s\n"
          ],
          "name": "stdout"
        }
      ]
    },
    {
      "cell_type": "code",
      "metadata": {
        "id": "OxK1Rlu-Z8Jo",
        "colab_type": "code",
        "colab": {}
      },
      "source": [
        "import os\n",
        "import pandas as pd\n",
        "import numpy as np\n",
        "import sklearn\n",
        "from rdkit import Chem\n",
        "from rdkit.Chem import Draw, Descriptors\n",
        "from matplotlib import pyplot as plt\n",
        "%matplotlib inline"
      ],
      "execution_count": 0,
      "outputs": []
    },
    {
      "cell_type": "code",
      "metadata": {
        "id": "lq-gT3nKaAkg",
        "colab_type": "code",
        "colab": {}
      },
      "source": [
        "from sklearn.model_selection import train_test_split"
      ],
      "execution_count": 0,
      "outputs": []
    },
    {
      "cell_type": "code",
      "metadata": {
        "id": "2SFHwFAwaAp1",
        "colab_type": "code",
        "outputId": "7b4bae9d-9474-4ffa-a895-50d50052c65d",
        "colab": {
          "base_uri": "https://localhost:8080/",
          "height": 52
        }
      },
      "source": [
        "smifile = \"gdb11_size08.smi\" # 데이터셋 받아오기\n",
        "data = pd.read_csv(smifile, delimiter = \"\\t\", names = [\"smiles\",\"No\",\"Int\"])\n",
        "from sklearn.model_selection import train_test_split\n",
        "smiles_train, smiles_test = train_test_split(data[\"smiles\"], random_state=42)\n",
        "print (smiles_train.shape)\n",
        "print (smiles_test.shape)"
      ],
      "execution_count": 0,
      "outputs": [
        {
          "output_type": "stream",
          "text": [
            "(65560,)\n",
            "(21854,)\n"
          ],
          "name": "stdout"
        }
      ]
    },
    {
      "cell_type": "code",
      "metadata": {
        "id": "nKY4jqblbWqr",
        "colab_type": "code",
        "outputId": "ed5c5566-dff2-4804-f48b-50976dfcc0f6",
        "colab": {
          "base_uri": "https://localhost:8080/",
          "height": 343
        }
      },
      "source": [
        "data.sample(10) # 데이터셋 샘플 확인"
      ],
      "execution_count": 0,
      "outputs": [
        {
          "output_type": "execute_result",
          "data": {
            "text/html": [
              "<div>\n",
              "<style scoped>\n",
              "    .dataframe tbody tr th:only-of-type {\n",
              "        vertical-align: middle;\n",
              "    }\n",
              "\n",
              "    .dataframe tbody tr th {\n",
              "        vertical-align: top;\n",
              "    }\n",
              "\n",
              "    .dataframe thead th {\n",
              "        text-align: right;\n",
              "    }\n",
              "</style>\n",
              "<table border=\"1\" class=\"dataframe\">\n",
              "  <thead>\n",
              "    <tr style=\"text-align: right;\">\n",
              "      <th></th>\n",
              "      <th>smiles</th>\n",
              "      <th>No</th>\n",
              "      <th>Int</th>\n",
              "    </tr>\n",
              "  </thead>\n",
              "  <tbody>\n",
              "    <tr>\n",
              "      <th>64800</th>\n",
              "      <td>CC1C2OCC(=C)C12</td>\n",
              "      <td>64801</td>\n",
              "      <td>1</td>\n",
              "    </tr>\n",
              "    <tr>\n",
              "      <th>34205</th>\n",
              "      <td>CNc1c[nH]c(C)n1</td>\n",
              "      <td>34206</td>\n",
              "      <td>2</td>\n",
              "    </tr>\n",
              "    <tr>\n",
              "      <th>43576</th>\n",
              "      <td>N#CC=C1CCOC1</td>\n",
              "      <td>43577</td>\n",
              "      <td>1</td>\n",
              "    </tr>\n",
              "    <tr>\n",
              "      <th>17001</th>\n",
              "      <td>CN1CC(C1)OC=O</td>\n",
              "      <td>17002</td>\n",
              "      <td>1</td>\n",
              "    </tr>\n",
              "    <tr>\n",
              "      <th>25156</th>\n",
              "      <td>CC1(CCNC1)C=C</td>\n",
              "      <td>25157</td>\n",
              "      <td>1</td>\n",
              "    </tr>\n",
              "    <tr>\n",
              "      <th>7256</th>\n",
              "      <td>CC1(F)COC1C=C</td>\n",
              "      <td>7257</td>\n",
              "      <td>1</td>\n",
              "    </tr>\n",
              "    <tr>\n",
              "      <th>66807</th>\n",
              "      <td>CC1CN1C(=O)NN</td>\n",
              "      <td>46100</td>\n",
              "      <td>1</td>\n",
              "    </tr>\n",
              "    <tr>\n",
              "      <th>53598</th>\n",
              "      <td>O=COCCC1CN1</td>\n",
              "      <td>53599</td>\n",
              "      <td>1</td>\n",
              "    </tr>\n",
              "    <tr>\n",
              "      <th>43031</th>\n",
              "      <td>CCCCC1CNC1</td>\n",
              "      <td>43032</td>\n",
              "      <td>1</td>\n",
              "    </tr>\n",
              "    <tr>\n",
              "      <th>3524</th>\n",
              "      <td>CCC(=C)CN(C)C</td>\n",
              "      <td>3525</td>\n",
              "      <td>1</td>\n",
              "    </tr>\n",
              "  </tbody>\n",
              "</table>\n",
              "</div>"
            ],
            "text/plain": [
              "                smiles     No  Int\n",
              "64800  CC1C2OCC(=C)C12  64801    1\n",
              "34205  CNc1c[nH]c(C)n1  34206    2\n",
              "43576     N#CC=C1CCOC1  43577    1\n",
              "17001    CN1CC(C1)OC=O  17002    1\n",
              "25156    CC1(CCNC1)C=C  25157    1\n",
              "7256     CC1(F)COC1C=C   7257    1\n",
              "66807    CC1CN1C(=O)NN  46100    1\n",
              "53598      O=COCCC1CN1  53599    1\n",
              "43031       CCCCC1CNC1  43032    1\n",
              "3524     CCC(=C)CN(C)C   3525    1"
            ]
          },
          "metadata": {
            "tags": []
          },
          "execution_count": 67
        }
      ]
    },
    {
      "cell_type": "code",
      "metadata": {
        "id": "mKk26vIdaA2_",
        "colab_type": "code",
        "outputId": "1b2242a6-4425-4844-f3e3-f529a11bc837",
        "colab": {
          "base_uri": "https://localhost:8080/",
          "height": 72
        }
      },
      "source": [
        "charset = set(\"\".join(list(data.smiles))+\"!E\")\n",
        "char_to_int = dict((c,i) for i,c in enumerate(charset))\n",
        "int_to_char = dict((i,c) for i,c in enumerate(charset))\n",
        "embed = max([len(smile) for smile in data.smiles]) + 5\n",
        "print (str(charset))\n",
        "print(len(charset), embed)"
      ],
      "execution_count": 0,
      "outputs": [
        {
          "output_type": "stream",
          "text": [
            "{'N', '3', 'C', 'F', ')', '+', '!', '#', '2', 'o', '4', 'c', '[', '1', 'H', '-', 'O', '=', '(', 'E', 'n', ']'}\n",
            "22 28\n"
          ],
          "name": "stdout"
        }
      ]
    },
    {
      "cell_type": "code",
      "metadata": {
        "id": "Rxvi4dmJaBBu",
        "colab_type": "code",
        "outputId": "0a34656d-570a-4e3c-ad6b-dfb01190ae13",
        "colab": {
          "base_uri": "https://localhost:8080/",
          "height": 310
        }
      },
      "source": [
        "def vectorize(smiles):\n",
        "        one_hot =  np.zeros((smiles.shape[0], embed , len(charset)),dtype=np.int8)\n",
        "        for i,smile in enumerate(smiles):\n",
        "            #encode the startchar\n",
        "            one_hot[i,0,char_to_int[\"!\"]] = 1\n",
        "            #encode the rest of the chars\n",
        "            for j,c in enumerate(smile):\n",
        "                one_hot[i,j+1,char_to_int[c]] = 1\n",
        "            #Encode endchar\n",
        "            one_hot[i,len(smile)+1:,char_to_int[\"E\"]] = 1\n",
        "        #Return two, one for input and the other for output\n",
        "        return one_hot[:,0:-1,:], one_hot[:,1:,:]\n",
        "X_train, Y_train = vectorize(smiles_train.values)\n",
        "X_test,Y_test = vectorize(smiles_test.values)\n",
        "print (smiles_train.iloc[0])\n",
        "plt.matshow(X_train[0].T)\n",
        "#print X_train.shape"
      ],
      "execution_count": 0,
      "outputs": [
        {
          "output_type": "stream",
          "text": [
            "C1OC2CN3CC3C12\n"
          ],
          "name": "stdout"
        },
        {
          "output_type": "execute_result",
          "data": {
            "text/plain": [
              "<matplotlib.image.AxesImage at 0x7f30bb471828>"
            ]
          },
          "metadata": {
            "tags": []
          },
          "execution_count": 69
        },
        {
          "output_type": "display_data",
          "data": {
            "image/png": "[encoded data removed]",
            "text/plain": [
              "<Figure size 353.455x288 with 1 Axes>"
            ]
          },
          "metadata": {
            "tags": []
          }
        }
      ]
    },
    {
      "cell_type": "code",
      "metadata": {
        "id": "Tla2kAX9aA-j",
        "colab_type": "code",
        "outputId": "9d2c73cb-bd77-4d10-c322-c82b6e38a710",
        "colab": {
          "base_uri": "https://localhost:8080/",
          "height": 34
        }
      },
      "source": [
        "\"\".join([int_to_char[idx] for idx in np.argmax(X_train[0,:,:], axis=1)])"
      ],
      "execution_count": 0,
      "outputs": [
        {
          "output_type": "execute_result",
          "data": {
            "text/plain": [
              "'!C1OC2CN3CC3C12EEEEEEEEEEEE'"
            ]
          },
          "metadata": {
            "tags": []
          },
          "execution_count": 70
        }
      ]
    },
    {
      "cell_type": "code",
      "metadata": {
        "id": "b4mxq3e1aA8Z",
        "colab_type": "code",
        "colab": {}
      },
      "source": [
        "import tensorflow as tf"
      ],
      "execution_count": 0,
      "outputs": []
    },
    {
      "cell_type": "code",
      "metadata": {
        "id": "-zwz5BHaaA6a",
        "colab_type": "code",
        "colab": {}
      },
      "source": [
        "from tensorflow import keras"
      ],
      "execution_count": 0,
      "outputs": []
    },
    {
      "cell_type": "code",
      "metadata": {
        "id": "9kBLwil3aA0U",
        "colab_type": "code",
        "colab": {}
      },
      "source": [
        "#Import Keras objects\n",
        "from keras.models import Model\n",
        "from keras.layers import Input\n",
        "from keras.layers import LSTM\n",
        "from keras.layers import Dense\n",
        "from keras.layers import Concatenate\n",
        "from keras import regularizers\n",
        "input_shape = X_train.shape[1:]\n",
        "output_dim = Y_train.shape[-1]\n",
        "latent_dim = 64\n",
        "lstm_dim = 64"
      ],
      "execution_count": 0,
      "outputs": []
    },
    {
      "cell_type": "code",
      "metadata": {
        "id": "wSmx1C8OcM1u",
        "colab_type": "code",
        "colab": {}
      },
      "source": [
        "import numpy as np\n",
        "import os\n",
        "os.environ['TF_CPP_MIN_LOG_LEVEL'] = '3' # warining 표시 안나오도록 하기"
      ],
      "execution_count": 0,
      "outputs": []
    },
    {
      "cell_type": "code",
      "metadata": {
        "id": "kcIYC1y1aAyM",
        "colab_type": "code",
        "colab": {}
      },
      "source": [
        "unroll = False\n",
        "encoder_inputs = Input(shape=input_shape)\n",
        "encoder = LSTM(lstm_dim, return_state=True, \n",
        "                unroll=unroll) # 상태정보 출력\n",
        "encoder_outputs, state_h, state_c = encoder(encoder_inputs)\n",
        "# encoder_outputs도 같이 리턴받기는 했지만 여기서는 필요없으므로 이 값은 버림.\n",
        "# LSTM은 RNN과는 달리 상태가 두 개. 바로 은닉 상태와 셀 상태.\n",
        "states = Concatenate(axis=-1)([state_h, state_c])\n",
        "# 배열들을 연결해 배열 구하기\n",
        "neck = Dense(latent_dim, activation=\"relu\")\n",
        "neck_outputs = neck(states) # context 벡터"
      ],
      "execution_count": 0,
      "outputs": []
    },
    {
      "cell_type": "code",
      "metadata": {
        "id": "vfjw8LbPaAv4",
        "colab_type": "code",
        "outputId": "d22b3b26-2fe4-4d85-f489-fa77616ac83e",
        "colab": {
          "base_uri": "https://localhost:8080/",
          "height": 565
        }
      },
      "source": [
        "decode_h = Dense(lstm_dim, activation=\"relu\")\n",
        "decode_c = Dense(lstm_dim, activation=\"relu\")\n",
        "state_h_decoded =  decode_h(neck_outputs) # context 벡터 값을 넣어줌\n",
        "state_c_decoded =  decode_c(neck_outputs)\n",
        "encoder_states = [state_h_decoded, state_c_decoded]\n",
        "decoder_inputs = Input(shape=input_shape)\n",
        "decoder_lstm = LSTM(lstm_dim,\n",
        "                    return_sequences=True, # 출력값도 사용함로 True\n",
        "                    unroll=unroll\n",
        "                   )\n",
        "decoder_outputs = decoder_lstm(decoder_inputs, initial_state=encoder_states)\n",
        "# 디코더의 첫 상태를 인코더의 은닉 상태, 셀 상태로 한다.\n",
        "decoder_dense = Dense(output_dim, activation='softmax')\n",
        "decoder_outputs = decoder_dense(decoder_outputs)\n",
        "#Define the model, that inputs the training vector for two places, and predicts one character ahead of the input\n",
        "model = Model([encoder_inputs, decoder_inputs], decoder_outputs)\n",
        "print (model.summary())"
      ],
      "execution_count": 0,
      "outputs": [
        {
          "output_type": "stream",
          "text": [
            "Model: \"model_4\"\n",
            "__________________________________________________________________________________________________\n",
            "Layer (type)                    Output Shape         Param #     Connected to                     \n",
            "==================================================================================================\n",
            "input_7 (InputLayer)            (None, 27, 22)       0                                            \n",
            "__________________________________________________________________________________________________\n",
            "lstm_7 (LSTM)                   [(None, 64), (None,  22272       input_7[0][0]                    \n",
            "__________________________________________________________________________________________________\n",
            "concatenate_4 (Concatenate)     (None, 128)          0           lstm_7[0][1]                     \n",
            "                                                                 lstm_7[0][2]                     \n",
            "__________________________________________________________________________________________________\n",
            "dense_13 (Dense)                (None, 64)           8256        concatenate_4[0][0]              \n",
            "__________________________________________________________________________________________________\n",
            "input_8 (InputLayer)            (None, 27, 22)       0                                            \n",
            "__________________________________________________________________________________________________\n",
            "dense_14 (Dense)                (None, 64)           4160        dense_13[0][0]                   \n",
            "__________________________________________________________________________________________________\n",
            "dense_15 (Dense)                (None, 64)           4160        dense_13[0][0]                   \n",
            "__________________________________________________________________________________________________\n",
            "lstm_8 (LSTM)                   (None, 27, 64)       22272       input_8[0][0]                    \n",
            "                                                                 dense_14[0][0]                   \n",
            "                                                                 dense_15[0][0]                   \n",
            "__________________________________________________________________________________________________\n",
            "dense_16 (Dense)                (None, 27, 22)       1430        lstm_8[0][0]                     \n",
            "==================================================================================================\n",
            "Total params: 62,550\n",
            "Trainable params: 62,550\n",
            "Non-trainable params: 0\n",
            "__________________________________________________________________________________________________\n",
            "None\n"
          ],
          "name": "stdout"
        }
      ]
    },
    {
      "cell_type": "code",
      "metadata": {
        "id": "vB-7ueSvciBy",
        "colab_type": "code",
        "colab": {}
      },
      "source": [
        "import numpy as np\n",
        "import os\n",
        "os.environ['TF_CPP_MIN_LOG_LEVEL'] = '3' # warining 표시 안나오도록 하기"
      ],
      "execution_count": 0,
      "outputs": []
    },
    {
      "cell_type": "code",
      "metadata": {
        "id": "YUF44laxaAtm",
        "colab_type": "code",
        "outputId": "999e530f-1669-4339-f440-97e7aa0cf4b5",
        "colab": {
          "base_uri": "https://localhost:8080/",
          "height": 72
        }
      },
      "source": [
        "from keras.callbacks import History, ReduceLROnPlateau\n",
        "h = History() # history는 fit 함수를 사용하는 과정에서 학습 이력 정보를 리턴\n",
        "rlr = ReduceLROnPlateau(monitor='val_loss', factor=0.5,patience=10, min_lr=0.000001, verbose=1, epsilon=1e-5)"
      ],
      "execution_count": 0,
      "outputs": [
        {
          "output_type": "stream",
          "text": [
            "/usr/local/lib/python3.6/dist-packages/keras/callbacks.py:1335: UserWarning: `epsilon` argument is deprecated and will be removed, use `min_delta` instead.\n",
            "  warnings.warn('`epsilon` argument is deprecated and '\n"
          ],
          "name": "stderr"
        }
      ]
    },
    {
      "cell_type": "code",
      "metadata": {
        "id": "wEFY0l40eMfu",
        "colab_type": "code",
        "colab": {}
      },
      "source": [
        "import numpy as np\n",
        "import os\n",
        "os.environ['TF_CPP_MIN_LOG_LEVEL'] = '3' # warining 표시 안나오도록 하기"
      ],
      "execution_count": 0,
      "outputs": []
    },
    {
      "cell_type": "code",
      "metadata": {
        "id": "SozktaUyaAnW",
        "colab_type": "code",
        "colab": {}
      },
      "source": [
        "from keras.optimizers import RMSprop, Adam # 최적화함수 설정\n",
        "opt=Adam(lr=0.005) #Default 0.001\n",
        "model.compile(optimizer=opt, loss='categorical_crossentropy')"
      ],
      "execution_count": 0,
      "outputs": []
    },
    {
      "cell_type": "code",
      "metadata": {
        "id": "eWcXfO7RaJMu",
        "colab_type": "code",
        "outputId": "b2c6bf6e-7062-4bc6-ff2a-feb7bd9792fa",
        "colab": {
          "base_uri": "https://localhost:8080/",
          "height": 1000
        }
      },
      "source": [
        "model.fit([X_train,X_train],Y_train,\n",
        "                    epochs=100,\n",
        "                    batch_size=256,\n",
        "                    shuffle=True,\n",
        "                    callbacks=[h, rlr],\n",
        "                    validation_data=[[X_test,X_test],Y_test ]) # 데이터셋 훈련"
      ],
      "execution_count": 0,
      "outputs": [
        {
          "output_type": "stream",
          "text": [
            "Train on 65560 samples, validate on 21854 samples\n",
            "Epoch 1/100\n",
            "65560/65560 [==============================] - 36s 551us/step - loss: 0.8245 - val_loss: 0.6136\n",
            "Epoch 2/100\n",
            "65560/65560 [==============================] - 34s 513us/step - loss: 0.5340 - val_loss: 0.5104\n",
            "Epoch 3/100\n",
            "65560/65560 [==============================] - 33s 511us/step - loss: 0.4804 - val_loss: 0.4498\n",
            "Epoch 4/100\n",
            "65560/65560 [==============================] - 34s 511us/step - loss: 0.4327 - val_loss: 0.4144\n",
            "Epoch 5/100\n",
            "65560/65560 [==============================] - 33s 509us/step - loss: 0.4015 - val_loss: 0.4496\n",
            "Epoch 6/100\n",
            "65560/65560 [==============================] - 34s 514us/step - loss: 0.3760 - val_loss: 0.3531\n",
            "Epoch 7/100\n",
            "65560/65560 [==============================] - 33s 507us/step - loss: 0.3375 - val_loss: 0.3077\n",
            "Epoch 8/100\n",
            "65560/65560 [==============================] - 33s 511us/step - loss: 0.2856 - val_loss: 0.2838\n",
            "Epoch 9/100\n",
            "65560/65560 [==============================] - 34s 515us/step - loss: 0.2299 - val_loss: 0.2284\n",
            "Epoch 10/100\n",
            "65560/65560 [==============================] - 33s 509us/step - loss: 0.2186 - val_loss: 0.1688\n",
            "Epoch 11/100\n",
            "65560/65560 [==============================] - 33s 506us/step - loss: 0.1738 - val_loss: 0.1341\n",
            "Epoch 12/100\n",
            "65560/65560 [==============================] - 33s 508us/step - loss: 0.1270 - val_loss: 0.1094\n",
            "Epoch 13/100\n",
            "65560/65560 [==============================] - 33s 508us/step - loss: 0.1043 - val_loss: 0.1202\n",
            "Epoch 14/100\n",
            "65560/65560 [==============================] - 33s 505us/step - loss: 0.0747 - val_loss: 0.0606\n",
            "Epoch 15/100\n",
            "65560/65560 [==============================] - 33s 500us/step - loss: 0.0605 - val_loss: 0.0561\n",
            "Epoch 16/100\n",
            "65560/65560 [==============================] - 33s 502us/step - loss: 0.0621 - val_loss: 0.0492\n",
            "Epoch 17/100\n",
            "65560/65560 [==============================] - 33s 500us/step - loss: 0.0351 - val_loss: 0.0394\n",
            "Epoch 18/100\n",
            "65560/65560 [==============================] - 33s 502us/step - loss: 0.0335 - val_loss: 0.0352\n",
            "Epoch 19/100\n",
            "65560/65560 [==============================] - 33s 500us/step - loss: 0.0297 - val_loss: 0.0645\n",
            "Epoch 20/100\n",
            "65560/65560 [==============================] - 33s 503us/step - loss: 0.0831 - val_loss: 0.0289\n",
            "Epoch 21/100\n",
            "65560/65560 [==============================] - 33s 497us/step - loss: 0.0203 - val_loss: 0.0280\n",
            "Epoch 22/100\n",
            "65560/65560 [==============================] - 33s 503us/step - loss: 0.0191 - val_loss: 0.0191\n",
            "Epoch 23/100\n",
            "65560/65560 [==============================] - 33s 501us/step - loss: 0.0719 - val_loss: 0.0273\n",
            "Epoch 24/100\n",
            "65560/65560 [==============================] - 33s 503us/step - loss: 0.0166 - val_loss: 0.0198\n",
            "Epoch 25/100\n",
            "65560/65560 [==============================] - 33s 498us/step - loss: 0.0330 - val_loss: 0.0132\n",
            "Epoch 26/100\n",
            "65560/65560 [==============================] - 33s 496us/step - loss: 0.0155 - val_loss: 0.0133\n",
            "Epoch 27/100\n",
            "65560/65560 [==============================] - 33s 505us/step - loss: 0.0088 - val_loss: 0.0086\n",
            "Epoch 28/100\n",
            "65560/65560 [==============================] - 33s 498us/step - loss: 0.0547 - val_loss: 0.0145\n",
            "Epoch 29/100\n",
            "65560/65560 [==============================] - 33s 498us/step - loss: 0.0101 - val_loss: 0.0178\n",
            "Epoch 30/100\n",
            "65560/65560 [==============================] - 33s 498us/step - loss: 0.0088 - val_loss: 0.0072\n",
            "Epoch 31/100\n",
            "65560/65560 [==============================] - 32s 490us/step - loss: 0.0062 - val_loss: 0.0085\n",
            "Epoch 32/100\n",
            "65560/65560 [==============================] - 32s 490us/step - loss: 0.0852 - val_loss: 0.0161\n",
            "Epoch 33/100\n",
            "65560/65560 [==============================] - 32s 484us/step - loss: 0.0135 - val_loss: 0.0124\n",
            "Epoch 34/100\n",
            "65560/65560 [==============================] - 33s 499us/step - loss: 0.0097 - val_loss: 0.0132\n",
            "Epoch 35/100\n",
            "65560/65560 [==============================] - 33s 498us/step - loss: 0.0278 - val_loss: 0.1593\n",
            "Epoch 36/100\n",
            "65560/65560 [==============================] - 33s 497us/step - loss: 0.0179 - val_loss: 0.0071\n",
            "Epoch 37/100\n",
            "65560/65560 [==============================] - 32s 492us/step - loss: 0.0047 - val_loss: 0.0054\n",
            "Epoch 38/100\n",
            "65560/65560 [==============================] - 34s 520us/step - loss: 0.0036 - val_loss: 0.0051\n",
            "Epoch 39/100\n",
            "65560/65560 [==============================] - 33s 502us/step - loss: 0.0034 - val_loss: 0.0034\n",
            "Epoch 40/100\n",
            "65560/65560 [==============================] - 33s 498us/step - loss: 0.0902 - val_loss: 0.0238\n",
            "Epoch 41/100\n",
            "65560/65560 [==============================] - 33s 497us/step - loss: 0.0081 - val_loss: 0.0070\n",
            "Epoch 42/100\n",
            "65560/65560 [==============================] - 33s 499us/step - loss: 0.0049 - val_loss: 0.0054\n",
            "Epoch 43/100\n",
            "65560/65560 [==============================] - 32s 491us/step - loss: 0.0035 - val_loss: 0.0029\n",
            "Epoch 44/100\n",
            "65560/65560 [==============================] - 33s 498us/step - loss: 0.0025 - val_loss: 0.0043\n",
            "Epoch 45/100\n",
            "65560/65560 [==============================] - 33s 501us/step - loss: 0.0573 - val_loss: 0.0852\n",
            "Epoch 46/100\n",
            "65560/65560 [==============================] - 33s 504us/step - loss: 0.0204 - val_loss: 0.0091\n",
            "Epoch 47/100\n",
            "65560/65560 [==============================] - 33s 498us/step - loss: 0.0060 - val_loss: 0.0047\n",
            "Epoch 48/100\n",
            "65560/65560 [==============================] - 33s 502us/step - loss: 0.0038 - val_loss: 0.0036\n",
            "Epoch 49/100\n",
            "65560/65560 [==============================] - 33s 504us/step - loss: 0.0026 - val_loss: 0.0234\n",
            "Epoch 50/100\n",
            "65560/65560 [==============================] - 33s 505us/step - loss: 0.0682 - val_loss: 0.0082\n",
            "Epoch 51/100\n",
            "65560/65560 [==============================] - 32s 495us/step - loss: 0.0047 - val_loss: 0.0040\n",
            "Epoch 52/100\n",
            "65560/65560 [==============================] - 33s 498us/step - loss: 0.0027 - val_loss: 0.0029\n",
            "Epoch 53/100\n",
            "65560/65560 [==============================] - 33s 496us/step - loss: 0.0020 - val_loss: 0.0026\n",
            "Epoch 54/100\n",
            "65560/65560 [==============================] - 33s 502us/step - loss: 0.0678 - val_loss: 0.0101\n",
            "Epoch 55/100\n",
            "65560/65560 [==============================] - 33s 501us/step - loss: 0.0059 - val_loss: 0.0096\n",
            "Epoch 56/100\n",
            "65560/65560 [==============================] - 33s 498us/step - loss: 0.0037 - val_loss: 0.0035\n",
            "Epoch 57/100\n",
            "65560/65560 [==============================] - 33s 497us/step - loss: 0.0020 - val_loss: 0.0018\n",
            "Epoch 58/100\n",
            "65560/65560 [==============================] - 33s 506us/step - loss: 0.0014 - val_loss: 0.0023\n",
            "Epoch 59/100\n",
            "65560/65560 [==============================] - 33s 497us/step - loss: 0.0016 - val_loss: 0.0049\n",
            "Epoch 60/100\n",
            "65560/65560 [==============================] - 32s 495us/step - loss: 0.0075 - val_loss: 0.0017\n",
            "Epoch 61/100\n",
            "65560/65560 [==============================] - 32s 495us/step - loss: 0.0010 - val_loss: 9.2132e-04\n",
            "Epoch 62/100\n",
            "65560/65560 [==============================] - 32s 493us/step - loss: 6.8433e-04 - val_loss: 0.0013\n",
            "Epoch 63/100\n",
            "65560/65560 [==============================] - 32s 492us/step - loss: 0.0308 - val_loss: 0.0133\n",
            "Epoch 64/100\n",
            "65560/65560 [==============================] - 33s 496us/step - loss: 0.0044 - val_loss: 0.0025\n",
            "Epoch 65/100\n",
            "65560/65560 [==============================] - 32s 493us/step - loss: 0.0015 - val_loss: 0.0017\n",
            "Epoch 66/100\n",
            "65560/65560 [==============================] - 32s 490us/step - loss: 9.6058e-04 - val_loss: 0.0011\n",
            "Epoch 67/100\n",
            "65560/65560 [==============================] - 32s 491us/step - loss: 6.8656e-04 - val_loss: 7.8915e-04\n",
            "Epoch 68/100\n",
            "65560/65560 [==============================] - 32s 495us/step - loss: 5.7858e-04 - val_loss: 9.8431e-04\n",
            "Epoch 69/100\n",
            "65560/65560 [==============================] - 32s 486us/step - loss: 5.2442e-04 - val_loss: 9.3552e-04\n",
            "Epoch 70/100\n",
            "65560/65560 [==============================] - 32s 491us/step - loss: 0.0797 - val_loss: 0.0106\n",
            "Epoch 71/100\n",
            "65560/65560 [==============================] - 32s 491us/step - loss: 0.0058 - val_loss: 0.0054\n",
            "Epoch 72/100\n",
            "65560/65560 [==============================] - 32s 493us/step - loss: 0.0031 - val_loss: 0.0025\n",
            "Epoch 73/100\n",
            "65560/65560 [==============================] - 32s 493us/step - loss: 0.0023 - val_loss: 0.0021\n",
            "Epoch 74/100\n",
            "65560/65560 [==============================] - 33s 496us/step - loss: 0.0017 - val_loss: 0.0016\n",
            "Epoch 75/100\n",
            "65560/65560 [==============================] - 32s 496us/step - loss: 0.0017 - val_loss: 0.0059\n",
            "Epoch 76/100\n",
            "65560/65560 [==============================] - 32s 494us/step - loss: 0.0022 - val_loss: 0.0014\n",
            "Epoch 77/100\n",
            "65560/65560 [==============================] - 33s 498us/step - loss: 0.0328 - val_loss: 0.0067\n",
            "\n",
            "Epoch 00077: ReduceLROnPlateau reducing learning rate to 0.0024999999441206455.\n",
            "Epoch 78/100\n",
            "65560/65560 [==============================] - 32s 495us/step - loss: 0.0038 - val_loss: 0.0031\n",
            "Epoch 79/100\n",
            "65560/65560 [==============================] - 33s 501us/step - loss: 0.0021 - val_loss: 0.0021\n",
            "Epoch 80/100\n",
            "65560/65560 [==============================] - 33s 498us/step - loss: 0.0015 - val_loss: 0.0016\n",
            "Epoch 81/100\n",
            "65560/65560 [==============================] - 33s 497us/step - loss: 0.0011 - val_loss: 0.0013\n",
            "Epoch 82/100\n",
            "65560/65560 [==============================] - 33s 500us/step - loss: 8.6623e-04 - val_loss: 0.0011\n",
            "Epoch 83/100\n",
            "65560/65560 [==============================] - 33s 499us/step - loss: 7.0789e-04 - val_loss: 8.9781e-04\n",
            "Epoch 84/100\n",
            "65560/65560 [==============================] - 32s 493us/step - loss: 5.8609e-04 - val_loss: 8.8459e-04\n",
            "Epoch 85/100\n",
            "65560/65560 [==============================] - 32s 493us/step - loss: 5.7585e-04 - val_loss: 6.8573e-04\n",
            "Epoch 86/100\n",
            "65560/65560 [==============================] - 32s 493us/step - loss: 4.5910e-04 - val_loss: 7.8910e-04\n",
            "Epoch 87/100\n",
            "65560/65560 [==============================] - 33s 499us/step - loss: 3.9080e-04 - val_loss: 5.6422e-04\n",
            "Epoch 88/100\n",
            "65560/65560 [==============================] - 33s 500us/step - loss: 3.2624e-04 - val_loss: 4.7518e-04\n",
            "Epoch 89/100\n",
            "65560/65560 [==============================] - 33s 497us/step - loss: 2.7606e-04 - val_loss: 4.5821e-04\n",
            "Epoch 90/100\n",
            "65560/65560 [==============================] - 33s 497us/step - loss: 2.5059e-04 - val_loss: 4.1062e-04\n",
            "Epoch 91/100\n",
            "65560/65560 [==============================] - 32s 493us/step - loss: 0.0049 - val_loss: 9.4929e-04\n",
            "Epoch 92/100\n",
            "65560/65560 [==============================] - 32s 491us/step - loss: 4.2957e-04 - val_loss: 5.0946e-04\n",
            "Epoch 93/100\n",
            "65560/65560 [==============================] - 32s 491us/step - loss: 2.7397e-04 - val_loss: 4.0104e-04\n",
            "Epoch 94/100\n",
            "65560/65560 [==============================] - 33s 496us/step - loss: 2.2257e-04 - val_loss: 3.3950e-04\n",
            "Epoch 95/100\n",
            "65560/65560 [==============================] - 32s 487us/step - loss: 1.7774e-04 - val_loss: 3.0348e-04\n",
            "Epoch 96/100\n",
            "65560/65560 [==============================] - 32s 493us/step - loss: 1.5408e-04 - val_loss: 2.7328e-04\n",
            "Epoch 97/100\n",
            "65560/65560 [==============================] - 32s 491us/step - loss: 1.3646e-04 - val_loss: 2.6091e-04\n",
            "Epoch 98/100\n",
            "65560/65560 [==============================] - 32s 496us/step - loss: 1.1919e-04 - val_loss: 2.6414e-04\n",
            "Epoch 99/100\n",
            "65560/65560 [==============================] - 33s 499us/step - loss: 1.4625e-04 - val_loss: 0.0184\n",
            "Epoch 100/100\n",
            "65560/65560 [==============================] - 33s 503us/step - loss: 0.0143 - val_loss: 9.3746e-04\n"
          ],
          "name": "stdout"
        },
        {
          "output_type": "execute_result",
          "data": {
            "text/plain": [
              "<keras.callbacks.History at 0x7f30bb6b0748>"
            ]
          },
          "metadata": {
            "tags": []
          },
          "execution_count": 81
        }
      ]
    },
    {
      "cell_type": "code",
      "metadata": {
        "id": "3VgITVdNaJP8",
        "colab_type": "code",
        "outputId": "fa827131-db66-4059-c8d5-1cad7a5350b2",
        "colab": {
          "base_uri": "https://localhost:8080/",
          "height": 284
        }
      },
      "source": [
        "plt.plot(h.history[\"loss\"], label=\"Loss\") # 다소 튀는 현상이 있으나 감소하는 경향을 보임\n",
        "plt.plot(h.history[\"val_loss\"], label=\"Val_Loss\")\n",
        "plt.yscale(\"log\")\n",
        "plt.legend()"
      ],
      "execution_count": 0,
      "outputs": [
        {
          "output_type": "execute_result",
          "data": {
            "text/plain": [
              "<matplotlib.legend.Legend at 0x7f30ba7dbe10>"
            ]
          },
          "metadata": {
            "tags": []
          },
          "execution_count": 82
        },
        {
          "output_type": "display_data",
          "data": {
            "image/png": "[encoded data removed]",
            "text/plain": [
              "<Figure size 432x288 with 1 Axes>"
            ]
          },
          "metadata": {
            "tags": []
          }
        }
      ]
    }
  ]
}