{
  "nbformat": 4,
  "nbformat_minor": 0,
  "metadata": {
    "colab": {
      "name": "15108329_ch5.ipynb",
      "provenance": [],
      "collapsed_sections": [],
      "include_colab_link": true
    },
    "kernelspec": {
      "display_name": "Python 3",
      "language": "python",
      "name": "python3"
    },
    "language_info": {
      "codemirror_mode": {
        "name": "ipython",
        "version": 3
      },
      "file_extension": ".py",
      "mimetype": "text/x-python",
      "name": "python",
      "nbconvert_exporter": "python",
      "pygments_lexer": "ipython3",
      "version": "3.7.0"
    }
  },
  "cells": [
    {
      "cell_type": "markdown",
      "metadata": {
        "id": "view-in-github",
        "colab_type": "text"
      },
      "source": [
        "<a href=\"https://colab.research.google.com/github/Jinukki/KJU/blob/master/15108329_ch5.ipynb\" target=\"_parent\"><img src=\"https://colab.research.google.com/assets/colab-badge.svg\" alt=\"Open In Colab\"/></a>"
      ]
    },
    {
      "cell_type": "markdown",
      "metadata": {
        "colab_type": "text",
        "id": "nYQA9aADXQ3z"
      },
      "source": [
        "# 5장 연습문제\n",
        "---"
      ]
    },
    {
      "cell_type": "markdown",
      "metadata": {
        "colab_type": "text",
        "id": "aK4A-kYzXQ33"
      },
      "source": [
        "# Q1\n",
        "\n",
        "---\n",
        "\n",
        "## 다음은 Calculator 클래스이다."
      ]
    },
    {
      "cell_type": "code",
      "metadata": {
        "colab_type": "code",
        "id": "bskMYSTQXQ36",
        "colab": {}
      },
      "source": [
        "class Calculator:\n",
        "    def __init__(self):\n",
        "        self.value=0\n",
        "        \n",
        "    def add(self, val):\n",
        "        self.value+=val"
      ],
      "execution_count": 0,
      "outputs": []
    },
    {
      "cell_type": "markdown",
      "metadata": {
        "colab_type": "text",
        "id": "LzJNSn92XQ4B"
      },
      "source": [
        "## 위 클래스를 상속하는 UpgradeCalculator를 만들고 값을 뺄 수 있는 minus 메서드를 추가해 보자. 즉 다음과 같이 동작하는 클래스를 만들어야 한다."
      ]
    },
    {
      "cell_type": "markdown",
      "metadata": {
        "colab_type": "text",
        "id": "IlLTb5HXXQ4D"
      },
      "source": [
        "cal = UpgradeCalculator()<br>\n",
        "cal.add(10)<br>\n",
        "cal.minus(7)<br>\n",
        "\n",
        "print(cal.value) --- #10에서 7을 뺀 3을 출력"
      ]
    },
    {
      "cell_type": "code",
      "metadata": {
        "colab_type": "code",
        "id": "bcPis1oFXQ4E",
        "colab": {}
      },
      "source": [
        "class UpgradeCalculator(Calculator):\n",
        "    def minus(self,val):\n",
        "        self.value-=val"
      ],
      "execution_count": 0,
      "outputs": []
    },
    {
      "cell_type": "code",
      "metadata": {
        "colab_type": "code",
        "id": "N22QIJdaXQ4K",
        "outputId": "48254264-3410-45c3-d820-08890eb86d93",
        "colab": {}
      },
      "source": [
        "cal=UpgradeCalculator()\n",
        "cal.add(10)\n",
        "cal.minus(7)\n",
        "\n",
        "print(cal.value)"
      ],
      "execution_count": 0,
      "outputs": [
        {
          "output_type": "stream",
          "text": [
            "3\n"
          ],
          "name": "stdout"
        }
      ]
    },
    {
      "cell_type": "markdown",
      "metadata": {
        "colab_type": "text",
        "id": "11q_IRg_XQ4S"
      },
      "source": [
        "# Q2\n",
        "\n",
        "---\n",
        "\n",
        "## 객체변수 value가 100 이상의 값은 가질 수 없도록 제한하는 MaxLimitCalculator 클래스를 만들어 보자. 즉 다음과 같이 동작해야 한다."
      ]
    },
    {
      "cell_type": "markdown",
      "metadata": {
        "colab_type": "text",
        "id": "oK-pWRIaXQ4T"
      },
      "source": [
        "cal = MaxLimitCalculator()<br>\n",
        "cal.add(50) --- # 50 더하기<br>\n",
        "cal.add(60) --- # 60 더하기<br>\n",
        "\n",
        "print(cal.value) --- # 100 출력"
      ]
    },
    {
      "cell_type": "markdown",
      "metadata": {
        "colab_type": "text",
        "id": "jt3vk1sPXQ4V"
      },
      "source": [
        "## 단 반드시 다음과 같은 Calculator 클래스를 상속해서 만들어야 한다."
      ]
    },
    {
      "cell_type": "code",
      "metadata": {
        "colab_type": "code",
        "id": "lZJ4SabiXQ4X",
        "colab": {}
      },
      "source": [
        "class Calculator:\n",
        "    def __init__(self):\n",
        "        self.value=0\n",
        "\n",
        "    def add(self, val):\n",
        "        self.value+=val"
      ],
      "execution_count": 0,
      "outputs": []
    },
    {
      "cell_type": "code",
      "metadata": {
        "colab_type": "code",
        "id": "TInJhyycXQ4c",
        "colab": {}
      },
      "source": [
        "class MaxLimitCalculator(Calculator):\n",
        "    def add(self, val):\n",
        "        self.value+=val\n",
        "        if self.value>100:\n",
        "            self.value=100"
      ],
      "execution_count": 0,
      "outputs": []
    },
    {
      "cell_type": "code",
      "metadata": {
        "colab_type": "code",
        "id": "wLp9i-TMXQ4h",
        "outputId": "d8e31439-c779-4595-d115-c018db6be424",
        "colab": {}
      },
      "source": [
        "cal = MaxLimitCalculator()\n",
        "cal.add(50)\n",
        "cal.add(60)\n",
        "\n",
        "print(cal.value)"
      ],
      "execution_count": 0,
      "outputs": [
        {
          "output_type": "stream",
          "text": [
            "100\n"
          ],
          "name": "stdout"
        }
      ]
    },
    {
      "cell_type": "markdown",
      "metadata": {
        "colab_type": "text",
        "id": "sml2-KbIXQ4k"
      },
      "source": [
        "# Q3\n",
        "\n",
        "---\n",
        "\n",
        "## 다음 결과를 예측해 보자.<br>하나.\n",
        "all([1, 2, abs(-3)-3])\n",
        "## 둘.\n",
        "chr(ord('a')) == 'a'"
      ]
    },
    {
      "cell_type": "code",
      "metadata": {
        "colab_type": "code",
        "id": "4T_tipJDXQ4m",
        "outputId": "a464f3b5-8329-48ac-91e3-5c6a3a8b7919",
        "colab": {}
      },
      "source": [
        "all([1, 2, abs(-3)-3])"
      ],
      "execution_count": 0,
      "outputs": [
        {
          "output_type": "execute_result",
          "data": {
            "text/plain": [
              "False"
            ]
          },
          "metadata": {
            "tags": []
          },
          "execution_count": 13
        }
      ]
    },
    {
      "cell_type": "markdown",
      "metadata": {
        "colab_type": "text",
        "id": "2p0XKrcAXQ4s"
      },
      "source": [
        "### abs(-3)은 -3의 절댓값이므로 3이 되어 all([1, 2, 0])이 되고, 리스트의 요솟값중 0이 있기 때문에 all 내장 함수의 결과는 False가 된다."
      ]
    },
    {
      "cell_type": "code",
      "metadata": {
        "colab_type": "code",
        "id": "XwERjXW_XQ4t",
        "outputId": "6d71530e-8084-47b1-f360-6c89a45d1150",
        "colab": {}
      },
      "source": [
        "chr(ord('a'))=='a'"
      ],
      "execution_count": 0,
      "outputs": [
        {
          "output_type": "execute_result",
          "data": {
            "text/plain": [
              "True"
            ]
          },
          "metadata": {
            "tags": []
          },
          "execution_count": 16
        }
      ]
    },
    {
      "cell_type": "markdown",
      "metadata": {
        "colab_type": "text",
        "id": "jkA3xrQgXQ4x"
      },
      "source": [
        "### ord('a') 의 결과는 97이 되어 chr(97)로 치환된다. chr(97)의 결과는 다시 'a'가 되므로 'a' == 'a'가 되어 True를 돌려준다."
      ]
    },
    {
      "cell_type": "markdown",
      "metadata": {
        "colab_type": "text",
        "id": "L5L0OGR1XQ4y"
      },
      "source": [
        "# Q4\n",
        "\n",
        "---\n",
        "\n",
        "## filter와 lambda를 사용하여 리스트 [1, -2, 3, -5, 8, -3]에서 음수를 모두 제거해 보자."
      ]
    },
    {
      "cell_type": "code",
      "metadata": {
        "colab_type": "code",
        "id": "rIWx6HbYXQ40",
        "outputId": "e91f3762-b497-4fd6-8d13-fdfeef5f0ca6",
        "colab": {}
      },
      "source": [
        "list(filter(lambda x:x>0, [1, -2, 3, -5, 8, -3]))"
      ],
      "execution_count": 0,
      "outputs": [
        {
          "output_type": "execute_result",
          "data": {
            "text/plain": [
              "[1, 3, 8]"
            ]
          },
          "metadata": {
            "tags": []
          },
          "execution_count": 17
        }
      ]
    },
    {
      "cell_type": "markdown",
      "metadata": {
        "colab_type": "text",
        "id": "Fx8yYI6PXQ46"
      },
      "source": [
        "# Q5\n",
        "\n",
        "---\n",
        "\n",
        "## 234라는 10진수의 16진수는 다음과 같이 구할 수 있다."
      ]
    },
    {
      "cell_type": "code",
      "metadata": {
        "colab_type": "code",
        "id": "ndjeWp3yXQ48",
        "outputId": "c1aa252a-17b4-4f43-9a99-10ec5ebe2565",
        "colab": {}
      },
      "source": [
        "hex(234)"
      ],
      "execution_count": 0,
      "outputs": [
        {
          "output_type": "execute_result",
          "data": {
            "text/plain": [
              "'0xea'"
            ]
          },
          "metadata": {
            "tags": []
          },
          "execution_count": 11
        }
      ]
    },
    {
      "cell_type": "markdown",
      "metadata": {
        "colab_type": "text",
        "id": "Glplx2HpXQ5B"
      },
      "source": [
        "## 이번에는 반대로 16진수 문자열 0xea를 10진수로 변경해 보자.\n",
        "내장 함수 int를 활용해 보자."
      ]
    },
    {
      "cell_type": "code",
      "metadata": {
        "colab_type": "code",
        "id": "k1CTWiywXQ5C",
        "outputId": "ed3c0360-024d-4544-f313-066fa25791bf",
        "colab": {}
      },
      "source": [
        "int('0xea', 16)"
      ],
      "execution_count": 0,
      "outputs": [
        {
          "output_type": "execute_result",
          "data": {
            "text/plain": [
              "234"
            ]
          },
          "metadata": {
            "tags": []
          },
          "execution_count": 18
        }
      ]
    },
    {
      "cell_type": "markdown",
      "metadata": {
        "colab_type": "text",
        "id": "LS_nIkX0XQ5G"
      },
      "source": [
        "# Q6\n",
        "\n",
        "---\n",
        "\n",
        "## map과 lambda를 사용하여 [1, 2, 3, 4] 리스트의 각 요솟값에 3이 곱해진 리스트 [3, 6, 9, 12]를 만들어 보자."
      ]
    },
    {
      "cell_type": "code",
      "metadata": {
        "colab_type": "code",
        "id": "eAchX1Q_XQ5H",
        "outputId": "9c1bd678-8828-4734-f4e0-9aea59c1569e",
        "colab": {}
      },
      "source": [
        "list(map(lambda x:x*3, [1,2,3,4]))"
      ],
      "execution_count": 0,
      "outputs": [
        {
          "output_type": "execute_result",
          "data": {
            "text/plain": [
              "[3, 6, 9, 12]"
            ]
          },
          "metadata": {
            "tags": []
          },
          "execution_count": 20
        }
      ]
    },
    {
      "cell_type": "markdown",
      "metadata": {
        "colab_type": "text",
        "id": "fhhUxS3BXQ5N"
      },
      "source": [
        "# Q7\n",
        "\n",
        "---\n",
        "\n",
        "## 다음 리스트의 최댓값과 최솟값의 합을 구해 보자.\n",
        "[-8, 2, 7, 5, -3, 5, 0, 1]"
      ]
    },
    {
      "cell_type": "code",
      "metadata": {
        "colab_type": "code",
        "id": "EF5m_OAYXQ5P",
        "outputId": "b587581b-0e69-413d-96d0-2fc0036824a2",
        "colab": {}
      },
      "source": [
        "c=[-8, 2, 7, 5, -3, 5, 0, 1]\n",
        "max(c)+min(c)"
      ],
      "execution_count": 0,
      "outputs": [
        {
          "output_type": "execute_result",
          "data": {
            "text/plain": [
              "-1"
            ]
          },
          "metadata": {
            "tags": []
          },
          "execution_count": 21
        }
      ]
    },
    {
      "cell_type": "markdown",
      "metadata": {
        "colab_type": "text",
        "id": "AExodVGFXQ5S"
      },
      "source": [
        "# Q8\n",
        "\n",
        "---\n",
        "\n",
        "## 17 / 3의 결과는 다음과 같다."
      ]
    },
    {
      "cell_type": "code",
      "metadata": {
        "colab_type": "code",
        "id": "zQm-ijHKXQ5U",
        "outputId": "4bdb2ce3-8a54-4b81-cb41-0122800a1a22",
        "colab": {}
      },
      "source": [
        "17 / 3"
      ],
      "execution_count": 0,
      "outputs": [
        {
          "output_type": "execute_result",
          "data": {
            "text/plain": [
              "5.666666666666667"
            ]
          },
          "metadata": {
            "tags": []
          },
          "execution_count": 19
        }
      ]
    },
    {
      "cell_type": "markdown",
      "metadata": {
        "colab_type": "text",
        "id": "z9nZNiBKXQ5a"
      },
      "source": [
        "## 위와 같은 결괏값 5.666666666666667을 소숫점 4자리까지만 반올림하여 표시해 보자."
      ]
    },
    {
      "cell_type": "code",
      "metadata": {
        "colab_type": "code",
        "id": "waj1Yct4XQ5c",
        "outputId": "c73c9256-02e6-47a5-f972-209bd41ea25f",
        "colab": {}
      },
      "source": [
        "round(17/3,4)"
      ],
      "execution_count": 0,
      "outputs": [
        {
          "output_type": "execute_result",
          "data": {
            "text/plain": [
              "5.6667"
            ]
          },
          "metadata": {
            "tags": []
          },
          "execution_count": 22
        }
      ]
    },
    {
      "cell_type": "markdown",
      "metadata": {
        "colab_type": "text",
        "id": "nDjGy1NOXQ5h"
      },
      "source": [
        "# Q9\n",
        "\n",
        "---\n",
        "\n",
        "## 다음과 같이 실행할 때 입력값을 모두 더하여 출력하는 스크립트(C:\\doit\\myargv.py)를 작성해 보자.\n",
        "C:\\> cd doit<br>\n",
        "C:\\doit> python myargv.py 1 2 3 4 5 6 7 8 9 10<br>\n",
        "55"
      ]
    },
    {
      "cell_type": "code",
      "metadata": {
        "colab_type": "code",
        "id": "x_bp0gyoXQ5k",
        "outputId": "186f6b64-c2f7-418b-add8-7360db3f9e75",
        "colab": {
          "base_uri": "https://localhost:8080/",
          "height": 34
        }
      },
      "source": [
        "myargv=sys.argv\n",
        "sys.argv=[myargv, 1, 2, 3, 4, 5, 6, 7, 8, 9, 10]\n",
        "import sys\n",
        "\n",
        "numbers=sys.argv[1:]\n",
        "\n",
        "result=0\n",
        "\n",
        "for number in numbers:\n",
        "    result += int(number)\n",
        "\n",
        "print(result)"
      ],
      "execution_count": 7,
      "outputs": [
        {
          "output_type": "stream",
          "text": [
            "55\n"
          ],
          "name": "stdout"
        }
      ]
    },
    {
      "cell_type": "markdown",
      "metadata": {
        "colab_type": "text",
        "id": "LtiFcn_BZKZ0"
      },
      "source": [
        "# Q10\n",
        "\n",
        "---\n",
        "\n",
        "## os 모듈을 사용하여 다음과 같이 동작하도록 코드를 작성해 보자.\n",
        "\n",
        "1. C:\\doit 디렉터리로 이동한다.\n",
        "2. dir 명령을 실행하고 그 결과를 변수에 담는다.\n",
        "3. dir 명령의 결과를 출력한다."
      ]
    },
    {
      "cell_type": "code",
      "metadata": {
        "colab_type": "code",
        "id": "SVwu8L8lZR8X",
        "colab": {}
      },
      "source": [
        "import os\n",
        "os.chdir(\"D:\\\\notebooks\\doit\")"
      ],
      "execution_count": 0,
      "outputs": []
    },
    {
      "cell_type": "code",
      "metadata": {
        "colab_type": "code",
        "id": "uKPMq5T7ZXOz",
        "outputId": "a37bba3d-858b-412c-ac41-a3a7ff6a1383",
        "colab": {}
      },
      "source": [
        "import os\n",
        "os.getcwd()"
      ],
      "execution_count": 0,
      "outputs": [
        {
          "output_type": "execute_result",
          "data": {
            "text/plain": [
              "'D:\\\\notebooks\\\\doit'"
            ]
          },
          "metadata": {
            "tags": []
          },
          "execution_count": 11
        }
      ]
    },
    {
      "cell_type": "code",
      "metadata": {
        "id": "ATQ_aQrTKaaD",
        "colab_type": "code",
        "colab": {}
      },
      "source": [
        "result=os.popen(\"dir\")"
      ],
      "execution_count": 0,
      "outputs": []
    },
    {
      "cell_type": "code",
      "metadata": {
        "id": "ZVfiwuxbKaaL",
        "colab_type": "code",
        "outputId": "53fe861e-dadb-493b-c20d-572264d133d4",
        "colab": {}
      },
      "source": [
        "print(result.read())"
      ],
      "execution_count": 0,
      "outputs": [
        {
          "output_type": "stream",
          "text": [
            " D 드라이브의 볼륨에는 이름이 없습니다.\n",
            " 볼륨 일련 번호: 36AB-549A\n",
            "\n",
            " D:\\notebooks\\doit 디렉터리\n",
            "\n",
            "2019-10-09  오전 11:44    <DIR>          .\n",
            "2019-10-09  오전 11:44    <DIR>          ..\n",
            "               0개 파일                   0 바이트\n",
            "               2개 디렉터리  389,987,893,248 바이트 남음\n",
            "\n"
          ],
          "name": "stdout"
        }
      ]
    },
    {
      "cell_type": "markdown",
      "metadata": {
        "colab_type": "text",
        "id": "K6e7Sbj9Z0k7"
      },
      "source": [
        "# Q11\n",
        "\n",
        "---\n",
        "\n",
        "## glob 모듈을 사용하여 C:\\doit 디렉터리의 파일 중 확장자가 .py인 파일만 출력하는 프로그램을 작성해 보자.\n",
        "\n",
        "## Jupyter Notebook과 연동시킨 폴더로 바꾸어서 진행해보았다. "
      ]
    },
    {
      "cell_type": "code",
      "metadata": {
        "colab_type": "code",
        "id": "oTqEnmibZ5zR",
        "outputId": "8e47bbbd-c833-408f-f1df-98ecc5f6e887",
        "colab": {}
      },
      "source": [
        "import glob\n",
        "glob.glob(\"D:/notebooks/*.py\")"
      ],
      "execution_count": 0,
      "outputs": [
        {
          "output_type": "execute_result",
          "data": {
            "text/plain": [
              "['D:/notebooks\\\\buy_apple.py',\n",
              " 'D:/notebooks\\\\buy_apple_orange.py',\n",
              " 'D:/notebooks\\\\gradient_simplenet.py',\n",
              " 'D:/notebooks\\\\layers.py',\n",
              " 'D:/notebooks\\\\layer_naive.py',\n",
              " 'D:/notebooks\\\\train_neuralnet.py',\n",
              " 'D:/notebooks\\\\two_layer_net.py']"
            ]
          },
          "metadata": {
            "tags": []
          },
          "execution_count": 15
        }
      ]
    },
    {
      "cell_type": "markdown",
      "metadata": {
        "colab_type": "text",
        "id": "d0liTIeRaAKh"
      },
      "source": [
        "# Q12\n",
        "\n",
        "---\n",
        "\n",
        "## time 모듈을 사용하여 현재 날짜와 시간을 다음과 같은 형식으로 출력해 보자.\n",
        "\n",
        "2018/04/03 17:20:32"
      ]
    },
    {
      "cell_type": "code",
      "metadata": {
        "colab_type": "code",
        "id": "yxmZs3CcaHUJ",
        "outputId": "8c06f514-2df2-483a-8e71-04d092004a2a",
        "colab": {
          "base_uri": "https://localhost:8080/",
          "height": 34
        }
      },
      "source": [
        "import time\n",
        "time.strftime(\"%Y/%m/%d %H:%M:%S\")"
      ],
      "execution_count": 0,
      "outputs": [
        {
          "output_type": "execute_result",
          "data": {
            "text/plain": [
              "'2019/10/08 17:30:52'"
            ]
          },
          "metadata": {
            "tags": []
          },
          "execution_count": 11
        }
      ]
    },
    {
      "cell_type": "markdown",
      "metadata": {
        "colab_type": "text",
        "id": "vCZIlOlCbJRL"
      },
      "source": [
        "### time 모듈의 strftime을 사용"
      ]
    },
    {
      "cell_type": "markdown",
      "metadata": {
        "colab_type": "text",
        "id": "7KhS5f9FaMG1"
      },
      "source": [
        "# Q13\n",
        "\n",
        "---\n",
        "\n",
        "## random 모듈을 사용하여 로또 번호(1~45 사이의 숫자 6개)를 생성해 보자(단 중복된 숫자가 있으면 안 됨)."
      ]
    },
    {
      "cell_type": "code",
      "metadata": {
        "colab_type": "code",
        "id": "ayYk1SDqaPKV",
        "outputId": "b0addfd0-640e-467b-cd4e-df2987aa8a06",
        "colab": {
          "base_uri": "https://localhost:8080/",
          "height": 34
        }
      },
      "source": [
        "import random\n",
        "\n",
        "result = []\n",
        "while len(result) < 6:\n",
        "    num = random.randint(1, 45)\n",
        "    if num not in result:\n",
        "        result.append(num)\n",
        "\n",
        "print(result)"
      ],
      "execution_count": 0,
      "outputs": [
        {
          "output_type": "stream",
          "text": [
            "[43, 31, 40, 20, 5, 36]\n"
          ],
          "name": "stdout"
        }
      ]
    },
    {
      "cell_type": "markdown",
      "metadata": {
        "colab_type": "text",
        "id": "NalQXXQ7anhQ"
      },
      "source": [
        "### random 모듈의 randint를 사용"
      ]
    }
  ]
}