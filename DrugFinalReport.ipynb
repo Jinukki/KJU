{
  "nbformat": 4,
  "nbformat_minor": 0,
  "metadata": {
    "colab": {
      "name": "DrugFinalReport.ipynb",
      "provenance": [],
      "collapsed_sections": [],
      "include_colab_link": true
    },
    "kernelspec": {
      "name": "python3",
      "display_name": "Python 3"
    },
    "accelerator": "GPU"
  },
  "cells": [
    {
      "cell_type": "markdown",
      "metadata": {
        "id": "view-in-github",
        "colab_type": "text"
      },
      "source": [
        "<a href=\"https://colab.research.google.com/github/Jinukki/KJU/blob/master/DrugFinalReport.ipynb\" target=\"_parent\"><img src=\"https://colab.research.google.com/assets/colab-badge.svg\" alt=\"Open In Colab\"/></a>"
      ]
    },
    {
      "cell_type": "markdown",
      "metadata": {
        "id": "WfI6vLXv9fcw",
        "colab_type": "text"
      },
      "source": [
        "> ## 공학전산응용 최종 프로젝트\n",
        "# *Seq2Seq FingerPrint : An Unsupervised Deep Molecular Embedding for Drug Discovery*\n",
        "\n",
        "##### 팀장 : 김진욱, 팀원 : 신현승, 천희수\n"
      ]
    },
    {
      "cell_type": "code",
      "metadata": {
        "id": "TbnI3xCUZ6Gg",
        "colab_type": "code",
        "colab": {}
      },
      "source": [
        "def DownloadRDkit():\n",
        "  !wget -c https://repo.continuum.io/miniconda/Miniconda3-latest-Linux-x86_64.sh\n",
        "  !chmod +x Miniconda3-latest-Linux-x86_64.sh\n",
        "  !time bash ./Miniconda3-latest-Linux-x86_64.sh -b -f -p /usr/local\n",
        "  !time conda install -q -y -c conda-forge rdkit"
      ],
      "execution_count": 0,
      "outputs": []
    },
    {
      "cell_type": "code",
      "metadata": {
        "id": "iB8ve1nEZgpJ",
        "colab_type": "code",
        "colab": {}
      },
      "source": [
        "import numpy as np\n",
        "import os\n",
        "os.environ['TF_CPP_MIN_LOG_LEVEL'] = '2' # warining 표시 안나오도록 하기"
      ],
      "execution_count": 0,
      "outputs": []
    },
    {
      "cell_type": "code",
      "metadata": {
        "id": "MFNM5YtZZ7N3",
        "colab_type": "code",
        "colab": {}
      },
      "source": [
        "DownloadRDkit() # RDkit 다운로드\n",
        "%matplotlib inline\n",
        "import sys\n",
        "import os\n",
        "sys.path.append('/usr/local/lib/python3.7/site-packages/')"
      ],
      "execution_count": 0,
      "outputs": []
    },
    {
      "cell_type": "code",
      "metadata": {
        "id": "OxK1Rlu-Z8Jo",
        "colab_type": "code",
        "colab": {}
      },
      "source": [
        "import os\n",
        "import pandas as pd\n",
        "import numpy as np\n",
        "import sklearn\n",
        "from rdkit import Chem\n",
        "from rdkit.Chem import Draw, Descriptors\n",
        "from matplotlib import pyplot as plt\n",
        "%matplotlib inline"
      ],
      "execution_count": 0,
      "outputs": []
    },
    {
      "cell_type": "code",
      "metadata": {
        "id": "lq-gT3nKaAkg",
        "colab_type": "code",
        "colab": {}
      },
      "source": [
        "from sklearn.model_selection import train_test_split"
      ],
      "execution_count": 0,
      "outputs": []
    },
    {
      "cell_type": "markdown",
      "metadata": {
        "id": "k8_jXCmN98g4",
        "colab_type": "text"
      },
      "source": [
        "#### 이번 프로젝트 진행에서 이용한 데이터셋은 'GDB-11' 데이터이다. GDB-11 데이터셋은 REYMOND RESEARCH GROUP 에서<br> 발췌하였으며, 'C', 'O', 'N', 'F'. 'H' 의 원소들로 구성된 유기 분자들의 집합 데이터로, 이 데이터를 통해 모델링을 실행시켜보고<br> 약물 분야로서의 이용 가능성을 판단해볼 것이다.\n",
        "<br>\n",
        "\n",
        "> Reference  \n",
        "\n",
        "Virtual exploration of the chemical universe up to 11 atoms of C, N, O, F: assembly of 26.4 million structures (110.9 million stereoisomers) and analysis for new ring systems, stereochemistry, physico-chemical properties, compound classes and drug discovery. Fink, T.; Reymond, J.-L. J. Chem. Inf. Model. 2007, 47, 342-353.\n",
        "\n",
        "Virtual Exploration of the Small Molecule Chemical Universe below 160 Daltons. Fink, T.; Bruggesser, H.; Reymond, J.-L. Angew. Chem. Int. Ed. 2005, 44, 1504-1508."
      ]
    },
    {
      "cell_type": "code",
      "metadata": {
        "id": "2SFHwFAwaAp1",
        "colab_type": "code",
        "outputId": "34e9147f-da60-4148-bcd5-225cad6010b3",
        "colab": {
          "base_uri": "https://localhost:8080/",
          "height": 52
        }
      },
      "source": [
        "smifile = \"gdb11_size08.smi\" # 데이터셋 받아오기\n",
        "data = pd.read_csv(smifile, delimiter = \"\\t\", names = [\"smiles\",\"No\",\"Int\"])\n",
        "# delimiter는 구분자\n",
        "from sklearn.model_selection import train_test_split # 훈련데이터 검증데이터 구분\n",
        "smiles_train, smiles_test = train_test_split(data[\"smiles\"], random_state=42)\n",
        "print (smiles_train.shape)\n",
        "print (smiles_test.shape)"
      ],
      "execution_count": 91,
      "outputs": [
        {
          "output_type": "stream",
          "text": [
            "(50029,)\n",
            "(16677,)\n"
          ],
          "name": "stdout"
        }
      ]
    },
    {
      "cell_type": "code",
      "metadata": {
        "id": "nKY4jqblbWqr",
        "colab_type": "code",
        "outputId": "d2dc61d6-afb1-4349-c0fe-92ddf2da3f2a",
        "colab": {
          "base_uri": "https://localhost:8080/",
          "height": 343
        }
      },
      "source": [
        "data.sample(10) # 데이터셋 샘플 확인"
      ],
      "execution_count": 153,
      "outputs": [
        {
          "output_type": "execute_result",
          "data": {
            "text/html": [
              "<div>\n",
              "<style scoped>\n",
              "    .dataframe tbody tr th:only-of-type {\n",
              "        vertical-align: middle;\n",
              "    }\n",
              "\n",
              "    .dataframe tbody tr th {\n",
              "        vertical-align: top;\n",
              "    }\n",
              "\n",
              "    .dataframe thead th {\n",
              "        text-align: right;\n",
              "    }\n",
              "</style>\n",
              "<table border=\"1\" class=\"dataframe\">\n",
              "  <thead>\n",
              "    <tr style=\"text-align: right;\">\n",
              "      <th></th>\n",
              "      <th>smiles</th>\n",
              "      <th>No</th>\n",
              "      <th>Int</th>\n",
              "    </tr>\n",
              "  </thead>\n",
              "  <tbody>\n",
              "    <tr>\n",
              "      <th>19753</th>\n",
              "      <td>CC=C(C)C(=C)CN</td>\n",
              "      <td>19754</td>\n",
              "      <td>1</td>\n",
              "    </tr>\n",
              "    <tr>\n",
              "      <th>2192</th>\n",
              "      <td>NC(=O)C#CC(N)=O</td>\n",
              "      <td>2193</td>\n",
              "      <td>3</td>\n",
              "    </tr>\n",
              "    <tr>\n",
              "      <th>17899</th>\n",
              "      <td>CNC(C)C(C)OC</td>\n",
              "      <td>17900</td>\n",
              "      <td>1</td>\n",
              "    </tr>\n",
              "    <tr>\n",
              "      <th>50320</th>\n",
              "      <td>CCOCC#CCO</td>\n",
              "      <td>50321</td>\n",
              "      <td>1</td>\n",
              "    </tr>\n",
              "    <tr>\n",
              "      <th>47050</th>\n",
              "      <td>CC(N)C1OCCO1</td>\n",
              "      <td>47051</td>\n",
              "      <td>1</td>\n",
              "    </tr>\n",
              "    <tr>\n",
              "      <th>48796</th>\n",
              "      <td>CCCCCCC#N</td>\n",
              "      <td>48797</td>\n",
              "      <td>1</td>\n",
              "    </tr>\n",
              "    <tr>\n",
              "      <th>62905</th>\n",
              "      <td>C1ON=C2N=CNC12</td>\n",
              "      <td>62906</td>\n",
              "      <td>3</td>\n",
              "    </tr>\n",
              "    <tr>\n",
              "      <th>40196</th>\n",
              "      <td>CN1OCC(F)C1=O</td>\n",
              "      <td>40197</td>\n",
              "      <td>1</td>\n",
              "    </tr>\n",
              "    <tr>\n",
              "      <th>48150</th>\n",
              "      <td>C1NCC12CNN=C2</td>\n",
              "      <td>48151</td>\n",
              "      <td>1</td>\n",
              "    </tr>\n",
              "    <tr>\n",
              "      <th>41507</th>\n",
              "      <td>CC1=C(C)C(=O)N=C1</td>\n",
              "      <td>41508</td>\n",
              "      <td>1</td>\n",
              "    </tr>\n",
              "  </tbody>\n",
              "</table>\n",
              "</div>"
            ],
            "text/plain": [
              "                  smiles     No  Int\n",
              "19753     CC=C(C)C(=C)CN  19754    1\n",
              "2192     NC(=O)C#CC(N)=O   2193    3\n",
              "17899       CNC(C)C(C)OC  17900    1\n",
              "50320          CCOCC#CCO  50321    1\n",
              "47050       CC(N)C1OCCO1  47051    1\n",
              "48796          CCCCCCC#N  48797    1\n",
              "62905     C1ON=C2N=CNC12  62906    3\n",
              "40196      CN1OCC(F)C1=O  40197    1\n",
              "48150      C1NCC12CNN=C2  48151    1\n",
              "41507  CC1=C(C)C(=O)N=C1  41508    1"
            ]
          },
          "metadata": {
            "tags": []
          },
          "execution_count": 153
        }
      ]
    },
    {
      "cell_type": "code",
      "metadata": {
        "id": "mKk26vIdaA2_",
        "colab_type": "code",
        "outputId": "ef37a4b7-6bf9-44f1-b956-77ac11ddbebe",
        "colab": {
          "base_uri": "https://localhost:8080/",
          "height": 52
        }
      },
      "source": [
        "charset = set(\"\".join(list(data.smiles))+\"!E\")\n",
        "char_to_int = dict((c,i) for i,c in enumerate(charset))\n",
        "int_to_char = dict((i,c) for i,c in enumerate(charset))\n",
        "embed = max([len(smile) for smile in data.smiles]) + 5 # 23+5=28\n",
        "print (str(charset))\n",
        "print(len(charset), embed)\n",
        "# len(charset) : smiles에 쓰이는 글자 개수, 아래 결과와 같이 22개"
      ],
      "execution_count": 93,
      "outputs": [
        {
          "output_type": "stream",
          "text": [
            "{'n', 'F', ']', '!', ')', '[', 'c', '-', 'o', '=', 'N', '4', '3', 'O', '+', 'E', '(', '2', '#', 'H', 'C', '1'}\n",
            "22 28\n"
          ],
          "name": "stdout"
        }
      ]
    },
    {
      "cell_type": "code",
      "metadata": {
        "id": "zCaX_2RVWu4Y",
        "colab_type": "code",
        "colab": {
          "base_uri": "https://localhost:8080/",
          "height": 34
        },
        "outputId": "9a9f0ba8-3738-4b40-9112-555ef3b71dfa"
      },
      "source": [
        "print(char_to_int) # 문자에 부여된 인덱스 확인"
      ],
      "execution_count": 94,
      "outputs": [
        {
          "output_type": "stream",
          "text": [
            "{'n': 0, 'F': 1, ']': 2, '!': 3, ')': 4, '[': 5, 'c': 6, '-': 7, 'o': 8, '=': 9, 'N': 10, '4': 11, '3': 12, 'O': 13, '+': 14, 'E': 15, '(': 16, '2': 17, '#': 18, 'H': 19, 'C': 20, '1': 21}\n"
          ],
          "name": "stdout"
        }
      ]
    },
    {
      "cell_type": "code",
      "metadata": {
        "id": "i0GXRWnuWu_W",
        "colab_type": "code",
        "colab": {
          "base_uri": "https://localhost:8080/",
          "height": 34
        },
        "outputId": "55801ba1-f2d9-412d-9dc7-98d0478f233b"
      },
      "source": [
        "print(int_to_char) # 인덱스로부터 문자 확인"
      ],
      "execution_count": 95,
      "outputs": [
        {
          "output_type": "stream",
          "text": [
            "{0: 'n', 1: 'F', 2: ']', 3: '!', 4: ')', 5: '[', 6: 'c', 7: '-', 8: 'o', 9: '=', 10: 'N', 11: '4', 12: '3', 13: 'O', 14: '+', 15: 'E', 16: '(', 17: '2', 18: '#', 19: 'H', 20: 'C', 21: '1'}\n"
          ],
          "name": "stdout"
        }
      ]
    },
    {
      "cell_type": "code",
      "metadata": {
        "id": "eNUYqyAEW7iE",
        "colab_type": "code",
        "colab": {
          "base_uri": "https://localhost:8080/",
          "height": 34
        },
        "outputId": "94fa8fa5-c1ce-4fd3-f587-b06df74b513c"
      },
      "source": [
        "a=([len(smile) for smile in data.smiles])\n",
        "aSet=set(a)\n",
        "smiles_length=list(aSet) \n",
        "print(smiles_length) # 최대 길이가 23이므로 embed 길이는 28\n",
        "# 아래 결과는 최대 길이 확인만을 위해 중복 항을 삭제하였음"
      ],
      "execution_count": 252,
      "outputs": [
        {
          "output_type": "stream",
          "text": [
            "[8, 9, 10, 11, 12, 13, 14, 15, 16, 17, 18, 19, 20, 22, 23]\n"
          ],
          "name": "stdout"
        }
      ]
    },
    {
      "cell_type": "markdown",
      "metadata": {
        "id": "Ech0EcC0OQtq",
        "colab_type": "text"
      },
      "source": [
        "##### charset 에는 smiles 데이터에 쓰이는 문자들과 시작과 끝을 나타내기 위한 !, E를 추가하였다.\n",
        "##### 그 후 enumerate 함수를 통해 인덱스를 부여하였다. embed는 패딩처리를 할 길이로, smiles 데이터에서 최대 길이를 가지는 값을 찾아<br> 5를 더해주었다. 위의 !, E와 함께 데이터들은 !로 시작하여 1개 또는 여러 개의 E로 끝나는 형식을 가진다.<br> 즉, E가 길이가 28보다 작을 때 패딩 처리를 해준다."
      ]
    },
    {
      "cell_type": "code",
      "metadata": {
        "id": "Rxvi4dmJaBBu",
        "colab_type": "code",
        "outputId": "11c04329-0474-4232-a979-3b50099fac26",
        "colab": {
          "base_uri": "https://localhost:8080/",
          "height": 310
        }
      },
      "source": [
        "def vectorize(smiles):  \n",
        "        one_hot =  np.zeros((smiles.shape[0], embed , len(charset)),dtype=np.int8)\n",
        "        for i,smile in enumerate(smiles):\n",
        "            #encode the startchar\n",
        "            one_hot[i,0,char_to_int[\"!\"]] = 1\n",
        "            #encode the rest of the chars\n",
        "            for j,c in enumerate(smile):\n",
        "                one_hot[i,j+1,char_to_int[c]] = 1\n",
        "            #Encode endchar\n",
        "            one_hot[i,len(smile)+1:,char_to_int[\"E\"]] = 1\n",
        "        #Return two, one for input and the other for output\n",
        "        return one_hot[:,0:-1,:], one_hot[:,1:,:]\n",
        "X_train, Y_train = vectorize(smiles_train.values)\n",
        "X_test,Y_test = vectorize(smiles_test.values)\n",
        "print (smiles_train.iloc[0])\n",
        "# iloc 함수는 순서를 나타내는 정수 기반의 2차원 인덱싱, 정확한 행/열 가져올 때 사용\n",
        "# 행 번호를 기준으로 행 데이터를 읽음\n",
        "plt.matshow(X_train[0].T)\n",
        "#print X_train.shape"
      ],
      "execution_count": 97,
      "outputs": [
        {
          "output_type": "stream",
          "text": [
            "N#CC#CC1COC1\n"
          ],
          "name": "stdout"
        },
        {
          "output_type": "execute_result",
          "data": {
            "text/plain": [
              "<matplotlib.image.AxesImage at 0x7f3f42182a20>"
            ]
          },
          "metadata": {
            "tags": []
          },
          "execution_count": 97
        },
        {
          "output_type": "display_data",
          "data": {
            "image/png": "[encoded data removed]",
            "text/plain": [
              "<Figure size 353.455x288 with 1 Axes>"
            ]
          },
          "metadata": {
            "tags": []
          }
        }
      ]
    },
    {
      "cell_type": "markdown",
      "metadata": {
        "id": "dVZ4m3wfPKOA",
        "colab_type": "text"
      },
      "source": [
        "##### 위의 벡터는 N#CC#CC1C0C1 을 나타낸 것이다. 각 글자별 인덱스가 좌표에 노란 점으로 나타난다. !의 인덱스가 위에서 3, E의 인덱스가 위에서 15를 나타내므로 처음과 끝에 3, 15에 표현이 되는 것을 볼 수 있다. 15에 길게 나타나는 것은 패딩의 효과이다."
      ]
    },
    {
      "cell_type": "code",
      "metadata": {
        "id": "Tla2kAX9aA-j",
        "colab_type": "code",
        "outputId": "adedf790-7070-42be-e2a6-c3051c03afb6",
        "colab": {
          "base_uri": "https://localhost:8080/",
          "height": 34
        }
      },
      "source": [
        "\"\".join([int_to_char[idx] for idx in np.argmax(X_train[0,:,:], axis=1)])\n",
        "# 인덱스를 문자로 변환"
      ],
      "execution_count": 98,
      "outputs": [
        {
          "output_type": "execute_result",
          "data": {
            "text/plain": [
              "'!N#CC#CC1COC1EEEEEEEEEEEEEE'"
            ]
          },
          "metadata": {
            "tags": []
          },
          "execution_count": 98
        }
      ]
    },
    {
      "cell_type": "code",
      "metadata": {
        "id": "b4mxq3e1aA8Z",
        "colab_type": "code",
        "colab": {}
      },
      "source": [
        "import tensorflow as tf"
      ],
      "execution_count": 0,
      "outputs": []
    },
    {
      "cell_type": "code",
      "metadata": {
        "id": "-zwz5BHaaA6a",
        "colab_type": "code",
        "colab": {}
      },
      "source": [
        "from tensorflow import keras"
      ],
      "execution_count": 0,
      "outputs": []
    },
    {
      "cell_type": "code",
      "metadata": {
        "id": "9kBLwil3aA0U",
        "colab_type": "code",
        "colab": {}
      },
      "source": [
        "#Import Keras objects\n",
        "from keras.models import Model\n",
        "from keras.layers import Input\n",
        "from keras.layers import LSTM\n",
        "from keras.layers import Dense\n",
        "from keras.layers import Concatenate\n",
        "from keras import regularizers\n",
        "input_shape = X_train.shape[1:]\n",
        "output_dim = Y_train.shape[-1]\n",
        "latent_dim = 64\n",
        "lstm_dim = 64"
      ],
      "execution_count": 0,
      "outputs": []
    },
    {
      "cell_type": "code",
      "metadata": {
        "id": "wSmx1C8OcM1u",
        "colab_type": "code",
        "colab": {}
      },
      "source": [
        "import numpy as np\n",
        "import os\n",
        "os.environ['TF_CPP_MIN_LOG_LEVEL'] = '2' # warining 표시 안나오도록 하기"
      ],
      "execution_count": 0,
      "outputs": []
    },
    {
      "cell_type": "code",
      "metadata": {
        "id": "kcIYC1y1aAyM",
        "colab_type": "code",
        "colab": {}
      },
      "source": [
        "unroll = False\n",
        "encoder_inputs = Input(shape=input_shape)\n",
        "encoder = LSTM(lstm_dim, return_state=True, \n",
        "                unroll=unroll) # 상태정보만 출력\n",
        "encoder_outputs, state_h, state_c = encoder(encoder_inputs)\n",
        "# encoder_outputs도 같이 리턴받기는 했지만 여기서는 필요없으므로 이 값은 버림.\n",
        "#  LSTM은 RNN과는 달리 상태가 두 개. 바로 은닉 상태와 셀 상태.\n",
        "states = Concatenate(axis=-1)([state_h, state_c])\n",
        "# Concatenate 함수로 두 상태 배열을 연결\n",
        "neck = Dense(latent_dim, activation=\"relu\")\n",
        "neck_outputs = neck(states) # context 벡터"
      ],
      "execution_count": 0,
      "outputs": []
    },
    {
      "cell_type": "code",
      "metadata": {
        "id": "vfjw8LbPaAv4",
        "colab_type": "code",
        "outputId": "e5f4902c-713b-47a2-bf2a-815da805c1fa",
        "colab": {
          "base_uri": "https://localhost:8080/",
          "height": 545
        }
      },
      "source": [
        "decode_h = Dense(lstm_dim, activation=\"relu\")\n",
        "decode_c = Dense(lstm_dim, activation=\"relu\")\n",
        "state_h_decoded =  decode_h(neck_outputs) # context 벡터 값을 넣어줌\n",
        "state_c_decoded =  decode_c(neck_outputs)\n",
        "encoder_states = [state_h_decoded, state_c_decoded]\n",
        "decoder_inputs = Input(shape=input_shape)\n",
        "decoder_lstm = LSTM(lstm_dim,\n",
        "                    return_sequences=True, # 출력값도 사용함으로 True\n",
        "                    unroll=unroll)\n",
        "decoder_outputs = decoder_lstm(decoder_inputs, initial_state=encoder_states)\n",
        "# 디코더의 첫 상태를 인코더의 은닉 상태, 셀 상태로 한다.\n",
        "decoder_dense = Dense(output_dim, activation='softmax')\n",
        "decoder_outputs = decoder_dense(decoder_outputs)\n",
        "# 인코더, 디코더의 입력과 디코더의 결과를 평가하는 모델 생성\n",
        "model = Model([encoder_inputs, decoder_inputs], decoder_outputs)\n",
        "print (model.summary())"
      ],
      "execution_count": 104,
      "outputs": [
        {
          "output_type": "stream",
          "text": [
            "Model: \"model_6\"\n",
            "__________________________________________________________________________________________________\n",
            "Layer (type)                    Output Shape         Param #     Connected to                     \n",
            "==================================================================================================\n",
            "input_7 (InputLayer)            (None, 27, 22)       0                                            \n",
            "__________________________________________________________________________________________________\n",
            "lstm_5 (LSTM)                   [(None, 64), (None,  22272       input_7[0][0]                    \n",
            "__________________________________________________________________________________________________\n",
            "concatenate_3 (Concatenate)     (None, 128)          0           lstm_5[0][1]                     \n",
            "                                                                 lstm_5[0][2]                     \n",
            "__________________________________________________________________________________________________\n",
            "dense_7 (Dense)                 (None, 64)           8256        concatenate_3[0][0]              \n",
            "__________________________________________________________________________________________________\n",
            "input_8 (InputLayer)            (None, 27, 22)       0                                            \n",
            "__________________________________________________________________________________________________\n",
            "dense_8 (Dense)                 (None, 64)           4160        dense_7[0][0]                    \n",
            "__________________________________________________________________________________________________\n",
            "dense_9 (Dense)                 (None, 64)           4160        dense_7[0][0]                    \n",
            "__________________________________________________________________________________________________\n",
            "lstm_6 (LSTM)                   (None, 27, 64)       22272       input_8[0][0]                    \n",
            "                                                                 dense_8[0][0]                    \n",
            "                                                                 dense_9[0][0]                    \n",
            "__________________________________________________________________________________________________\n",
            "dense_10 (Dense)                (None, 27, 22)       1430        lstm_6[0][0]                     \n",
            "==================================================================================================\n",
            "Total params: 62,550\n",
            "Trainable params: 62,550\n",
            "Non-trainable params: 0\n",
            "__________________________________________________________________________________________________\n",
            "None\n"
          ],
          "name": "stdout"
        }
      ]
    },
    {
      "cell_type": "code",
      "metadata": {
        "id": "YUF44laxaAtm",
        "colab_type": "code",
        "outputId": "571ad8fe-70b6-4c6f-b803-5fd664ecf6ad",
        "colab": {
          "base_uri": "https://localhost:8080/",
          "height": 52
        }
      },
      "source": [
        "from keras.callbacks import History, ReduceLROnPlateau\n",
        "h = History() # history는 fit 함수를 사용하는 과정에서 학습 이력 정보를 리턴\n",
        "rlr = ReduceLROnPlateau(monitor='val_loss', factor=0.5,patience=10, min_lr=0.000001, verbose=1, epsilon=1e-5)\n",
        "# verbose는 keras 학습 단계에서 진행 상태를 어떻게 표시할 것인지 설정\n",
        "# (0이면 표시 안함, 1이면 진행 막대 표시, 2이면 에폭당 1개 줄 표시)"
      ],
      "execution_count": 115,
      "outputs": [
        {
          "output_type": "stream",
          "text": [
            "/usr/local/lib/python3.6/dist-packages/keras/callbacks.py:1335: UserWarning: `epsilon` argument is deprecated and will be removed, use `min_delta` instead.\n",
            "  warnings.warn('`epsilon` argument is deprecated and '\n"
          ],
          "name": "stderr"
        }
      ]
    },
    {
      "cell_type": "code",
      "metadata": {
        "id": "SozktaUyaAnW",
        "colab_type": "code",
        "colab": {}
      },
      "source": [
        "from keras.optimizers import RMSprop, Adam # 최적화함수 설정\n",
        "opt=Adam(lr=0.005)\n",
        "model.compile(optimizer=opt, loss='categorical_crossentropy')"
      ],
      "execution_count": 0,
      "outputs": []
    },
    {
      "cell_type": "code",
      "metadata": {
        "id": "eWcXfO7RaJMu",
        "colab_type": "code",
        "outputId": "9f016318-ffa4-42a9-abe9-6f64f52fc45a",
        "colab": {
          "base_uri": "https://localhost:8080/",
          "height": 1000
        }
      },
      "source": [
        "model.fit([X_train,X_train],Y_train, # 데이터셋 훈련\n",
        "                    epochs=100,\n",
        "                    batch_size=256,\n",
        "                    shuffle=True,\n",
        "                    callbacks=[h, rlr],\n",
        "                    validation_data=[[X_test,X_test],Y_test ]) "
      ],
      "execution_count": 117,
      "outputs": [
        {
          "output_type": "stream",
          "text": [
            "Train on 50029 samples, validate on 16677 samples\n",
            "Epoch 1/100\n",
            "50029/50029 [==============================] - 16s 328us/step - loss: 0.5618 - val_loss: 0.5747\n",
            "Epoch 2/100\n",
            "50029/50029 [==============================] - 17s 330us/step - loss: 0.5286 - val_loss: 0.4868\n",
            "Epoch 3/100\n",
            "50029/50029 [==============================] - 16s 327us/step - loss: 0.4765 - val_loss: 0.5062\n",
            "Epoch 4/100\n",
            "50029/50029 [==============================] - 16s 323us/step - loss: 0.4507 - val_loss: 0.4263\n",
            "Epoch 5/100\n",
            "50029/50029 [==============================] - 16s 325us/step - loss: 0.4080 - val_loss: 0.5994\n",
            "Epoch 6/100\n",
            "50029/50029 [==============================] - 16s 325us/step - loss: 0.3711 - val_loss: 0.3463\n",
            "Epoch 7/100\n",
            "50029/50029 [==============================] - 16s 327us/step - loss: 0.3315 - val_loss: 0.3216\n",
            "Epoch 8/100\n",
            "50029/50029 [==============================] - 16s 327us/step - loss: 0.2964 - val_loss: 0.2735\n",
            "Epoch 9/100\n",
            "50029/50029 [==============================] - 16s 326us/step - loss: 0.2633 - val_loss: 0.2375\n",
            "Epoch 10/100\n",
            "50029/50029 [==============================] - 16s 323us/step - loss: 0.2302 - val_loss: 0.2097\n",
            "Epoch 11/100\n",
            "50029/50029 [==============================] - 16s 322us/step - loss: 0.1972 - val_loss: 0.1549\n",
            "Epoch 12/100\n",
            "50029/50029 [==============================] - 16s 322us/step - loss: 0.1679 - val_loss: 0.1505\n",
            "Epoch 13/100\n",
            "50029/50029 [==============================] - 16s 327us/step - loss: 0.1422 - val_loss: 0.1158\n",
            "Epoch 14/100\n",
            "50029/50029 [==============================] - 16s 325us/step - loss: 0.1251 - val_loss: 0.0991\n",
            "Epoch 15/100\n",
            "50029/50029 [==============================] - 16s 328us/step - loss: 0.1128 - val_loss: 0.0865\n",
            "Epoch 16/100\n",
            "50029/50029 [==============================] - 16s 320us/step - loss: 0.1003 - val_loss: 0.0754\n",
            "Epoch 17/100\n",
            "50029/50029 [==============================] - 16s 323us/step - loss: 0.0843 - val_loss: 0.0781\n",
            "Epoch 18/100\n",
            "50029/50029 [==============================] - 16s 324us/step - loss: 0.0718 - val_loss: 0.1041\n",
            "Epoch 19/100\n",
            "50029/50029 [==============================] - 16s 324us/step - loss: 0.0731 - val_loss: 0.0578\n",
            "Epoch 20/100\n",
            "50029/50029 [==============================] - 16s 326us/step - loss: 0.0521 - val_loss: 0.0694\n",
            "Epoch 21/100\n",
            "50029/50029 [==============================] - 16s 328us/step - loss: 0.0551 - val_loss: 0.0399\n",
            "Epoch 22/100\n",
            "50029/50029 [==============================] - 16s 322us/step - loss: 0.0868 - val_loss: 0.0441\n",
            "Epoch 23/100\n",
            "50029/50029 [==============================] - 16s 327us/step - loss: 0.0393 - val_loss: 0.0315\n",
            "Epoch 24/100\n",
            "50029/50029 [==============================] - 16s 323us/step - loss: 0.0399 - val_loss: 0.0384\n",
            "Epoch 25/100\n",
            "50029/50029 [==============================] - 16s 321us/step - loss: 0.0339 - val_loss: 0.0328\n",
            "Epoch 26/100\n",
            "50029/50029 [==============================] - 16s 323us/step - loss: 0.0826 - val_loss: 0.0398\n",
            "Epoch 27/100\n",
            "50029/50029 [==============================] - 16s 325us/step - loss: 0.0285 - val_loss: 0.0234\n",
            "Epoch 28/100\n",
            "50029/50029 [==============================] - 16s 324us/step - loss: 0.0347 - val_loss: 0.0944\n",
            "Epoch 29/100\n",
            "50029/50029 [==============================] - 16s 322us/step - loss: 0.0275 - val_loss: 0.0173\n",
            "Epoch 30/100\n",
            "50029/50029 [==============================] - 16s 320us/step - loss: 0.0492 - val_loss: 0.0409\n",
            "Epoch 31/100\n",
            "50029/50029 [==============================] - 16s 323us/step - loss: 0.0226 - val_loss: 0.0152\n",
            "Epoch 32/100\n",
            "50029/50029 [==============================] - 16s 324us/step - loss: 0.0714 - val_loss: 0.0319\n",
            "Epoch 33/100\n",
            "50029/50029 [==============================] - 16s 325us/step - loss: 0.0211 - val_loss: 0.0196\n",
            "Epoch 34/100\n",
            "50029/50029 [==============================] - 16s 321us/step - loss: 0.0402 - val_loss: 0.2395\n",
            "Epoch 35/100\n",
            "50029/50029 [==============================] - 16s 323us/step - loss: 0.0419 - val_loss: 0.0193\n",
            "Epoch 36/100\n",
            "50029/50029 [==============================] - 16s 320us/step - loss: 0.0172 - val_loss: 0.0263\n",
            "Epoch 37/100\n",
            "50029/50029 [==============================] - 16s 320us/step - loss: 0.0174 - val_loss: 0.0117\n",
            "Epoch 38/100\n",
            "50029/50029 [==============================] - 16s 322us/step - loss: 0.0337 - val_loss: 1.0310\n",
            "Epoch 39/100\n",
            "50029/50029 [==============================] - 16s 324us/step - loss: 0.0907 - val_loss: 0.0241\n",
            "Epoch 40/100\n",
            "50029/50029 [==============================] - 16s 327us/step - loss: 0.0156 - val_loss: 0.0167\n",
            "Epoch 41/100\n",
            "50029/50029 [==============================] - 16s 321us/step - loss: 0.0116 - val_loss: 0.0097\n",
            "Epoch 42/100\n",
            "50029/50029 [==============================] - 16s 321us/step - loss: 0.0121 - val_loss: 0.0074\n",
            "Epoch 43/100\n",
            "50029/50029 [==============================] - 16s 323us/step - loss: 0.0098 - val_loss: 0.0164\n",
            "Epoch 44/100\n",
            "50029/50029 [==============================] - 16s 320us/step - loss: 0.1320 - val_loss: 0.2804\n",
            "Epoch 45/100\n",
            "50029/50029 [==============================] - 16s 323us/step - loss: 0.0783 - val_loss: 0.0289\n",
            "Epoch 46/100\n",
            "50029/50029 [==============================] - 16s 320us/step - loss: 0.0240 - val_loss: 0.0237\n",
            "Epoch 47/100\n",
            "50029/50029 [==============================] - 16s 322us/step - loss: 0.0167 - val_loss: 0.0119\n",
            "Epoch 48/100\n",
            "50029/50029 [==============================] - 16s 323us/step - loss: 0.0166 - val_loss: 0.0623\n",
            "Epoch 49/100\n",
            "50029/50029 [==============================] - 16s 319us/step - loss: 0.0168 - val_loss: 0.0088\n",
            "Epoch 50/100\n",
            "50029/50029 [==============================] - 16s 321us/step - loss: 0.0070 - val_loss: 0.0062\n",
            "Epoch 51/100\n",
            "50029/50029 [==============================] - 16s 320us/step - loss: 0.0054 - val_loss: 0.0076\n",
            "Epoch 52/100\n",
            "50029/50029 [==============================] - 16s 319us/step - loss: 0.1766 - val_loss: 0.1639\n",
            "Epoch 53/100\n",
            "50029/50029 [==============================] - 16s 321us/step - loss: 0.0659 - val_loss: 0.0291\n",
            "Epoch 54/100\n",
            "50029/50029 [==============================] - 16s 320us/step - loss: 0.0210 - val_loss: 0.0163\n",
            "Epoch 55/100\n",
            "50029/50029 [==============================] - 16s 317us/step - loss: 0.0128 - val_loss: 0.0099\n",
            "Epoch 56/100\n",
            "50029/50029 [==============================] - 16s 318us/step - loss: 0.0108 - val_loss: 0.0154\n",
            "Epoch 57/100\n",
            "50029/50029 [==============================] - 16s 317us/step - loss: 0.0271 - val_loss: 0.0080\n",
            "Epoch 58/100\n",
            "50029/50029 [==============================] - 16s 324us/step - loss: 0.0065 - val_loss: 0.0080\n",
            "Epoch 59/100\n",
            "50029/50029 [==============================] - 16s 325us/step - loss: 0.0046 - val_loss: 0.0051\n",
            "Epoch 60/100\n",
            "50029/50029 [==============================] - 16s 320us/step - loss: 0.0544 - val_loss: 0.0099\n",
            "Epoch 61/100\n",
            "50029/50029 [==============================] - 16s 317us/step - loss: 0.0060 - val_loss: 0.0054\n",
            "Epoch 62/100\n",
            "50029/50029 [==============================] - 16s 320us/step - loss: 0.0042 - val_loss: 0.0045\n",
            "Epoch 63/100\n",
            "50029/50029 [==============================] - 16s 320us/step - loss: 0.0038 - val_loss: 0.0062\n",
            "Epoch 64/100\n",
            "50029/50029 [==============================] - 16s 320us/step - loss: 0.0036 - val_loss: 0.0032\n",
            "Epoch 65/100\n",
            "50029/50029 [==============================] - 16s 318us/step - loss: 0.0930 - val_loss: 0.0350\n",
            "Epoch 66/100\n",
            "50029/50029 [==============================] - 16s 318us/step - loss: 0.0158 - val_loss: 0.0087\n",
            "Epoch 67/100\n",
            "50029/50029 [==============================] - 16s 316us/step - loss: 0.0067 - val_loss: 0.0056\n",
            "Epoch 68/100\n",
            "50029/50029 [==============================] - 16s 321us/step - loss: 0.0044 - val_loss: 0.0040\n",
            "Epoch 69/100\n",
            "50029/50029 [==============================] - 16s 317us/step - loss: 0.0592 - val_loss: 0.2184\n",
            "Epoch 70/100\n",
            "50029/50029 [==============================] - 16s 322us/step - loss: 0.0343 - val_loss: 0.0105\n",
            "Epoch 71/100\n",
            "50029/50029 [==============================] - 16s 319us/step - loss: 0.0072 - val_loss: 0.0057\n",
            "Epoch 72/100\n",
            "50029/50029 [==============================] - 16s 318us/step - loss: 0.0044 - val_loss: 0.0041\n",
            "Epoch 73/100\n",
            "50029/50029 [==============================] - 16s 321us/step - loss: 0.0034 - val_loss: 0.0038\n",
            "Epoch 74/100\n",
            "50029/50029 [==============================] - 16s 320us/step - loss: 0.0028 - val_loss: 0.0033\n",
            "\n",
            "Epoch 00074: ReduceLROnPlateau reducing learning rate to 0.0024999999441206455.\n",
            "Epoch 75/100\n",
            "50029/50029 [==============================] - 16s 317us/step - loss: 0.0018 - val_loss: 0.0021\n",
            "Epoch 76/100\n",
            "50029/50029 [==============================] - 16s 318us/step - loss: 0.0015 - val_loss: 0.0020\n",
            "Epoch 77/100\n",
            "50029/50029 [==============================] - 16s 319us/step - loss: 0.0014 - val_loss: 0.0019\n",
            "Epoch 78/100\n",
            "50029/50029 [==============================] - 16s 325us/step - loss: 0.0013 - val_loss: 0.0019\n",
            "Epoch 79/100\n",
            "50029/50029 [==============================] - 16s 323us/step - loss: 0.0137 - val_loss: 0.1270\n",
            "Epoch 80/100\n",
            "50029/50029 [==============================] - 16s 319us/step - loss: 0.0139 - val_loss: 0.0037\n",
            "Epoch 81/100\n",
            "50029/50029 [==============================] - 16s 318us/step - loss: 0.0022 - val_loss: 0.0024\n",
            "Epoch 82/100\n",
            "50029/50029 [==============================] - 16s 321us/step - loss: 0.0016 - val_loss: 0.0020\n",
            "Epoch 83/100\n",
            "50029/50029 [==============================] - 16s 322us/step - loss: 0.0013 - val_loss: 0.0017\n",
            "Epoch 84/100\n",
            "50029/50029 [==============================] - 16s 318us/step - loss: 0.0011 - val_loss: 0.0015\n",
            "Epoch 85/100\n",
            "50029/50029 [==============================] - 16s 317us/step - loss: 9.5883e-04 - val_loss: 0.0013\n",
            "Epoch 86/100\n",
            "50029/50029 [==============================] - 16s 320us/step - loss: 9.1704e-04 - val_loss: 0.0014\n",
            "Epoch 87/100\n",
            "50029/50029 [==============================] - 16s 317us/step - loss: 8.6800e-04 - val_loss: 0.0016\n",
            "Epoch 88/100\n",
            "50029/50029 [==============================] - 16s 322us/step - loss: 8.5116e-04 - val_loss: 0.0014\n",
            "Epoch 89/100\n",
            "50029/50029 [==============================] - 16s 316us/step - loss: 8.6832e-04 - val_loss: 0.0014\n",
            "Epoch 90/100\n",
            "50029/50029 [==============================] - 16s 316us/step - loss: 8.4593e-04 - val_loss: 0.0013\n",
            "Epoch 91/100\n",
            "50029/50029 [==============================] - 16s 313us/step - loss: 0.0307 - val_loss: 0.0097\n",
            "Epoch 92/100\n",
            "50029/50029 [==============================] - 16s 317us/step - loss: 0.0040 - val_loss: 0.0032\n",
            "Epoch 93/100\n",
            "50029/50029 [==============================] - 16s 317us/step - loss: 0.0018 - val_loss: 0.0019\n",
            "Epoch 94/100\n",
            "50029/50029 [==============================] - 16s 317us/step - loss: 0.0012 - val_loss: 0.0016\n",
            "Epoch 95/100\n",
            "50029/50029 [==============================] - 16s 312us/step - loss: 9.8322e-04 - val_loss: 0.0012\n",
            "Epoch 96/100\n",
            "50029/50029 [==============================] - 16s 317us/step - loss: 8.1548e-04 - val_loss: 0.0012\n",
            "Epoch 97/100\n",
            "50029/50029 [==============================] - 16s 316us/step - loss: 6.8222e-04 - val_loss: 0.0010\n",
            "Epoch 98/100\n",
            "50029/50029 [==============================] - 16s 326us/step - loss: 6.1349e-04 - val_loss: 9.5432e-04\n",
            "Epoch 99/100\n",
            "50029/50029 [==============================] - 16s 314us/step - loss: 5.4321e-04 - val_loss: 8.8418e-04\n",
            "Epoch 100/100\n",
            "50029/50029 [==============================] - 16s 315us/step - loss: 4.8609e-04 - val_loss: 8.0084e-04\n"
          ],
          "name": "stdout"
        },
        {
          "output_type": "execute_result",
          "data": {
            "text/plain": [
              "<keras.callbacks.History at 0x7f3f3bafbeb8>"
            ]
          },
          "metadata": {
            "tags": []
          },
          "execution_count": 117
        }
      ]
    },
    {
      "cell_type": "code",
      "metadata": {
        "id": "3VgITVdNaJP8",
        "colab_type": "code",
        "outputId": "ed05be3a-ead1-41ae-b8be-ae1e6c28dce7",
        "colab": {
          "base_uri": "https://localhost:8080/",
          "height": 282
        }
      },
      "source": [
        "plt.plot(h.history[\"loss\"], label=\"Loss\") # 다소 튀는 현상이 있으나 감소하는 경향을 보임\n",
        "plt.plot(h.history[\"val_loss\"], label=\"Val_Loss\")\n",
        "plt.yscale(\"log\")\n",
        "plt.legend()"
      ],
      "execution_count": 118,
      "outputs": [
        {
          "output_type": "execute_result",
          "data": {
            "text/plain": [
              "<matplotlib.legend.Legend at 0x7f3f3ba006d8>"
            ]
          },
          "metadata": {
            "tags": []
          },
          "execution_count": 118
        },
        {
          "output_type": "display_data",
          "data": {
            "image/png": "[encoded data removed]",
            "text/plain": [
              "<Figure size 432x288 with 1 Axes>"
            ]
          },
          "metadata": {
            "tags": []
          }
        }
      ]
    },
    {
      "cell_type": "code",
      "metadata": {
        "id": "T3iDm1RPlpLK",
        "colab_type": "code",
        "colab": {}
      },
      "source": [
        "for i in range(100):\n",
        "    v = model.predict([X_test[i:i+1], X_test[i:i+1]]) #  v는 softmax 함수의 출력값, 즉 확률을 담고 있음.\n",
        "    idxs = np.argmax(v, axis=2) # v의 각 리스트에서 가장 큰 확률값의 위치들을 모아 idx변수 생성 \n",
        "    pred=  \"\".join([int_to_char[h] for h in idxs[0]])[:-1]\n",
        "    # idx의 index로 정수 파악하여 분자 나타냄\n",
        "    idxs2 = np.argmax(X_test[i:i+1], axis=2) # 훈련데이터의 각 리스트에서 가장 큰 확률값의 위치들을 모아 idx변수 생성 \n",
        "    true =  \"\".join([int_to_char[k] for k in idxs2[0]])[1:] # index로 정수 파악\n",
        "    if true != pred: # 검증데이터가 훈련데이터와 같지 않으면 출력\n",
        "        print (true, pred) # 훈련이 잘 되었음을 확인"
      ],
      "execution_count": 0,
      "outputs": []
    },
    {
      "cell_type": "code",
      "metadata": {
        "id": "DXaNOjiumtYq",
        "colab_type": "code",
        "colab": {
          "base_uri": "https://localhost:8080/",
          "height": 105
        },
        "outputId": "3deb3265-f05c-4fed-d230-b889af08c6a5"
      },
      "source": [
        "print(v[0][0]) # 20번째 위치에서 가장 높은 확률을 나타냄"
      ],
      "execution_count": 120,
      "outputs": [
        {
          "output_type": "stream",
          "text": [
            "[3.0270786e-21 9.7755638e-08 3.4870845e-21 9.8487896e-17 2.3173785e-19\n",
            " 1.2044871e-23 3.1522160e-11 2.8814344e-23 3.4412466e-19 3.6349776e-16\n",
            " 2.4252734e-15 4.7510310e-21 9.3899546e-20 7.5870753e-17 1.2383065e-23\n",
            " 5.9414490e-20 1.7558295e-17 1.7303318e-22 1.6952131e-16 3.6926949e-26\n",
            " 9.9999988e-01 5.1380721e-20]\n"
          ],
          "name": "stdout"
        }
      ]
    },
    {
      "cell_type": "code",
      "metadata": {
        "id": "zovCoqbRzEhz",
        "colab_type": "code",
        "colab": {
          "base_uri": "https://localhost:8080/",
          "height": 70
        },
        "outputId": "241fe52a-c40d-49b8-8462-39cc4a29e436"
      },
      "source": [
        "print(idxs) #앞에서 부여했던 인덱스로 정수를 찾아냄\n",
        "print(str(pred))"
      ],
      "execution_count": 123,
      "outputs": [
        {
          "output_type": "stream",
          "text": [
            "[[20 20 20 16 20  4  9 10 10 20  9 10 15 15 15 15 15 15 15 15 15 15 15 15\n",
            "  15 15 15]]\n",
            "CCC(C)=NNC=NEEEEEEEEEEEEEE\n"
          ],
          "name": "stdout"
        }
      ]
    },
    {
      "cell_type": "code",
      "metadata": {
        "id": "X7yIXnMa0IN4",
        "colab_type": "code",
        "colab": {
          "base_uri": "https://localhost:8080/",
          "height": 34
        },
        "outputId": "a30f2cf4-70be-433a-e390-157ecde9e35f"
      },
      "source": [
        "print(str(true))"
      ],
      "execution_count": 124,
      "outputs": [
        {
          "output_type": "stream",
          "text": [
            "CCC(C)=NNC=NEEEEEEEEEEEEEE\n"
          ],
          "name": "stdout"
        }
      ]
    },
    {
      "cell_type": "markdown",
      "metadata": {
        "id": "MMMx6YRVpihe",
        "colab_type": "text"
      },
      "source": [
        "##### 훈련된 자동 인코더의 일부를 사용하여 다양한 인코더 및 디코더 모델을 만들 수 있다. 인코더 모델에서의 입력과 출력을 재사용하여 context 벡터를 만드는 모델, smiles_to_latent_model은 앞에서의 인코더 입력과, 은닉상태 및 셀 상태로 이루어진 결과, 즉 훈련된 결과를 이용한 모델이므로 별다른 훈련이 필요하지 않다."
      ]
    },
    {
      "cell_type": "code",
      "metadata": {
        "id": "CjC2gW2Evqut",
        "colab_type": "code",
        "colab": {}
      },
      "source": [
        "smiles_to_latent_model = Model(encoder_inputs, neck_outputs)\n",
        "# 인코더 입력으로 나온 상태 값들로 context벡터 생성"
      ],
      "execution_count": 0,
      "outputs": []
    },
    {
      "cell_type": "markdown",
      "metadata": {
        "id": "7g3v4YxODHiE",
        "colab_type": "text"
      },
      "source": [
        "##### context 벡터의 상태를 디코더로 전달하는 latent_to_states_model을 만들어 보자."
      ]
    },
    {
      "cell_type": "code",
      "metadata": {
        "id": "xXt4IAGS1_d3",
        "colab_type": "code",
        "colab": {}
      },
      "source": [
        "latent_input = Input(shape=(latent_dim,)) \n",
        "state_h_decoded_2 =  decode_h(latent_input)\n",
        "state_c_decoded_2 =  decode_c(latent_input)\n",
        "latent_to_states_model = Model(latent_input, [state_h_decoded_2, state_c_decoded_2])"
      ],
      "execution_count": 0,
      "outputs": []
    },
    {
      "cell_type": "markdown",
      "metadata": {
        "id": "5xu7YpSS3Iss",
        "colab_type": "text"
      },
      "source": [
        "![seq2seq base 구조2](https://user-images.githubusercontent.com/52277776/70389270-6f6da400-1a00-11ea-922d-c159dc517cc9.png)"
      ]
    },
    {
      "cell_type": "markdown",
      "metadata": {
        "id": "haln8AYC8orp",
        "colab_type": "text"
      },
      "source": [
        "##### 이번에는 상태 유지(stateful) 모델에 대해서 알아보자. 이는 현재 학습된 상태가 다음 학습시 초기 상태로 전달된다는 것을 의미한다.\n",
        "\n",
        "##### 기존 모델이 이전 타임스텝의 상태를 현재 타임 스텝에 이용하였다면, 상태유지 모델은 한 배치 내 샘플의 상태를 계산하여, <br>이 값을 다음 배치 내 샘플의 초기 상태로 재사용한다는 의미이다. 조금 더 간단히 말하면, '타입스템간 상태 전이'와 '샘플간 상태 전이'의 차이이다.\n",
        "\n",
        "##### 긴 시퀀스 데이터를 처리할 때, LSTM 모델은 상태유지 모드에서 그 진가를 발휘한다. 긴 시퀀스 데이터를 샘플 단위로 잘라서 학습하더라도 LSTM 내부적으로 기억할 것은 기억하고 버릴 것은 버려서 기억해야할 중요한 정보만 이어갈 수 있도록 상태가 유지되기 때문이다. 상태유지 LSTM 모델을 생성하기 위해서는 LSTM 레이어 생성 시, stateful=True로 설정하면 된다. 또한 상태유지 모드에서는 입력형태를 batch_input_shape = (배치사이즈, 타임스텝, 속성)으로 설정해야 한다. 기본적으로 상태유지 모드에서는 배치사이즈를 1로 설정한다. 한 샘플을 학습한 후 그 상태를 다음 샘플 학습 시에 전달하기 위해서이다."
      ]
    },
    {
      "cell_type": "code",
      "metadata": {
        "id": "JYZckgyA2fK3",
        "colab_type": "code",
        "colab": {}
      },
      "source": [
        "inf_decoder_inputs = Input(batch_shape=(1, 1, input_shape[1]))\n",
        "inf_decoder_lstm = LSTM(lstm_dim,\n",
        "                    return_sequences=True,\n",
        "                    unroll=unroll,\n",
        "                    stateful=True) # stateful 적용하는 점만 달라짐\n",
        "inf_decoder_outputs = inf_decoder_lstm(inf_decoder_inputs)\n",
        "inf_decoder_dense = Dense(output_dim, activation='softmax')\n",
        "inf_decoder_outputs = inf_decoder_dense(inf_decoder_outputs)\n",
        "sample_model = Model(inf_decoder_inputs, inf_decoder_outputs)"
      ],
      "execution_count": 0,
      "outputs": []
    },
    {
      "cell_type": "code",
      "metadata": {
        "id": "A_jeh3tq4GB6",
        "colab_type": "code",
        "colab": {
          "base_uri": "https://localhost:8080/",
          "height": 263
        },
        "outputId": "cd1db5d8-6999-4022-88f9-760aab170006"
      },
      "source": [
        "# 인코더로부터의 가중치를 전달\n",
        "for i in range(1,3):\n",
        "    sample_model.layers[i].set_weights(model.layers[i+6].get_weights())\n",
        "sample_model.summary()"
      ],
      "execution_count": 129,
      "outputs": [
        {
          "output_type": "stream",
          "text": [
            "Model: \"model_10\"\n",
            "_________________________________________________________________\n",
            "Layer (type)                 Output Shape              Param #   \n",
            "=================================================================\n",
            "input_11 (InputLayer)        (1, 1, 22)                0         \n",
            "_________________________________________________________________\n",
            "lstm_8 (LSTM)                (1, 1, 64)                22272     \n",
            "_________________________________________________________________\n",
            "dense_12 (Dense)             (1, 1, 22)                1430      \n",
            "=================================================================\n",
            "Total params: 23,702\n",
            "Trainable params: 23,702\n",
            "Non-trainable params: 0\n",
            "_________________________________________________________________\n"
          ],
          "name": "stdout"
        }
      ]
    },
    {
      "cell_type": "markdown",
      "metadata": {
        "id": "PN-dYbccBGMg",
        "colab_type": "text"
      },
      "source": [
        "##### context 벡터(앞에서 언급했던 latent space)는 인코더로부터의 정보들을 통해 연관성을 파악하는데 도움을 줄 수 있다.\n",
        "\n",
        "##### 유사한 분자가 유사한 벡터를 생성하는지 보기 위해 탐색을 진행해보자. 여기서 context vector의 차이는 유사성의 측정 지표로 이용된다."
      ]
    },
    {
      "cell_type": "code",
      "metadata": {
        "id": "vn_Gn3nALaAQ",
        "colab_type": "code",
        "colab": {}
      },
      "source": [
        "x_latent = smiles_to_latent_model.predict(X_test)"
      ],
      "execution_count": 0,
      "outputs": []
    },
    {
      "cell_type": "code",
      "metadata": {
        "id": "L-HLjp_L4gPr",
        "colab_type": "code",
        "colab": {
          "base_uri": "https://localhost:8080/",
          "height": 413
        },
        "outputId": "86509156-8ad5-4d76-b576-b680bf2d21e6"
      },
      "source": [
        "molno = 5\n",
        "latent_mol = smiles_to_latent_model.predict(X_test[molno:molno+1])\n",
        "sorti = np.argsort(np.sum(np.abs(x_latent - latent_mol), axis=1))\n",
        "# 차이를 측정 지표로 오름차순으로 정렬(차이가 작을수록 유사)\n",
        "print (sorti[0:10]) # 가장 비슷하다고 판단되는 10개 출력\n",
        "print (smiles_test.iloc[sorti[0:8]]) # 차이에 대한 행번호를 읽어 test 데이터에서 읽음\n",
        "Draw.MolsToImage(smiles_test.iloc[sorti[0:8]].apply(Chem.MolFromSmiles))"
      ],
      "execution_count": 145,
      "outputs": [
        {
          "output_type": "stream",
          "text": [
            "[    5 15472  1243 14589 15039 15257 12643 13509  3383 11812]\n",
            "45051      COCc1cocn1\n",
            "45061      COCc1conn1\n",
            "45007      COCc1ccoc1\n",
            "44719      COCc1ccno1\n",
            "45069      COCc1ncon1\n",
            "43078      COCCC1CCO1\n",
            "57988      COc1cocc1C\n",
            "35002    COc1coc(O)n1\n",
            "Name: smiles, dtype: object\n"
          ],
          "name": "stdout"
        },
        {
          "output_type": "execute_result",
          "data": {
            "image/png": "[encoded data removed]",
            "text/plain": [
              "<PIL.Image.Image image mode=RGBA size=1600x200 at 0x7F3F37784E80>"
            ]
          },
          "metadata": {
            "tags": []
          },
          "execution_count": 145
        }
      ]
    },
    {
      "cell_type": "code",
      "metadata": {
        "id": "UcppdmfIRhLL",
        "colab_type": "code",
        "colab": {
          "base_uri": "https://localhost:8080/",
          "height": 70
        },
        "outputId": "3a749cfe-4be8-473e-ae5e-10a63441f410"
      },
      "source": [
        "smiles_test[4:6] # 5번째 행 확인"
      ],
      "execution_count": 160,
      "outputs": [
        {
          "output_type": "execute_result",
          "data": {
            "text/plain": [
              "64401    O1C=CC2OC2C=C1\n",
              "45051        COCc1cocn1\n",
              "Name: smiles, dtype: object"
            ]
          },
          "metadata": {
            "tags": []
          },
          "execution_count": 160
        }
      ]
    },
    {
      "cell_type": "code",
      "metadata": {
        "id": "oHl0OdWXRlV8",
        "colab_type": "code",
        "colab": {
          "base_uri": "https://localhost:8080/",
          "height": 70
        },
        "outputId": "58795fe8-d024-4e53-8741-46aad6d1ae7c"
      },
      "source": [
        "smiles_test[1242:1244] # 1243번째 행 확인"
      ],
      "execution_count": 162,
      "outputs": [
        {
          "output_type": "execute_result",
          "data": {
            "text/plain": [
              "42972    O=C(C#C)C1CNC1\n",
              "45007        COCc1ccoc1\n",
              "Name: smiles, dtype: object"
            ]
          },
          "metadata": {
            "tags": []
          },
          "execution_count": 162
        }
      ]
    },
    {
      "cell_type": "markdown",
      "metadata": {
        "id": "6ecEHtaNR7ZL",
        "colab_type": "text"
      },
      "source": [
        "##### 그러나 위의 결괏값들은 우리가 원하는 분자의 유사성보다는 단지 구조의 유사성으로 인한 결과일 수 있다. 가장 다른 분자가 무엇인지 알아보자."
      ]
    },
    {
      "cell_type": "code",
      "metadata": {
        "id": "Op34BINLLOHU",
        "colab_type": "code",
        "colab": {
          "base_uri": "https://localhost:8080/",
          "height": 237
        },
        "outputId": "ab818ad8-024a-4cf8-cb39-e6c7c70aeeaa"
      },
      "source": [
        "Draw.MolsToImage(smiles_test.iloc[sorti[-8:]].apply(Chem.MolFromSmiles))\n",
        "# 오름차순으로 정렬한 sorti에서 마지막에서 거꾸로 읽음(가장 차이 큰 8개)"
      ],
      "execution_count": 140,
      "outputs": [
        {
          "output_type": "execute_result",
          "data": {
            "image/png": "[encoded data removed]",
            "text/plain": [
              "<PIL.Image.Image image mode=RGBA size=1600x200 at 0x7F3F3B9CE8D0>"
            ]
          },
          "metadata": {
            "tags": []
          },
          "execution_count": 140
        }
      ]
    },
    {
      "cell_type": "markdown",
      "metadata": {
        "id": "QSbaYhoFTMRn",
        "colab_type": "text"
      },
      "source": [
        "##### 화학적 특성 비교를 위해 계산된 MR(몰 굴절지수)과 lop P(분배계수) 값이 PCA(데이터의 분산을 나타냄)에 어떻게 나타는지 확인해 보자.  "
      ]
    },
    {
      "cell_type": "code",
      "metadata": {
        "id": "vNCOHqT2MFYV",
        "colab_type": "code",
        "colab": {}
      },
      "source": [
        "logp = smiles_test.apply(Chem.MolFromSmiles).apply(Descriptors.MolLogP)"
      ],
      "execution_count": 0,
      "outputs": []
    },
    {
      "cell_type": "code",
      "metadata": {
        "id": "3MoF4ac3MP96",
        "colab_type": "code",
        "colab": {
          "base_uri": "https://localhost:8080/",
          "height": 282
        },
        "outputId": "fdaef3d3-a566-4f2e-8f87-dbbd2d81be9c"
      },
      "source": [
        "from sklearn.decomposition import PCA\n",
        "pca = PCA(n_components = 2)\n",
        "red = pca.fit_transform(x_latent)\n",
        "plt.figure()\n",
        "plt.scatter(red[:,0], red[:,1],marker='.', c= logp)\n",
        "print(pca.explained_variance_ratio_, np.sum(pca.explained_variance_ratio_))\n",
        "# lopP에 대한 결과"
      ],
      "execution_count": 142,
      "outputs": [
        {
          "output_type": "stream",
          "text": [
            "[0.309977   0.15513627] 0.46511328\n"
          ],
          "name": "stdout"
        },
        {
          "output_type": "display_data",
          "data": {
            "image/png": "[encoded data removed]",
            "text/plain": [
              "<Figure size 432x288 with 1 Axes>"
            ]
          },
          "metadata": {
            "tags": []
          }
        }
      ]
    },
    {
      "cell_type": "code",
      "metadata": {
        "id": "MG1vSxZYMSuW",
        "colab_type": "code",
        "colab": {
          "base_uri": "https://localhost:8080/",
          "height": 282
        },
        "outputId": "44096852-c3e3-4c24-a950-b5b619117e6a"
      },
      "source": [
        "molwt = smiles_test.apply(Chem.MolFromSmiles).apply(Descriptors.MolMR)\n",
        "plt.figure()\n",
        "plt.scatter(red[:,0], red[:,1],marker='.', c= molwt)\n",
        "# MR에 대한 결과"
      ],
      "execution_count": 143,
      "outputs": [
        {
          "output_type": "execute_result",
          "data": {
            "text/plain": [
              "<matplotlib.collections.PathCollection at 0x7f3f3b1b6940>"
            ]
          },
          "metadata": {
            "tags": []
          },
          "execution_count": 143
        },
        {
          "output_type": "display_data",
          "data": {
            "image/png": "[encoded data removed]",
            "text/plain": [
              "<Figure size 432x288 with 1 Axes>"
            ]
          },
          "metadata": {
            "tags": []
          }
        }
      ]
    },
    {
      "cell_type": "markdown",
      "metadata": {
        "id": "MXyZte0oXe-o",
        "colab_type": "text"
      },
      "source": [
        "##### 다음으로는 logP 를 인자로 하여 인코더 입력을 받아 context vector가 예측한 log P와 실제 스마일 데이터로 얻은 log P를 비교해볼 것이다. "
      ]
    },
    {
      "cell_type": "code",
      "metadata": {
        "id": "CJeDGjiPMU4V",
        "colab_type": "code",
        "colab": {}
      },
      "source": [
        "x_train_latent = smiles_to_latent_model.predict(X_train)\n",
        "logp_train = smiles_train.apply(Chem.MolFromSmiles).apply(Descriptors.MolLogP)"
      ],
      "execution_count": 0,
      "outputs": []
    },
    {
      "cell_type": "code",
      "metadata": {
        "id": "AO8zWHODMakt",
        "colab_type": "code",
        "colab": {}
      },
      "source": [
        "from keras.models import Sequential\n",
        "logp_model = Sequential()\n",
        "logp_model.add(Dense(128, input_shape=(latent_dim,), activation=\"relu\"))\n",
        "logp_model.add(Dense(128, activation=\"relu\"))\n",
        "logp_model.add(Dense(1))\n",
        "logp_model.compile(optimizer=\"adam\", loss=\"mse\")"
      ],
      "execution_count": 0,
      "outputs": []
    },
    {
      "cell_type": "code",
      "metadata": {
        "id": "PNSWJHxUXBUQ",
        "colab_type": "code",
        "colab": {
          "base_uri": "https://localhost:8080/",
          "height": 1000
        },
        "outputId": "9a0a8b6f-6d58-4847-c923-d8195580a1da"
      },
      "source": [
        "rlr = ReduceLROnPlateau(monitor='val_loss', factor=0.5,patience=10, min_lr=0.000001, verbose=1, epsilon=1e-5)\n",
        "logp_model.fit(x_train_latent, logp_train, batch_size=128, epochs=400, callbacks = [rlr])"
      ],
      "execution_count": 165,
      "outputs": [
        {
          "output_type": "stream",
          "text": [
            "/usr/local/lib/python3.6/dist-packages/keras/callbacks.py:1335: UserWarning: `epsilon` argument is deprecated and will be removed, use `min_delta` instead.\n",
            "  warnings.warn('`epsilon` argument is deprecated and '\n"
          ],
          "name": "stderr"
        },
        {
          "output_type": "stream",
          "text": [
            "Epoch 1/400\n",
            "50029/50029 [==============================] - 2s 37us/step - loss: 0.3384\n",
            "Epoch 2/400\n",
            " 7552/50029 [===>..........................] - ETA: 0s - loss: 0.2805"
          ],
          "name": "stdout"
        },
        {
          "output_type": "stream",
          "text": [
            "/usr/local/lib/python3.6/dist-packages/keras/callbacks.py:1379: RuntimeWarning: Reduce LR on plateau conditioned on metric `val_loss` which is not available. Available metrics are: loss,lr\n",
            "  (self.monitor, ','.join(list(logs.keys()))), RuntimeWarning\n"
          ],
          "name": "stderr"
        },
        {
          "output_type": "stream",
          "text": [
            "50029/50029 [==============================] - 1s 22us/step - loss: 0.2677\n",
            "Epoch 3/400\n",
            "50029/50029 [==============================] - 1s 22us/step - loss: 0.2455\n",
            "Epoch 4/400\n",
            "50029/50029 [==============================] - 1s 22us/step - loss: 0.2305\n",
            "Epoch 5/400\n",
            "50029/50029 [==============================] - 1s 23us/step - loss: 0.2198\n",
            "Epoch 6/400\n",
            "50029/50029 [==============================] - 1s 22us/step - loss: 0.2098\n",
            "Epoch 7/400\n",
            "50029/50029 [==============================] - 1s 24us/step - loss: 0.2023\n",
            "Epoch 8/400\n",
            "50029/50029 [==============================] - 1s 23us/step - loss: 0.1930\n",
            "Epoch 9/400\n",
            "50029/50029 [==============================] - 1s 23us/step - loss: 0.1890\n",
            "Epoch 10/400\n",
            "50029/50029 [==============================] - 1s 23us/step - loss: 0.1857\n",
            "Epoch 11/400\n",
            "50029/50029 [==============================] - 1s 24us/step - loss: 0.1819\n",
            "Epoch 12/400\n",
            "50029/50029 [==============================] - 1s 23us/step - loss: 0.1778\n",
            "Epoch 13/400\n",
            "50029/50029 [==============================] - 1s 23us/step - loss: 0.1722\n",
            "Epoch 14/400\n",
            "50029/50029 [==============================] - 1s 24us/step - loss: 0.1707\n",
            "Epoch 15/400\n",
            "50029/50029 [==============================] - 1s 24us/step - loss: 0.1669\n",
            "Epoch 16/400\n",
            "50029/50029 [==============================] - 1s 24us/step - loss: 0.1641\n",
            "Epoch 17/400\n",
            "50029/50029 [==============================] - 1s 24us/step - loss: 0.1627\n",
            "Epoch 18/400\n",
            "50029/50029 [==============================] - 1s 24us/step - loss: 0.1590\n",
            "Epoch 19/400\n",
            "50029/50029 [==============================] - 1s 25us/step - loss: 0.1550\n",
            "Epoch 20/400\n",
            "50029/50029 [==============================] - 1s 23us/step - loss: 0.1533\n",
            "Epoch 21/400\n",
            "50029/50029 [==============================] - 1s 24us/step - loss: 0.1535\n",
            "Epoch 22/400\n",
            "50029/50029 [==============================] - 1s 24us/step - loss: 0.1501\n",
            "Epoch 23/400\n",
            "50029/50029 [==============================] - 1s 23us/step - loss: 0.1481\n",
            "Epoch 24/400\n",
            "50029/50029 [==============================] - 1s 22us/step - loss: 0.1447\n",
            "Epoch 25/400\n",
            "50029/50029 [==============================] - 1s 22us/step - loss: 0.1424\n",
            "Epoch 26/400\n",
            "50029/50029 [==============================] - 1s 23us/step - loss: 0.1416\n",
            "Epoch 27/400\n",
            "50029/50029 [==============================] - 1s 22us/step - loss: 0.1393\n",
            "Epoch 28/400\n",
            "50029/50029 [==============================] - 1s 22us/step - loss: 0.1372\n",
            "Epoch 29/400\n",
            "50029/50029 [==============================] - 1s 22us/step - loss: 0.1352\n",
            "Epoch 30/400\n",
            "50029/50029 [==============================] - 1s 22us/step - loss: 0.1352\n",
            "Epoch 31/400\n",
            "50029/50029 [==============================] - 1s 22us/step - loss: 0.1308\n",
            "Epoch 32/400\n",
            "50029/50029 [==============================] - 1s 23us/step - loss: 0.1306\n",
            "Epoch 33/400\n",
            "50029/50029 [==============================] - 1s 22us/step - loss: 0.1313\n",
            "Epoch 34/400\n",
            "50029/50029 [==============================] - 1s 22us/step - loss: 0.1303\n",
            "Epoch 35/400\n",
            "50029/50029 [==============================] - 1s 21us/step - loss: 0.1255\n",
            "Epoch 36/400\n",
            "50029/50029 [==============================] - 1s 22us/step - loss: 0.1259\n",
            "Epoch 37/400\n",
            "50029/50029 [==============================] - 1s 22us/step - loss: 0.1257\n",
            "Epoch 38/400\n",
            "50029/50029 [==============================] - 1s 22us/step - loss: 0.1214\n",
            "Epoch 39/400\n",
            "50029/50029 [==============================] - 1s 22us/step - loss: 0.1229\n",
            "Epoch 40/400\n",
            "50029/50029 [==============================] - 1s 22us/step - loss: 0.1218\n",
            "Epoch 41/400\n",
            "50029/50029 [==============================] - 1s 23us/step - loss: 0.1194\n",
            "Epoch 42/400\n",
            "50029/50029 [==============================] - 1s 23us/step - loss: 0.1184\n",
            "Epoch 43/400\n",
            "50029/50029 [==============================] - 1s 22us/step - loss: 0.1168\n",
            "Epoch 44/400\n",
            "50029/50029 [==============================] - 1s 22us/step - loss: 0.1178\n",
            "Epoch 45/400\n",
            "50029/50029 [==============================] - 1s 23us/step - loss: 0.1164\n",
            "Epoch 46/400\n",
            "50029/50029 [==============================] - 1s 23us/step - loss: 0.1154\n",
            "Epoch 47/400\n",
            "50029/50029 [==============================] - 1s 23us/step - loss: 0.1143\n",
            "Epoch 48/400\n",
            "50029/50029 [==============================] - 1s 22us/step - loss: 0.1135\n",
            "Epoch 49/400\n",
            "50029/50029 [==============================] - 1s 23us/step - loss: 0.1136\n",
            "Epoch 50/400\n",
            "50029/50029 [==============================] - 1s 22us/step - loss: 0.1118\n",
            "Epoch 51/400\n",
            "50029/50029 [==============================] - 1s 22us/step - loss: 0.1100\n",
            "Epoch 52/400\n",
            "50029/50029 [==============================] - 1s 22us/step - loss: 0.1093\n",
            "Epoch 53/400\n",
            "50029/50029 [==============================] - 1s 22us/step - loss: 0.1117\n",
            "Epoch 54/400\n",
            "50029/50029 [==============================] - 1s 23us/step - loss: 0.1075\n",
            "Epoch 55/400\n",
            "50029/50029 [==============================] - 1s 22us/step - loss: 0.1072\n",
            "Epoch 56/400\n",
            "50029/50029 [==============================] - 1s 22us/step - loss: 0.1070\n",
            "Epoch 57/400\n",
            "50029/50029 [==============================] - 1s 22us/step - loss: 0.1099\n",
            "Epoch 58/400\n",
            "50029/50029 [==============================] - 1s 22us/step - loss: 0.1060\n",
            "Epoch 59/400\n",
            "50029/50029 [==============================] - 1s 22us/step - loss: 0.1050\n",
            "Epoch 60/400\n",
            "50029/50029 [==============================] - 1s 23us/step - loss: 0.1040\n",
            "Epoch 61/400\n",
            "50029/50029 [==============================] - 1s 23us/step - loss: 0.1046\n",
            "Epoch 62/400\n",
            "50029/50029 [==============================] - 1s 23us/step - loss: 0.1035\n",
            "Epoch 63/400\n",
            "50029/50029 [==============================] - 1s 23us/step - loss: 0.1025\n",
            "Epoch 64/400\n",
            "50029/50029 [==============================] - 1s 22us/step - loss: 0.1031\n",
            "Epoch 65/400\n",
            "50029/50029 [==============================] - 1s 23us/step - loss: 0.1022\n",
            "Epoch 66/400\n",
            "50029/50029 [==============================] - 1s 22us/step - loss: 0.0996\n",
            "Epoch 67/400\n",
            "50029/50029 [==============================] - 1s 22us/step - loss: 0.1006\n",
            "Epoch 68/400\n",
            "50029/50029 [==============================] - 1s 22us/step - loss: 0.0995\n",
            "Epoch 69/400\n",
            "50029/50029 [==============================] - 1s 22us/step - loss: 0.1003\n",
            "Epoch 70/400\n",
            "50029/50029 [==============================] - 1s 22us/step - loss: 0.1002\n",
            "Epoch 71/400\n",
            "50029/50029 [==============================] - 1s 22us/step - loss: 0.1009\n",
            "Epoch 72/400\n",
            "50029/50029 [==============================] - 1s 22us/step - loss: 0.0974\n",
            "Epoch 73/400\n",
            "50029/50029 [==============================] - 1s 23us/step - loss: 0.0981\n",
            "Epoch 74/400\n",
            "50029/50029 [==============================] - 1s 23us/step - loss: 0.0968\n",
            "Epoch 75/400\n",
            "50029/50029 [==============================] - 1s 22us/step - loss: 0.0962\n",
            "Epoch 76/400\n",
            "50029/50029 [==============================] - 1s 23us/step - loss: 0.0966\n",
            "Epoch 77/400\n",
            "50029/50029 [==============================] - 1s 22us/step - loss: 0.0974\n",
            "Epoch 78/400\n",
            "50029/50029 [==============================] - 1s 22us/step - loss: 0.0957\n",
            "Epoch 79/400\n",
            "50029/50029 [==============================] - 1s 22us/step - loss: 0.0942\n",
            "Epoch 80/400\n",
            "50029/50029 [==============================] - 1s 22us/step - loss: 0.0932\n",
            "Epoch 81/400\n",
            "50029/50029 [==============================] - 1s 22us/step - loss: 0.0929\n",
            "Epoch 82/400\n",
            "50029/50029 [==============================] - 1s 23us/step - loss: 0.0932\n",
            "Epoch 83/400\n",
            "50029/50029 [==============================] - 1s 22us/step - loss: 0.0949\n",
            "Epoch 84/400\n",
            "50029/50029 [==============================] - 1s 22us/step - loss: 0.0929\n",
            "Epoch 85/400\n",
            "50029/50029 [==============================] - 1s 22us/step - loss: 0.0927\n",
            "Epoch 86/400\n",
            "50029/50029 [==============================] - 1s 23us/step - loss: 0.0934\n",
            "Epoch 87/400\n",
            "50029/50029 [==============================] - 1s 22us/step - loss: 0.0917\n",
            "Epoch 88/400\n",
            "50029/50029 [==============================] - 1s 22us/step - loss: 0.0905\n",
            "Epoch 89/400\n",
            "50029/50029 [==============================] - 1s 22us/step - loss: 0.0905\n",
            "Epoch 90/400\n",
            "50029/50029 [==============================] - 1s 22us/step - loss: 0.0932\n",
            "Epoch 91/400\n",
            "50029/50029 [==============================] - 1s 22us/step - loss: 0.0904\n",
            "Epoch 92/400\n",
            "50029/50029 [==============================] - 1s 22us/step - loss: 0.0895\n",
            "Epoch 93/400\n",
            "50029/50029 [==============================] - 1s 22us/step - loss: 0.0892\n",
            "Epoch 94/400\n",
            "50029/50029 [==============================] - 1s 22us/step - loss: 0.0889\n",
            "Epoch 95/400\n",
            "50029/50029 [==============================] - 1s 22us/step - loss: 0.0876\n",
            "Epoch 96/400\n",
            "50029/50029 [==============================] - 1s 22us/step - loss: 0.0878\n",
            "Epoch 97/400\n",
            "50029/50029 [==============================] - 1s 22us/step - loss: 0.0897\n",
            "Epoch 98/400\n",
            "50029/50029 [==============================] - 1s 23us/step - loss: 0.0871\n",
            "Epoch 99/400\n",
            "50029/50029 [==============================] - 1s 22us/step - loss: 0.0893\n",
            "Epoch 100/400\n",
            "50029/50029 [==============================] - 1s 23us/step - loss: 0.0883\n",
            "Epoch 101/400\n",
            "50029/50029 [==============================] - 1s 22us/step - loss: 0.0863\n",
            "Epoch 102/400\n",
            "50029/50029 [==============================] - 1s 22us/step - loss: 0.0874\n",
            "Epoch 103/400\n",
            "50029/50029 [==============================] - 1s 22us/step - loss: 0.0854\n",
            "Epoch 104/400\n",
            "50029/50029 [==============================] - 1s 22us/step - loss: 0.0855\n",
            "Epoch 105/400\n",
            "50029/50029 [==============================] - 1s 22us/step - loss: 0.0847\n",
            "Epoch 106/400\n",
            "50029/50029 [==============================] - 1s 23us/step - loss: 0.0852\n",
            "Epoch 107/400\n",
            "50029/50029 [==============================] - 1s 22us/step - loss: 0.0838\n",
            "Epoch 108/400\n",
            "50029/50029 [==============================] - 1s 22us/step - loss: 0.0846\n",
            "Epoch 109/400\n",
            "50029/50029 [==============================] - 1s 22us/step - loss: 0.0839\n",
            "Epoch 110/400\n",
            "50029/50029 [==============================] - 1s 23us/step - loss: 0.0848\n",
            "Epoch 111/400\n",
            "50029/50029 [==============================] - 1s 22us/step - loss: 0.0843\n",
            "Epoch 112/400\n",
            "50029/50029 [==============================] - 1s 22us/step - loss: 0.0830\n",
            "Epoch 113/400\n",
            "50029/50029 [==============================] - 1s 22us/step - loss: 0.0835\n",
            "Epoch 114/400\n",
            "50029/50029 [==============================] - 1s 22us/step - loss: 0.0834\n",
            "Epoch 115/400\n",
            "50029/50029 [==============================] - 1s 22us/step - loss: 0.0834\n",
            "Epoch 116/400\n",
            "50029/50029 [==============================] - 1s 22us/step - loss: 0.0822\n",
            "Epoch 117/400\n",
            "50029/50029 [==============================] - 1s 22us/step - loss: 0.0827\n",
            "Epoch 118/400\n",
            "50029/50029 [==============================] - 1s 22us/step - loss: 0.0829\n",
            "Epoch 119/400\n",
            "50029/50029 [==============================] - 1s 23us/step - loss: 0.0820\n",
            "Epoch 120/400\n",
            "50029/50029 [==============================] - 1s 22us/step - loss: 0.0809\n",
            "Epoch 121/400\n",
            "50029/50029 [==============================] - 1s 22us/step - loss: 0.0806\n",
            "Epoch 122/400\n",
            "50029/50029 [==============================] - 1s 22us/step - loss: 0.0803\n",
            "Epoch 123/400\n",
            "50029/50029 [==============================] - 1s 22us/step - loss: 0.0814\n",
            "Epoch 124/400\n",
            "50029/50029 [==============================] - 1s 22us/step - loss: 0.0812\n",
            "Epoch 125/400\n",
            "50029/50029 [==============================] - 1s 22us/step - loss: 0.0799\n",
            "Epoch 126/400\n",
            "50029/50029 [==============================] - 1s 22us/step - loss: 0.0794\n",
            "Epoch 127/400\n",
            "50029/50029 [==============================] - 1s 23us/step - loss: 0.0792\n",
            "Epoch 128/400\n",
            "50029/50029 [==============================] - 1s 22us/step - loss: 0.0784\n",
            "Epoch 129/400\n",
            "50029/50029 [==============================] - 1s 23us/step - loss: 0.0807\n",
            "Epoch 130/400\n",
            "50029/50029 [==============================] - 1s 23us/step - loss: 0.0805\n",
            "Epoch 131/400\n",
            "50029/50029 [==============================] - 1s 23us/step - loss: 0.0784\n",
            "Epoch 132/400\n",
            "50029/50029 [==============================] - 1s 23us/step - loss: 0.0790\n",
            "Epoch 133/400\n",
            "50029/50029 [==============================] - 1s 23us/step - loss: 0.0777\n",
            "Epoch 134/400\n",
            "50029/50029 [==============================] - 1s 23us/step - loss: 0.0784\n",
            "Epoch 135/400\n",
            "50029/50029 [==============================] - 1s 22us/step - loss: 0.0783\n",
            "Epoch 136/400\n",
            "50029/50029 [==============================] - 1s 22us/step - loss: 0.0773\n",
            "Epoch 137/400\n",
            "50029/50029 [==============================] - 1s 22us/step - loss: 0.0769\n",
            "Epoch 138/400\n",
            "50029/50029 [==============================] - 1s 22us/step - loss: 0.0788\n",
            "Epoch 139/400\n",
            "50029/50029 [==============================] - 1s 22us/step - loss: 0.0778\n",
            "Epoch 140/400\n",
            "50029/50029 [==============================] - 1s 23us/step - loss: 0.0758\n",
            "Epoch 141/400\n",
            "50029/50029 [==============================] - 1s 22us/step - loss: 0.0765\n",
            "Epoch 142/400\n",
            "50029/50029 [==============================] - 1s 22us/step - loss: 0.0777\n",
            "Epoch 143/400\n",
            "50029/50029 [==============================] - 1s 22us/step - loss: 0.0752\n",
            "Epoch 144/400\n",
            "50029/50029 [==============================] - 1s 22us/step - loss: 0.0756\n",
            "Epoch 145/400\n",
            "50029/50029 [==============================] - 1s 23us/step - loss: 0.0750\n",
            "Epoch 146/400\n",
            "50029/50029 [==============================] - 1s 22us/step - loss: 0.0757\n",
            "Epoch 147/400\n",
            "50029/50029 [==============================] - 1s 22us/step - loss: 0.0767\n",
            "Epoch 148/400\n",
            "50029/50029 [==============================] - 1s 22us/step - loss: 0.0753\n",
            "Epoch 149/400\n",
            "50029/50029 [==============================] - 1s 22us/step - loss: 0.0762\n",
            "Epoch 150/400\n",
            "50029/50029 [==============================] - 1s 22us/step - loss: 0.0739\n",
            "Epoch 151/400\n",
            "50029/50029 [==============================] - 1s 22us/step - loss: 0.0738\n",
            "Epoch 152/400\n",
            "50029/50029 [==============================] - 1s 22us/step - loss: 0.0748\n",
            "Epoch 153/400\n",
            "50029/50029 [==============================] - 1s 22us/step - loss: 0.0749\n",
            "Epoch 154/400\n",
            "50029/50029 [==============================] - 1s 23us/step - loss: 0.0738\n",
            "Epoch 155/400\n",
            "50029/50029 [==============================] - 1s 23us/step - loss: 0.0737\n",
            "Epoch 156/400\n",
            "50029/50029 [==============================] - 1s 22us/step - loss: 0.0741\n",
            "Epoch 157/400\n",
            "50029/50029 [==============================] - 1s 22us/step - loss: 0.0731\n",
            "Epoch 158/400\n",
            "50029/50029 [==============================] - 1s 23us/step - loss: 0.0738\n",
            "Epoch 159/400\n",
            "50029/50029 [==============================] - 1s 23us/step - loss: 0.0721\n",
            "Epoch 160/400\n",
            "50029/50029 [==============================] - 1s 22us/step - loss: 0.0743\n",
            "Epoch 161/400\n",
            "50029/50029 [==============================] - 1s 23us/step - loss: 0.0743\n",
            "Epoch 162/400\n",
            "50029/50029 [==============================] - 1s 22us/step - loss: 0.0722\n",
            "Epoch 163/400\n",
            "50029/50029 [==============================] - 1s 22us/step - loss: 0.0728\n",
            "Epoch 164/400\n",
            "50029/50029 [==============================] - 1s 23us/step - loss: 0.0734\n",
            "Epoch 165/400\n",
            "50029/50029 [==============================] - 1s 22us/step - loss: 0.0720\n",
            "Epoch 166/400\n",
            "50029/50029 [==============================] - 1s 22us/step - loss: 0.0714\n",
            "Epoch 167/400\n",
            "50029/50029 [==============================] - 1s 22us/step - loss: 0.0714\n",
            "Epoch 168/400\n",
            "50029/50029 [==============================] - 1s 22us/step - loss: 0.0725\n",
            "Epoch 169/400\n",
            "50029/50029 [==============================] - 1s 22us/step - loss: 0.0714\n",
            "Epoch 170/400\n",
            "50029/50029 [==============================] - 1s 22us/step - loss: 0.0708\n",
            "Epoch 171/400\n",
            "50029/50029 [==============================] - 1s 22us/step - loss: 0.0712\n",
            "Epoch 172/400\n",
            "50029/50029 [==============================] - 1s 23us/step - loss: 0.0724\n",
            "Epoch 173/400\n",
            "50029/50029 [==============================] - 1s 22us/step - loss: 0.0706\n",
            "Epoch 174/400\n",
            "50029/50029 [==============================] - 1s 22us/step - loss: 0.0713\n",
            "Epoch 175/400\n",
            "50029/50029 [==============================] - 1s 22us/step - loss: 0.0702\n",
            "Epoch 176/400\n",
            "50029/50029 [==============================] - 1s 22us/step - loss: 0.0698\n",
            "Epoch 177/400\n",
            "50029/50029 [==============================] - 1s 22us/step - loss: 0.0707\n",
            "Epoch 178/400\n",
            "50029/50029 [==============================] - 1s 22us/step - loss: 0.0706\n",
            "Epoch 179/400\n",
            "50029/50029 [==============================] - 1s 22us/step - loss: 0.0697\n",
            "Epoch 180/400\n",
            "50029/50029 [==============================] - 1s 22us/step - loss: 0.0705\n",
            "Epoch 181/400\n",
            "50029/50029 [==============================] - 1s 22us/step - loss: 0.0703\n",
            "Epoch 182/400\n",
            "50029/50029 [==============================] - 1s 22us/step - loss: 0.0693\n",
            "Epoch 183/400\n",
            "50029/50029 [==============================] - 1s 23us/step - loss: 0.0690\n",
            "Epoch 184/400\n",
            "50029/50029 [==============================] - 1s 22us/step - loss: 0.0695\n",
            "Epoch 185/400\n",
            "50029/50029 [==============================] - 1s 22us/step - loss: 0.0691\n",
            "Epoch 186/400\n",
            "50029/50029 [==============================] - 1s 22us/step - loss: 0.0685\n",
            "Epoch 187/400\n",
            "50029/50029 [==============================] - 1s 23us/step - loss: 0.0687\n",
            "Epoch 188/400\n",
            "50029/50029 [==============================] - 1s 23us/step - loss: 0.0685\n",
            "Epoch 189/400\n",
            "50029/50029 [==============================] - 1s 23us/step - loss: 0.0691\n",
            "Epoch 190/400\n",
            "50029/50029 [==============================] - 1s 22us/step - loss: 0.0686\n",
            "Epoch 191/400\n",
            "50029/50029 [==============================] - 1s 22us/step - loss: 0.0682\n",
            "Epoch 192/400\n",
            "50029/50029 [==============================] - 1s 22us/step - loss: 0.0686\n",
            "Epoch 193/400\n",
            "50029/50029 [==============================] - 1s 22us/step - loss: 0.0682\n",
            "Epoch 194/400\n",
            "50029/50029 [==============================] - 1s 22us/step - loss: 0.0675\n",
            "Epoch 195/400\n",
            "50029/50029 [==============================] - 1s 22us/step - loss: 0.0676\n",
            "Epoch 196/400\n",
            "50029/50029 [==============================] - 1s 22us/step - loss: 0.0676\n",
            "Epoch 197/400\n",
            "50029/50029 [==============================] - 1s 23us/step - loss: 0.0672\n",
            "Epoch 198/400\n",
            "50029/50029 [==============================] - 1s 22us/step - loss: 0.0671\n",
            "Epoch 199/400\n",
            "50029/50029 [==============================] - 1s 22us/step - loss: 0.0670\n",
            "Epoch 200/400\n",
            "50029/50029 [==============================] - 1s 22us/step - loss: 0.0682\n",
            "Epoch 201/400\n",
            "50029/50029 [==============================] - 1s 22us/step - loss: 0.0662\n",
            "Epoch 202/400\n",
            "50029/50029 [==============================] - 1s 22us/step - loss: 0.0658\n",
            "Epoch 203/400\n",
            "50029/50029 [==============================] - 1s 22us/step - loss: 0.0662\n",
            "Epoch 204/400\n",
            "50029/50029 [==============================] - 1s 22us/step - loss: 0.0666\n",
            "Epoch 205/400\n",
            "50029/50029 [==============================] - 1s 22us/step - loss: 0.0667\n",
            "Epoch 206/400\n",
            "50029/50029 [==============================] - 1s 23us/step - loss: 0.0654\n",
            "Epoch 207/400\n",
            "50029/50029 [==============================] - 1s 23us/step - loss: 0.0669\n",
            "Epoch 208/400\n",
            "50029/50029 [==============================] - 1s 22us/step - loss: 0.0663\n",
            "Epoch 209/400\n",
            "50029/50029 [==============================] - 1s 22us/step - loss: 0.0669\n",
            "Epoch 210/400\n",
            "50029/50029 [==============================] - 1s 22us/step - loss: 0.0652\n",
            "Epoch 211/400\n",
            "50029/50029 [==============================] - 1s 22us/step - loss: 0.0655\n",
            "Epoch 212/400\n",
            "50029/50029 [==============================] - 1s 23us/step - loss: 0.0652\n",
            "Epoch 213/400\n",
            "50029/50029 [==============================] - 1s 22us/step - loss: 0.0679\n",
            "Epoch 214/400\n",
            "50029/50029 [==============================] - 1s 22us/step - loss: 0.0656\n",
            "Epoch 215/400\n",
            "50029/50029 [==============================] - 1s 23us/step - loss: 0.0662\n",
            "Epoch 216/400\n",
            "50029/50029 [==============================] - 1s 22us/step - loss: 0.0650\n",
            "Epoch 217/400\n",
            "50029/50029 [==============================] - 1s 22us/step - loss: 0.0651\n",
            "Epoch 218/400\n",
            "50029/50029 [==============================] - 1s 22us/step - loss: 0.0637\n",
            "Epoch 219/400\n",
            "50029/50029 [==============================] - 1s 22us/step - loss: 0.0648\n",
            "Epoch 220/400\n",
            "50029/50029 [==============================] - 1s 23us/step - loss: 0.0653\n",
            "Epoch 221/400\n",
            "50029/50029 [==============================] - 1s 22us/step - loss: 0.0644\n",
            "Epoch 222/400\n",
            "50029/50029 [==============================] - 1s 22us/step - loss: 0.0641\n",
            "Epoch 223/400\n",
            "50029/50029 [==============================] - 1s 22us/step - loss: 0.0645\n",
            "Epoch 224/400\n",
            "50029/50029 [==============================] - 1s 23us/step - loss: 0.0632\n",
            "Epoch 225/400\n",
            "50029/50029 [==============================] - 1s 22us/step - loss: 0.0634\n",
            "Epoch 226/400\n",
            "50029/50029 [==============================] - 1s 23us/step - loss: 0.0640\n",
            "Epoch 227/400\n",
            "50029/50029 [==============================] - 1s 23us/step - loss: 0.0640\n",
            "Epoch 228/400\n",
            "50029/50029 [==============================] - 1s 22us/step - loss: 0.0631\n",
            "Epoch 229/400\n",
            "50029/50029 [==============================] - 1s 22us/step - loss: 0.0651\n",
            "Epoch 230/400\n",
            "50029/50029 [==============================] - 1s 23us/step - loss: 0.0636\n",
            "Epoch 231/400\n",
            "50029/50029 [==============================] - 1s 22us/step - loss: 0.0639\n",
            "Epoch 232/400\n",
            "50029/50029 [==============================] - 1s 22us/step - loss: 0.0648\n",
            "Epoch 233/400\n",
            "50029/50029 [==============================] - 1s 22us/step - loss: 0.0645\n",
            "Epoch 234/400\n",
            "50029/50029 [==============================] - 1s 22us/step - loss: 0.0623\n",
            "Epoch 235/400\n",
            "50029/50029 [==============================] - 1s 22us/step - loss: 0.0618\n",
            "Epoch 236/400\n",
            "50029/50029 [==============================] - 1s 22us/step - loss: 0.0652\n",
            "Epoch 237/400\n",
            "50029/50029 [==============================] - 1s 22us/step - loss: 0.0633\n",
            "Epoch 238/400\n",
            "50029/50029 [==============================] - 1s 22us/step - loss: 0.0620\n",
            "Epoch 239/400\n",
            "50029/50029 [==============================] - 1s 21us/step - loss: 0.0633\n",
            "Epoch 240/400\n",
            "50029/50029 [==============================] - 1s 23us/step - loss: 0.0621\n",
            "Epoch 241/400\n",
            "50029/50029 [==============================] - 1s 22us/step - loss: 0.0633\n",
            "Epoch 242/400\n",
            "50029/50029 [==============================] - 1s 22us/step - loss: 0.0621\n",
            "Epoch 243/400\n",
            "50029/50029 [==============================] - 1s 23us/step - loss: 0.0631\n",
            "Epoch 244/400\n",
            "50029/50029 [==============================] - 1s 23us/step - loss: 0.0630\n",
            "Epoch 245/400\n",
            "50029/50029 [==============================] - 1s 23us/step - loss: 0.0616\n",
            "Epoch 246/400\n",
            "50029/50029 [==============================] - 1s 22us/step - loss: 0.0625\n",
            "Epoch 247/400\n",
            "50029/50029 [==============================] - 1s 23us/step - loss: 0.0618\n",
            "Epoch 248/400\n",
            "50029/50029 [==============================] - 1s 22us/step - loss: 0.0613\n",
            "Epoch 249/400\n",
            "50029/50029 [==============================] - 1s 22us/step - loss: 0.0627\n",
            "Epoch 250/400\n",
            "50029/50029 [==============================] - 1s 23us/step - loss: 0.0620\n",
            "Epoch 251/400\n",
            "50029/50029 [==============================] - 1s 22us/step - loss: 0.0611\n",
            "Epoch 252/400\n",
            "50029/50029 [==============================] - 1s 22us/step - loss: 0.0634\n",
            "Epoch 253/400\n",
            "50029/50029 [==============================] - 1s 22us/step - loss: 0.0621\n",
            "Epoch 254/400\n",
            "50029/50029 [==============================] - 1s 22us/step - loss: 0.0604\n",
            "Epoch 255/400\n",
            "50029/50029 [==============================] - 1s 22us/step - loss: 0.0609\n",
            "Epoch 256/400\n",
            "50029/50029 [==============================] - 1s 22us/step - loss: 0.0622\n",
            "Epoch 257/400\n",
            "50029/50029 [==============================] - 1s 22us/step - loss: 0.0615\n",
            "Epoch 258/400\n",
            "50029/50029 [==============================] - 1s 22us/step - loss: 0.0609\n",
            "Epoch 259/400\n",
            "50029/50029 [==============================] - 1s 22us/step - loss: 0.0612\n",
            "Epoch 260/400\n",
            "50029/50029 [==============================] - 1s 22us/step - loss: 0.0604\n",
            "Epoch 261/400\n",
            "50029/50029 [==============================] - 1s 23us/step - loss: 0.0603\n",
            "Epoch 262/400\n",
            "50029/50029 [==============================] - 1s 22us/step - loss: 0.0629\n",
            "Epoch 263/400\n",
            "50029/50029 [==============================] - 1s 22us/step - loss: 0.0611\n",
            "Epoch 264/400\n",
            "50029/50029 [==============================] - 1s 22us/step - loss: 0.0611\n",
            "Epoch 265/400\n",
            "50029/50029 [==============================] - 1s 22us/step - loss: 0.0604\n",
            "Epoch 266/400\n",
            "50029/50029 [==============================] - 1s 23us/step - loss: 0.0614\n",
            "Epoch 267/400\n",
            "50029/50029 [==============================] - 1s 22us/step - loss: 0.0595\n",
            "Epoch 268/400\n",
            "50029/50029 [==============================] - 1s 22us/step - loss: 0.0616\n",
            "Epoch 269/400\n",
            "50029/50029 [==============================] - 1s 23us/step - loss: 0.0600\n",
            "Epoch 270/400\n",
            "50029/50029 [==============================] - 1s 23us/step - loss: 0.0607\n",
            "Epoch 271/400\n",
            "50029/50029 [==============================] - 1s 22us/step - loss: 0.0606\n",
            "Epoch 272/400\n",
            "50029/50029 [==============================] - 1s 21us/step - loss: 0.0594\n",
            "Epoch 273/400\n",
            "50029/50029 [==============================] - 1s 22us/step - loss: 0.0590\n",
            "Epoch 274/400\n",
            "50029/50029 [==============================] - 1s 22us/step - loss: 0.0593\n",
            "Epoch 275/400\n",
            "50029/50029 [==============================] - 1s 22us/step - loss: 0.0600\n",
            "Epoch 276/400\n",
            "50029/50029 [==============================] - 1s 22us/step - loss: 0.0614\n",
            "Epoch 277/400\n",
            "50029/50029 [==============================] - 1s 22us/step - loss: 0.0593\n",
            "Epoch 278/400\n",
            "50029/50029 [==============================] - 1s 22us/step - loss: 0.0585\n",
            "Epoch 279/400\n",
            "50029/50029 [==============================] - 1s 22us/step - loss: 0.0599\n",
            "Epoch 280/400\n",
            "50029/50029 [==============================] - 1s 24us/step - loss: 0.0601\n",
            "Epoch 281/400\n",
            "50029/50029 [==============================] - 1s 23us/step - loss: 0.0603\n",
            "Epoch 282/400\n",
            "50029/50029 [==============================] - 1s 23us/step - loss: 0.0596\n",
            "Epoch 283/400\n",
            "50029/50029 [==============================] - 1s 23us/step - loss: 0.0606\n",
            "Epoch 284/400\n",
            "50029/50029 [==============================] - 1s 22us/step - loss: 0.0598\n",
            "Epoch 285/400\n",
            "50029/50029 [==============================] - 1s 22us/step - loss: 0.0576\n",
            "Epoch 286/400\n",
            "50029/50029 [==============================] - 1s 21us/step - loss: 0.0597\n",
            "Epoch 287/400\n",
            "50029/50029 [==============================] - 1s 23us/step - loss: 0.0592\n",
            "Epoch 288/400\n",
            "50029/50029 [==============================] - 1s 23us/step - loss: 0.0588\n",
            "Epoch 289/400\n",
            "50029/50029 [==============================] - 1s 22us/step - loss: 0.0593\n",
            "Epoch 290/400\n",
            "50029/50029 [==============================] - 1s 22us/step - loss: 0.0587\n",
            "Epoch 291/400\n",
            "50029/50029 [==============================] - 1s 22us/step - loss: 0.0579\n",
            "Epoch 292/400\n",
            "50029/50029 [==============================] - 1s 24us/step - loss: 0.0599\n",
            "Epoch 293/400\n",
            "50029/50029 [==============================] - 1s 23us/step - loss: 0.0586\n",
            "Epoch 294/400\n",
            "50029/50029 [==============================] - 1s 24us/step - loss: 0.0582\n",
            "Epoch 295/400\n",
            "50029/50029 [==============================] - 1s 23us/step - loss: 0.0589\n",
            "Epoch 296/400\n",
            "50029/50029 [==============================] - 1s 24us/step - loss: 0.0580\n",
            "Epoch 297/400\n",
            "50029/50029 [==============================] - 1s 25us/step - loss: 0.0575\n",
            "Epoch 298/400\n",
            "50029/50029 [==============================] - 1s 24us/step - loss: 0.0585\n",
            "Epoch 299/400\n",
            "50029/50029 [==============================] - 1s 24us/step - loss: 0.0574\n",
            "Epoch 300/400\n",
            "50029/50029 [==============================] - 1s 24us/step - loss: 0.0583\n",
            "Epoch 301/400\n",
            "50029/50029 [==============================] - 1s 23us/step - loss: 0.0574\n",
            "Epoch 302/400\n",
            "50029/50029 [==============================] - 1s 23us/step - loss: 0.0590\n",
            "Epoch 303/400\n",
            "50029/50029 [==============================] - 1s 22us/step - loss: 0.0575\n",
            "Epoch 304/400\n",
            "50029/50029 [==============================] - 1s 23us/step - loss: 0.0580\n",
            "Epoch 305/400\n",
            "50029/50029 [==============================] - 1s 22us/step - loss: 0.0582\n",
            "Epoch 306/400\n",
            "50029/50029 [==============================] - 1s 23us/step - loss: 0.0586\n",
            "Epoch 307/400\n",
            "50029/50029 [==============================] - 1s 22us/step - loss: 0.0574\n",
            "Epoch 308/400\n",
            "50029/50029 [==============================] - 1s 22us/step - loss: 0.0571\n",
            "Epoch 309/400\n",
            "50029/50029 [==============================] - 1s 21us/step - loss: 0.0581\n",
            "Epoch 310/400\n",
            "50029/50029 [==============================] - 1s 22us/step - loss: 0.0576\n",
            "Epoch 311/400\n",
            "50029/50029 [==============================] - 1s 22us/step - loss: 0.0569\n",
            "Epoch 312/400\n",
            "50029/50029 [==============================] - 1s 22us/step - loss: 0.0560\n",
            "Epoch 313/400\n",
            "50029/50029 [==============================] - 1s 22us/step - loss: 0.0566\n",
            "Epoch 314/400\n",
            "50029/50029 [==============================] - 1s 22us/step - loss: 0.0571\n",
            "Epoch 315/400\n",
            "50029/50029 [==============================] - 1s 22us/step - loss: 0.0568\n",
            "Epoch 316/400\n",
            "50029/50029 [==============================] - 1s 23us/step - loss: 0.0574\n",
            "Epoch 317/400\n",
            "50029/50029 [==============================] - 1s 22us/step - loss: 0.0567\n",
            "Epoch 318/400\n",
            "50029/50029 [==============================] - 1s 22us/step - loss: 0.0578\n",
            "Epoch 319/400\n",
            "50029/50029 [==============================] - 1s 21us/step - loss: 0.0564\n",
            "Epoch 320/400\n",
            "50029/50029 [==============================] - 1s 22us/step - loss: 0.0572\n",
            "Epoch 321/400\n",
            "50029/50029 [==============================] - 1s 22us/step - loss: 0.0559\n",
            "Epoch 322/400\n",
            "50029/50029 [==============================] - 1s 23us/step - loss: 0.0574\n",
            "Epoch 323/400\n",
            "50029/50029 [==============================] - 1s 22us/step - loss: 0.0563\n",
            "Epoch 324/400\n",
            "50029/50029 [==============================] - 1s 22us/step - loss: 0.0573\n",
            "Epoch 325/400\n",
            "50029/50029 [==============================] - 1s 22us/step - loss: 0.0574\n",
            "Epoch 326/400\n",
            "50029/50029 [==============================] - 1s 22us/step - loss: 0.0559\n",
            "Epoch 327/400\n",
            "50029/50029 [==============================] - 1s 22us/step - loss: 0.0574\n",
            "Epoch 328/400\n",
            "50029/50029 [==============================] - 1s 22us/step - loss: 0.0558\n",
            "Epoch 329/400\n",
            "50029/50029 [==============================] - 1s 23us/step - loss: 0.0561\n",
            "Epoch 330/400\n",
            "50029/50029 [==============================] - 1s 22us/step - loss: 0.0563\n",
            "Epoch 331/400\n",
            "50029/50029 [==============================] - 1s 22us/step - loss: 0.0568\n",
            "Epoch 332/400\n",
            "50029/50029 [==============================] - 1s 22us/step - loss: 0.0557\n",
            "Epoch 333/400\n",
            "50029/50029 [==============================] - 1s 22us/step - loss: 0.0565\n",
            "Epoch 334/400\n",
            "50029/50029 [==============================] - 1s 23us/step - loss: 0.0557\n",
            "Epoch 335/400\n",
            "50029/50029 [==============================] - 1s 22us/step - loss: 0.0551\n",
            "Epoch 336/400\n",
            "50029/50029 [==============================] - 1s 22us/step - loss: 0.0571\n",
            "Epoch 337/400\n",
            "50029/50029 [==============================] - 1s 22us/step - loss: 0.0558\n",
            "Epoch 338/400\n",
            "50029/50029 [==============================] - 1s 22us/step - loss: 0.0552\n",
            "Epoch 339/400\n",
            "50029/50029 [==============================] - 1s 22us/step - loss: 0.0552\n",
            "Epoch 340/400\n",
            "50029/50029 [==============================] - 1s 22us/step - loss: 0.0561\n",
            "Epoch 341/400\n",
            "50029/50029 [==============================] - 1s 23us/step - loss: 0.0551\n",
            "Epoch 342/400\n",
            "50029/50029 [==============================] - 1s 22us/step - loss: 0.0556\n",
            "Epoch 343/400\n",
            "50029/50029 [==============================] - 1s 22us/step - loss: 0.0551\n",
            "Epoch 344/400\n",
            "50029/50029 [==============================] - 1s 22us/step - loss: 0.0563\n",
            "Epoch 345/400\n",
            "50029/50029 [==============================] - 1s 22us/step - loss: 0.0554\n",
            "Epoch 346/400\n",
            "50029/50029 [==============================] - 1s 22us/step - loss: 0.0555\n",
            "Epoch 347/400\n",
            "50029/50029 [==============================] - 1s 22us/step - loss: 0.0554\n",
            "Epoch 348/400\n",
            "50029/50029 [==============================] - 1s 22us/step - loss: 0.0552\n",
            "Epoch 349/400\n",
            "50029/50029 [==============================] - 1s 22us/step - loss: 0.0561\n",
            "Epoch 350/400\n",
            "50029/50029 [==============================] - 1s 22us/step - loss: 0.0562\n",
            "Epoch 351/400\n",
            "50029/50029 [==============================] - 1s 22us/step - loss: 0.0545\n",
            "Epoch 352/400\n",
            "50029/50029 [==============================] - 1s 22us/step - loss: 0.0549\n",
            "Epoch 353/400\n",
            "50029/50029 [==============================] - 1s 22us/step - loss: 0.0562\n",
            "Epoch 354/400\n",
            "50029/50029 [==============================] - 1s 23us/step - loss: 0.0541\n",
            "Epoch 355/400\n",
            "50029/50029 [==============================] - 1s 22us/step - loss: 0.0541\n",
            "Epoch 356/400\n",
            "50029/50029 [==============================] - 1s 23us/step - loss: 0.0535\n",
            "Epoch 357/400\n",
            "50029/50029 [==============================] - 1s 23us/step - loss: 0.0547\n",
            "Epoch 358/400\n",
            "50029/50029 [==============================] - 1s 23us/step - loss: 0.0551\n",
            "Epoch 359/400\n",
            "50029/50029 [==============================] - 1s 22us/step - loss: 0.0546\n",
            "Epoch 360/400\n",
            "50029/50029 [==============================] - 1s 22us/step - loss: 0.0557\n",
            "Epoch 361/400\n",
            "50029/50029 [==============================] - 1s 22us/step - loss: 0.0550\n",
            "Epoch 362/400\n",
            "50029/50029 [==============================] - 1s 21us/step - loss: 0.0544\n",
            "Epoch 363/400\n",
            "50029/50029 [==============================] - 1s 22us/step - loss: 0.0542\n",
            "Epoch 364/400\n",
            "50029/50029 [==============================] - 1s 22us/step - loss: 0.0552\n",
            "Epoch 365/400\n",
            "50029/50029 [==============================] - 1s 22us/step - loss: 0.0542\n",
            "Epoch 366/400\n",
            "50029/50029 [==============================] - 1s 22us/step - loss: 0.0547\n",
            "Epoch 367/400\n",
            "50029/50029 [==============================] - 1s 22us/step - loss: 0.0543\n",
            "Epoch 368/400\n",
            "50029/50029 [==============================] - 1s 22us/step - loss: 0.0546\n",
            "Epoch 369/400\n",
            "50029/50029 [==============================] - 1s 22us/step - loss: 0.0537\n",
            "Epoch 370/400\n",
            "50029/50029 [==============================] - 1s 22us/step - loss: 0.0534\n",
            "Epoch 371/400\n",
            "50029/50029 [==============================] - 1s 23us/step - loss: 0.0545\n",
            "Epoch 372/400\n",
            "50029/50029 [==============================] - 1s 22us/step - loss: 0.0536\n",
            "Epoch 373/400\n",
            "50029/50029 [==============================] - 1s 23us/step - loss: 0.0543\n",
            "Epoch 374/400\n",
            "50029/50029 [==============================] - 1s 22us/step - loss: 0.0535\n",
            "Epoch 375/400\n",
            "50029/50029 [==============================] - 1s 22us/step - loss: 0.0540\n",
            "Epoch 376/400\n",
            "50029/50029 [==============================] - 1s 23us/step - loss: 0.0528\n",
            "Epoch 377/400\n",
            "50029/50029 [==============================] - 1s 22us/step - loss: 0.0546\n",
            "Epoch 378/400\n",
            "50029/50029 [==============================] - 1s 22us/step - loss: 0.0537\n",
            "Epoch 379/400\n",
            "50029/50029 [==============================] - 1s 22us/step - loss: 0.0543\n",
            "Epoch 380/400\n",
            "50029/50029 [==============================] - 1s 22us/step - loss: 0.0537\n",
            "Epoch 381/400\n",
            "50029/50029 [==============================] - 1s 22us/step - loss: 0.0540\n",
            "Epoch 382/400\n",
            "50029/50029 [==============================] - 1s 23us/step - loss: 0.0527\n",
            "Epoch 383/400\n",
            "50029/50029 [==============================] - 1s 22us/step - loss: 0.0538\n",
            "Epoch 384/400\n",
            "50029/50029 [==============================] - 1s 22us/step - loss: 0.0535\n",
            "Epoch 385/400\n",
            "50029/50029 [==============================] - 1s 22us/step - loss: 0.0543\n",
            "Epoch 386/400\n",
            "50029/50029 [==============================] - 1s 22us/step - loss: 0.0530\n",
            "Epoch 387/400\n",
            "50029/50029 [==============================] - 1s 23us/step - loss: 0.0529\n",
            "Epoch 388/400\n",
            "50029/50029 [==============================] - 1s 22us/step - loss: 0.0531\n",
            "Epoch 389/400\n",
            "50029/50029 [==============================] - 1s 22us/step - loss: 0.0537\n",
            "Epoch 390/400\n",
            "50029/50029 [==============================] - 1s 22us/step - loss: 0.0528\n",
            "Epoch 391/400\n",
            "50029/50029 [==============================] - 1s 22us/step - loss: 0.0547\n",
            "Epoch 392/400\n",
            "50029/50029 [==============================] - 1s 23us/step - loss: 0.0534\n",
            "Epoch 393/400\n",
            "50029/50029 [==============================] - 1s 22us/step - loss: 0.0524\n",
            "Epoch 394/400\n",
            "50029/50029 [==============================] - 1s 22us/step - loss: 0.0531\n",
            "Epoch 395/400\n",
            "50029/50029 [==============================] - 1s 22us/step - loss: 0.0528\n",
            "Epoch 396/400\n",
            "50029/50029 [==============================] - 1s 22us/step - loss: 0.0514\n",
            "Epoch 397/400\n",
            "50029/50029 [==============================] - 1s 22us/step - loss: 0.0530\n",
            "Epoch 398/400\n",
            "50029/50029 [==============================] - 1s 22us/step - loss: 0.0541\n",
            "Epoch 399/400\n",
            "50029/50029 [==============================] - 1s 22us/step - loss: 0.0528\n",
            "Epoch 400/400\n",
            "50029/50029 [==============================] - 1s 22us/step - loss: 0.0533\n"
          ],
          "name": "stdout"
        },
        {
          "output_type": "execute_result",
          "data": {
            "text/plain": [
              "<keras.callbacks.History at 0x7f3f376ba128>"
            ]
          },
          "metadata": {
            "tags": []
          },
          "execution_count": 165
        }
      ]
    },
    {
      "cell_type": "code",
      "metadata": {
        "id": "Nv_iOxRHXPhe",
        "colab_type": "code",
        "colab": {
          "base_uri": "https://localhost:8080/",
          "height": 282
        },
        "outputId": "a2f880d2-5c02-46e7-aa9e-f21fcc5a5184"
      },
      "source": [
        "logp_pred_train = logp_model.predict(x_train_latent)\n",
        "logp_pred_test = logp_model.predict(x_latent)\n",
        "plt.scatter(logp, logp_pred_test, label=\"Test\")\n",
        "plt.scatter(logp_train, logp_pred_train, label=\"Train\")\n",
        "plt.legend()"
      ],
      "execution_count": 166,
      "outputs": [
        {
          "output_type": "execute_result",
          "data": {
            "text/plain": [
              "<matplotlib.legend.Legend at 0x7f3f3750e8d0>"
            ]
          },
          "metadata": {
            "tags": []
          },
          "execution_count": 166
        },
        {
          "output_type": "display_data",
          "data": {
            "image/png": "[encoded data removed]",
            "text/plain": [
              "<Figure size 432x288 with 1 Axes>"
            ]
          },
          "metadata": {
            "tags": []
          }
        }
      ]
    },
    {
      "cell_type": "markdown",
      "metadata": {
        "id": "orhyFL_Xj9Lb",
        "colab_type": "text"
      },
      "source": [
        "##### 위와 같이 얻어낸 그래프 형태는 QSAR 모델(구조-활성의 정량적 관계)에서 나타나는 그래프 형태와 유사하다. 따라서 우리가 설계한 신경망 모델이 QSAR 모델에도 적용 가능하다고 판단하였다. QSAR은 실제로 어떠한 물질의 독성예측 및 신약개발을 위해서 사용된다.\n",
        "\n",
        "![QSAR](https://user-images.githubusercontent.com/52277776/70991425-c4996c00-210a-11ea-9cfc-f51d2a9ca134.PNG)"
      ]
    },
    {
      "cell_type": "markdown",
      "metadata": {
        "id": "e5npfh8Vcrqp",
        "colab_type": "text"
      },
      "source": [
        "##### latent space, 간단히 말해서 context 벡터를 디코더에 적용하기 위해서, 두가지 단계가 필요하다. <br>첫 번째는 디코더의 LSTM 구조의 초깃값으로 은닉상태와 셀 상태를 입력시키기 위해 latent_to_smiles 함수를 사용할 것이다.<br>두 번째로 초반부에 마지막에 입력시켜주었던 'E'가 나올 때까지 진행한다."
      ]
    },
    {
      "cell_type": "code",
      "metadata": {
        "id": "0kq0RjJrZG5B",
        "colab_type": "code",
        "colab": {}
      },
      "source": [
        "def latent_to_smiles(latent):\n",
        "    # 디코더로 상태를 전달하는 latent_to_states_model 이용\n",
        "    states = latent_to_states_model.predict(latent)\n",
        "    # 초기상태 설정\n",
        "    sample_model.layers[1].reset_states(states=[states[0],states[1]])\n",
        "    startidx = char_to_int[\"!\"] # 시작을 의미하는 !의 인덱스 3을 시작 인덱스로 설정\n",
        "    samplevec = np.zeros((1,1,22))\n",
        "    samplevec[0,0,startidx] = 1\n",
        "    smiles = \"\"\n",
        "    #Loop and predict next char\n",
        "    for i in range(28): # 최대 길이가 28이었으므로 28까지로 설정\n",
        "        o = sample_model.predict(samplevec) #sample 벡터를 예측함수에 입력\n",
        "        sampleidx = np.argmax(o)\n",
        "        samplechar = int_to_char[sampleidx]\n",
        "        if samplechar != \"E\": # E가 될 때까지 찾은 글자를 정수화 해서 붙임\n",
        "            smiles = smiles + int_to_char[sampleidx]\n",
        "            samplevec = np.zeros((1,1,22)) # samplevec 다시 초기화\n",
        "            samplevec[0,0,sampleidx] = 1\n",
        "        else:\n",
        "            break\n",
        "    return smiles"
      ],
      "execution_count": 0,
      "outputs": []
    },
    {
      "cell_type": "code",
      "metadata": {
        "id": "Oydy4y2tacGb",
        "colab_type": "code",
        "colab": {
          "base_uri": "https://localhost:8080/",
          "height": 52
        },
        "outputId": "f521e5df-eb31-48ba-ce16-263e384a16ae"
      },
      "source": [
        "smiles = latent_to_smiles(x_latent[0:1]) \n",
        "print (smiles) # 위 모델의 결과 확인\n",
        "print (smiles_test.iloc[0]) # 타깃데이터에서 값 출력"
      ],
      "execution_count": 169,
      "outputs": [
        {
          "output_type": "stream",
          "text": [
            "NCCC1OC=NO1\n",
            "NCCC1OC=NO1\n"
          ],
          "name": "stdout"
        }
      ]
    },
    {
      "cell_type": "markdown",
      "metadata": {
        "id": "KuE6bI8juesg",
        "colab_type": "text"
      },
      "source": [
        "##### 위 방법으로 테스트 세트를 얻어낼 때 잘못 형성된 SMILES의 분율이 얼마나 되는지 알 수 있다."
      ]
    },
    {
      "cell_type": "code",
      "metadata": {
        "id": "oVvPi2wMadU9",
        "colab_type": "code",
        "colab": {
          "base_uri": "https://localhost:8080/",
          "height": 34
        },
        "outputId": "eaf78d3a-58d2-4a5a-ab02-c322a77b126f"
      },
      "source": [
        "# 정확도 확인\n",
        "wrong = 0\n",
        "for i in range(1000):\n",
        "    smiles = latent_to_smiles(x_latent[i:i+1])\n",
        "    mol = Chem.MolFromSmiles(smiles) # smiles 규칙 적용\n",
        "    if mol: # smiles 법칙에 어긋나지 않을 때\n",
        "        pass\n",
        "    else: # 잘못 형성된 구조일 때\n",
        "        print (smiles)\n",
        "        wrong = wrong + 1\n",
        "print (\"%0.1F percent wrongly formatted smiles\"%(wrong/float(1000)*100))\n",
        "# 잘못 형성된 게 없음을 확인."
      ],
      "execution_count": 172,
      "outputs": [
        {
          "output_type": "stream",
          "text": [
            "0.0 percent wrongly formatted smiles\n"
          ],
          "name": "stdout"
        }
      ]
    },
    {
      "cell_type": "markdown",
      "metadata": {
        "id": "irEd1TDUfZAs",
        "colab_type": "text"
      },
      "source": [
        "###### 여기서 context vector의 내재되어 있는 smiles 구조를 확인해봄으로써 중요한 사실을 도출해낼 수 있다.\n",
        "\n",
        "##### 아래 그림은 context vector 내부를 간단히 표현해본 것이다.<br>그림에서 말하고자 하는 것은 상태 1과 상태 2가 있을 때 두 상태 사이의 상태들이 연속적이라는 것이다.<br> 즉, 상태들의 연관성에 따라서 나열되어 있다는 것이다. \n",
        "\n",
        "![interpoled](https://user-images.githubusercontent.com/52277776/70995826-ccf6a480-2114-11ea-90eb-5c069b2e836d.PNG)"
      ]
    },
    {
      "cell_type": "code",
      "metadata": {
        "id": "9dMJDQuF7IiS",
        "colab_type": "code",
        "colab": {}
      },
      "source": [
        "from rdkit.Chem.Draw import IPythonConsole\n",
        "from rdkit.Chem import Draw"
      ],
      "execution_count": 0,
      "outputs": []
    },
    {
      "cell_type": "code",
      "metadata": {
        "id": "D3_fsKpd6-y6",
        "colab_type": "code",
        "colab": {
          "base_uri": "https://localhost:8080/",
          "height": 167
        },
        "outputId": "9d64aa58-bc49-4f0a-afc6-24b53884ce1a"
      },
      "source": [
        "Chem.MolFromSmiles('NCCC1OC=NO1')"
      ],
      "execution_count": 248,
      "outputs": [
        {
          "output_type": "execute_result",
          "data": {
            "image/png": "[encoded data removed]",
            "text/plain": [
              "<rdkit.Chem.rdchem.Mol at 0x7f3f373dc9e0>"
            ]
          },
          "metadata": {
            "tags": []
          },
          "execution_count": 248
        }
      ]
    },
    {
      "cell_type": "code",
      "metadata": {
        "id": "d5vsUiHq7eGq",
        "colab_type": "code",
        "colab": {
          "base_uri": "https://localhost:8080/",
          "height": 167
        },
        "outputId": "f25b196d-30d4-4380-d0e3-f1194da0a411"
      },
      "source": [
        "Chem.MolFromSmiles('C=C1CCNN=CC1')"
      ],
      "execution_count": 250,
      "outputs": [
        {
          "output_type": "execute_result",
          "data": {
            "image/png": "[encoded data removed]",
            "text/plain": [
              "<rdkit.Chem.rdchem.Mol at 0x7f3f373dc530>"
            ]
          },
          "metadata": {
            "tags": []
          },
          "execution_count": 250
        }
      ]
    },
    {
      "cell_type": "code",
      "metadata": {
        "id": "bZjybr1xCWjc",
        "colab_type": "code",
        "colab": {}
      },
      "source": [
        "import numpy as np\n",
        "import os\n",
        "os.environ['TF_CPP_MIN_LOG_LEVEL'] = '3' # warining 표시 안나오도록 하기"
      ],
      "execution_count": 0,
      "outputs": []
    },
    {
      "cell_type": "code",
      "metadata": {
        "id": "gYSuRCDuCtaE",
        "colab_type": "code",
        "colab": {
          "base_uri": "https://localhost:8080/",
          "height": 1000
        },
        "outputId": "b7135596-f51e-4c2a-862e-e10e20768010"
      },
      "source": [
        "# 위의 두 분자 사이 인덱스에 존재하는 분자들 나열\n",
        "i = 0\n",
        "j= 2\n",
        "latent1 = x_latent[j:j+1] # 상태 1\n",
        "latent0 = x_latent[i:i+1] # 상태 2\n",
        "mols1 = []\n",
        "ratios = np.linspace(0,1,25)\n",
        "for r in ratios:\n",
        "    # r 값에 따라 순차적으로 상태 1부터 상태 2까지 smiles 규칙성에 맞는 분자 출력\n",
        "    rlatent = (1.0-r)*latent0 + r*latent1\n",
        "    smiles  = latent_to_smiles(rlatent)\n",
        "    mol = Chem.MolFromSmiles(smiles)\n",
        "    if mol:\n",
        "        mols1.append(mol)\n",
        "    else:\n",
        "        print (smiles)\n",
        "Draw.MolsToGridImage(mols1, molsPerRow=5)"
      ],
      "execution_count": 257,
      "outputs": [
        {
          "output_type": "stream",
          "text": [
            "RDKit ERROR: [13:27:32] Explicit valence for atom # 4 O, 3, is greater than permitted\n",
            "RDKit ERROR: [13:27:32] Explicit valence for atom # 4 O, 3, is greater than permitted\n"
          ],
          "name": "stderr"
        },
        {
          "output_type": "stream",
          "text": [
            "NCCC1=OCNO1\n",
            "NCCC1=OCNN1\n"
          ],
          "name": "stdout"
        },
        {
          "output_type": "stream",
          "text": [
            "RDKit ERROR: [13:27:32] Explicit valence for atom # 2 O, 3, is greater than permitted\n",
            "RDKit ERROR: [13:27:32] Explicit valence for atom # 7 O, 3, is greater than permitted\n"
          ],
          "name": "stderr"
        },
        {
          "output_type": "stream",
          "text": [
            "CC1O(CO)NN1C\n",
            "C=CNC1CNC=O1\n"
          ],
          "name": "stdout"
        },
        {
          "output_type": "execute_result",
          "data": {
            "image/png": "[encoded data removed]",
            "text/plain": [
              "<PIL.PngImagePlugin.PngImageFile image mode=RGB size=1000x1000 at 0x7F3F373EBDD8>"
            ]
          },
          "metadata": {
            "tags": []
          },
          "execution_count": 257
        }
      ]
    },
    {
      "cell_type": "markdown",
      "metadata": {
        "id": "WrAPT9ek4df-",
        "colab_type": "text"
      },
      "source": [
        "##### 위 결과로부터 두 상태 사이의 존재하는 상태들을 통해 비슷한 구조를 가지는 분자들은 context vector 내에서 아주 근접하게 위치해 있다는 것을 확인할 수 있다. 이 사실을 통해 개별의 분자들이 연속적인 공간에 위치해 있다는 것을 알 수 있다. "
      ]
    },
    {
      "cell_type": "markdown",
      "metadata": {
        "id": "1-Atg05E8Ann",
        "colab_type": "text"
      },
      "source": [
        "> ### 고찰\n",
        "#### 지금까지 LSTM 기반의 인코더를 만드는 방법과 교사 강제를 통해서 효과적으로 훈련시키는 과정을 진행하였다. 여기서 모델링한 latent space, 즉 context vector는 SMILES의 구조를 반영하고, 화학구조 파악이 요구되는 작업에 매우 효과적이라고 할 수 있다. context vector 내부의 분자들의 연속적인 공간에서의 배열을 확인함으로써, context vector 가 입력된 분자들에 대해서 연관성을 반영한다는 점을 확인하였다. 이는 앞에서 언급하였던 QSAR 모델과 같은 예와 같이 약물 분야로의 이용 가능성을 확장시켜 약물 치료에 효과적으로 이용될 수 있는 모델이라고 판단된다."
      ]
    }
  ]
}