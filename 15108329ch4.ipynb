{
  "nbformat": 4,
  "nbformat_minor": 0,
  "metadata": {
    "kernelspec": {
      "display_name": "Python 3",
      "language": "python",
      "name": "python3"
    },
    "language_info": {
      "codemirror_mode": {
        "name": "ipython",
        "version": 3
      },
      "file_extension": ".py",
      "mimetype": "text/x-python",
      "name": "python",
      "nbconvert_exporter": "python",
      "pygments_lexer": "ipython3",
      "version": "3.7.0"
    },
    "colab": {
      "name": "15108329 ch4.ipynb",
      "provenance": []
    }
  },
  "cells": [
    {
      "cell_type": "markdown",
      "metadata": {
        "id": "H-q5kJ6ECBgH",
        "colab_type": "text"
      },
      "source": [
        "# 4장 연습문제\n",
        "---"
      ]
    },
    {
      "cell_type": "markdown",
      "metadata": {
        "id": "i3zSyd3bCBgN",
        "colab_type": "text"
      },
      "source": [
        "## Q1\n",
        "---\n",
        "### 주어진 자연수가 홀수인지 짝수인지 판별해주는 함수(is_odd)를 작성해 보자."
      ]
    },
    {
      "cell_type": "code",
      "metadata": {
        "id": "u2B6QyOmCBgR",
        "colab_type": "code",
        "colab": {},
        "outputId": "e3d0931d-d58a-47d9-f853-3a96394aead6"
      },
      "source": [
        "def is_odd(i):\n",
        "    if i%2==1:\n",
        "        return True\n",
        "    else:\n",
        "        return False\n",
        "    \n",
        "print(is_odd(2))\n",
        "print(is_odd(3))"
      ],
      "execution_count": 0,
      "outputs": [
        {
          "output_type": "stream",
          "text": [
            "False\n",
            "True\n"
          ],
          "name": "stdout"
        }
      ]
    },
    {
      "cell_type": "markdown",
      "metadata": {
        "id": "yzPllPzjCBgg",
        "colab_type": "text"
      },
      "source": [
        "## Q2\n",
        "---\n",
        "### 입력으로 들어오는 모든 수의 평균 값을 계산해 주는 함수를 작성해 보자.<br>(단 입력으로 들어오는 수의 개수는 정해져 있지 않다.\n",
        "평균 값을 구할 때 len 함수를 사용해 보자."
      ]
    },
    {
      "cell_type": "code",
      "metadata": {
        "id": "VX5_mWK7CBgj",
        "colab_type": "code",
        "colab": {},
        "outputId": "adb9d59d-198e-45a4-a09a-418263cf19dd"
      },
      "source": [
        "def avg_numbers(*args):\n",
        "    result=0\n",
        "    for i in args:\n",
        "        result+=i\n",
        "    return result/len(args)\n",
        "\n",
        "print(avg_numbers(2,5))\n",
        "print(avg_numbers(1,2,3,4,5))"
      ],
      "execution_count": 0,
      "outputs": [
        {
          "output_type": "stream",
          "text": [
            "3.5\n",
            "3.0\n"
          ],
          "name": "stdout"
        }
      ]
    },
    {
      "cell_type": "markdown",
      "metadata": {
        "id": "_Gc9QKUMCBgr",
        "colab_type": "text"
      },
      "source": [
        "## Q3\n",
        "---\n",
        "### 다음은 두개의 숫자를 입력받아 더하여 돌려주는 프로그램이다.<br>이 프로그램을 실행해 보자."
      ]
    },
    {
      "cell_type": "code",
      "metadata": {
        "id": "poI3vujLCBgu",
        "colab_type": "code",
        "colab": {},
        "outputId": "9366bd67-4e6e-4172-fd26-192303b5e009"
      },
      "source": [
        "input1 = input(\"첫번째 숫자를 입력하세요:\")\n",
        "input2 = input(\"두번째 숫자를 입력하세요:\")\n",
        "\n",
        "total = input1 + input2\n",
        "print(\"두 수의 합은 %s 입니다\" % total)"
      ],
      "execution_count": 0,
      "outputs": [
        {
          "output_type": "stream",
          "text": [
            "첫번째 숫자를 입력하세요:3\n",
            "두번째 숫자를 입력하세요:6\n",
            "두 수의 합은 36 입니다\n"
          ],
          "name": "stdout"
        }
      ]
    },
    {
      "cell_type": "markdown",
      "metadata": {
        "id": "f2B1gGOpCBg2",
        "colab_type": "text"
      },
      "source": [
        "### 3과 6을 입력했을 때 9가 아닌 36이라는 결괏값을 돌려주었다. 이 프로그램의 오류를 수정해 보자.\n",
        " int 함수를 사용해 보자."
      ]
    },
    {
      "cell_type": "code",
      "metadata": {
        "id": "YmTgvJkfCBg4",
        "colab_type": "code",
        "colab": {},
        "outputId": "cf8ffe8c-3e36-45c3-fa49-20fb21c7d14a"
      },
      "source": [
        "input1 = input(\"첫번째 숫자를 입력하세요:\")\n",
        "input2 = input(\"두번째 숫자를 입력하세요:\")\n",
        "\n",
        "total = int(input1) + int(input2)\n",
        "print(\"두 수의 합은 %s 입니다\" % total)"
      ],
      "execution_count": 0,
      "outputs": [
        {
          "output_type": "stream",
          "text": [
            "첫번째 숫자를 입력하세요:3\n",
            "두번째 숫자를 입력하세요:6\n",
            "두 수의 합은 9 입니다\n"
          ],
          "name": "stdout"
        }
      ]
    },
    {
      "cell_type": "markdown",
      "metadata": {
        "id": "gtsNSpdxCBg_",
        "colab_type": "text"
      },
      "source": [
        "### 입력은 항상 문자열이므로 숫자로 바꾸어 주어야 한다.\n",
        "<br>"
      ]
    },
    {
      "cell_type": "markdown",
      "metadata": {
        "id": "Obfx6JxWCBhB",
        "colab_type": "text"
      },
      "source": [
        "## Q4\n",
        "---\n",
        "### 다음 중 출력 결과가 다른 것 한 개를 골라 보자.\n",
        "1.print(\"you\" \"need\" \"python\")<br>\n",
        "2.print(\"you\"+\"need\"+\"python\")<br>\n",
        "3.print(\"you\", \"need\", \"python\")<br>\n",
        "4.print(\"\".join([\"you\", \"need\", \"python\"]))"
      ]
    },
    {
      "cell_type": "code",
      "metadata": {
        "id": "FceB_mqOCBhD",
        "colab_type": "code",
        "colab": {},
        "outputId": "f350542c-e463-4ef3-dad2-86b74c9ed51d"
      },
      "source": [
        "print(\"you\" \"need\" \"python\")\n",
        "print(\"you\"+\"need\"+\"python\")\n",
        "print(\"you\", \"need\", \"python\")\n",
        "print(\"\".join([\"you\", \"need\", \"python\"]))"
      ],
      "execution_count": 0,
      "outputs": [
        {
          "output_type": "stream",
          "text": [
            "youneedpython\n",
            "youneedpython\n",
            "you need python\n",
            "youneedpython\n"
          ],
          "name": "stdout"
        }
      ]
    },
    {
      "cell_type": "markdown",
      "metadata": {
        "id": "pj8bCFeKCBhK",
        "colab_type": "text"
      },
      "source": [
        "### 콤마가 있는 경우 공백이 삽입되어 더해진다.\n",
        "<br>"
      ]
    },
    {
      "cell_type": "markdown",
      "metadata": {
        "id": "X8W--gHQCBhM",
        "colab_type": "text"
      },
      "source": [
        "## Q5\n",
        "---\n",
        "### 다음은 \"text.txt\"라는 파일에 \"Life is too short\" 문자열을 저장한 후 다시 그 파일을 읽어서 출력하는 프로그램이다.\n",
        "### 이 프로그램은 우리가 예상한 \"Life is too short\" 라는 문장을 출력하지 않는다. 우리가 예상한 값을 출력할 수 있도록 프로그램을 수정해 보자."
      ]
    },
    {
      "cell_type": "code",
      "metadata": {
        "id": "y-86bUQQCBhO",
        "colab_type": "code",
        "colab": {},
        "outputId": "f17a7f7e-a354-457f-f1a4-aef3f3e1781b"
      },
      "source": [
        "f1 = open(\"test.txt\", 'w')\n",
        "f1.write(\"Life is too short\")\n",
        "\n",
        "f2 = open(\"test.txt\", 'r')\n",
        "print(f2.read())"
      ],
      "execution_count": 0,
      "outputs": [
        {
          "output_type": "stream",
          "text": [
            "\n"
          ],
          "name": "stdout"
        }
      ]
    },
    {
      "cell_type": "markdown",
      "metadata": {
        "id": "wtMv8ZHACBhY",
        "colab_type": "text"
      },
      "source": [
        "### 문제의 예와 같이 파일을 닫지 않은 상태에서 다시 열면 파일에 저장한 데이터를 읽을 수 없다. 따라서 열린 파일 객체를 close로 닫아준 후 다시 열어서 파일의 내용을 읽어야 한다."
      ]
    },
    {
      "cell_type": "code",
      "metadata": {
        "id": "Jhw0a4ohCBha",
        "colab_type": "code",
        "colab": {}
      },
      "source": [
        "f1 = open(\"test.txt\", 'w')\n",
        "f1.write(\"Life is too short\")\n",
        "fl.close()\n",
        "\n",
        "f2 = open(\"test.txt\", 'r')\n",
        "print(f2.read())\n",
        "f2.close()"
      ],
      "execution_count": 0,
      "outputs": []
    },
    {
      "cell_type": "markdown",
      "metadata": {
        "id": "6f67ra_TCBhe",
        "colab_type": "text"
      },
      "source": [
        "### 또는 다음과 같이 close를 명시적으로 할 필요가 없는 with구문을 사용한다."
      ]
    },
    {
      "cell_type": "code",
      "metadata": {
        "id": "DZz8DILLCBhf",
        "colab_type": "code",
        "colab": {}
      },
      "source": [
        "with open(\"test.txt\", 'w') as f1:\n",
        "    f1.write(\"Life is too short! \")\n",
        "with open(\"test.txt\", 'r') as f2:\n",
        "    print(f2.read())"
      ],
      "execution_count": 0,
      "outputs": []
    },
    {
      "cell_type": "markdown",
      "metadata": {
        "id": "RIVbhoeXCBhk",
        "colab_type": "text"
      },
      "source": [
        "## Q6\n",
        "---\n",
        "### 사용자의 입력을 파일(test.txt)에 저장하는 프로그램을 작성해 보자. (단 프로그램을 다시 실행하더라도 기존에 작성한 내용을 유지하고 새로 입력한 내용을 추가해야 한다.)"
      ]
    },
    {
      "cell_type": "code",
      "metadata": {
        "id": "4aWEechlCBhm",
        "colab_type": "code",
        "colab": {}
      },
      "source": [
        "user_input = input(\"저장할 내용을 입력하세요:\")\n",
        "f = open('test.txt', 'a')\n",
        "f.write(user_input)\n",
        "f.write(\"\\n\")\n",
        "f.close()"
      ],
      "execution_count": 0,
      "outputs": []
    },
    {
      "cell_type": "markdown",
      "metadata": {
        "id": "2SxkUNM2CBhs",
        "colab_type": "text"
      },
      "source": [
        "### 기존 내용을 유지하고 새로운 내용을 덧붙이기 위해서 위와 같이 'a' 모드를 사용해야 한다.<br> 입력된 내용을 줄 단위로 구분하기 위해 줄 바꿈 문자(\\n)를 삽입하였다.\n",
        "<br>"
      ]
    },
    {
      "cell_type": "markdown",
      "metadata": {
        "id": "oEi5MbrYCBhu",
        "colab_type": "text"
      },
      "source": [
        "## Q7\n",
        "---\n",
        "### 다음과 같은 내용을 지닌 파일 test.txt가 있다. 이 파일의 내용 중 \"java\"라는 문자열을 \"python\"으로 바꾸어서 저장해 보자.\n",
        "Life is too short<br>\n",
        "you need java\n",
        "\n",
        "<br>replace 함수를 사용해 보자."
      ]
    },
    {
      "cell_type": "code",
      "metadata": {
        "id": "rAy4VJzqCBhv",
        "colab_type": "code",
        "colab": {}
      },
      "source": [
        "f = open('test.txt', 'r')\n",
        "body = f.read()\n",
        "f.close()\n",
        "\n",
        "body = body.replace('java', 'python')\n",
        "\n",
        "f = open('test.txt', 'w')\n",
        "f.write(body)\n",
        "f.close()"
      ],
      "execution_count": 0,
      "outputs": []
    },
    {
      "cell_type": "markdown",
      "metadata": {
        "id": "3nXCLxcmCBhz",
        "colab_type": "text"
      },
      "source": [
        "### 파일을 모두 읽은 후에 문자열의 replace 함수를 사용하여 java라는 문자열을 python으로 변경한 다음 저장한다."
      ]
    }
  ]
}