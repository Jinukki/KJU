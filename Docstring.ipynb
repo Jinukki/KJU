{
  "nbformat": 4,
  "nbformat_minor": 0,
  "metadata": {
    "colab": {
      "name": "Docstring.ipynb",
      "provenance": [],
      "include_colab_link": true
    },
    "kernelspec": {
      "name": "python3",
      "display_name": "Python 3"
    }
  },
  "cells": [
    {
      "cell_type": "markdown",
      "metadata": {
        "id": "view-in-github",
        "colab_type": "text"
      },
      "source": [
        "<a href=\"https://colab.research.google.com/github/Jinukki/KJU/blob/master/Docstring.ipynb\" target=\"_parent\"><img src=\"https://colab.research.google.com/assets/colab-badge.svg\" alt=\"Open In Colab\"/></a>"
      ]
    },
    {
      "cell_type": "markdown",
      "metadata": {
        "id": "G9rwqmm-iKkO",
        "colab_type": "text"
      },
      "source": [
        "# Python Docstirng\n",
        "\n",
        "## Wat is a Docstring?\n",
        "\n",
        "### Python documentation strings (or docstrings) provide a convenient way of associating documentation with Python modules, functions, classes, and methods.\n",
        "\n",
        "* **Declaring Docstrings**: The docstrings are declared using “””triple double quotes””” just below the class, method or function declaration. All functions should have a docstring.\n",
        "\n",
        "* **Accessing Docstrings**: The docstrings can be accessed using the *__*doc*__* method of the object or using the help function.\n",
        "The below example demonstrates how to declare and access a docstring."
      ]
    },
    {
      "cell_type": "code",
      "metadata": {
        "id": "7RpgKb-_i8Vx",
        "colab_type": "code",
        "colab": {}
      },
      "source": [
        "def my_function(): \n",
        "    \"\"\"Demonstrate docstrings and does nothing really.\"\"\"\n",
        "   \n",
        "    return None"
      ],
      "execution_count": 0,
      "outputs": []
    },
    {
      "cell_type": "code",
      "metadata": {
        "id": "Lvb3I9Szi_Ow",
        "colab_type": "code",
        "colab": {
          "base_uri": "https://localhost:8080/",
          "height": 105
        },
        "outputId": "3ce72322-aa9b-4963-8dbe-8e9c8f42b895"
      },
      "source": [
        "help(my_function)"
      ],
      "execution_count": 9,
      "outputs": [
        {
          "output_type": "stream",
          "text": [
            "Help on function my_function in module __main__:\n",
            "\n",
            "my_function()\n",
            "    Demonstrate docstrings and does nothing really.\n",
            "\n"
          ],
          "name": "stdout"
        }
      ]
    },
    {
      "cell_type": "code",
      "metadata": {
        "id": "RvG2kVjGjOSy",
        "colab_type": "code",
        "colab": {}
      },
      "source": [
        "def my_function(arg1): \n",
        "    \"\"\" \n",
        "    Summary line. \n",
        "  \n",
        "    Extended description of function. \n",
        "  \n",
        "    Parameters: \n",
        "    arg1 (int): Description of arg1 \n",
        "  \n",
        "    Returns: \n",
        "    int: Description of return value \n",
        "  \n",
        "    \"\"\"\n",
        "  \n",
        "    return arg1"
      ],
      "execution_count": 0,
      "outputs": []
    },
    {
      "cell_type": "code",
      "metadata": {
        "id": "mIJ3TUOIkEvz",
        "colab_type": "code",
        "colab": {
          "base_uri": "https://localhost:8080/",
          "height": 246
        },
        "outputId": "bdd28d97-b0f7-4748-d193-2cc223e69406"
      },
      "source": [
        "help(my_function)"
      ],
      "execution_count": 12,
      "outputs": [
        {
          "output_type": "stream",
          "text": [
            "Help on function my_function in module __main__:\n",
            "\n",
            "my_function(arg1)\n",
            "    Summary line. \n",
            "    \n",
            "    Extended description of function. \n",
            "    \n",
            "    Parameters: \n",
            "    arg1 (int): Description of arg1 \n",
            "    \n",
            "    Returns: \n",
            "    int: Description of return value\n",
            "\n"
          ],
          "name": "stdout"
        }
      ]
    },
    {
      "cell_type": "markdown",
      "metadata": {
        "id": "K2ABaV1NkPGm",
        "colab_type": "text"
      },
      "source": [
        "### Docstrings in Classes\n",
        "\n",
        "#### Let us take an example to show how to write docstrings for a class and its methods. help is used to access the docstring."
      ]
    },
    {
      "cell_type": "code",
      "metadata": {
        "id": "VW01H7M2kV8o",
        "colab_type": "code",
        "colab": {}
      },
      "source": [
        "class ComplexNumber: \n",
        "    \"\"\" \n",
        "    This is a class for mathematical operations on complex numbers. \n",
        "      \n",
        "    Attributes: \n",
        "        real (int): The real part of complex number. \n",
        "        imag (int): The imaginary part of complex number. \n",
        "    \"\"\"\n",
        "  \n",
        "    def __init__(self, real, imag): \n",
        "        \"\"\" \n",
        "        The constructor for ComplexNumber class. \n",
        "  \n",
        "        Parameters: \n",
        "           real (int): The real part of complex number. \n",
        "           imag (int): The imaginary part of complex number.    \n",
        "        \"\"\"\n",
        "  \n",
        "    def add(self, num): \n",
        "        \"\"\" \n",
        "        The function to add two Complex Numbers. \n",
        "  \n",
        "        Parameters: \n",
        "            num (ComplexNumber): The complex number to be added. \n",
        "          \n",
        "        Returns: \n",
        "            ComplexNumber: A complex number which contains the sum. \n",
        "        \"\"\"\n",
        "  \n",
        "        re = self.real + num.real \n",
        "        im = self.imag + num.imag \n",
        "  \n",
        "        return ComplexNumber(re, im) "
      ],
      "execution_count": 0,
      "outputs": []
    },
    {
      "cell_type": "code",
      "metadata": {
        "id": "gsONlI8tkd4m",
        "colab_type": "code",
        "colab": {
          "base_uri": "https://localhost:8080/",
          "height": 844
        },
        "outputId": "79bbbe99-2982-4be6-ca8c-ffd8b3b614f5"
      },
      "source": [
        "help(ComplexNumber) # to access Class docstring \n",
        "help(ComplexNumber.add)  # to access method's docstring "
      ],
      "execution_count": 14,
      "outputs": [
        {
          "output_type": "stream",
          "text": [
            "Help on class ComplexNumber in module __main__:\n",
            "\n",
            "class ComplexNumber(builtins.object)\n",
            " |  This is a class for mathematical operations on complex numbers. \n",
            " |    \n",
            " |  Attributes: \n",
            " |      real (int): The real part of complex number. \n",
            " |      imag (int): The imaginary part of complex number.\n",
            " |  \n",
            " |  Methods defined here:\n",
            " |  \n",
            " |  __init__(self, real, imag)\n",
            " |      The constructor for ComplexNumber class. \n",
            " |      \n",
            " |      Parameters: \n",
            " |         real (int): The real part of complex number. \n",
            " |         imag (int): The imaginary part of complex number.\n",
            " |  \n",
            " |  add(self, num)\n",
            " |      The function to add two Complex Numbers. \n",
            " |      \n",
            " |      Parameters: \n",
            " |          num (ComplexNumber): The complex number to be added. \n",
            " |        \n",
            " |      Returns: \n",
            " |          ComplexNumber: A complex number which contains the sum.\n",
            " |  \n",
            " |  ----------------------------------------------------------------------\n",
            " |  Data descriptors defined here:\n",
            " |  \n",
            " |  __dict__\n",
            " |      dictionary for instance variables (if defined)\n",
            " |  \n",
            " |  __weakref__\n",
            " |      list of weak references to the object (if defined)\n",
            "\n",
            "Help on function add in module __main__:\n",
            "\n",
            "add(self, num)\n",
            "    The function to add two Complex Numbers. \n",
            "    \n",
            "    Parameters: \n",
            "        num (ComplexNumber): The complex number to be added. \n",
            "      \n",
            "    Returns: \n",
            "        ComplexNumber: A complex number which contains the sum.\n",
            "\n"
          ],
          "name": "stdout"
        }
      ]
    },
    {
      "cell_type": "code",
      "metadata": {
        "id": "5u4z1YzEkjwy",
        "colab_type": "code",
        "colab": {}
      },
      "source": [
        ""
      ],
      "execution_count": 0,
      "outputs": []
    }
  ]
}